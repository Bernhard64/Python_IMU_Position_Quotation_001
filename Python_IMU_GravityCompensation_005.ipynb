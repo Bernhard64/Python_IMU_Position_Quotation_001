{
 "cells": [
  {
   "cell_type": "code",
   "execution_count": null,
   "metadata": {},
   "outputs": [],
   "source": []
  },
  {
   "cell_type": "markdown",
   "metadata": {},
   "source": [
    "# !!! ZEIT-DIFFERENZ FEHLT NOCH !!!"
   ]
  },
  {
   "cell_type": "markdown",
   "metadata": {},
   "source": [
    "## GRAVITY COMPENSATION"
   ]
  },
  {
   "cell_type": "code",
   "execution_count": 11,
   "metadata": {},
   "outputs": [
    {
     "data": {
      "text/html": [
       "<div>\n",
       "<style scoped>\n",
       "    .dataframe tbody tr th:only-of-type {\n",
       "        vertical-align: middle;\n",
       "    }\n",
       "\n",
       "    .dataframe tbody tr th {\n",
       "        vertical-align: top;\n",
       "    }\n",
       "\n",
       "    .dataframe thead th {\n",
       "        text-align: right;\n",
       "    }\n",
       "</style>\n",
       "<table border=\"1\" class=\"dataframe\">\n",
       "  <thead>\n",
       "    <tr style=\"text-align: right;\">\n",
       "      <th></th>\n",
       "      <th>Time</th>\n",
       "      <th>Device name</th>\n",
       "      <th>Chip Time()</th>\n",
       "      <th>Acceleration X(g)</th>\n",
       "      <th>Acceleration Y(g)</th>\n",
       "      <th>Acceleration Z(g)</th>\n",
       "      <th>Angular velocity X(°/s)</th>\n",
       "      <th>Angular velocity Y(°/s)</th>\n",
       "      <th>Angular velocity Z(°/s)</th>\n",
       "      <th>Angle X(°)</th>\n",
       "      <th>Angle Y(°)</th>\n",
       "      <th>Angle Z(°)</th>\n",
       "      <th>Magnetic field X(ʯt)</th>\n",
       "      <th>Magnetic field Y(ʯt)</th>\n",
       "      <th>Magnetic field Z(ʯt)</th>\n",
       "      <th>Temperature(℃)</th>\n",
       "      <th>Pressure(Pa)</th>\n",
       "      <th>Height(m)</th>\n",
       "      <th>Longitude()</th>\n",
       "      <th>Latitude()</th>\n",
       "      <th>GPS ground speed(km)</th>\n",
       "      <th>Angle of course(°)</th>\n",
       "      <th>GPS height(m)</th>\n",
       "      <th>Number of satellites()</th>\n",
       "      <th>Position location()</th>\n",
       "      <th>Horizontal position()</th>\n",
       "      <th>Vertical position()</th>\n",
       "      <th>Quaternions 0()</th>\n",
       "      <th>Quaternions 1()</th>\n",
       "      <th>Quaternions 2()</th>\n",
       "      <th>Quaternions 3()</th>\n",
       "    </tr>\n",
       "  </thead>\n",
       "  <tbody>\n",
       "    <tr>\n",
       "      <th>0</th>\n",
       "      <td>15:32:07.831</td>\n",
       "      <td>COM12</td>\n",
       "      <td>NaN</td>\n",
       "      <td>-0.095</td>\n",
       "      <td>0.013</td>\n",
       "      <td>1.005</td>\n",
       "      <td>0.0</td>\n",
       "      <td>0.0</td>\n",
       "      <td>0.0</td>\n",
       "      <td>0.577</td>\n",
       "      <td>5.350</td>\n",
       "      <td>-59.557</td>\n",
       "      <td>81,367</td>\n",
       "      <td>73,346</td>\n",
       "      <td>64,935</td>\n",
       "      <td>20,04</td>\n",
       "      <td>96600</td>\n",
       "      <td>402,67</td>\n",
       "      <td>NaN</td>\n",
       "      <td>NaN</td>\n",
       "      <td>NaN</td>\n",
       "      <td>NaN</td>\n",
       "      <td>NaN</td>\n",
       "      <td>NaN</td>\n",
       "      <td>NaN</td>\n",
       "      <td>NaN</td>\n",
       "      <td>NaN</td>\n",
       "      <td>NaN</td>\n",
       "      <td>NaN</td>\n",
       "      <td>NaN</td>\n",
       "      <td>NaN</td>\n",
       "    </tr>\n",
       "    <tr>\n",
       "      <th>1</th>\n",
       "      <td>15:32:07.929</td>\n",
       "      <td>COM12</td>\n",
       "      <td>NaN</td>\n",
       "      <td>-0.095</td>\n",
       "      <td>0.013</td>\n",
       "      <td>1.004</td>\n",
       "      <td>0.0</td>\n",
       "      <td>0.0</td>\n",
       "      <td>0.0</td>\n",
       "      <td>0.577</td>\n",
       "      <td>5.345</td>\n",
       "      <td>-59.540</td>\n",
       "      <td>81,367</td>\n",
       "      <td>73,333</td>\n",
       "      <td>64,948</td>\n",
       "      <td>20,06</td>\n",
       "      <td>96600</td>\n",
       "      <td>402,67</td>\n",
       "      <td>NaN</td>\n",
       "      <td>NaN</td>\n",
       "      <td>NaN</td>\n",
       "      <td>NaN</td>\n",
       "      <td>NaN</td>\n",
       "      <td>NaN</td>\n",
       "      <td>NaN</td>\n",
       "      <td>NaN</td>\n",
       "      <td>NaN</td>\n",
       "      <td>NaN</td>\n",
       "      <td>NaN</td>\n",
       "      <td>NaN</td>\n",
       "      <td>NaN</td>\n",
       "    </tr>\n",
       "  </tbody>\n",
       "</table>\n",
       "</div>"
      ],
      "text/plain": [
       "            Time Device name  Chip Time()  Acceleration X(g)  \\\n",
       "0   15:32:07.831       COM12          NaN             -0.095   \n",
       "1   15:32:07.929       COM12          NaN             -0.095   \n",
       "\n",
       "   Acceleration Y(g)  Acceleration Z(g)  Angular velocity X(°/s)  \\\n",
       "0              0.013              1.005                      0.0   \n",
       "1              0.013              1.004                      0.0   \n",
       "\n",
       "   Angular velocity Y(°/s)  Angular velocity Z(°/s)  Angle X(°)  Angle Y(°)  \\\n",
       "0                      0.0                      0.0       0.577       5.350   \n",
       "1                      0.0                      0.0       0.577       5.345   \n",
       "\n",
       "   Angle Z(°) Magnetic field X(ʯt) Magnetic field Y(ʯt) Magnetic field Z(ʯt)  \\\n",
       "0     -59.557               81,367               73,346               64,935   \n",
       "1     -59.540               81,367               73,333               64,948   \n",
       "\n",
       "  Temperature(℃)  Pressure(Pa) Height(m)  Longitude()  Latitude()  \\\n",
       "0          20,04         96600    402,67          NaN         NaN   \n",
       "1          20,06         96600    402,67          NaN         NaN   \n",
       "\n",
       "   GPS ground speed(km)  Angle of course(°)  GPS height(m)  \\\n",
       "0                   NaN                 NaN            NaN   \n",
       "1                   NaN                 NaN            NaN   \n",
       "\n",
       "   Number of satellites()  Position location()  Horizontal position()  \\\n",
       "0                     NaN                  NaN                    NaN   \n",
       "1                     NaN                  NaN                    NaN   \n",
       "\n",
       "   Vertical position()  Quaternions 0()  Quaternions 1()  Quaternions 2()  \\\n",
       "0                  NaN              NaN              NaN              NaN   \n",
       "1                  NaN              NaN              NaN              NaN   \n",
       "\n",
       "   Quaternions 3()  \n",
       "0              NaN  \n",
       "1              NaN  "
      ]
     },
     "execution_count": 11,
     "metadata": {},
     "output_type": "execute_result"
    }
   ],
   "source": [
    "import pandas as pd\n",
    "\n",
    "# Beispiel: Lesen der Daten aus einer Datei\n",
    "# Pfad zur Datei\n",
    "file_path = \"data_1.txt\"\n",
    "# \"C:\\Users\\bernh\\Downloads\\drive-download-20240908T150007Z-001\\WitMotion New Software\\WitMotion(V2024.8.12.4)\\Record\\2024-09-15\\05-11-18-527\\data_0.txt\"\n",
    "# Daten in den DataFrame laden, mit Tabulator als Trennzeichen\n",
    "# df = pd.read_csv(file_path,'r', encoding='utf-8', sep='\\t', index_col=False)\n",
    "# Datei öffnen und lesen\n",
    "df = pd.read_csv(file_path, sep='\\t', index_col=False)\n",
    "\n",
    "# Überprüfen der Spaltennamen nach dem Zurücksetzen des Index\n",
    "# print(\"Spaltennamen nach Index-Zurücksetzung:\", df.columns)\n",
    "\n",
    "# Die ersten paar Zeilen nach der Anpassung anzeigen\n",
    "# print(df.head(2))\n",
    "\n",
    "#_# Ersetzen von Kommas durch Punkte in spezifischen Spalten\n",
    "#_df['Chip Time()'] = df['Chip Time()'].str.replace(',', '.').astype(float)\n",
    "#_# ACCELERATION:\n",
    "df['Acceleration X(g)'] = df['Acceleration X(g)'].str.replace(',', '.').astype(float)\n",
    "df['Acceleration Y(g)'] = df['Acceleration Y(g)'].str.replace(',', '.').astype(float)\n",
    "df['Acceleration Z(g)'] = df['Acceleration Z(g)'].str.replace(',', '.').astype(float)\n",
    "#_# ANGELS\n",
    "df['Angle X(°)'] = df['Angle X(°)'].str.replace(',', '.').astype(float)\n",
    "df['Angle Y(°)'] = df['Angle Y(°)'].str.replace(',', '.').astype(float)\n",
    "df['Angle Z(°)'] = df['Angle Z(°)'].str.replace(',', '.').astype(float)\n",
    "# ANGULAR VELOSITY\n",
    "df['Angular velocity X(°/s)'] = df['Angular velocity X(°/s)'].str.replace(',', '.').astype(float)\n",
    "df['Angular velocity Y(°/s)'] = df['Angular velocity Y(°/s)'].str.replace(',', '.').astype(float)\n",
    "df['Angular velocity Z(°/s)'] = df['Angular velocity Z(°/s)'].str.replace(',', '.').astype(float)\n",
    "df.head(2)"
   ]
  },
  {
   "cell_type": "markdown",
   "metadata": {},
   "source": [
    "##### Berechnung der Zeitintervalle"
   ]
  },
  {
   "cell_type": "code",
   "execution_count": 12,
   "metadata": {},
   "outputs": [],
   "source": [
    "import numpy as np\n",
    "from datetime import datetime\n",
    "\n",
    "time = df['Time'].values  # Zeitspalte falls vorhanden\n",
    "\n",
    "# Dein NumPy-Array mit Zeitstempeln als Strings\n",
    "# time = np.array([' 18:06:05.104', ' 18:06:05.247', ' 18:06:05.304', ' 18:06:05.403'])\n",
    "\n",
    "# Entferne führende und nachfolgende Leerzeichen aus der 'Time'-Spalte\n",
    "df['Time'] = df['Time'].str.strip()\n",
    " \n",
    "# Konvertiere die 'Time'-Spalte in das Datetime-Format\n",
    "df['Time'] = pd.to_datetime(df['Time'], format='%H:%M:%S.%f')\n",
    "\n",
    "# Zeitdifferenzen berechnen und in einer neuen Spalte speichern\n",
    "df['Delta_t'] = df['Time'].diff().dt.total_seconds()\n",
    " \n",
    "# print(df['Delta_t'])"
   ]
  },
  {
   "cell_type": "code",
   "execution_count": 13,
   "metadata": {},
   "outputs": [
    {
     "name": "stdout",
     "output_type": "stream",
     "text": [
      "Index(['Time', 'Device name', 'Chip Time()', 'Acceleration X(g)',\n",
      "       'Acceleration Y(g)', 'Acceleration Z(g)', 'Angular velocity X(°/s)',\n",
      "       'Angular velocity Y(°/s)', 'Angular velocity Z(°/s)', 'Angle X(°)',\n",
      "       'Angle Y(°)', 'Angle Z(°)', 'Magnetic field X(ʯt)',\n",
      "       'Magnetic field Y(ʯt)', 'Magnetic field Z(ʯt)', 'Temperature(℃)',\n",
      "       'Pressure(Pa)', 'Height(m)', 'Longitude()', 'Latitude()',\n",
      "       'GPS ground speed(km)', 'Angle of course(°)', 'GPS height(m)',\n",
      "       'Number of satellites()', 'Position location()',\n",
      "       'Horizontal position()', 'Vertical position()', 'Quaternions 0()',\n",
      "       'Quaternions 1()', 'Quaternions 2()', 'Quaternions 3()', 'Delta_t'],\n",
      "      dtype='object')\n"
     ]
    }
   ],
   "source": [
    "print(df.columns)"
   ]
  },
  {
   "cell_type": "code",
   "execution_count": 14,
   "metadata": {},
   "outputs": [
    {
     "data": {
      "text/plain": [
       "0        NaN\n",
       "1      0.098\n",
       "2      0.098\n",
       "3      0.100\n",
       "4      0.100\n",
       "       ...  \n",
       "194    0.100\n",
       "195    0.100\n",
       "196    0.100\n",
       "197    0.099\n",
       "198    0.100\n",
       "Name: Delta_t, Length: 199, dtype: float64"
      ]
     },
     "execution_count": 14,
     "metadata": {},
     "output_type": "execute_result"
    }
   ],
   "source": [
    "df['Delta_t']"
   ]
  },
  {
   "cell_type": "code",
   "execution_count": null,
   "metadata": {},
   "outputs": [],
   "source": [
    "# Berechne die Summe der Beschleunigungen (X, Y, Z) für jede Zeile der ersten 20 Zeilen\n",
    "df['Sum Acceleration (g)'] = df[['Acceleration X(g)', 'Acceleration Y(g)', 'Acceleration Z(g)']].sum(axis=1)\n",
    "\n",
    "# Optional: Nur die ersten 20 Zeilen anzeigen\n",
    "df_first_20 = df.head(20)\n",
    "\n",
    "# Ausgabe der ersten 20 Zeilen mit der Summenspalte\n",
    "print(df_first_20['Sum Acceleration (g)'])"
   ]
  },
  {
   "cell_type": "markdown",
   "metadata": {},
   "source": [
    "## KALIBRIERE DEN SENSOR\n",
    "\n",
    "<h4><b>Purpose:</h4></b>\n",
    "The accelerometer calibration is used to remove the zero bias of the <br> \n",
    "accelerometer. Before calibration, there will be different degrees of <br> \n",
    "bias error. <p> <span style = \"background-color:red;\">After calibration, the measurement will be accurate.</span></p>\n",
    "\n",
    "https://m.media-amazon.com/images/I/B1zDYGUvUhS.pdf\n",
    "\n",
    "Seite 14"
   ]
  },
  {
   "attachments": {
    "image.png": {
     "image/png": "[encoded data removed]"
    }
   },
   "cell_type": "markdown",
   "metadata": {},
   "source": [
    "![image.png](attachment:image.png)"
   ]
  },
  {
   "cell_type": "markdown",
   "metadata": {},
   "source": [
    "Methods:\n",
    "Step 1. Keep the module horizontally stationary\n",
    "Step 2. Click the accelerometer calibration\n",
    "Step 3. Click the “Start calibration”and wait "
   ]
  },
  {
   "cell_type": "code",
   "execution_count": null,
   "metadata": {},
   "outputs": [],
   "source": [
    "import numpy as np\n",
    "import pandas as pd\n",
    "\n",
    "# Beispiel: Ein bestehender DataFrame mit den spezifizierten Spaltennamen\n",
    "data = {\n",
    "    'Angle X(°)': np.linspace(0, 90, 10),  # Beispielwerte für Pitch (Angle X) in Grad\n",
    "    'Angle Y(°)': np.linspace(0, 90, 10),  # Beispielwerte für Roll (Angle Y) in Grad\n",
    "    'Angle Z(°)': np.linspace(0, 360, 10), # Beispielwerte für Yaw (Angle Z) in Grad\n",
    "    'Acceleration X(g)': np.random.uniform(-1, 1, 10),  # Zufällige Beschleunigungswerte in g\n",
    "    'Acceleration Y(g)': np.random.uniform(-1, 1, 10),\n",
    "    'Acceleration Z(g)': np.random.uniform(-1, 1, 10)\n",
    "}\n",
    "\n",
    "# DataFrame erstellen\n",
    "# df = pd.DataFrame(data)\n",
    "\n",
    "# Konstante für die Erdbeschleunigung (9.81 m/s²)\n",
    "g = 9.81\n",
    "\n",
    "# Berechne die Schwerkraftkomponente (Gravitationsbeschleunigung) in Abhängigkeit von Pitch, Roll und Yaw\n",
    "def compute_gravity_components(pitch_deg, roll_deg, yaw_deg):\n",
    "    # Konvertiere Winkel von Grad in Bogenmaß\n",
    "    pitch = np.radians(pitch_deg)\n",
    "    roll = np.radians(roll_deg)\n",
    "    yaw = np.radians(yaw_deg)\n",
    "\n",
    "    # Berechne die Rotationsmatrizen für Pitch, Roll und Yaw\n",
    "    R_x = np.array([\n",
    "        [1, 0, 0],\n",
    "        [0, np.cos(pitch), -np.sin(pitch)],\n",
    "        [0, np.sin(pitch), np.cos(pitch)]\n",
    "    ])\n",
    "\n",
    "    R_y = np.array([\n",
    "        [np.cos(roll), 0, np.sin(roll)],\n",
    "        [0, 1, 0],\n",
    "        [-np.sin(roll), 0, np.cos(roll)]\n",
    "    ])\n",
    "\n",
    "    R_z = np.array([\n",
    "        [np.cos(yaw), -np.sin(yaw), 0],\n",
    "        [np.sin(yaw), np.cos(yaw), 0],\n",
    "        [0, 0, 1]\n",
    "    ])\n",
    "\n",
    "    # Gesamte Rotationsmatrix\n",
    "    R = R_z @ R_y @ R_x\n",
    "\n",
    "    # Erdbeschleunigungsvektor (im Ruhezustand nur in Z-Richtung)\n",
    "    gravity = np.array([0, 0, g])\n",
    "\n",
    "    # Berechne die Schwerkraftkomponente in den neuen Achsen\n",
    "    gravity_components = R @ gravity\n",
    "    return gravity_components\n",
    "\n",
    "# Berechne für jede Zeile die Schwerkraftkomponente und subtrahiere sie von den gemessenen Beschleunigungen\n",
    "gravity_corrected_acc = []\n",
    "for index, row in df.iterrows():\n",
    "    pitch, roll, yaw = row['Angle X(°)'], row['Angle Y(°)'], row['Angle Z(°)']\n",
    "    acc_x, acc_y, acc_z = row['Acceleration X(g)'] * g, row['Acceleration Y(g)'] * g, row['Acceleration Z(g)'] * g\n",
    "\n",
    "    # Berechne die Schwerkraftkomponenten\n",
    "    gravity_components = compute_gravity_components(pitch, roll, yaw)\n",
    "\n",
    "    # Subtrahiere die Schwerkraft von den gemessenen Beschleunigungen\n",
    "    corrected_acc = np.array([acc_x, acc_y, acc_z]) - gravity_components\n",
    "\n",
    "    # Speichere die korrigierten Beschleunigungswerte\n",
    "    gravity_corrected_acc.append(corrected_acc)\n",
    "\n",
    "# Füge die korrigierten Beschleunigungswerte zum DataFrame hinzu\n",
    "df[['Corrected_Acc_X(m/s²)', 'Corrected_Acc_Y(m/s²)', 'Corrected_Acc_Z(m/s²)']] = gravity_corrected_acc\n",
    "\n",
    "# Ergebnis anzeigen\n",
    "print(df)\n",
    "\n",
    "# Speichern des DataFrames als CSV-Datei mit Komma als Trennzeichen\n",
    "csv_filename = 'imu_data_comma_new.csv'\n",
    "# df.to_csv(csv_filename, index=False, sep=',')\n",
    "df.to_csv(csv_filename, index=False, decimal=',')\n"
   ]
  },
  {
   "cell_type": "code",
   "execution_count": null,
   "metadata": {},
   "outputs": [],
   "source": [
    "from IPython.display import display\n",
    "display(df.style.set_sticky(True))\n",
    "\n",
    "pd.set_option('display.max_columns', None)\n",
    "# pd.set_option('display.max_rows', None)\n",
    "# print(df)"
   ]
  },
  {
   "cell_type": "markdown",
   "metadata": {},
   "source": [
    "#### GRAPHISCHE DARSTELLUNG"
   ]
  },
  {
   "cell_type": "markdown",
   "metadata": {},
   "source": [
    "##### Version 1:"
   ]
  },
  {
   "cell_type": "code",
   "execution_count": null,
   "metadata": {},
   "outputs": [],
   "source": [
    "import numpy as np\n",
    "import pandas as pd\n",
    "import plotly.graph_objects as go\n",
    "\n",
    "# Entferne die Zeilen 69 und 70 aus dem DataFrame\n",
    "df_cleaned = df.drop(df.index[60:71])\n",
    "\n",
    "# Plotly: Erstellen eines 3D-Streudiagramms mit Linien und Markern\n",
    "fig = go.Figure()\n",
    "\n",
    "# Punkte mit einer Linie verbinden\n",
    "fig.add_trace(go.Scatter3d(\n",
    "    x=df['Corrected_Acc_X(m/s²)'],\n",
    "    y=df['Corrected_Acc_Y(m/s²)'],\n",
    "    z=df['Corrected_Acc_Z(m/s²)'],\n",
    "    mode='lines+markers',  # Punkte und Linien\n",
    "    marker=dict(\n",
    "        size=5,\n",
    "        color=np.linalg.norm(df[['Corrected_Acc_X(m/s²)', 'Corrected_Acc_Y(m/s²)', 'Corrected_Acc_Z(m/s²)']].values, axis=1),  # Farbe basierend auf dem Betrag der Beschleunigung\n",
    "        colorscale='Viridis',\n",
    "        opacity=0.8\n",
    "    ),\n",
    "    line=dict(\n",
    "        color='gray',\n",
    "        width=1  # Sehr feine Linie\n",
    "    ),\n",
    "    text=df.index,\n",
    "    hoverinfo='text+name'\n",
    "))\n",
    "\n",
    "# Markiere den ersten Punkt\n",
    "fig.add_trace(go.Scatter3d(\n",
    "    x=[df['Corrected_Acc_X(m/s²)'].iloc[0]],\n",
    "    y=[df['Corrected_Acc_Y(m/s²)'].iloc[0]],\n",
    "    z=[df['Corrected_Acc_Z(m/s²)'].iloc[0]],\n",
    "    mode='markers',\n",
    "    marker=dict(\n",
    "        size=10,\n",
    "        color='red',\n",
    "        symbol='circle',\n",
    "        opacity=0.9\n",
    "    ),\n",
    "    name='Startpunkt'\n",
    "))\n",
    "\n",
    "# Markiere den letzten Punkt\n",
    "fig.add_trace(go.Scatter3d(\n",
    "    x=[df['Corrected_Acc_X(m/s²)'].iloc[-1]],\n",
    "    y=[df['Corrected_Acc_Y(m/s²)'].iloc[-1]],\n",
    "    z=[df['Corrected_Acc_Z(m/s²)'].iloc[-1]],\n",
    "    mode='markers',\n",
    "    marker=dict(\n",
    "        size=10,\n",
    "        color='blue',\n",
    "        symbol='circle',\n",
    "        opacity=0.9\n",
    "    ),\n",
    "    name='Endpunkt'\n",
    "))\n",
    "\n",
    "# Achsenlabels hinzufügen\n",
    "fig.update_layout(\n",
    "    scene=dict(\n",
    "        xaxis_title='Corrected Acceleration X (m/s²)',\n",
    "        yaxis_title='Corrected Acceleration Y (m/s²)',\n",
    "        zaxis_title='Corrected Acceleration Z (m/s²)'\n",
    "    ),\n",
    "    title='3D Plot der korrigierten Beschleunigungen mit Linien, Start- und Endpunkt',\n",
    "    margin=dict(l=0, r=0, b=0, t=50)\n",
    ")\n",
    "\n",
    "# Speichern des Plots als HTML-Datei\n",
    "html_filename = 'corrected_acceleration_plot_with_lines_and_markers.html'\n",
    "fig.write_html(html_filename)\n",
    "\n",
    "# Optional: Zeige den Plot direkt im Browser\n",
    "fig.show()"
   ]
  },
  {
   "cell_type": "code",
   "execution_count": null,
   "metadata": {},
   "outputs": [],
   "source": [
    "import numpy as np\n",
    "import pandas as pd\n",
    "import plotly.graph_objects as go\n",
    "\n",
    "# Beispiel: Ein bestehender DataFrame mit den spezifizierten Spaltennamen\n",
    "data = {\n",
    "    'Angle X(°)': np.linspace(0, 90, 10),  # Beispielwerte für Pitch (Angle X) in Grad\n",
    "    'Angle Y(°)': np.linspace(0, 90, 10),  # Beispielwerte für Roll (Angle Y) in Grad\n",
    "    'Angle Z(°)': np.linspace(0, 360, 10), # Beispielwerte für Yaw (Angle Z) in Grad\n",
    "    'Acceleration X(g)': np.random.uniform(-1, 1, 10),  # Zufällige Beschleunigungswerte in g\n",
    "    'Acceleration Y(g)': np.random.uniform(-1, 1, 10),\n",
    "    'Acceleration Z(g)': np.random.uniform(-1, 1, 10)\n",
    "}\n",
    "\n",
    "# DataFrame erstellen\n",
    "df = pd.DataFrame(data)\n",
    "\n",
    "# Konstante für die Erdbeschleunigung (9.81 m/s²)\n",
    "g = 9.81\n",
    "\n",
    "# Berechne die Schwerkraftkomponente (Gravitationsbeschleunigung) in Abhängigkeit von Pitch, Roll und Yaw\n",
    "def compute_gravity_components(pitch_deg, roll_deg, yaw_deg):\n",
    "    # Konvertiere Winkel von Grad in Bogenmaß\n",
    "    pitch = np.radians(pitch_deg)\n",
    "    roll = np.radians(roll_deg)\n",
    "    yaw = np.radians(yaw_deg)\n",
    "\n",
    "    # Berechne die Rotationsmatrizen für Pitch, Roll und Yaw\n",
    "    R_x = np.array([\n",
    "        [1, 0, 0],\n",
    "        [0, np.cos(pitch), -np.sin(pitch)],\n",
    "        [0, np.sin(pitch), np.cos(pitch)]\n",
    "    ])\n",
    "\n",
    "    R_y = np.array([\n",
    "        [np.cos(roll), 0, np.sin(roll)],\n",
    "        [0, 1, 0],\n",
    "        [-np.sin(roll), 0, np.cos(roll)]\n",
    "    ])\n",
    "\n",
    "    R_z = np.array([\n",
    "        [np.cos(yaw), -np.sin(yaw), 0],\n",
    "        [np.sin(yaw), np.cos(yaw), 0],\n",
    "        [0, 0, 1]\n",
    "    ])\n",
    "\n",
    "    # Gesamte Rotationsmatrix\n",
    "    R = R_z @ R_y @ R_x\n",
    "\n",
    "    # Erdbeschleunigungsvektor (im Ruhezustand nur in Z-Richtung)\n",
    "    gravity = np.array([0, 0, g])\n",
    "\n",
    "    # Berechne die Schwerkraftkomponente in den neuen Achsen\n",
    "    gravity_components = R @ gravity\n",
    "    return gravity_components\n",
    "\n",
    "# Berechne für jede Zeile die Schwerkraftkomponente und subtrahiere sie von den gemessenen Beschleunigungen\n",
    "gravity_corrected_acc = []\n",
    "for index, row in df.iterrows():\n",
    "    pitch, roll, yaw = row['Angle X(°)'], row['Angle Y(°)'], row['Angle Z(°)']\n",
    "    acc_x, acc_y, acc_z = row['Acceleration X(g)'] * g, row['Acceleration Y(g)'] * g, row['Acceleration Z(g)'] * g\n",
    "\n",
    "    # Berechne die Schwerkraftkomponenten\n",
    "    gravity_components = compute_gravity_components(pitch, roll, yaw)\n",
    "\n",
    "    # Subtrahiere die Schwerkraft von den gemessenen Beschleunigungen\n",
    "    corrected_acc = np.array([acc_x, acc_y, acc_z]) - gravity_components\n",
    "\n",
    "    # Speichere die korrigierten Beschleunigungswerte\n",
    "    gravity_corrected_acc.append(corrected_acc)\n",
    "\n",
    "# Füge die korrigierten Beschleunigungswerte zum DataFrame hinzu\n",
    "df[['Corrected_Acc_X(m/s²)', 'Corrected_Acc_Y(m/s²)', 'Corrected_Acc_Z(m/s²)']] = gravity_corrected_acc\n",
    "\n",
    "# Entferne die Zeilen von 60 bis 70 aus dem DataFrame\n",
    "# df_cleaned = df.drop(df.index[69:71])\n",
    "\n",
    "# Plotly: Erstellen des 3D-Plots ohne die Zeilen von 60 bis 70\n",
    "fig = go.Figure()\n",
    "\n",
    "# Punkte mit einer Linie verbinden\n",
    "fig.add_trace(go.Scatter3d(\n",
    "    x=df_cleaned['Corrected_Acc_X(m/s²)'],\n",
    "    y=df_cleaned['Corrected_Acc_Y(m/s²)'],\n",
    "    z=df_cleaned['Corrected_Acc_Z(m/s²)'],\n",
    "    mode='lines+markers',\n",
    "    marker=dict(\n",
    "        size=5,\n",
    "        color=np.linalg.norm(df_cleaned[['Corrected_Acc_X(m/s²)', 'Corrected_Acc_Y(m/s²)', 'Corrected_Acc_Z(m/s²)']].values, axis=1),\n",
    "        colorscale='Viridis',\n",
    "        opacity=0.8\n",
    "    ),\n",
    "    line=dict(\n",
    "        color='gray',\n",
    "        width=1\n",
    "    ),\n",
    "    text=df_cleaned.apply(lambda row: f\"Index: {row.name}<br>X: {row['Corrected_Acc_X(m/s²)']:.2f}<br>Y: {row['Corrected_Acc_Y(m/s²)']:.2f}<br>Z: {row['Corrected_Acc_Z(m/s²)']:.2f}\", axis=1),\n",
    "    hoverinfo='text'\n",
    "))\n",
    "\n",
    "# Markiere den ersten Punkt\n",
    "fig.add_trace(go.Scatter3d(\n",
    "    x=[df_cleaned['Corrected_Acc_X(m/s²)'].iloc[0]],\n",
    "    y=[df_cleaned['Corrected_Acc_Y(m/s²)'].iloc[0]],\n",
    "    z=[df_cleaned['Corrected_Acc_Z(m/s²)'].iloc[0]],\n",
    "    mode='markers',\n",
    "    marker=dict(\n",
    "        size=10,\n",
    "        color='red',\n",
    "        symbol='circle',\n",
    "        opacity=0.9\n",
    "    ),\n",
    "    name='Startpunkt',\n",
    "    text='Startpunkt',\n",
    "    hoverinfo='text'\n",
    "))\n",
    "\n",
    "# Markiere den letzten Punkt\n",
    "fig.add_trace(go.Scatter3d(\n",
    "    x=[df_cleaned['Corrected_Acc_X(m/s²)'].iloc[-1]],\n",
    "    y=[df_cleaned['Corrected_Acc_Y(m/s²)'].iloc[-1]],\n",
    "    z=[df_cleaned['Corrected_Acc_Z(m/s²)'].iloc[-1]],\n",
    "    mode='markers',\n",
    "    marker=dict(\n",
    "        size=10,\n",
    "        color='blue',\n",
    "        symbol='circle',\n",
    "        opacity=0.9\n",
    "    ),\n",
    "    name='Endpunkt',\n",
    "    text='Endpunkt',\n",
    "    hoverinfo='text'\n",
    "))\n",
    "\n",
    "# Achsenlabels hinzufügen\n",
    "fig.update_layout(\n",
    "    scene=dict(\n",
    "        xaxis_title='Corrected Acceleration X (m/s²)',\n",
    "        yaxis_title='Corrected Acceleration Y (m/s²)',\n",
    "        zaxis_title='Corrected Acceleration Z (m/s²)'\n",
    "    ),\n",
    "    title='3D Plot der korrigierten Beschleunigungen mit Linien, Start- und Endpunkt',\n",
    "    margin=dict(l=0, r=0, b=0, t=50)\n",
    ")\n",
    "\n",
    "# Speichern des Plots als HTML-Datei\n",
    "html_filename = 'corrected_acceleration_plot_with_lines_and_markers.html'\n",
    "fig.write_html(html_filename)\n",
    "\n",
    "# Optional: Zeige den Plot direkt im Browser\n",
    "fig.show()\n"
   ]
  },
  {
   "cell_type": "markdown",
   "metadata": {},
   "source": [
    "POSITION TEST:"
   ]
  },
  {
   "cell_type": "code",
   "execution_count": 15,
   "metadata": {},
   "outputs": [
    {
     "data": {
      "application/vnd.plotly.v1+json": {
       "config": {
        "plotlyServerURL": "https://plot.ly"
       },
       "data": [
        {
         "hoverinfo": "text",
         "line": {
          "color": "gray",
          "width": 2
         },
         "marker": {
          "color": [
           null,
           null,
           null,
           null,
           null,
           null,
           null,
           null,
           null,
           null,
           null,
           null,
           null,
           null,
           null,
           null,
           null,
           null,
           null,
           null,
           null,
           null,
           null,
           null,
           null,
           null,
           null,
           null,
           null,
           null,
           null,
           null,
           null,
           null,
           null,
           null,
           null,
           null,
           null,
           null,
           null,
           null,
           null,
           null,
           null,
           null,
           null,
           null,
           null,
           null,
           null,
           null,
           null,
           null,
           null,
           null,
           null,
           null,
           null,
           null,
           null,
           null,
           null,
           null,
           null,
           null,
           null,
           null,
           null,
           null,
           null,
           null,
           null,
           null,
           null,
           null,
           null,
           null,
           null,
           null,
           null,
           null,
           null,
           null,
           null,
           null,
           null,
           null,
           null,
           null,
           null,
           null,
           null,
           null,
           null,
           null,
           null,
           null,
           null,
           null,
           null,
           null,
           null,
           null,
           null,
           null,
           null,
           null,
           null,
           null,
           null,
           null,
           null,
           null,
           null,
           null,
           null,
           null,
           null,
           null,
           null,
           null,
           null,
           null,
           null,
           null,
           null,
           null,
           null,
           null,
           null,
           null,
           null,
           null,
           null,
           null,
           null,
           null,
           null,
           null,
           null,
           null,
           null,
           null,
           null,
           null,
           null,
           null,
           null,
           null,
           null,
           null,
           null,
           null,
           null,
           null,
           null,
           null,
           null,
           null,
           null,
           null,
           null,
           null,
           null,
           null,
           null,
           null,
           null,
           null,
           null,
           null,
           null,
           null,
           null,
           null,
           null,
           null,
           null,
           null,
           null,
           null,
           null,
           null,
           null,
           null,
           null,
           null,
           null,
           null,
           null,
           null,
           null,
           null,
           null,
           null,
           null,
           null,
           null
          ],
          "colorscale": [
           [
            0,
            "#440154"
           ],
           [
            0.1111111111111111,
            "#482878"
           ],
           [
            0.2222222222222222,
            "#3e4989"
           ],
           [
            0.3333333333333333,
            "#31688e"
           ],
           [
            0.4444444444444444,
            "#26828e"
           ],
           [
            0.5555555555555556,
            "#1f9e89"
           ],
           [
            0.6666666666666666,
            "#35b779"
           ],
           [
            0.7777777777777778,
            "#6ece58"
           ],
           [
            0.8888888888888888,
            "#b5de2b"
           ],
           [
            1,
            "#fde725"
           ]
          ],
          "opacity": 0.8,
          "size": 5
         },
         "mode": "lines+markers",
         "text": [
          "Index: 0<br>Position X: nan<br>Position Y: nan<br>Position Z: nan",
          "Index: 1<br>Position X: nan<br>Position Y: nan<br>Position Z: nan",
          "Index: 2<br>Position X: nan<br>Position Y: nan<br>Position Z: nan",
          "Index: 3<br>Position X: nan<br>Position Y: nan<br>Position Z: nan",
          "Index: 4<br>Position X: nan<br>Position Y: nan<br>Position Z: nan",
          "Index: 5<br>Position X: nan<br>Position Y: nan<br>Position Z: nan",
          "Index: 6<br>Position X: nan<br>Position Y: nan<br>Position Z: nan",
          "Index: 7<br>Position X: nan<br>Position Y: nan<br>Position Z: nan",
          "Index: 8<br>Position X: nan<br>Position Y: nan<br>Position Z: nan",
          "Index: 9<br>Position X: nan<br>Position Y: nan<br>Position Z: nan",
          "Index: 10<br>Position X: nan<br>Position Y: nan<br>Position Z: nan",
          "Index: 11<br>Position X: nan<br>Position Y: nan<br>Position Z: nan",
          "Index: 12<br>Position X: nan<br>Position Y: nan<br>Position Z: nan",
          "Index: 13<br>Position X: nan<br>Position Y: nan<br>Position Z: nan",
          "Index: 14<br>Position X: nan<br>Position Y: nan<br>Position Z: nan",
          "Index: 15<br>Position X: nan<br>Position Y: nan<br>Position Z: nan",
          "Index: 16<br>Position X: nan<br>Position Y: nan<br>Position Z: nan",
          "Index: 17<br>Position X: nan<br>Position Y: nan<br>Position Z: nan",
          "Index: 18<br>Position X: nan<br>Position Y: nan<br>Position Z: nan",
          "Index: 19<br>Position X: nan<br>Position Y: nan<br>Position Z: nan",
          "Index: 20<br>Position X: nan<br>Position Y: nan<br>Position Z: nan",
          "Index: 21<br>Position X: nan<br>Position Y: nan<br>Position Z: nan",
          "Index: 22<br>Position X: nan<br>Position Y: nan<br>Position Z: nan",
          "Index: 23<br>Position X: nan<br>Position Y: nan<br>Position Z: nan",
          "Index: 24<br>Position X: nan<br>Position Y: nan<br>Position Z: nan",
          "Index: 25<br>Position X: nan<br>Position Y: nan<br>Position Z: nan",
          "Index: 26<br>Position X: nan<br>Position Y: nan<br>Position Z: nan",
          "Index: 27<br>Position X: nan<br>Position Y: nan<br>Position Z: nan",
          "Index: 28<br>Position X: nan<br>Position Y: nan<br>Position Z: nan",
          "Index: 29<br>Position X: nan<br>Position Y: nan<br>Position Z: nan",
          "Index: 30<br>Position X: nan<br>Position Y: nan<br>Position Z: nan",
          "Index: 31<br>Position X: nan<br>Position Y: nan<br>Position Z: nan",
          "Index: 32<br>Position X: nan<br>Position Y: nan<br>Position Z: nan",
          "Index: 33<br>Position X: nan<br>Position Y: nan<br>Position Z: nan",
          "Index: 34<br>Position X: nan<br>Position Y: nan<br>Position Z: nan",
          "Index: 35<br>Position X: nan<br>Position Y: nan<br>Position Z: nan",
          "Index: 36<br>Position X: nan<br>Position Y: nan<br>Position Z: nan",
          "Index: 37<br>Position X: nan<br>Position Y: nan<br>Position Z: nan",
          "Index: 38<br>Position X: nan<br>Position Y: nan<br>Position Z: nan",
          "Index: 39<br>Position X: nan<br>Position Y: nan<br>Position Z: nan",
          "Index: 40<br>Position X: nan<br>Position Y: nan<br>Position Z: nan",
          "Index: 41<br>Position X: nan<br>Position Y: nan<br>Position Z: nan",
          "Index: 42<br>Position X: nan<br>Position Y: nan<br>Position Z: nan",
          "Index: 43<br>Position X: nan<br>Position Y: nan<br>Position Z: nan",
          "Index: 44<br>Position X: nan<br>Position Y: nan<br>Position Z: nan",
          "Index: 45<br>Position X: nan<br>Position Y: nan<br>Position Z: nan",
          "Index: 46<br>Position X: nan<br>Position Y: nan<br>Position Z: nan",
          "Index: 47<br>Position X: nan<br>Position Y: nan<br>Position Z: nan",
          "Index: 48<br>Position X: nan<br>Position Y: nan<br>Position Z: nan",
          "Index: 49<br>Position X: nan<br>Position Y: nan<br>Position Z: nan",
          "Index: 50<br>Position X: nan<br>Position Y: nan<br>Position Z: nan",
          "Index: 51<br>Position X: nan<br>Position Y: nan<br>Position Z: nan",
          "Index: 52<br>Position X: nan<br>Position Y: nan<br>Position Z: nan",
          "Index: 53<br>Position X: nan<br>Position Y: nan<br>Position Z: nan",
          "Index: 54<br>Position X: nan<br>Position Y: nan<br>Position Z: nan",
          "Index: 55<br>Position X: nan<br>Position Y: nan<br>Position Z: nan",
          "Index: 56<br>Position X: nan<br>Position Y: nan<br>Position Z: nan",
          "Index: 57<br>Position X: nan<br>Position Y: nan<br>Position Z: nan",
          "Index: 58<br>Position X: nan<br>Position Y: nan<br>Position Z: nan",
          "Index: 59<br>Position X: nan<br>Position Y: nan<br>Position Z: nan",
          "Index: 60<br>Position X: nan<br>Position Y: nan<br>Position Z: nan",
          "Index: 61<br>Position X: nan<br>Position Y: nan<br>Position Z: nan",
          "Index: 62<br>Position X: nan<br>Position Y: nan<br>Position Z: nan",
          "Index: 63<br>Position X: nan<br>Position Y: nan<br>Position Z: nan",
          "Index: 64<br>Position X: nan<br>Position Y: nan<br>Position Z: nan",
          "Index: 65<br>Position X: nan<br>Position Y: nan<br>Position Z: nan",
          "Index: 66<br>Position X: nan<br>Position Y: nan<br>Position Z: nan",
          "Index: 67<br>Position X: nan<br>Position Y: nan<br>Position Z: nan",
          "Index: 68<br>Position X: nan<br>Position Y: nan<br>Position Z: nan",
          "Index: 69<br>Position X: nan<br>Position Y: nan<br>Position Z: nan",
          "Index: 70<br>Position X: nan<br>Position Y: nan<br>Position Z: nan",
          "Index: 71<br>Position X: nan<br>Position Y: nan<br>Position Z: nan",
          "Index: 72<br>Position X: nan<br>Position Y: nan<br>Position Z: nan",
          "Index: 73<br>Position X: nan<br>Position Y: nan<br>Position Z: nan",
          "Index: 74<br>Position X: nan<br>Position Y: nan<br>Position Z: nan",
          "Index: 75<br>Position X: nan<br>Position Y: nan<br>Position Z: nan",
          "Index: 76<br>Position X: nan<br>Position Y: nan<br>Position Z: nan",
          "Index: 77<br>Position X: nan<br>Position Y: nan<br>Position Z: nan",
          "Index: 78<br>Position X: nan<br>Position Y: nan<br>Position Z: nan",
          "Index: 79<br>Position X: nan<br>Position Y: nan<br>Position Z: nan",
          "Index: 80<br>Position X: nan<br>Position Y: nan<br>Position Z: nan",
          "Index: 81<br>Position X: nan<br>Position Y: nan<br>Position Z: nan",
          "Index: 82<br>Position X: nan<br>Position Y: nan<br>Position Z: nan",
          "Index: 83<br>Position X: nan<br>Position Y: nan<br>Position Z: nan",
          "Index: 84<br>Position X: nan<br>Position Y: nan<br>Position Z: nan",
          "Index: 85<br>Position X: nan<br>Position Y: nan<br>Position Z: nan",
          "Index: 86<br>Position X: nan<br>Position Y: nan<br>Position Z: nan",
          "Index: 87<br>Position X: nan<br>Position Y: nan<br>Position Z: nan",
          "Index: 88<br>Position X: nan<br>Position Y: nan<br>Position Z: nan",
          "Index: 89<br>Position X: nan<br>Position Y: nan<br>Position Z: nan",
          "Index: 90<br>Position X: nan<br>Position Y: nan<br>Position Z: nan",
          "Index: 91<br>Position X: nan<br>Position Y: nan<br>Position Z: nan",
          "Index: 92<br>Position X: nan<br>Position Y: nan<br>Position Z: nan",
          "Index: 93<br>Position X: nan<br>Position Y: nan<br>Position Z: nan",
          "Index: 94<br>Position X: nan<br>Position Y: nan<br>Position Z: nan",
          "Index: 95<br>Position X: nan<br>Position Y: nan<br>Position Z: nan",
          "Index: 96<br>Position X: nan<br>Position Y: nan<br>Position Z: nan",
          "Index: 97<br>Position X: nan<br>Position Y: nan<br>Position Z: nan",
          "Index: 98<br>Position X: nan<br>Position Y: nan<br>Position Z: nan",
          "Index: 99<br>Position X: nan<br>Position Y: nan<br>Position Z: nan",
          "Index: 100<br>Position X: nan<br>Position Y: nan<br>Position Z: nan",
          "Index: 101<br>Position X: nan<br>Position Y: nan<br>Position Z: nan",
          "Index: 102<br>Position X: nan<br>Position Y: nan<br>Position Z: nan",
          "Index: 103<br>Position X: nan<br>Position Y: nan<br>Position Z: nan",
          "Index: 104<br>Position X: nan<br>Position Y: nan<br>Position Z: nan",
          "Index: 105<br>Position X: nan<br>Position Y: nan<br>Position Z: nan",
          "Index: 106<br>Position X: nan<br>Position Y: nan<br>Position Z: nan",
          "Index: 107<br>Position X: nan<br>Position Y: nan<br>Position Z: nan",
          "Index: 108<br>Position X: nan<br>Position Y: nan<br>Position Z: nan",
          "Index: 109<br>Position X: nan<br>Position Y: nan<br>Position Z: nan",
          "Index: 110<br>Position X: nan<br>Position Y: nan<br>Position Z: nan",
          "Index: 111<br>Position X: nan<br>Position Y: nan<br>Position Z: nan",
          "Index: 112<br>Position X: nan<br>Position Y: nan<br>Position Z: nan",
          "Index: 113<br>Position X: nan<br>Position Y: nan<br>Position Z: nan",
          "Index: 114<br>Position X: nan<br>Position Y: nan<br>Position Z: nan",
          "Index: 115<br>Position X: nan<br>Position Y: nan<br>Position Z: nan",
          "Index: 116<br>Position X: nan<br>Position Y: nan<br>Position Z: nan",
          "Index: 117<br>Position X: nan<br>Position Y: nan<br>Position Z: nan",
          "Index: 118<br>Position X: nan<br>Position Y: nan<br>Position Z: nan",
          "Index: 119<br>Position X: nan<br>Position Y: nan<br>Position Z: nan",
          "Index: 120<br>Position X: nan<br>Position Y: nan<br>Position Z: nan",
          "Index: 121<br>Position X: nan<br>Position Y: nan<br>Position Z: nan",
          "Index: 122<br>Position X: nan<br>Position Y: nan<br>Position Z: nan",
          "Index: 123<br>Position X: nan<br>Position Y: nan<br>Position Z: nan",
          "Index: 124<br>Position X: nan<br>Position Y: nan<br>Position Z: nan",
          "Index: 125<br>Position X: nan<br>Position Y: nan<br>Position Z: nan",
          "Index: 126<br>Position X: nan<br>Position Y: nan<br>Position Z: nan",
          "Index: 127<br>Position X: nan<br>Position Y: nan<br>Position Z: nan",
          "Index: 128<br>Position X: nan<br>Position Y: nan<br>Position Z: nan",
          "Index: 129<br>Position X: nan<br>Position Y: nan<br>Position Z: nan",
          "Index: 130<br>Position X: nan<br>Position Y: nan<br>Position Z: nan",
          "Index: 131<br>Position X: nan<br>Position Y: nan<br>Position Z: nan",
          "Index: 132<br>Position X: nan<br>Position Y: nan<br>Position Z: nan",
          "Index: 133<br>Position X: nan<br>Position Y: nan<br>Position Z: nan",
          "Index: 134<br>Position X: nan<br>Position Y: nan<br>Position Z: nan",
          "Index: 135<br>Position X: nan<br>Position Y: nan<br>Position Z: nan",
          "Index: 136<br>Position X: nan<br>Position Y: nan<br>Position Z: nan",
          "Index: 137<br>Position X: nan<br>Position Y: nan<br>Position Z: nan",
          "Index: 138<br>Position X: nan<br>Position Y: nan<br>Position Z: nan",
          "Index: 139<br>Position X: nan<br>Position Y: nan<br>Position Z: nan",
          "Index: 140<br>Position X: nan<br>Position Y: nan<br>Position Z: nan",
          "Index: 141<br>Position X: nan<br>Position Y: nan<br>Position Z: nan",
          "Index: 142<br>Position X: nan<br>Position Y: nan<br>Position Z: nan",
          "Index: 143<br>Position X: nan<br>Position Y: nan<br>Position Z: nan",
          "Index: 144<br>Position X: nan<br>Position Y: nan<br>Position Z: nan",
          "Index: 145<br>Position X: nan<br>Position Y: nan<br>Position Z: nan",
          "Index: 146<br>Position X: nan<br>Position Y: nan<br>Position Z: nan",
          "Index: 147<br>Position X: nan<br>Position Y: nan<br>Position Z: nan",
          "Index: 148<br>Position X: nan<br>Position Y: nan<br>Position Z: nan",
          "Index: 149<br>Position X: nan<br>Position Y: nan<br>Position Z: nan",
          "Index: 150<br>Position X: nan<br>Position Y: nan<br>Position Z: nan",
          "Index: 151<br>Position X: nan<br>Position Y: nan<br>Position Z: nan",
          "Index: 152<br>Position X: nan<br>Position Y: nan<br>Position Z: nan",
          "Index: 153<br>Position X: nan<br>Position Y: nan<br>Position Z: nan",
          "Index: 154<br>Position X: nan<br>Position Y: nan<br>Position Z: nan",
          "Index: 155<br>Position X: nan<br>Position Y: nan<br>Position Z: nan",
          "Index: 156<br>Position X: nan<br>Position Y: nan<br>Position Z: nan",
          "Index: 157<br>Position X: nan<br>Position Y: nan<br>Position Z: nan",
          "Index: 158<br>Position X: nan<br>Position Y: nan<br>Position Z: nan",
          "Index: 159<br>Position X: nan<br>Position Y: nan<br>Position Z: nan",
          "Index: 160<br>Position X: nan<br>Position Y: nan<br>Position Z: nan",
          "Index: 161<br>Position X: nan<br>Position Y: nan<br>Position Z: nan",
          "Index: 162<br>Position X: nan<br>Position Y: nan<br>Position Z: nan",
          "Index: 163<br>Position X: nan<br>Position Y: nan<br>Position Z: nan",
          "Index: 164<br>Position X: nan<br>Position Y: nan<br>Position Z: nan",
          "Index: 165<br>Position X: nan<br>Position Y: nan<br>Position Z: nan",
          "Index: 166<br>Position X: nan<br>Position Y: nan<br>Position Z: nan",
          "Index: 167<br>Position X: nan<br>Position Y: nan<br>Position Z: nan",
          "Index: 168<br>Position X: nan<br>Position Y: nan<br>Position Z: nan",
          "Index: 169<br>Position X: nan<br>Position Y: nan<br>Position Z: nan",
          "Index: 170<br>Position X: nan<br>Position Y: nan<br>Position Z: nan",
          "Index: 171<br>Position X: nan<br>Position Y: nan<br>Position Z: nan",
          "Index: 172<br>Position X: nan<br>Position Y: nan<br>Position Z: nan",
          "Index: 173<br>Position X: nan<br>Position Y: nan<br>Position Z: nan",
          "Index: 174<br>Position X: nan<br>Position Y: nan<br>Position Z: nan",
          "Index: 175<br>Position X: nan<br>Position Y: nan<br>Position Z: nan",
          "Index: 176<br>Position X: nan<br>Position Y: nan<br>Position Z: nan",
          "Index: 177<br>Position X: nan<br>Position Y: nan<br>Position Z: nan",
          "Index: 178<br>Position X: nan<br>Position Y: nan<br>Position Z: nan",
          "Index: 179<br>Position X: nan<br>Position Y: nan<br>Position Z: nan",
          "Index: 180<br>Position X: nan<br>Position Y: nan<br>Position Z: nan",
          "Index: 181<br>Position X: nan<br>Position Y: nan<br>Position Z: nan",
          "Index: 182<br>Position X: nan<br>Position Y: nan<br>Position Z: nan",
          "Index: 183<br>Position X: nan<br>Position Y: nan<br>Position Z: nan",
          "Index: 184<br>Position X: nan<br>Position Y: nan<br>Position Z: nan",
          "Index: 185<br>Position X: nan<br>Position Y: nan<br>Position Z: nan",
          "Index: 186<br>Position X: nan<br>Position Y: nan<br>Position Z: nan",
          "Index: 187<br>Position X: nan<br>Position Y: nan<br>Position Z: nan",
          "Index: 188<br>Position X: nan<br>Position Y: nan<br>Position Z: nan",
          "Index: 189<br>Position X: nan<br>Position Y: nan<br>Position Z: nan",
          "Index: 190<br>Position X: nan<br>Position Y: nan<br>Position Z: nan",
          "Index: 191<br>Position X: nan<br>Position Y: nan<br>Position Z: nan",
          "Index: 192<br>Position X: nan<br>Position Y: nan<br>Position Z: nan",
          "Index: 193<br>Position X: nan<br>Position Y: nan<br>Position Z: nan",
          "Index: 194<br>Position X: nan<br>Position Y: nan<br>Position Z: nan",
          "Index: 195<br>Position X: nan<br>Position Y: nan<br>Position Z: nan",
          "Index: 196<br>Position X: nan<br>Position Y: nan<br>Position Z: nan",
          "Index: 197<br>Position X: nan<br>Position Y: nan<br>Position Z: nan",
          "Index: 198<br>Position X: nan<br>Position Y: nan<br>Position Z: nan"
         ],
         "type": "scatter3d",
         "x": [
          null,
          null,
          null,
          null,
          null,
          null,
          null,
          null,
          null,
          null,
          null,
          null,
          null,
          null,
          null,
          null,
          null,
          null,
          null,
          null,
          null,
          null,
          null,
          null,
          null,
          null,
          null,
          null,
          null,
          null,
          null,
          null,
          null,
          null,
          null,
          null,
          null,
          null,
          null,
          null,
          null,
          null,
          null,
          null,
          null,
          null,
          null,
          null,
          null,
          null,
          null,
          null,
          null,
          null,
          null,
          null,
          null,
          null,
          null,
          null,
          null,
          null,
          null,
          null,
          null,
          null,
          null,
          null,
          null,
          null,
          null,
          null,
          null,
          null,
          null,
          null,
          null,
          null,
          null,
          null,
          null,
          null,
          null,
          null,
          null,
          null,
          null,
          null,
          null,
          null,
          null,
          null,
          null,
          null,
          null,
          null,
          null,
          null,
          null,
          null,
          null,
          null,
          null,
          null,
          null,
          null,
          null,
          null,
          null,
          null,
          null,
          null,
          null,
          null,
          null,
          null,
          null,
          null,
          null,
          null,
          null,
          null,
          null,
          null,
          null,
          null,
          null,
          null,
          null,
          null,
          null,
          null,
          null,
          null,
          null,
          null,
          null,
          null,
          null,
          null,
          null,
          null,
          null,
          null,
          null,
          null,
          null,
          null,
          null,
          null,
          null,
          null,
          null,
          null,
          null,
          null,
          null,
          null,
          null,
          null,
          null,
          null,
          null,
          null,
          null,
          null,
          null,
          null,
          null,
          null,
          null,
          null,
          null,
          null,
          null,
          null,
          null,
          null,
          null,
          null,
          null,
          null,
          null,
          null,
          null,
          null,
          null,
          null,
          null,
          null,
          null,
          null,
          null,
          null,
          null,
          null,
          null,
          null,
          null
         ],
         "y": [
          null,
          null,
          null,
          null,
          null,
          null,
          null,
          null,
          null,
          null,
          null,
          null,
          null,
          null,
          null,
          null,
          null,
          null,
          null,
          null,
          null,
          null,
          null,
          null,
          null,
          null,
          null,
          null,
          null,
          null,
          null,
          null,
          null,
          null,
          null,
          null,
          null,
          null,
          null,
          null,
          null,
          null,
          null,
          null,
          null,
          null,
          null,
          null,
          null,
          null,
          null,
          null,
          null,
          null,
          null,
          null,
          null,
          null,
          null,
          null,
          null,
          null,
          null,
          null,
          null,
          null,
          null,
          null,
          null,
          null,
          null,
          null,
          null,
          null,
          null,
          null,
          null,
          null,
          null,
          null,
          null,
          null,
          null,
          null,
          null,
          null,
          null,
          null,
          null,
          null,
          null,
          null,
          null,
          null,
          null,
          null,
          null,
          null,
          null,
          null,
          null,
          null,
          null,
          null,
          null,
          null,
          null,
          null,
          null,
          null,
          null,
          null,
          null,
          null,
          null,
          null,
          null,
          null,
          null,
          null,
          null,
          null,
          null,
          null,
          null,
          null,
          null,
          null,
          null,
          null,
          null,
          null,
          null,
          null,
          null,
          null,
          null,
          null,
          null,
          null,
          null,
          null,
          null,
          null,
          null,
          null,
          null,
          null,
          null,
          null,
          null,
          null,
          null,
          null,
          null,
          null,
          null,
          null,
          null,
          null,
          null,
          null,
          null,
          null,
          null,
          null,
          null,
          null,
          null,
          null,
          null,
          null,
          null,
          null,
          null,
          null,
          null,
          null,
          null,
          null,
          null,
          null,
          null,
          null,
          null,
          null,
          null,
          null,
          null,
          null,
          null,
          null,
          null,
          null,
          null,
          null,
          null,
          null,
          null
         ],
         "z": [
          null,
          null,
          null,
          null,
          null,
          null,
          null,
          null,
          null,
          null,
          null,
          null,
          null,
          null,
          null,
          null,
          null,
          null,
          null,
          null,
          null,
          null,
          null,
          null,
          null,
          null,
          null,
          null,
          null,
          null,
          null,
          null,
          null,
          null,
          null,
          null,
          null,
          null,
          null,
          null,
          null,
          null,
          null,
          null,
          null,
          null,
          null,
          null,
          null,
          null,
          null,
          null,
          null,
          null,
          null,
          null,
          null,
          null,
          null,
          null,
          null,
          null,
          null,
          null,
          null,
          null,
          null,
          null,
          null,
          null,
          null,
          null,
          null,
          null,
          null,
          null,
          null,
          null,
          null,
          null,
          null,
          null,
          null,
          null,
          null,
          null,
          null,
          null,
          null,
          null,
          null,
          null,
          null,
          null,
          null,
          null,
          null,
          null,
          null,
          null,
          null,
          null,
          null,
          null,
          null,
          null,
          null,
          null,
          null,
          null,
          null,
          null,
          null,
          null,
          null,
          null,
          null,
          null,
          null,
          null,
          null,
          null,
          null,
          null,
          null,
          null,
          null,
          null,
          null,
          null,
          null,
          null,
          null,
          null,
          null,
          null,
          null,
          null,
          null,
          null,
          null,
          null,
          null,
          null,
          null,
          null,
          null,
          null,
          null,
          null,
          null,
          null,
          null,
          null,
          null,
          null,
          null,
          null,
          null,
          null,
          null,
          null,
          null,
          null,
          null,
          null,
          null,
          null,
          null,
          null,
          null,
          null,
          null,
          null,
          null,
          null,
          null,
          null,
          null,
          null,
          null,
          null,
          null,
          null,
          null,
          null,
          null,
          null,
          null,
          null,
          null,
          null,
          null,
          null,
          null,
          null,
          null,
          null,
          null
         ]
        }
       ],
       "layout": {
        "margin": {
         "b": 0,
         "l": 0,
         "r": 0,
         "t": 50
        },
        "scene": {
         "xaxis": {
          "title": {
           "text": "Position X (m)"
          }
         },
         "yaxis": {
          "title": {
           "text": "Position Y (m)"
          }
         },
         "zaxis": {
          "title": {
           "text": "Position Z (m)"
          }
         }
        },
        "template": {
         "data": {
          "bar": [
           {
            "error_x": {
             "color": "#2a3f5f"
            },
            "error_y": {
             "color": "#2a3f5f"
            },
            "marker": {
             "line": {
              "color": "#E5ECF6",
              "width": 0.5
             },
             "pattern": {
              "fillmode": "overlay",
              "size": 10,
              "solidity": 0.2
             }
            },
            "type": "bar"
           }
          ],
          "barpolar": [
           {
            "marker": {
             "line": {
              "color": "#E5ECF6",
              "width": 0.5
             },
             "pattern": {
              "fillmode": "overlay",
              "size": 10,
              "solidity": 0.2
             }
            },
            "type": "barpolar"
           }
          ],
          "carpet": [
           {
            "aaxis": {
             "endlinecolor": "#2a3f5f",
             "gridcolor": "white",
             "linecolor": "white",
             "minorgridcolor": "white",
             "startlinecolor": "#2a3f5f"
            },
            "baxis": {
             "endlinecolor": "#2a3f5f",
             "gridcolor": "white",
             "linecolor": "white",
             "minorgridcolor": "white",
             "startlinecolor": "#2a3f5f"
            },
            "type": "carpet"
           }
          ],
          "choropleth": [
           {
            "colorbar": {
             "outlinewidth": 0,
             "ticks": ""
            },
            "type": "choropleth"
           }
          ],
          "contour": [
           {
            "colorbar": {
             "outlinewidth": 0,
             "ticks": ""
            },
            "colorscale": [
             [
              0,
              "#0d0887"
             ],
             [
              0.1111111111111111,
              "#46039f"
             ],
             [
              0.2222222222222222,
              "#7201a8"
             ],
             [
              0.3333333333333333,
              "#9c179e"
             ],
             [
              0.4444444444444444,
              "#bd3786"
             ],
             [
              0.5555555555555556,
              "#d8576b"
             ],
             [
              0.6666666666666666,
              "#ed7953"
             ],
             [
              0.7777777777777778,
              "#fb9f3a"
             ],
             [
              0.8888888888888888,
              "#fdca26"
             ],
             [
              1,
              "#f0f921"
             ]
            ],
            "type": "contour"
           }
          ],
          "contourcarpet": [
           {
            "colorbar": {
             "outlinewidth": 0,
             "ticks": ""
            },
            "type": "contourcarpet"
           }
          ],
          "heatmap": [
           {
            "colorbar": {
             "outlinewidth": 0,
             "ticks": ""
            },
            "colorscale": [
             [
              0,
              "#0d0887"
             ],
             [
              0.1111111111111111,
              "#46039f"
             ],
             [
              0.2222222222222222,
              "#7201a8"
             ],
             [
              0.3333333333333333,
              "#9c179e"
             ],
             [
              0.4444444444444444,
              "#bd3786"
             ],
             [
              0.5555555555555556,
              "#d8576b"
             ],
             [
              0.6666666666666666,
              "#ed7953"
             ],
             [
              0.7777777777777778,
              "#fb9f3a"
             ],
             [
              0.8888888888888888,
              "#fdca26"
             ],
             [
              1,
              "#f0f921"
             ]
            ],
            "type": "heatmap"
           }
          ],
          "heatmapgl": [
           {
            "colorbar": {
             "outlinewidth": 0,
             "ticks": ""
            },
            "colorscale": [
             [
              0,
              "#0d0887"
             ],
             [
              0.1111111111111111,
              "#46039f"
             ],
             [
              0.2222222222222222,
              "#7201a8"
             ],
             [
              0.3333333333333333,
              "#9c179e"
             ],
             [
              0.4444444444444444,
              "#bd3786"
             ],
             [
              0.5555555555555556,
              "#d8576b"
             ],
             [
              0.6666666666666666,
              "#ed7953"
             ],
             [
              0.7777777777777778,
              "#fb9f3a"
             ],
             [
              0.8888888888888888,
              "#fdca26"
             ],
             [
              1,
              "#f0f921"
             ]
            ],
            "type": "heatmapgl"
           }
          ],
          "histogram": [
           {
            "marker": {
             "pattern": {
              "fillmode": "overlay",
              "size": 10,
              "solidity": 0.2
             }
            },
            "type": "histogram"
           }
          ],
          "histogram2d": [
           {
            "colorbar": {
             "outlinewidth": 0,
             "ticks": ""
            },
            "colorscale": [
             [
              0,
              "#0d0887"
             ],
             [
              0.1111111111111111,
              "#46039f"
             ],
             [
              0.2222222222222222,
              "#7201a8"
             ],
             [
              0.3333333333333333,
              "#9c179e"
             ],
             [
              0.4444444444444444,
              "#bd3786"
             ],
             [
              0.5555555555555556,
              "#d8576b"
             ],
             [
              0.6666666666666666,
              "#ed7953"
             ],
             [
              0.7777777777777778,
              "#fb9f3a"
             ],
             [
              0.8888888888888888,
              "#fdca26"
             ],
             [
              1,
              "#f0f921"
             ]
            ],
            "type": "histogram2d"
           }
          ],
          "histogram2dcontour": [
           {
            "colorbar": {
             "outlinewidth": 0,
             "ticks": ""
            },
            "colorscale": [
             [
              0,
              "#0d0887"
             ],
             [
              0.1111111111111111,
              "#46039f"
             ],
             [
              0.2222222222222222,
              "#7201a8"
             ],
             [
              0.3333333333333333,
              "#9c179e"
             ],
             [
              0.4444444444444444,
              "#bd3786"
             ],
             [
              0.5555555555555556,
              "#d8576b"
             ],
             [
              0.6666666666666666,
              "#ed7953"
             ],
             [
              0.7777777777777778,
              "#fb9f3a"
             ],
             [
              0.8888888888888888,
              "#fdca26"
             ],
             [
              1,
              "#f0f921"
             ]
            ],
            "type": "histogram2dcontour"
           }
          ],
          "mesh3d": [
           {
            "colorbar": {
             "outlinewidth": 0,
             "ticks": ""
            },
            "type": "mesh3d"
           }
          ],
          "parcoords": [
           {
            "line": {
             "colorbar": {
              "outlinewidth": 0,
              "ticks": ""
             }
            },
            "type": "parcoords"
           }
          ],
          "pie": [
           {
            "automargin": true,
            "type": "pie"
           }
          ],
          "scatter": [
           {
            "fillpattern": {
             "fillmode": "overlay",
             "size": 10,
             "solidity": 0.2
            },
            "type": "scatter"
           }
          ],
          "scatter3d": [
           {
            "line": {
             "colorbar": {
              "outlinewidth": 0,
              "ticks": ""
             }
            },
            "marker": {
             "colorbar": {
              "outlinewidth": 0,
              "ticks": ""
             }
            },
            "type": "scatter3d"
           }
          ],
          "scattercarpet": [
           {
            "marker": {
             "colorbar": {
              "outlinewidth": 0,
              "ticks": ""
             }
            },
            "type": "scattercarpet"
           }
          ],
          "scattergeo": [
           {
            "marker": {
             "colorbar": {
              "outlinewidth": 0,
              "ticks": ""
             }
            },
            "type": "scattergeo"
           }
          ],
          "scattergl": [
           {
            "marker": {
             "colorbar": {
              "outlinewidth": 0,
              "ticks": ""
             }
            },
            "type": "scattergl"
           }
          ],
          "scattermapbox": [
           {
            "marker": {
             "colorbar": {
              "outlinewidth": 0,
              "ticks": ""
             }
            },
            "type": "scattermapbox"
           }
          ],
          "scatterpolar": [
           {
            "marker": {
             "colorbar": {
              "outlinewidth": 0,
              "ticks": ""
             }
            },
            "type": "scatterpolar"
           }
          ],
          "scatterpolargl": [
           {
            "marker": {
             "colorbar": {
              "outlinewidth": 0,
              "ticks": ""
             }
            },
            "type": "scatterpolargl"
           }
          ],
          "scatterternary": [
           {
            "marker": {
             "colorbar": {
              "outlinewidth": 0,
              "ticks": ""
             }
            },
            "type": "scatterternary"
           }
          ],
          "surface": [
           {
            "colorbar": {
             "outlinewidth": 0,
             "ticks": ""
            },
            "colorscale": [
             [
              0,
              "#0d0887"
             ],
             [
              0.1111111111111111,
              "#46039f"
             ],
             [
              0.2222222222222222,
              "#7201a8"
             ],
             [
              0.3333333333333333,
              "#9c179e"
             ],
             [
              0.4444444444444444,
              "#bd3786"
             ],
             [
              0.5555555555555556,
              "#d8576b"
             ],
             [
              0.6666666666666666,
              "#ed7953"
             ],
             [
              0.7777777777777778,
              "#fb9f3a"
             ],
             [
              0.8888888888888888,
              "#fdca26"
             ],
             [
              1,
              "#f0f921"
             ]
            ],
            "type": "surface"
           }
          ],
          "table": [
           {
            "cells": {
             "fill": {
              "color": "#EBF0F8"
             },
             "line": {
              "color": "white"
             }
            },
            "header": {
             "fill": {
              "color": "#C8D4E3"
             },
             "line": {
              "color": "white"
             }
            },
            "type": "table"
           }
          ]
         },
         "layout": {
          "annotationdefaults": {
           "arrowcolor": "#2a3f5f",
           "arrowhead": 0,
           "arrowwidth": 1
          },
          "autotypenumbers": "strict",
          "coloraxis": {
           "colorbar": {
            "outlinewidth": 0,
            "ticks": ""
           }
          },
          "colorscale": {
           "diverging": [
            [
             0,
             "#8e0152"
            ],
            [
             0.1,
             "#c51b7d"
            ],
            [
             0.2,
             "#de77ae"
            ],
            [
             0.3,
             "#f1b6da"
            ],
            [
             0.4,
             "#fde0ef"
            ],
            [
             0.5,
             "#f7f7f7"
            ],
            [
             0.6,
             "#e6f5d0"
            ],
            [
             0.7,
             "#b8e186"
            ],
            [
             0.8,
             "#7fbc41"
            ],
            [
             0.9,
             "#4d9221"
            ],
            [
             1,
             "#276419"
            ]
           ],
           "sequential": [
            [
             0,
             "#0d0887"
            ],
            [
             0.1111111111111111,
             "#46039f"
            ],
            [
             0.2222222222222222,
             "#7201a8"
            ],
            [
             0.3333333333333333,
             "#9c179e"
            ],
            [
             0.4444444444444444,
             "#bd3786"
            ],
            [
             0.5555555555555556,
             "#d8576b"
            ],
            [
             0.6666666666666666,
             "#ed7953"
            ],
            [
             0.7777777777777778,
             "#fb9f3a"
            ],
            [
             0.8888888888888888,
             "#fdca26"
            ],
            [
             1,
             "#f0f921"
            ]
           ],
           "sequentialminus": [
            [
             0,
             "#0d0887"
            ],
            [
             0.1111111111111111,
             "#46039f"
            ],
            [
             0.2222222222222222,
             "#7201a8"
            ],
            [
             0.3333333333333333,
             "#9c179e"
            ],
            [
             0.4444444444444444,
             "#bd3786"
            ],
            [
             0.5555555555555556,
             "#d8576b"
            ],
            [
             0.6666666666666666,
             "#ed7953"
            ],
            [
             0.7777777777777778,
             "#fb9f3a"
            ],
            [
             0.8888888888888888,
             "#fdca26"
            ],
            [
             1,
             "#f0f921"
            ]
           ]
          },
          "colorway": [
           "#636efa",
           "#EF553B",
           "#00cc96",
           "#ab63fa",
           "#FFA15A",
           "#19d3f3",
           "#FF6692",
           "#B6E880",
           "#FF97FF",
           "#FECB52"
          ],
          "font": {
           "color": "#2a3f5f"
          },
          "geo": {
           "bgcolor": "white",
           "lakecolor": "white",
           "landcolor": "#E5ECF6",
           "showlakes": true,
           "showland": true,
           "subunitcolor": "white"
          },
          "hoverlabel": {
           "align": "left"
          },
          "hovermode": "closest",
          "mapbox": {
           "style": "light"
          },
          "paper_bgcolor": "white",
          "plot_bgcolor": "#E5ECF6",
          "polar": {
           "angularaxis": {
            "gridcolor": "white",
            "linecolor": "white",
            "ticks": ""
           },
           "bgcolor": "#E5ECF6",
           "radialaxis": {
            "gridcolor": "white",
            "linecolor": "white",
            "ticks": ""
           }
          },
          "scene": {
           "xaxis": {
            "backgroundcolor": "#E5ECF6",
            "gridcolor": "white",
            "gridwidth": 2,
            "linecolor": "white",
            "showbackground": true,
            "ticks": "",
            "zerolinecolor": "white"
           },
           "yaxis": {
            "backgroundcolor": "#E5ECF6",
            "gridcolor": "white",
            "gridwidth": 2,
            "linecolor": "white",
            "showbackground": true,
            "ticks": "",
            "zerolinecolor": "white"
           },
           "zaxis": {
            "backgroundcolor": "#E5ECF6",
            "gridcolor": "white",
            "gridwidth": 2,
            "linecolor": "white",
            "showbackground": true,
            "ticks": "",
            "zerolinecolor": "white"
           }
          },
          "shapedefaults": {
           "line": {
            "color": "#2a3f5f"
           }
          },
          "ternary": {
           "aaxis": {
            "gridcolor": "white",
            "linecolor": "white",
            "ticks": ""
           },
           "baxis": {
            "gridcolor": "white",
            "linecolor": "white",
            "ticks": ""
           },
           "bgcolor": "#E5ECF6",
           "caxis": {
            "gridcolor": "white",
            "linecolor": "white",
            "ticks": ""
           }
          },
          "title": {
           "x": 0.05
          },
          "xaxis": {
           "automargin": true,
           "gridcolor": "white",
           "linecolor": "white",
           "ticks": "",
           "title": {
            "standoff": 15
           },
           "zerolinecolor": "white",
           "zerolinewidth": 2
          },
          "yaxis": {
           "automargin": true,
           "gridcolor": "white",
           "linecolor": "white",
           "ticks": "",
           "title": {
            "standoff": 15
           },
           "zerolinecolor": "white",
           "zerolinewidth": 2
          }
         }
        },
        "title": {
         "text": "3D Plot der berechneten Positionen"
        }
       }
      }
     },
     "metadata": {},
     "output_type": "display_data"
    },
    {
     "name": "stdout",
     "output_type": "stream",
     "text": [
      "                       Time Device name  Chip Time()  Acceleration X(g)  \\\n",
      "0   1900-01-01 15:32:07.831       COM12          NaN             -0.095   \n",
      "1   1900-01-01 15:32:07.929       COM12          NaN             -0.095   \n",
      "2   1900-01-01 15:32:08.027       COM12          NaN             -0.094   \n",
      "3   1900-01-01 15:32:08.127       COM12          NaN             -0.095   \n",
      "4   1900-01-01 15:32:08.227       COM12          NaN             -0.091   \n",
      "..                      ...         ...          ...                ...   \n",
      "194 1900-01-01 15:32:27.220       COM12          NaN             -0.023   \n",
      "195 1900-01-01 15:32:27.320       COM12          NaN             -0.023   \n",
      "196 1900-01-01 15:32:27.420       COM12          NaN             -0.023   \n",
      "197 1900-01-01 15:32:27.519       COM12          NaN             -0.023   \n",
      "198 1900-01-01 15:32:27.619       COM12          NaN             -0.023   \n",
      "\n",
      "     Acceleration Y(g)  Acceleration Z(g)  Angular velocity X(°/s)  \\\n",
      "0                0.013              1.005                      0.0   \n",
      "1                0.013              1.004                      0.0   \n",
      "2                0.013              1.004                      0.0   \n",
      "3                0.013              1.004                      0.0   \n",
      "4                0.013              1.005                      0.0   \n",
      "..                 ...                ...                      ...   \n",
      "194              0.016              1.010                      0.0   \n",
      "195              0.016              1.009                      0.0   \n",
      "196              0.016              1.009                      0.0   \n",
      "197              0.016              1.008                      0.0   \n",
      "198              0.016              1.009                      0.0   \n",
      "\n",
      "     Angular velocity Y(°/s)  Angular velocity Z(°/s)  Angle X(°)  Angle Y(°)  \\\n",
      "0                        0.0                      0.0       0.577       5.350   \n",
      "1                        0.0                      0.0       0.577       5.345   \n",
      "2                        0.0                      0.0       0.577       5.339   \n",
      "3                        0.0                      0.0       0.577       5.339   \n",
      "4                        0.0                      0.0       0.577       5.334   \n",
      "..                       ...                      ...         ...         ...   \n",
      "194                      0.0                      0.0       0.428       1.285   \n",
      "195                      0.0                      0.0       0.445       1.280   \n",
      "196                      0.0                      0.0       0.461       1.274   \n",
      "197                      0.0                      0.0       0.478       1.269   \n",
      "198                      0.0                      0.0       0.494       1.263   \n",
      "\n",
      "     Angle Z(°) Magnetic field X(ʯt) Magnetic field Y(ʯt)  \\\n",
      "0       -59.557               81,367               73,346   \n",
      "1       -59.540               81,367               73,333   \n",
      "2       -59.529               81,380               73,346   \n",
      "3       -59.518               81,367               73,359   \n",
      "4       -59.507               81,367               73,359   \n",
      "..          ...                  ...                  ...   \n",
      "194     -62.078             -125,970              288,730   \n",
      "195     -62.062             -125,970              288,730   \n",
      "196     -62.045             -125,957              288,743   \n",
      "197     -62.029             -125,957              288,717   \n",
      "198     -62.012             -125,957              288,717   \n",
      "\n",
      "    Magnetic field Z(ʯt) Temperature(℃)  Pressure(Pa) Height(m)  Longitude()  \\\n",
      "0                 64,935          20,04         96600    402,67          NaN   \n",
      "1                 64,948          20,06         96600    402,67          NaN   \n",
      "2                 64,948          20,03         96600    402,67          NaN   \n",
      "3                 64,948          20,06         96600    402,67          NaN   \n",
      "4                 64,948          20,03         96600    402,67          NaN   \n",
      "..                   ...            ...           ...       ...          ...   \n",
      "194              400,777          20,22         96600    402,67          NaN   \n",
      "195              400,803          20,25         96600    402,67          NaN   \n",
      "196              400,790          20,20         96599    402,76          NaN   \n",
      "197              400,790          20,20         96599    402,76          NaN   \n",
      "198              400,790          20,23         96599    402,76          NaN   \n",
      "\n",
      "     Latitude()  GPS ground speed(km)  Angle of course(°)  GPS height(m)  \\\n",
      "0           NaN                   NaN                 NaN            NaN   \n",
      "1           NaN                   NaN                 NaN            NaN   \n",
      "2           NaN                   NaN                 NaN            NaN   \n",
      "3           NaN                   NaN                 NaN            NaN   \n",
      "4           NaN                   NaN                 NaN            NaN   \n",
      "..          ...                   ...                 ...            ...   \n",
      "194         NaN                   NaN                 NaN            NaN   \n",
      "195         NaN                   NaN                 NaN            NaN   \n",
      "196         NaN                   NaN                 NaN            NaN   \n",
      "197         NaN                   NaN                 NaN            NaN   \n",
      "198         NaN                   NaN                 NaN            NaN   \n",
      "\n",
      "     Number of satellites()  Position location()  Horizontal position()  \\\n",
      "0                       NaN                  NaN                    NaN   \n",
      "1                       NaN                  NaN                    NaN   \n",
      "2                       NaN                  NaN                    NaN   \n",
      "3                       NaN                  NaN                    NaN   \n",
      "4                       NaN                  NaN                    NaN   \n",
      "..                      ...                  ...                    ...   \n",
      "194                     NaN                  NaN                    NaN   \n",
      "195                     NaN                  NaN                    NaN   \n",
      "196                     NaN                  NaN                    NaN   \n",
      "197                     NaN                  NaN                    NaN   \n",
      "198                     NaN                  NaN                    NaN   \n",
      "\n",
      "     Vertical position()  Quaternions 0()  Quaternions 1()  Quaternions 2()  \\\n",
      "0                    NaN              NaN              NaN              NaN   \n",
      "1                    NaN              NaN              NaN              NaN   \n",
      "2                    NaN              NaN              NaN              NaN   \n",
      "3                    NaN              NaN              NaN              NaN   \n",
      "4                    NaN              NaN              NaN              NaN   \n",
      "..                   ...              ...              ...              ...   \n",
      "194                  NaN              NaN              NaN              NaN   \n",
      "195                  NaN              NaN              NaN              NaN   \n",
      "196                  NaN              NaN              NaN              NaN   \n",
      "197                  NaN              NaN              NaN              NaN   \n",
      "198                  NaN              NaN              NaN              NaN   \n",
      "\n",
      "     Quaternions 3()  Delta_t  Corrected_Acc_X(m/s²)  Corrected_Acc_Y(m/s²)  \\\n",
      "0                NaN      NaN              -1.310207               0.966121   \n",
      "1                NaN    0.098              -1.310023               0.965274   \n",
      "2                NaN    0.098              -1.299855               0.964320   \n",
      "3                NaN    0.100              -1.309826               0.964247   \n",
      "4                NaN    0.100              -1.270314               0.963440   \n",
      "..               ...      ...                    ...                    ...   \n",
      "194              NaN    0.100              -0.263895               0.385654   \n",
      "195              NaN    0.100              -0.260986               0.386250   \n",
      "196              NaN    0.100              -0.258153               0.386616   \n",
      "197              NaN    0.099              -0.255245               0.387216   \n",
      "198              NaN    0.100              -0.252412               0.387586   \n",
      "\n",
      "     Corrected_Acc_Z(m/s²)  Position X(m)  Position Y(m)  Position Z(m)  \n",
      "0                 0.092280            NaN            NaN            NaN  \n",
      "1                 0.082391            NaN            NaN            NaN  \n",
      "2                 0.082295            NaN            NaN            NaN  \n",
      "3                 0.082295            NaN            NaN            NaN  \n",
      "4                 0.092025            NaN            NaN            NaN  \n",
      "..                     ...            ...            ...            ...  \n",
      "194               0.100841            NaN            NaN            NaN  \n",
      "195               0.091034            NaN            NaN            NaN  \n",
      "196               0.091032            NaN            NaN            NaN  \n",
      "197               0.081227            NaN            NaN            NaN  \n",
      "198               0.091038            NaN            NaN            NaN  \n",
      "\n",
      "[199 rows x 38 columns]\n"
     ]
    }
   ],
   "source": [
    "import numpy as np\n",
    "import pandas as pd\n",
    "import plotly.graph_objects as go\n",
    "\n",
    "# Beispiel: Ein bestehender DataFrame mit den spezifizierten Spaltennamen\n",
    "data = {\n",
    "    'Delta_t': np.linspace(0, 9, 10),  # Beispiel für Zeitdifferenzen in Sekunden\n",
    "    'Angle X(°)': np.linspace(0, 90, 10),  # Beispielwerte für Pitch (Angle X) in Grad\n",
    "    'Angle Y(°)': np.linspace(0, 90, 10),  # Beispielwerte für Roll (Angle Y) in Grad\n",
    "    'Angle Z(°)': np.linspace(0, 360, 10), # Beispielwerte für Yaw (Angle Z) in Grad\n",
    "    'Acceleration X(g)': np.random.uniform(-1, 1, 10),  # Zufällige Beschleunigungswerte in g\n",
    "    'Acceleration Y(g)': np.random.uniform(-1, 1, 10),\n",
    "    'Acceleration Z(g)': np.random.uniform(-1, 1, 10)\n",
    "}\n",
    "\n",
    "# DataFrame erstellen\n",
    "# df = pd.DataFrame(data)\n",
    "\n",
    "# Konstante für die Erdbeschleunigung (9.81 m/s²)\n",
    "g = 9.81\n",
    "\n",
    "# Berechne die Schwerkraftkomponente (Gravitationsbeschleunigung) in Abhängigkeit von Pitch, Roll und Yaw\n",
    "def compute_gravity_components(pitch_deg, roll_deg, yaw_deg):\n",
    "    # Konvertiere Winkel von Grad in Bogenmaß\n",
    "    pitch = np.radians(pitch_deg)\n",
    "    roll = np.radians(roll_deg)\n",
    "    yaw = np.radians(yaw_deg)\n",
    "\n",
    "    # Berechne die Rotationsmatrizen für Pitch, Roll und Yaw\n",
    "    R_x = np.array([\n",
    "        [1, 0, 0],\n",
    "        [0, np.cos(pitch), -np.sin(pitch)],\n",
    "        [0, np.sin(pitch), np.cos(pitch)]\n",
    "    ])\n",
    "\n",
    "    R_y = np.array([\n",
    "        [np.cos(roll), 0, np.sin(roll)],\n",
    "        [0, 1, 0],\n",
    "        [-np.sin(roll), 0, np.cos(roll)]\n",
    "    ])\n",
    "\n",
    "    R_z = np.array([\n",
    "        [np.cos(yaw), -np.sin(yaw), 0],\n",
    "        [np.sin(yaw), np.cos(yaw), 0],\n",
    "        [0, 0, 1]\n",
    "    ])\n",
    "\n",
    "    # Gesamte Rotationsmatrix\n",
    "    R = R_z @ R_y @ R_x\n",
    "\n",
    "    # Erdbeschleunigungsvektor (im Ruhezustand nur in Z-Richtung)\n",
    "    gravity = np.array([0, 0, g])\n",
    "\n",
    "    # Berechne die Schwerkraftkomponente in den neuen Achsen\n",
    "    gravity_components = R @ gravity\n",
    "    return gravity_components\n",
    "\n",
    "# Berechne für jede Zeile die Schwerkraftkomponente und subtrahiere sie von den gemessenen Beschleunigungen\n",
    "gravity_corrected_acc = []\n",
    "for index, row in df.iterrows():\n",
    "    pitch, roll, yaw = row['Angle X(°)'], row['Angle Y(°)'], row['Angle Z(°)']\n",
    "    acc_x, acc_y, acc_z = row['Acceleration X(g)'] * g, row['Acceleration Y(g)'] * g, row['Acceleration Z(g)'] * g\n",
    "\n",
    "    # Berechne die Schwerkraftkomponenten\n",
    "    gravity_components = compute_gravity_components(pitch, roll, yaw)\n",
    "\n",
    "    # Subtrahiere die Schwerkraft von den gemessenen Beschleunigungen\n",
    "    corrected_acc = np.array([acc_x, acc_y, acc_z]) - gravity_components\n",
    "\n",
    "    # Speichere die korrigierten Beschleunigungswerte\n",
    "    gravity_corrected_acc.append(corrected_acc)\n",
    "\n",
    "# Füge die korrigierten Beschleunigungswerte zum DataFrame hinzu\n",
    "df[['Corrected_Acc_X(m/s²)', 'Corrected_Acc_Y(m/s²)', 'Corrected_Acc_Z(m/s²)']] = gravity_corrected_acc\n",
    "\n",
    "# Berechnung der Position durch doppelte Integration der Beschleunigungsdaten\n",
    "positions = []\n",
    "velocity = np.array([0.0, 0.0, 0.0])  # Anfangsgeschwindigkeit\n",
    "position = np.array([0.0, 0.0, 0.0])  # Startposition\n",
    "\n",
    "for i in range(1, len(df)):\n",
    "    # Zeitdifferenz zwischen den Messungen\n",
    "    dt = df['Delta_t'].iloc[i] - df['Delta_t'].iloc[i - 1]\n",
    "    \n",
    "    # Beschleunigungswerte der aktuellen Zeile\n",
    "    acc = np.array([df['Corrected_Acc_X(m/s²)'].iloc[i], \n",
    "                    df['Corrected_Acc_Y(m/s²)'].iloc[i], \n",
    "                    df['Corrected_Acc_Z(m/s²)'].iloc[i]])\n",
    "    \n",
    "    # Numerische Integration der Beschleunigung zur Berechnung der Geschwindigkeit\n",
    "    velocity += acc * dt\n",
    "\n",
    "    # Numerische Integration der Geschwindigkeit zur Berechnung der Position\n",
    "    position += velocity * dt\n",
    "\n",
    "    # Position speichern\n",
    "    positions.append(position.copy())\n",
    "\n",
    "# Positionen zum DataFrame hinzufügen\n",
    "positions = np.array(positions)\n",
    "df.loc[1:, 'Position X(m)'] = positions[:, 0]\n",
    "df.loc[1:, 'Position Y(m)'] = positions[:, 1]\n",
    "df.loc[1:, 'Position Z(m)'] = positions[:, 2]\n",
    "\n",
    "# Plot der berechneten Positionen\n",
    "fig = go.Figure()\n",
    "\n",
    "# Punkte mit einer Linie verbinden\n",
    "fig.add_trace(go.Scatter3d(\n",
    "    x=df['Position X(m)'],\n",
    "    y=df['Position Y(m)'],\n",
    "    z=df['Position Z(m)'],\n",
    "    mode='lines+markers',\n",
    "    marker=dict(\n",
    "        size=5,\n",
    "        color=df['Position X(m)'],  # Farbskala basierend auf der X-Position\n",
    "        colorscale='Viridis',\n",
    "        opacity=0.8\n",
    "    ),\n",
    "    line=dict(\n",
    "        color='gray',\n",
    "        width=2\n",
    "    ),\n",
    "    text=df.apply(lambda row: f\"Index: {row.name}<br>Position X: {row['Position X(m)']:.2f}<br>Position Y: {row['Position Y(m)']:.2f}<br>Position Z: {row['Position Z(m)']:.2f}\", axis=1),\n",
    "    hoverinfo='text'\n",
    "))\n",
    "\n",
    "# Achsenlabels hinzufügen\n",
    "fig.update_layout(\n",
    "    scene=dict(\n",
    "        xaxis_title='Position X (m)',\n",
    "        yaxis_title='Position Y (m)',\n",
    "        zaxis_title='Position Z (m)'\n",
    "    ),\n",
    "    title='3D Plot der berechneten Positionen',\n",
    "    margin=dict(l=0, r=0, b=0, t=50)\n",
    ")\n",
    "\n",
    "# Plot anzeigen\n",
    "fig.show()\n",
    "\n",
    "# Ergebnis anzeigen\n",
    "print(df)\n"
   ]
  }
 ],
 "metadata": {
  "kernelspec": {
   "display_name": "base",
   "language": "python",
   "name": "python3"
  },
  "language_info": {
   "codemirror_mode": {
    "name": "ipython",
    "version": 3
   },
   "file_extension": ".py",
   "mimetype": "text/x-python",
   "name": "python",
   "nbconvert_exporter": "python",
   "pygments_lexer": "ipython3",
   "version": "3.12.3"
  }
 },
 "nbformat": 4,
 "nbformat_minor": 2
}
