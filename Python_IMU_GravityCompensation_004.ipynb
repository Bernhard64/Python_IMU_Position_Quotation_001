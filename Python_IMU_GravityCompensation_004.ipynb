{
 "cells": [
  {
   "cell_type": "code",
   "execution_count": 4,
   "metadata": {},
   "outputs": [
    {
     "name": "stdout",
     "output_type": "stream",
     "text": [
      "Beschleunigung nach Korrektur (m/s²):\n",
      "X: -4.90\n",
      "Y: -2.91\n",
      "Z: 7.98\n",
      "\n",
      "Gesamte Gravitationskomponente (m/s²): 9.81\n"
     ]
    }
   ],
   "source": [
    "import numpy as np\n",
    "\n",
    "# Beispielwerte für die Winkel (in Grad) und Beschleunigungen (in g)\n",
    "pitch_deg = 30   # Neigung um die X-Achse\n",
    "roll_deg = 20    # Neigung um die Y-Achse\n",
    "# Angenommene Beschleunigung, wenn der Sensor perfekt aufrecht steht\n",
    "# Diese Werte sollten die Gravitationskraft reflektieren\n",
    "acc_x_g = 0\n",
    "acc_y_g = 0\n",
    "acc_z_g = 1\n",
    "\n",
    "# Konvertiere Winkel von Grad in Bogenmaß\n",
    "pitch = np.radians(pitch_deg)\n",
    "roll = np.radians(roll_deg)\n",
    "\n",
    "# Konvertiere Beschleunigungen von g in m/s²\n",
    "acc_x = acc_x_g * 9.81\n",
    "acc_y = acc_y_g * 9.81\n",
    "acc_z = acc_z_g * 9.81\n",
    "\n",
    "# Berechne die Richtung des Beschleunigungsvektors\n",
    "# Korrigiere die Beschleunigungswerte für die Neigung des Sensors\n",
    "acc_x_corrected = acc_x * np.cos(pitch) - acc_z * np.sin(pitch)\n",
    "acc_y_corrected = acc_x * np.sin(roll) * np.sin(pitch) + acc_y * np.cos(roll) - acc_z * np.sin(roll) * np.cos(pitch)\n",
    "acc_z_corrected = acc_x * np.cos(roll) * np.sin(pitch) + acc_y * np.sin(roll) + acc_z * np.cos(pitch) * np.cos(roll)\n",
    "\n",
    "# Berechne die Summe der Gravitationskomponenten\n",
    "gravity_magnitude = np.sqrt(acc_x_corrected**2 + acc_y_corrected**2 + acc_z_corrected**2)\n",
    "\n",
    "# Ausgabe der korrigierten Beschleunigungswerte und der Summe der Gravitationskomponenten\n",
    "print(f\"Beschleunigung nach Korrektur (m/s²):\")\n",
    "print(f\"X: {acc_x_corrected:.2f}\")\n",
    "print(f\"Y: {acc_y_corrected:.2f}\")\n",
    "print(f\"Z: {acc_z_corrected:.2f}\")\n",
    "\n",
    "print(f\"\\nGesamte Gravitationskomponente (m/s²): {gravity_magnitude:.2f}\")\n"
   ]
  },
  {
   "cell_type": "code",
   "execution_count": null,
   "metadata": {},
   "outputs": [],
   "source": []
  }
 ],
 "metadata": {
  "kernelspec": {
   "display_name": "base",
   "language": "python",
   "name": "python3"
  },
  "language_info": {
   "codemirror_mode": {
    "name": "ipython",
    "version": 3
   },
   "file_extension": ".py",
   "mimetype": "text/x-python",
   "name": "python",
   "nbconvert_exporter": "python",
   "pygments_lexer": "ipython3",
   "version": "3.11.5"
  }
 },
 "nbformat": 4,
 "nbformat_minor": 2
}
