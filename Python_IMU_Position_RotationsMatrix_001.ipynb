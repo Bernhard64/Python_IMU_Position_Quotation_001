{
 "cells": [
  {
   "cell_type": "code",
   "execution_count": null,
   "metadata": {},
   "outputs": [],
   "source": []
  },
  {
   "cell_type": "code",
   "execution_count": null,
   "metadata": {},
   "outputs": [],
   "source": []
  },
  {
   "cell_type": "code",
   "execution_count": 55,
   "metadata": {},
   "outputs": [
    {
     "name": "stdout",
     "output_type": "stream",
     "text": [
      "            Time Device name  Chip Time() Acceleration X(g) Acceleration Y(g)  \\\n",
      "0   09:51:45.800       COM12          NaN            -0,021             0,017   \n",
      "1   09:51:45.900       COM12          NaN            -0,021             0,017   \n",
      "2   09:51:46.000       COM12          NaN            -0,021             0,018   \n",
      "3   09:51:46.099       COM12          NaN            -0,021             0,017   \n",
      "4   09:51:46.199       COM12          NaN            -0,021             0,017   \n",
      "\n",
      "  Acceleration Z(g) Angular velocity X(°/s) Angular velocity Y(°/s)  \\\n",
      "0             1,008                   0,000                   0,000   \n",
      "1             1,008                   0,000                   0,000   \n",
      "2             1,008                   0,000                   0,000   \n",
      "3             1,008                   0,000                   0,000   \n",
      "4             1,009                   0,000                   0,000   \n",
      "\n",
      "  Angular velocity Z(°/s) Angle X(°)  ... Angle of course(°) GPS height(m)  \\\n",
      "0                   0,000      0,829  ...                NaN           NaN   \n",
      "1                   0,000      0,829  ...                NaN           NaN   \n",
      "2                   0,000      0,829  ...                NaN           NaN   \n",
      "3                   0,000      0,829  ...                NaN           NaN   \n",
      "4                   0,000      0,829  ...                NaN           NaN   \n",
      "\n",
      "  Number of satellites() Position location() Horizontal position()  \\\n",
      "0                    NaN                 NaN                   NaN   \n",
      "1                    NaN                 NaN                   NaN   \n",
      "2                    NaN                 NaN                   NaN   \n",
      "3                    NaN                 NaN                   NaN   \n",
      "4                    NaN                 NaN                   NaN   \n",
      "\n",
      "  Vertical position()  Quaternions 0() Quaternions 1()  Quaternions 2()  \\\n",
      "0                 NaN              NaN             NaN              NaN   \n",
      "1                 NaN              NaN             NaN              NaN   \n",
      "2                 NaN              NaN             NaN              NaN   \n",
      "3                 NaN              NaN             NaN              NaN   \n",
      "4                 NaN              NaN             NaN              NaN   \n",
      "\n",
      "   Quaternions 3()  \n",
      "0              NaN  \n",
      "1              NaN  \n",
      "2              NaN  \n",
      "3              NaN  \n",
      "4              NaN  \n",
      "\n",
      "[5 rows x 31 columns]\n"
     ]
    }
   ],
   "source": [
    "import pandas as pd\n",
    "\n",
    "# Beispiel: Lesen der Daten aus einer Datei\n",
    "# Pfad zur Datei\n",
    "file_path = r\"C:\\Users\\bernh\\Downloads\\drive-download-20240908T150007Z-001\\WitMotion New Software\\WitMotion(V2024.8.12.4)\\Record\\2024-09-15\\09-51-45-747\\data_0.txt\"\n",
    "# \"C:\\Users\\bernh\\Downloads\\drive-download-20240908T150007Z-001\\WitMotion New Software\\WitMotion(V2024.8.12.4)\\Record\\2024-09-15\\09-51-45-747\\data_0.txt\"\n",
    "# \"C:\\Users\\bernh\\Downloads\\drive-download-20240908T150007Z-001\\WitMotion New Software\\WitMotion(V2024.8.12.4)\\Record\\2024-09-15\\05-11-18-527\\data_0.txt\"\n",
    "# Daten in den DataFrame laden, mit Tabulator als Trennzeichen\n",
    "df = pd.read_csv(file_path, sep='\\t', index_col=False)\n",
    "\n",
    "\n",
    "# Überprüfen der Spaltennamen nach dem Zurücksetzen des Index\n",
    "# print(\"Spaltennamen nach Index-Zurücksetzung:\", df.columns)\n",
    "\n",
    "# Die ersten paar Zeilen nach der Anpassung anzeigen\n",
    "print(df.head())\n",
    "\n",
    "#_# Ersetzen von Kommas durch Punkte in spezifischen Spalten\n",
    "#_df['Chip Time()'] = df['Chip Time()'].str.replace(',', '.').astype(float)\n",
    "#_# ACCELERATION:\n",
    "df['Acceleration X(g)'] = df['Acceleration X(g)'].str.replace(',', '.').astype(float)\n",
    "df['Acceleration Y(g)'] = df['Acceleration Y(g)'].str.replace(',', '.').astype(float)\n",
    "df['Acceleration Z(g)'] = df['Acceleration Z(g)'].str.replace(',', '.').astype(float)\n",
    "#_# ANGELS\n",
    "df['Angle X(°)'] = df['Angle X(°)'].str.replace(',', '.').astype(float)\n",
    "df['Angle Y(°)'] = df['Angle Y(°)'].str.replace(',', '.').astype(float)\n",
    "df['Angle Z(°)'] = df['Angle Z(°)'].str.replace(',', '.').astype(float)\n",
    "# ANGULAR VELOSITY\n",
    "df['Angular velocity X(°/s)'] = df['Angular velocity X(°/s)'].str.replace(',', '.').astype(float)\n",
    "df['Angular velocity Y(°/s)'] = df['Angular velocity Y(°/s)'].str.replace(',', '.').astype(float)\n",
    "df['Angular velocity Z(°/s)'] = df['Angular velocity Z(°/s)'].str.replace(',', '.').astype(float)\n",
    "\n",
    "# Alle numerischen Spalten mit Kommas in Punkten umwandeln\n",
    "# df = df.replace({',': '.'}, regex=True).astype(float)\n",
    "\n",
    "# print(df)"
   ]
  },
  {
   "cell_type": "markdown",
   "metadata": {},
   "source": [
    "### eigentliche Zeit-Differenz-Berechnung"
   ]
  },
  {
   "cell_type": "code",
   "execution_count": 56,
   "metadata": {},
   "outputs": [],
   "source": [
    "import numpy as np\n",
    "from datetime import datetime\n",
    "\n",
    "time = df['Time'].values  # Zeitspalte falls vorhanden\n",
    "\n",
    "# Dein NumPy-Array mit Zeitstempeln als Strings\n",
    "# time = np.array([' 18:06:05.104', ' 18:06:05.247', ' 18:06:05.304', ' 18:06:05.403'])\n",
    "\n",
    "# Entferne führende und nachfolgende Leerzeichen aus der 'Time'-Spalte\n",
    "df['Time'] = df['Time'].str.strip()\n",
    " \n",
    "# Konvertiere die 'Time'-Spalte in das Datetime-Format\n",
    "df['Time'] = pd.to_datetime(df['Time'], format='%H:%M:%S.%f')\n",
    "\n",
    "# Zeitdifferenzen berechnen und in einer neuen Spalte speichern\n",
    "df['Delta_t'] = df['Time'].diff().dt.total_seconds()\n",
    " \n",
    "# print(df['Delta_t'])"
   ]
  },
  {
   "cell_type": "markdown",
   "metadata": {},
   "source": [
    "Berechnung der Rotationsmatrix:"
   ]
  },
  {
   "cell_type": "code",
   "execution_count": 3,
   "metadata": {},
   "outputs": [],
   "source": [
    "import numpy as np\n",
    "\n",
    "def rotation_matrix(roll, pitch, yaw):\n",
    "    roll = np.deg2rad(roll)\n",
    "    pitch = np.deg2rad(pitch)\n",
    "    yaw = np.deg2rad(yaw)\n",
    "\n",
    "    R_x = np.array([[1, 0, 0],\n",
    "                    [0, np.cos(roll), -np.sin(roll)],\n",
    "                    [0, np.sin(roll), np.cos(roll)]])\n",
    "\n",
    "    R_y = np.array([[np.cos(pitch), 0, np.sin(pitch)],\n",
    "                    [0, 1, 0],\n",
    "                    [-np.sin(pitch), 0, np.cos(pitch)]])\n",
    "\n",
    "    R_z = np.array([[np.cos(yaw), -np.sin(yaw), 0],\n",
    "                    [np.sin(yaw), np.cos(yaw), 0],\n",
    "                    [0, 0, 1]])\n",
    "\n",
    "    R = R_z @ R_y @ R_x\n",
    "    return R"
   ]
  },
  {
   "cell_type": "markdown",
   "metadata": {},
   "source": [
    "Transformiere die Beschleunigungsdaten:\n",
    "\n",
    "Berechne die globale Beschleunigung, indem du die lokale Beschleunigung mit der Rotationsmatrix multiplizierst:"
   ]
  },
  {
   "cell_type": "code",
   "execution_count": 48,
   "metadata": {},
   "outputs": [],
   "source": [
    "def transform_acceleration(acc_local, roll, pitch, yaw):\n",
    "    R = rotation_matrix(roll, pitch, yaw)\n",
    "    acc_global = R @ acc_local\n",
    "    return acc_global"
   ]
  },
  {
   "cell_type": "markdown",
   "metadata": {},
   "source": [
    "Integration zur Positionsbestimmung\n",
    "Berechne die Geschwindigkeit und Position: Nach der Transformation der Beschleunigung in das globale Koordinatensystem, kannst du die Geschwindigkeit und die Position durch Integration berechnen. Dazu benötigst du die Zeitdifferenz (Delta_t), um die Beschleunigung in Geschwindigkeit und dann die Geschwindigkeit in Position zu integrieren.\n",
    "\n",
    "Berechnung der Geschwindigkeit und Position:"
   ]
  },
  {
   "cell_type": "code",
   "execution_count": 49,
   "metadata": {},
   "outputs": [],
   "source": [
    "def integrate(accelerations, delta_t):\n",
    "    velocity = np.cumsum(accelerations * delta_t)\n",
    "    position = np.cumsum(velocity * delta_t)\n",
    "    return velocity, position\n"
   ]
  },
  {
   "cell_type": "markdown",
   "metadata": {},
   "source": [
    "Berücksichtigung der Erdbeschleunigung"
   ]
  },
  {
   "cell_type": "code",
   "execution_count": 50,
   "metadata": {},
   "outputs": [],
   "source": [
    "def adjust_for_gravity(acc_global, gravity=9.81):\n",
    "    acc_global[2] -= gravity  # Annahme: Z-Achse ist vertikal\n",
    "    return acc_global\n"
   ]
  },
  {
   "cell_type": "markdown",
   "metadata": {},
   "source": [
    "### Lese die Daten aus dem DataFrame und wende die Funktionen an"
   ]
  },
  {
   "cell_type": "code",
   "execution_count": null,
   "metadata": {},
   "outputs": [],
   "source": [
    "import numpy as np\n",
    "# Initialisiere Listen für Geschwindigkeit und Position\n",
    "# velocity_x, velocity_y, velocity_z = [], [], []\n",
    "# position_x, position_y, position_z = [], [], []\n",
    "velocity_x, velocity_y, velocity_z = np.zeros(len(df)), np.zeros(len(df)), np.zeros(len(df))\n",
    "position_x, position_y, position_z = np.zeros(len(df)), np.zeros(len(df)), np.zeros(len(df))\n",
    "\n",
    "\n",
    "\n",
    "# Iteriere über die Zeilen des DataFrames\n",
    "for index, row in df.iterrows():\n",
    "    delta_t = row['Delta_t']\n",
    "    acc_x = row['Acceleration X(g)']\n",
    "    acc_y = row['Acceleration Y(g)']\n",
    "    acc_z = row['Acceleration Z(g)']\n",
    "    angle_x = row['Angle X(°)']\n",
    "    angle_y = row['Angle Y(°)']\n",
    "    angle_z = row['Angle Z(°)']\n",
    "\n",
    "    # Lokale Beschleunigung in ein numpy Array\n",
    "    acc_local = np.array([acc_x, acc_y, acc_z])  \n",
    "\n",
    "    # Transformiere die lokale Beschleunigung in die globale Koordinate\n",
    "    acc_global = transform_acceleration(acc_local, angle_x, angle_y, angle_z)\n",
    "\n",
    "    # Berücksichtige die Erdbeschleunigung\n",
    "    acc_global = adjust_for_gravity(acc_global)\n",
    "\n",
    "    # Berechne Geschwindigkeit und Position\n",
    "    velocity, position = integrate(acc_global, delta_t)\n",
    "\n",
    "    # Füge die berechneten Werte zu den Listen hinzu\n",
    "    velocity_x.append(velocity[0])\n",
    "    velocity_y.append(velocity[1])\n",
    "    velocity_z.append(velocity[2])\n",
    "    position_x.append(position[0])\n",
    "    position_y.append(position[1])\n",
    "    position_z.append(position[2])    \n",
    "\n",
    "\n",
    "    # Füge die berechneten Werte dem DataFrame hinzu\n",
    "    # df['Velocity X(m/s)'] = velocity_x\n",
    "    # df['Velocity Y(m/s)'] = velocity_y\n",
    "    # df['Velocity Z(m/s)'] = velocity_z\n",
    "    # df['Position X(m)'] = position_x\n",
    "    # df['Position Y(m)'] = position_y\n",
    "    # df['Position Z(m)'] = position_z\n",
    "\n",
    "    # Speichere die Ergebnisse in eine neue CSV-Datei\n",
    "    # df.to_csv('sensor_data_with_position.csv', index=False)\n",
    "\n",
    "      "
   ]
  },
  {
   "cell_type": "markdown",
   "metadata": {},
   "source": []
  },
  {
   "cell_type": "code",
   "execution_count": 57,
   "metadata": {},
   "outputs": [],
   "source": [
    "import numpy as np\n",
    "import pandas as pd\n",
    "\n",
    "def rotation_matrix(roll, pitch, yaw):\n",
    "    roll = np.deg2rad(roll)\n",
    "    pitch = np.deg2rad(pitch)\n",
    "    yaw = np.deg2rad(yaw)\n",
    "\n",
    "    R_x = np.array([[1, 0, 0],\n",
    "                    [0, np.cos(roll), -np.sin(roll)],\n",
    "                    [0, np.sin(roll), np.cos(roll)]])\n",
    "\n",
    "    R_y = np.array([[np.cos(pitch), 0, np.sin(pitch)],\n",
    "                    [0, 1, 0],\n",
    "                    [-np.sin(pitch), 0, np.cos(pitch)]])\n",
    "\n",
    "    R_z = np.array([[np.cos(yaw), -np.sin(yaw), 0],\n",
    "                    [np.sin(yaw), np.cos(yaw), 0],\n",
    "                    [0, 0, 1]])\n",
    "\n",
    "    R = R_z @ R_y @ R_x\n",
    "    return R\n",
    "\n",
    "def transform_acceleration(acc_local, roll, pitch, yaw):\n",
    "    R = rotation_matrix(roll, pitch, yaw)\n",
    "    acc_global = R @ acc_local\n",
    "    return acc_global\n",
    "\n",
    "def adjust_for_gravity(acc_global, gravity=9.81):\n",
    "    acc_global[2] -= gravity  # Annahme: Z-Achse ist vertikal\n",
    "    return acc_global\n",
    "\n",
    "def integrate(accelerations, delta_t):\n",
    "    velocity = np.cumsum(accelerations * delta_t)\n",
    "    position = np.cumsum(velocity * delta_t)\n",
    "    return velocity, position\n",
    "\n",
    "# Beispiel DataFrame laden\n",
    "# data = pd.read_csv('sensor_data.csv')  # Ersetze 'sensor_data.csv' durch deinen Dateipfad\n",
    "\n",
    "# Initialisiere Arrays für Geschwindigkeit und Position\n",
    "num_rows = len(df)\n",
    "velocity_x = np.zeros(num_rows)\n",
    "velocity_y = np.zeros(num_rows)\n",
    "velocity_z = np.zeros(num_rows)\n",
    "position_x = np.zeros(num_rows)\n",
    "position_y = np.zeros(num_rows)\n",
    "position_z = np.zeros(num_rows)\n",
    "\n",
    "# Iteriere über die Zeilen des DataFrames\n",
    "for index, row in df.iterrows():\n",
    "    delta_t = row['Delta_t']\n",
    "    acc_x = row['Acceleration X(g)']\n",
    "    acc_y = row['Acceleration Y(g)']\n",
    "    acc_z = row['Acceleration Z(g)']\n",
    "    angle_x = row['Angle X(°)']\n",
    "    angle_y = row['Angle Y(°)']\n",
    "    angle_z = row['Angle Z(°)']\n",
    "\n",
    "    # Lokale Beschleunigung in ein numpy Array\n",
    "    acc_local = np.array([acc_x, acc_y, acc_z])\n",
    "\n",
    "    # Transformiere die lokale Beschleunigung in die globale Koordinate\n",
    "    acc_global = transform_acceleration(acc_local, angle_x, angle_y, angle_z)\n",
    "    \n",
    "    # Berücksichtige die Erdbeschleunigung\n",
    "    acc_global = adjust_for_gravity(acc_global)\n",
    "\n",
    "    # Berechne Geschwindigkeit und Position (außer für den ersten Schritt)\n",
    "    if index == 0:\n",
    "        velocity = np.zeros(3)\n",
    "        position = np.zeros(3)\n",
    "    else:\n",
    "        velocity, position = integrate(acc_global, delta_t)\n",
    "\n",
    "    # Speichere die berechneten Werte in den Arrays\n",
    "    velocity_x[index] = velocity[0]\n",
    "    velocity_y[index] = velocity[1]\n",
    "    velocity_z[index] = velocity[2]\n",
    "    position_x[index] = position[0]\n",
    "    position_y[index] = position[1]\n",
    "    position_z[index] = position[2]\n",
    "\n",
    "# Füge die berechneten Werte dem DataFrame hinzu\n",
    "df['Velocity X(m/s)'] = velocity_x\n",
    "df['Velocity Y(m/s)'] = velocity_y\n",
    "df['Velocity Z(m/s)'] = velocity_z\n",
    "df['Position X(m)'] = position_x\n",
    "df['Position Y(m)'] = position_y\n",
    "df['Position Z(m)'] = position_z\n",
    "\n",
    "# Speichere die Ergebnisse in eine neue CSV-Datei\n",
    "df.to_csv('sensor_data_with_position2.csv', index=False, decimal=',')\n",
    "\n"
   ]
  },
  {
   "cell_type": "code",
   "execution_count": null,
   "metadata": {},
   "outputs": [],
   "source": []
  },
  {
   "cell_type": "markdown",
   "metadata": {},
   "source": [
    "Neuer Ansatz"
   ]
  },
  {
   "cell_type": "code",
   "execution_count": 53,
   "metadata": {},
   "outputs": [],
   "source": [
    "import numpy as np\n",
    "import pandas as pd\n",
    "\n",
    "def rotation_matrix(roll, pitch, yaw):\n",
    "    roll = np.deg2rad(roll)\n",
    "    pitch = np.deg2rad(pitch)\n",
    "    yaw = np.deg2rad(yaw)\n",
    "\n",
    "    R_x = np.array([[1, 0, 0],\n",
    "                    [0, np.cos(roll), -np.sin(roll)],\n",
    "                    [0, np.sin(roll), np.cos(roll)]])\n",
    "\n",
    "    R_y = np.array([[np.cos(pitch), 0, np.sin(pitch)],\n",
    "                    [0, 1, 0],\n",
    "                    [-np.sin(pitch), 0, np.cos(pitch)]])\n",
    "\n",
    "    R_z = np.array([[np.cos(yaw), -np.sin(yaw), 0],\n",
    "                    [np.sin(yaw), np.cos(yaw), 0],\n",
    "                    [0, 0, 1]])\n",
    "\n",
    "    R = R_z @ R_y @ R_x\n",
    "    return R\n",
    "\n",
    "def transform_acceleration(acc_local, roll, pitch, yaw):\n",
    "    R = rotation_matrix(roll, pitch, yaw)\n",
    "    acc_global = R @ acc_local\n",
    "    return acc_global\n",
    "\n",
    "def adjust_for_gravity(acc_global, gravity=9.81):\n",
    "    acc_global[2] -= gravity  # Annahme: Z-Achse ist vertikal\n",
    "    return acc_global\n",
    "\n",
    "def integrate(accelerations, delta_t):\n",
    "    velocity = np.zeros_like(accelerations)\n",
    "    position = np.zeros_like(accelerations)\n",
    "    for i in range(1, len(accelerations)):\n",
    "        velocity[i] = velocity[i-1] + accelerations[i] * delta_t[i]\n",
    "        position[i] = position[i-1] + velocity[i] * delta_t[i]\n",
    "    return velocity, position\n",
    "\n",
    "# Beispiel DataFrame laden\n",
    "# data = pd.read_csv('sensor_data.csv')  # Ersetze 'sensor_data.csv' durch deinen Dateipfad\n",
    "df = pd.read_csv('sensor_data.csv', decimal=',')  # Beispielhafte CSV-Lesemethode\n",
    "\n",
    "# Offsets bestimmen (Beispielwerte, bitte anpassen)\n",
    "offset_x = 0.0  # Offset für Beschleunigung X (in g)\n",
    "offset_y = 0.0  # Offset für Beschleunigung Y (in g)\n",
    "offset_z = 0.0  # Offset für Beschleunigung Z (in g)\n",
    "offset_roll = 0.0  # Offset für Rollwinkel (in °)\n",
    "offset_pitch = 0.0  # Offset für Pitchwinkel (in °)\n",
    "offset_yaw = 0.0  # Offset für Yawwinkel (in °)\n",
    "\n",
    "# Initialisiere Arrays für Geschwindigkeit und Position\n",
    "num_rows = len(df)\n",
    "velocity_x = np.zeros(num_rows)\n",
    "velocity_y = np.zeros(num_rows)\n",
    "velocity_z = np.zeros(num_rows)\n",
    "position_x = np.zeros(num_rows)\n",
    "position_y = np.zeros(num_rows)\n",
    "position_z = np.zeros(num_rows)\n",
    "\n",
    "# Listen für Beschleunigung und Delta_t\n",
    "accel_x = np.zeros(num_rows)\n",
    "accel_y = np.zeros(num_rows)\n",
    "accel_z = np.zeros(num_rows)\n",
    "delta_t = np.zeros(num_rows)\n",
    "\n",
    "# Iteriere über die Zeilen des DataFrames\n",
    "for index, row in df.iterrows():\n",
    "    delta_t[index] = row['Delta_t']\n",
    "    accel_x[index] = row['Acceleration X(g)'] - offset_x\n",
    "    accel_y[index] = row['Acceleration Y(g)'] - offset_y\n",
    "    accel_z[index] = row['Acceleration Z(g)'] - offset_z\n",
    "    angle_x = row['Angle X(°)'] - offset_roll\n",
    "    angle_y = row['Angle Y(°)'] - offset_pitch\n",
    "    angle_z = row['Angle Z(°)'] - offset_yaw\n",
    "\n",
    "    # Lokale Beschleunigung in ein numpy Array\n",
    "    acc_local = np.array([accel_x[index], accel_y[index], accel_z[index]])\n",
    "\n",
    "    # Transformiere die lokale Beschleunigung in die globale Koordinate\n",
    "    acc_global = transform_acceleration(acc_local, angle_x, angle_y, angle_z)\n",
    "    \n",
    "    # Berücksichtige die Erdbeschleunigung\n",
    "    acc_global = adjust_for_gravity(acc_global)\n",
    "\n",
    "    # Speichere die berechneten Werte in den Arrays\n",
    "    accel_x[index], accel_y[index], accel_z[index] = acc_global\n",
    "\n",
    "# Berechne Geschwindigkeit und Position\n",
    "velocity, position = integrate(np.column_stack([accel_x, accel_y, accel_z]), delta_t)\n",
    "\n",
    "# Füge die berechneten Werte dem DataFrame hinzu\n",
    "df['Velocity X(m/s)'] = velocity[:, 0]\n",
    "df['Velocity Y(m/s)'] = velocity[:, 1]\n",
    "df['Velocity Z(m/s)'] = velocity[:, 2]\n",
    "df['Position X(m)'] = position[:, 0]\n",
    "df['Position Y(m)'] = position[:, 1]\n",
    "df['Position Z(m)'] = position[:, 2]\n",
    "\n",
    "# Speichere die Ergebnisse in eine neue CSV-Datei\n",
    "df.to_csv('sensor_data_with_position2.csv', index=False, decimal=',')\n"
   ]
  },
  {
   "cell_type": "code",
   "execution_count": null,
   "metadata": {},
   "outputs": [],
   "source": []
  },
  {
   "cell_type": "markdown",
   "metadata": {},
   "source": [
    "Darstellung mit Plot"
   ]
  },
  {
   "cell_type": "code",
   "execution_count": 58,
   "metadata": {},
   "outputs": [
    {
     "data": {
      "application/vnd.plotly.v1+json": {
       "config": {
        "plotlyServerURL": "https://plot.ly"
       },
       "data": [
        {
         "line": {
          "color": "blue",
          "width": 2
         },
         "marker": {
          "color": [
           5,
           6,
           7,
           8,
           9,
           10,
           11,
           12,
           13,
           14,
           15,
           16,
           17,
           18,
           19,
           20,
           21,
           22,
           23,
           24,
           25,
           26,
           27,
           28,
           29,
           30,
           31,
           32,
           33,
           34,
           35,
           36,
           37,
           38,
           39,
           40,
           41,
           42,
           43,
           44,
           45,
           46,
           47,
           48,
           49,
           50,
           51,
           52,
           53,
           54,
           55,
           56,
           57,
           58,
           59,
           60,
           61,
           62,
           63,
           64,
           65,
           66,
           67,
           68,
           69,
           70,
           71,
           72,
           73,
           74,
           75,
           76,
           77,
           78,
           79,
           80,
           81,
           82,
           83,
           84,
           85,
           86,
           87,
           88,
           89,
           90,
           91,
           92,
           93,
           94,
           95,
           96,
           97,
           98,
           99,
           100,
           101,
           102,
           103,
           104,
           105,
           106,
           107,
           108,
           109,
           110,
           111,
           112,
           113,
           114,
           115,
           116,
           117,
           118,
           119,
           120,
           121,
           122,
           123,
           124,
           125,
           126,
           127,
           128,
           129,
           130,
           131,
           132,
           133,
           134,
           135,
           136,
           137,
           138,
           139,
           140,
           141,
           142,
           143,
           144,
           145,
           146,
           147,
           148,
           149,
           150,
           151,
           152,
           153,
           154,
           155,
           156,
           157,
           158,
           159,
           160,
           161,
           162,
           163,
           164,
           165,
           166,
           167,
           168,
           169,
           170,
           171,
           172,
           173,
           174,
           175,
           176,
           177,
           178,
           179,
           180,
           181,
           182,
           183,
           184,
           185,
           186,
           187,
           188,
           189,
           190,
           191,
           192,
           193,
           194,
           195,
           196,
           197,
           198,
           199,
           200,
           201,
           202,
           203,
           204,
           205,
           206,
           207,
           208,
           209,
           210,
           211,
           212,
           213,
           214
          ],
          "colorscale": [
           [
            0,
            "#440154"
           ],
           [
            0.1111111111111111,
            "#482878"
           ],
           [
            0.2222222222222222,
            "#3e4989"
           ],
           [
            0.3333333333333333,
            "#31688e"
           ],
           [
            0.4444444444444444,
            "#26828e"
           ],
           [
            0.5555555555555556,
            "#1f9e89"
           ],
           [
            0.6666666666666666,
            "#35b779"
           ],
           [
            0.7777777777777778,
            "#6ece58"
           ],
           [
            0.8888888888888888,
            "#b5de2b"
           ],
           [
            1,
            "#fde725"
           ]
          ],
          "showscale": true,
          "size": 5
         },
         "mode": "lines",
         "type": "scatter3d",
         "x": [
          -0.00003089845784805429,
          -0.000020917060117157065,
          -0.000020917060117157065,
          -0.000020917060117157065,
          -0.000020917060117157065,
          -0.000020917060117157065,
          -0.00002033375596087641,
          -0.000030283578536878012,
          -0.000020917060117157065,
          -0.00003089845784805429,
          -0.000020917060117157065,
          -0.00002073970285368991,
          -0.00002150036427343772,
          -0.000020917060117157065,
          -0.00002033375596087641,
          -0.00003089845784805429,
          -0.000020917060117157065,
          -0.000020917060117157065,
          -0.00002073970285368991,
          -0.000020917060117157065,
          -0.000020917060117157065,
          -0.000020917060117157065,
          -0.00003089845784805429,
          -0.000020917060117157065,
          -0.000021337493025511922,
          -0.000020917060117157065,
          -0.000020917060117157065,
          -0.000021337493025511922,
          -0.0000195285392248257,
          -0.000020917060117157065,
          -0.00002073970285368991,
          -0.000020917060117157065,
          -0.000020917060117157065,
          -0.000020917060117157065,
          -0.000020917060117157065,
          -0.00002073970285368991,
          -0.000021094417380624262,
          -0.00002073970285368991,
          -0.000020917060117157065,
          -0.000020917060117157065,
          -0.000020917060117157065,
          -0.000020917060117157065,
          -0.000020917060117157065,
          -0.000020917060117157065,
          -0.00002073970285368991,
          -0.000020917060117157065,
          -0.00003089845784805429,
          -0.00003151951685080018,
          -0.000020500810620825635,
          -0.00002073970285368991,
          -0.000020917060117157065,
          -0.000030315153691773674,
          -0.000020917060117157065,
          -0.000020917060117157065,
          -0.000020917060117157065,
          -0.000020917060117157065,
          -0.000021323007009970565,
          -0.000020917060117157065,
          -0.000020917060117157065,
          -0.000020917060117157065,
          -0.000020917060117157065,
          -0.000020917060117157065,
          -0.000020500810620825635,
          -0.00003089845784805429,
          -0.00002073970285368991,
          -0.000020917060117157065,
          -0.00002033375596087641,
          -0.000020917060117157065,
          -0.000020917060117157065,
          -0.00002033375596087641,
          -0.00003151951685080018,
          -0.000020917060117157065,
          -0.000021094417380624262,
          -0.000020917060117157065,
          -0.000020917060117157065,
          -0.000021094417380624262,
          -0.00003089845784805429,
          -0.0000195285392248257,
          -0.00002073970285368991,
          -0.000020917060117157065,
          -0.000020917060117157065,
          -0.000020917060117157065,
          -0.00002150036427343772,
          -0.00002033375596087641,
          -0.000020917060117157065,
          -0.000020917060117157065,
          -0.000020917060117157065,
          -0.000020917060117157065,
          -0.00002033375596087641,
          -0.00003089845784805429,
          -0.00002033375596087641,
          -0.000020917060117157065,
          -0.000020917060117157065,
          -0.000020917060117157065,
          -0.000021094417380624262,
          -0.00002033375596087641,
          -0.000030283578536878012,
          -0.000021156570881049077,
          -0.00002073970285368991,
          -0.000020917060117157065,
          -0.00002073970285368991,
          -0.000021156570881049077,
          -0.000021094417380624262,
          -0.000020648949848209583,
          -0.00002197122653437876,
          -0.00002173359768910941,
          -0.000021909970891053046,
          -0.000021909970891053046,
          -0.000023371700699284972,
          -0.000022788442476618695,
          -0.000022561844332682712,
          -0.000023320640382928167,
          -0.000022561844332682712,
          -0.000022561844332682712,
          -0.00002361705489761404,
          -0.00003652889333964734,
          -0.000020851298377310477,
          -0.000014053660324703385,
          -0.000024131049329318103,
          -0.000014996545593938533,
          -0.0000441114158264428,
          0.000003905008857480536,
          -0.00002612164841705761,
          -0.00002764690604312627,
          0.000013307140054840765,
          -0.000019168634215941496,
          -0.00004621685125163883,
          -0.00001832407429722493,
          -0.0000031715047084173663,
          0.000011575557221346166,
          -0.000019157857602242015,
          -0.00003793103808679877,
          -0.00005619907555801878,
          -0.000017704730615479478,
          -0.00006567711698726946,
          -0.000027869664939975853,
          0.000043247192103635335,
          -0.000046993555794521974,
          -0.00003891126001197335,
          -0.00003412973816474851,
          -0.00004655167310679419,
          -0.000022844201212635095,
          -0.000023454793082021543,
          -0.000033963935380770256,
          0.00002459756978849435,
          0.000037002216887627144,
          -0.000052024444709343686,
          -0.000018769767269198977,
          -0.00003095681396429961,
          -0.000022479852106515352,
          -0.000022536802677234456,
          -0.00003262527568868726,
          -0.00002369995113484426,
          -0.00003367171960549538,
          -0.000023951777133540064,
          -0.000024003428966935453,
          -0.00003457715878524402,
          -0.0000241556376525356,
          -0.000024372048503611195,
          -0.00002530102676612893,
          -0.000023263131197492693,
          -0.00002380536066371782,
          -0.000013592952181978434,
          -0.00003215055655042914,
          -0.000040031756658420995,
          -0.000030346747302807876,
          -0.000004236317128009603,
          -0.000023715488897159287,
          0.0000012314130916894087,
          -0.000048289474897558545,
          -0.00006218895525805546,
          -0.00003482443403358584,
          -0.0000399580610829353,
          -0.000040377717843363564,
          -0.00001707889426464576,
          -0.00006125417172167627,
          -0.000014823991846279972,
          -0.000035635134254346166,
          0.00001519551474365559,
          -0.000030779901858927935,
          -0.00003731650161235833,
          -0.000040357294844521926,
          -0.00007595327546413628,
          -0.000032334031458126725,
          -0.00006128631855383745,
          -0.00001726730149131144,
          -0.00003920231215566092,
          -0.00003251345627833989,
          -0.00007514907434851817,
          -0.000026586390741825353,
          -0.00004825800582965604,
          -0.000043561379437735956,
          0.000002000715536933844,
          -0.00002006029174750707,
          -0.000009852824341784317,
          -0.000023695489911851693,
          -0.000030042797224691767,
          -0.00002722094946428572,
          -0.000024538611555426543,
          -0.000030149754905874105,
          -0.000028052776328052985,
          -0.000027753322338875,
          -0.00002362264611241698,
          -0.00003043408847374612,
          -0.000030326819933054782,
          -0.000030219558001761923,
          -0.00002833076390535487,
          -0.000028317290649495557,
          -0.000028057590705998018,
          -0.00002829166747871903
         ],
         "y": [
          -0.00003493557035568305,
          -0.00001555336764984505,
          -0.00001555336764984505,
          -0.00001555336764984505,
          -0.00001555336764984505,
          -0.00001555336764984505,
          -0.000004404821546777399,
          -0.00003424035250560496,
          -0.00001555336764984505,
          -0.00003493557035568305,
          -0.00001555336764984505,
          -0.000015353022803197658,
          -0.000026701913752912745,
          -0.00001555336764984505,
          -0.000004404821546777399,
          -0.00003493557035568305,
          -0.00001555336764984505,
          -0.00001555336764984505,
          -0.000015353022803197658,
          -0.00001555336764984505,
          -0.00001555336764984505,
          -0.00001555336764984505,
          -0.00003493557035568305,
          -0.00001555336764984505,
          -0.000015865990339606936,
          -0.00001555336764984505,
          -0.00001555336764984505,
          -0.000015865990339606936,
          -0.00000423039061352501,
          -0.00001555336764984505,
          -0.000015353022803197658,
          -0.00001555336764984505,
          -0.00001555336764984505,
          -0.00001555336764984505,
          -0.00001555336764984505,
          -0.000015353022803197658,
          -0.000015753712496492507,
          -0.000015353022803197658,
          -0.00001555336764984505,
          -0.00001555336764984505,
          -0.00001555336764984505,
          -0.00001555336764984505,
          -0.00001555336764984505,
          -0.00001555336764984505,
          -0.000015353022803197658,
          -0.00001555336764984505,
          -0.00003493557035568305,
          -0.00003563777531983228,
          -0.000015243855633613135,
          -0.000015353022803197658,
          -0.00001555336764984505,
          -0.00002378702425261546,
          -0.00001555336764984505,
          -0.00001555336764984505,
          -0.00001555336764984505,
          -0.00001555336764984505,
          -0.000026501568906265348,
          -0.00001555336764984505,
          -0.00001555336764984505,
          -0.00001555336764984505,
          -0.00001555336764984505,
          -0.00001555336764984505,
          -0.000015243855633613135,
          -0.00003493557035568305,
          -0.000015353022803197658,
          -0.00001555336764984505,
          -0.000004404821546777399,
          -0.00001555336764984505,
          -0.00001555336764984505,
          -0.000004404821546777399,
          -0.00003563777531983228,
          -0.00001555336764984505,
          -0.000015753712496492507,
          -0.00001555336764984505,
          -0.00001555336764984505,
          -0.000015753712496492507,
          -0.00003493557035568305,
          -0.00000423039061352501,
          -0.000015353022803197658,
          -0.00001555336764984505,
          -0.00001555336764984505,
          -0.00001555336764984505,
          -0.000026701913752912745,
          -0.000004404821546777399,
          -0.00001555336764984505,
          -0.00001555336764984505,
          -0.00001555336764984505,
          -0.00001555336764984505,
          -0.000004404821546777399,
          -0.00003493557035568305,
          -0.000004404821546777399,
          -0.00001555336764984505,
          -0.00001555336764984505,
          -0.00001555336764984505,
          -0.000015753712496492507,
          -0.000004404821546777399,
          -0.00003424035250560496,
          -0.00001566161856154193,
          -0.000015353022803197658,
          -0.00001555336764984505,
          -0.000015353022803197658,
          -0.00001566161856154193,
          -0.000015753712496492507,
          -0.000025644517968297397,
          -0.000017600382279973567,
          -0.000016224444920716506,
          -0.000016423927744636585,
          -0.000016423927744636585,
          -0.000029278244375098482,
          -0.000018129772437113515,
          -0.000016950632075451602,
          -0.000028297851172748465,
          -0.000016950632075451602,
          -0.000016950632075451602,
          -0.00001899967426555802,
          -0.000041726741479321356,
          0.000002857367759261039,
          0.0003289268094887664,
          0.00014250779456871196,
          0.00013932089442305213,
          0.00009395052847476358,
          0.0005055280615262879,
          -0.00006712888777338871,
          -0.00025230084049243087,
          0.00034061856614803725,
          -0.00006624759555721246,
          -0.00008145431829075089,
          0.0001003670227771185,
          -0.0002671147212723502,
          0.0002157097057398035,
          4.004067087307156e-7,
          -0.00020543677437868236,
          -0.000043045056375140144,
          -0.00010390647009749619,
          -0.0004186042060395253,
          -0.00007863337764034463,
          0.00009931875884231045,
          -0.00023943094135293487,
          -0.00006228626608197836,
          0.000007256951450041772,
          -0.0003676394758380275,
          -0.00008142614226137144,
          -0.0000778451235319099,
          -0.00024348563084760884,
          -0.00015310768215596028,
          0.000045041972853476046,
          -0.00047826581033370125,
          0.000018724919245817845,
          -0.0000031556197636963565,
          0.000014498511471888167,
          0.000013330547758027002,
          -0.000008238479907764835,
          -0.0000037209152478162206,
          -0.00001313119469280627,
          0.000003881916397082328,
          0.0000027270604960950883,
          -0.000028742576839477314,
          -3.881861441372241e-7,
          -0.0000018222079057432438,
          -0.00001387288978248142,
          -0.0000016468520829386962,
          -0.000012716493273291411,
          0.000005622388280278604,
          -0.00016396254754049772,
          -0.00016693164681723206,
          -0.00012679579178426906,
          0.000018016941243524424,
          -0.00002708068740867756,
          0.0001296832409756885,
          -0.00014076154166960743,
          -0.0004073253401327764,
          -0.00007641628331406402,
          -0.00016111709414702954,
          -0.000001690417097087797,
          0.00012303931919330463,
          0.0001455574500311658,
          -0.00003828316097860433,
          0.00005825541419066558,
          0.00015430809866920977,
          -0.000010158652827107951,
          -0.00013879860271704336,
          -0.000037429158479011995,
          -0.0002004984314717397,
          0.0002909483849284566,
          0.00003570152215469439,
          0.000004163724032763551,
          -0.00010727780541232067,
          0.00000734838300002522,
          -0.00048012931609418775,
          -0.00008466547409435112,
          -0.00018873292573986185,
          0.00013825317562512262,
          0.0002832119149062703,
          -0.000010429221673700368,
          -0.000004253813156213329,
          0.00007071301424963969,
          0.00012057839794067914,
          -6.568225189802856e-7,
          0.0000509132057040477,
          0.00010500728089843416,
          -0.000058914429820746756,
          -0.00004977183698393956,
          -0.00011830625778234372,
          -0.00008096441635402456,
          -0.00007881739338048082,
          -0.0000766703825276057,
          -0.00006122007446192636,
          -0.00006777899255790017,
          -0.00005574969608868369,
          -0.00005392851861613343
         ],
         "z": [
          -0.08805522220234126,
          -0.08802662523602515,
          -0.08802662523602515,
          -0.08802662523602515,
          -0.08802662523602515,
          -0.08802662523602515,
          -0.08800476766269187,
          -0.08630292328051466,
          -0.08802662523602515,
          -0.08805522220234126,
          -0.08802662523602515,
          -0.08801640466825734,
          -0.08804848280935842,
          -0.08802662523602515,
          -0.08800476766269187,
          -0.08805522220234126,
          -0.08802662523602515,
          -0.08802662523602515,
          -0.08801640466825734,
          -0.08802662523602515,
          -0.08802662523602515,
          -0.08802662523602515,
          -0.08805522220234126,
          -0.08802662523602515,
          -0.08979596040326926,
          -0.08802662523602515,
          -0.08802662523602515,
          -0.08979596040326926,
          -0.08451977886324927,
          -0.08802662523602515,
          -0.08801640466825734,
          -0.08802662523602515,
          -0.08802662523602515,
          -0.08802662523602515,
          -0.08802662523602515,
          -0.08801640466825734,
          -0.08803684580379295,
          -0.08801640466825734,
          -0.08802662523602515,
          -0.08802662523602515,
          -0.08802662523602515,
          -0.08802662523602515,
          -0.08802662523602515,
          -0.08802662523602515,
          -0.08801640466825734,
          -0.08802662523602515,
          -0.08805522220234126,
          -0.08982513216860831,
          -0.08627489539382827,
          -0.08801640466825734,
          -0.08802662523602515,
          -0.08803336462900799,
          -0.08802662523602515,
          -0.08802662523602515,
          -0.08802662523602515,
          -0.08802662523602515,
          -0.08803826224159061,
          -0.08802662523602515,
          -0.08802662523602515,
          -0.08802662523602515,
          -0.08802662523602515,
          -0.08802662523602515,
          -0.08627489539382827,
          -0.08805522220234126,
          -0.08801640466825734,
          -0.08802662523602515,
          -0.08800476766269187,
          -0.08802662523602515,
          -0.08802662523602515,
          -0.08800476766269187,
          -0.08982513216860831,
          -0.08802662523602515,
          -0.08803684580379295,
          -0.08802662523602515,
          -0.08802662523602515,
          -0.08803684580379295,
          -0.08805522220234126,
          -0.08451977886324927,
          -0.08801640466825734,
          -0.08802662523602515,
          -0.08802662523602515,
          -0.08802662523602515,
          -0.08804848280935842,
          -0.08800476766269187,
          -0.08802662523602515,
          -0.08802662523602515,
          -0.08802662523602515,
          -0.08802662523602515,
          -0.08800476766269187,
          -0.08805522220234126,
          -0.08800476766269187,
          -0.08802662523602515,
          -0.08802662523602515,
          -0.08802662523602515,
          -0.08803684580379295,
          -0.08800476766269187,
          -0.08630292328051466,
          -0.08978553440208932,
          -0.08801640466825734,
          -0.08802662523602515,
          -0.08801640466825734,
          -0.08978553440208932,
          -0.08803684580379295,
          -0.08456176289010782,
          -0.08802966750070411,
          -0.0880171586601579,
          -0.08802737852236951,
          -0.08802737852236951,
          -0.08805177025070811,
          -0.08802991382617292,
          -0.08801778715899039,
          -0.08804986196587639,
          -0.08801778715899039,
          -0.08801778715899039,
          -0.08802083261815422,
          -0.09524531634552727,
          -0.08108913062425194,
          -0.08730965266678889,
          -0.08769456074789056,
          -0.08769022565036638,
          -0.08780078498382335,
          -0.08699003435223208,
          -0.08811439073314112,
          -0.08848693377004069,
          -0.08732230125529104,
          -0.08813996298870033,
          -0.08810200723979005,
          -0.08779430264445091,
          -0.08854275341944205,
          -0.08756325507894305,
          -0.08800574561968151,
          -0.08840153388853957,
          -0.0880445734015322,
          -0.08818807402322427,
          -0.08878259805267943,
          -0.08639522054927716,
          -0.0878427600806174,
          -0.08842082299529024,
          -0.08987186245862368,
          -0.08793791320488975,
          -0.08868898159586708,
          -0.08814818461297425,
          -0.08814039752101792,
          -0.08847230665999335,
          -0.08835119644695771,
          -0.0879961425791357,
          -0.08891420216801835,
          -0.08796176263949004,
          -0.08624164145232205,
          -0.08796653128916465,
          -0.08796880423196841,
          -0.08800168003238967,
          -0.0862404037946077,
          -0.08800040917875238,
          -0.08798625361361659,
          -0.08798850645005962,
          -0.08804074695118384,
          -0.08799457134561296,
          -0.0880072167509218,
          -0.0897895931745716,
          -0.08799796507698708,
          -0.08801960820030884,
          -0.08624174196308043,
          -0.0918703134348,
          -0.08482668752037845,
          -0.0882416720640622,
          -0.08797815351708446,
          -0.08804857981652277,
          -0.08775996464152816,
          -0.08826125187567481,
          -0.09233762549040349,
          -0.0846601588555056,
          -0.08829052158424369,
          -0.087970713070839,
          -0.0895441918998462,
          -0.08767405715041422,
          -0.08631874102992972,
          -0.08785513125137998,
          -0.08771465117377002,
          -0.08799723783831825,
          -0.08825856506338885,
          -0.08804199401640884,
          -0.08836258017492021,
          -0.08740094438848464,
          -0.08788325920541214,
          -0.08976113955485618,
          -0.08817310951235426,
          -0.0844840457948942,
          -0.08890553793908355,
          -0.09170611483603511,
          -0.08485226750814753,
          -0.08944344808660545,
          -0.08746010481227519,
          -0.08626622707774846,
          -0.08798591708349743,
          -0.08785031156127238,
          -0.08773299147683847,
          -0.08799010210724678,
          -0.0896681557560501,
          -0.08777375791950702,
          -0.0880862022031486,
          -0.08807785668506077,
          -0.0882506793837952,
          -0.0881481039500907,
          -0.088143913183222,
          -0.08813972280550744,
          -0.08810053337908934,
          -0.08637230158779013,
          -0.08808986400972557,
          -0.08810598147257467
         ]
        }
       ],
       "layout": {
        "scene": {
         "xaxis": {
          "range": [
           -0.007094445902317917,
           0.007061739818957416
          ],
          "title": {
           "text": "Position X (m)"
          }
         },
         "yaxis": {
          "range": [
           -0.007065393487921616,
           0.007090792233353717
          ],
          "title": {
           "text": "Position Y (m)"
          }
         },
         "zaxis": {
          "range": [
           -0.09524531634552727,
           -0.08108913062425194
          ],
          "title": {
           "text": "Position Z (m)"
          }
         }
        },
        "template": {
         "data": {
          "bar": [
           {
            "error_x": {
             "color": "#f2f5fa"
            },
            "error_y": {
             "color": "#f2f5fa"
            },
            "marker": {
             "line": {
              "color": "rgb(17,17,17)",
              "width": 0.5
             },
             "pattern": {
              "fillmode": "overlay",
              "size": 10,
              "solidity": 0.2
             }
            },
            "type": "bar"
           }
          ],
          "barpolar": [
           {
            "marker": {
             "line": {
              "color": "rgb(17,17,17)",
              "width": 0.5
             },
             "pattern": {
              "fillmode": "overlay",
              "size": 10,
              "solidity": 0.2
             }
            },
            "type": "barpolar"
           }
          ],
          "carpet": [
           {
            "aaxis": {
             "endlinecolor": "#A2B1C6",
             "gridcolor": "#506784",
             "linecolor": "#506784",
             "minorgridcolor": "#506784",
             "startlinecolor": "#A2B1C6"
            },
            "baxis": {
             "endlinecolor": "#A2B1C6",
             "gridcolor": "#506784",
             "linecolor": "#506784",
             "minorgridcolor": "#506784",
             "startlinecolor": "#A2B1C6"
            },
            "type": "carpet"
           }
          ],
          "choropleth": [
           {
            "colorbar": {
             "outlinewidth": 0,
             "ticks": ""
            },
            "type": "choropleth"
           }
          ],
          "contour": [
           {
            "colorbar": {
             "outlinewidth": 0,
             "ticks": ""
            },
            "colorscale": [
             [
              0,
              "#0d0887"
             ],
             [
              0.1111111111111111,
              "#46039f"
             ],
             [
              0.2222222222222222,
              "#7201a8"
             ],
             [
              0.3333333333333333,
              "#9c179e"
             ],
             [
              0.4444444444444444,
              "#bd3786"
             ],
             [
              0.5555555555555556,
              "#d8576b"
             ],
             [
              0.6666666666666666,
              "#ed7953"
             ],
             [
              0.7777777777777778,
              "#fb9f3a"
             ],
             [
              0.8888888888888888,
              "#fdca26"
             ],
             [
              1,
              "#f0f921"
             ]
            ],
            "type": "contour"
           }
          ],
          "contourcarpet": [
           {
            "colorbar": {
             "outlinewidth": 0,
             "ticks": ""
            },
            "type": "contourcarpet"
           }
          ],
          "heatmap": [
           {
            "colorbar": {
             "outlinewidth": 0,
             "ticks": ""
            },
            "colorscale": [
             [
              0,
              "#0d0887"
             ],
             [
              0.1111111111111111,
              "#46039f"
             ],
             [
              0.2222222222222222,
              "#7201a8"
             ],
             [
              0.3333333333333333,
              "#9c179e"
             ],
             [
              0.4444444444444444,
              "#bd3786"
             ],
             [
              0.5555555555555556,
              "#d8576b"
             ],
             [
              0.6666666666666666,
              "#ed7953"
             ],
             [
              0.7777777777777778,
              "#fb9f3a"
             ],
             [
              0.8888888888888888,
              "#fdca26"
             ],
             [
              1,
              "#f0f921"
             ]
            ],
            "type": "heatmap"
           }
          ],
          "heatmapgl": [
           {
            "colorbar": {
             "outlinewidth": 0,
             "ticks": ""
            },
            "colorscale": [
             [
              0,
              "#0d0887"
             ],
             [
              0.1111111111111111,
              "#46039f"
             ],
             [
              0.2222222222222222,
              "#7201a8"
             ],
             [
              0.3333333333333333,
              "#9c179e"
             ],
             [
              0.4444444444444444,
              "#bd3786"
             ],
             [
              0.5555555555555556,
              "#d8576b"
             ],
             [
              0.6666666666666666,
              "#ed7953"
             ],
             [
              0.7777777777777778,
              "#fb9f3a"
             ],
             [
              0.8888888888888888,
              "#fdca26"
             ],
             [
              1,
              "#f0f921"
             ]
            ],
            "type": "heatmapgl"
           }
          ],
          "histogram": [
           {
            "marker": {
             "pattern": {
              "fillmode": "overlay",
              "size": 10,
              "solidity": 0.2
             }
            },
            "type": "histogram"
           }
          ],
          "histogram2d": [
           {
            "colorbar": {
             "outlinewidth": 0,
             "ticks": ""
            },
            "colorscale": [
             [
              0,
              "#0d0887"
             ],
             [
              0.1111111111111111,
              "#46039f"
             ],
             [
              0.2222222222222222,
              "#7201a8"
             ],
             [
              0.3333333333333333,
              "#9c179e"
             ],
             [
              0.4444444444444444,
              "#bd3786"
             ],
             [
              0.5555555555555556,
              "#d8576b"
             ],
             [
              0.6666666666666666,
              "#ed7953"
             ],
             [
              0.7777777777777778,
              "#fb9f3a"
             ],
             [
              0.8888888888888888,
              "#fdca26"
             ],
             [
              1,
              "#f0f921"
             ]
            ],
            "type": "histogram2d"
           }
          ],
          "histogram2dcontour": [
           {
            "colorbar": {
             "outlinewidth": 0,
             "ticks": ""
            },
            "colorscale": [
             [
              0,
              "#0d0887"
             ],
             [
              0.1111111111111111,
              "#46039f"
             ],
             [
              0.2222222222222222,
              "#7201a8"
             ],
             [
              0.3333333333333333,
              "#9c179e"
             ],
             [
              0.4444444444444444,
              "#bd3786"
             ],
             [
              0.5555555555555556,
              "#d8576b"
             ],
             [
              0.6666666666666666,
              "#ed7953"
             ],
             [
              0.7777777777777778,
              "#fb9f3a"
             ],
             [
              0.8888888888888888,
              "#fdca26"
             ],
             [
              1,
              "#f0f921"
             ]
            ],
            "type": "histogram2dcontour"
           }
          ],
          "mesh3d": [
           {
            "colorbar": {
             "outlinewidth": 0,
             "ticks": ""
            },
            "type": "mesh3d"
           }
          ],
          "parcoords": [
           {
            "line": {
             "colorbar": {
              "outlinewidth": 0,
              "ticks": ""
             }
            },
            "type": "parcoords"
           }
          ],
          "pie": [
           {
            "automargin": true,
            "type": "pie"
           }
          ],
          "scatter": [
           {
            "marker": {
             "line": {
              "color": "#283442"
             }
            },
            "type": "scatter"
           }
          ],
          "scatter3d": [
           {
            "line": {
             "colorbar": {
              "outlinewidth": 0,
              "ticks": ""
             }
            },
            "marker": {
             "colorbar": {
              "outlinewidth": 0,
              "ticks": ""
             }
            },
            "type": "scatter3d"
           }
          ],
          "scattercarpet": [
           {
            "marker": {
             "colorbar": {
              "outlinewidth": 0,
              "ticks": ""
             }
            },
            "type": "scattercarpet"
           }
          ],
          "scattergeo": [
           {
            "marker": {
             "colorbar": {
              "outlinewidth": 0,
              "ticks": ""
             }
            },
            "type": "scattergeo"
           }
          ],
          "scattergl": [
           {
            "marker": {
             "line": {
              "color": "#283442"
             }
            },
            "type": "scattergl"
           }
          ],
          "scattermapbox": [
           {
            "marker": {
             "colorbar": {
              "outlinewidth": 0,
              "ticks": ""
             }
            },
            "type": "scattermapbox"
           }
          ],
          "scatterpolar": [
           {
            "marker": {
             "colorbar": {
              "outlinewidth": 0,
              "ticks": ""
             }
            },
            "type": "scatterpolar"
           }
          ],
          "scatterpolargl": [
           {
            "marker": {
             "colorbar": {
              "outlinewidth": 0,
              "ticks": ""
             }
            },
            "type": "scatterpolargl"
           }
          ],
          "scatterternary": [
           {
            "marker": {
             "colorbar": {
              "outlinewidth": 0,
              "ticks": ""
             }
            },
            "type": "scatterternary"
           }
          ],
          "surface": [
           {
            "colorbar": {
             "outlinewidth": 0,
             "ticks": ""
            },
            "colorscale": [
             [
              0,
              "#0d0887"
             ],
             [
              0.1111111111111111,
              "#46039f"
             ],
             [
              0.2222222222222222,
              "#7201a8"
             ],
             [
              0.3333333333333333,
              "#9c179e"
             ],
             [
              0.4444444444444444,
              "#bd3786"
             ],
             [
              0.5555555555555556,
              "#d8576b"
             ],
             [
              0.6666666666666666,
              "#ed7953"
             ],
             [
              0.7777777777777778,
              "#fb9f3a"
             ],
             [
              0.8888888888888888,
              "#fdca26"
             ],
             [
              1,
              "#f0f921"
             ]
            ],
            "type": "surface"
           }
          ],
          "table": [
           {
            "cells": {
             "fill": {
              "color": "#506784"
             },
             "line": {
              "color": "rgb(17,17,17)"
             }
            },
            "header": {
             "fill": {
              "color": "#2a3f5f"
             },
             "line": {
              "color": "rgb(17,17,17)"
             }
            },
            "type": "table"
           }
          ]
         },
         "layout": {
          "annotationdefaults": {
           "arrowcolor": "#f2f5fa",
           "arrowhead": 0,
           "arrowwidth": 1
          },
          "autotypenumbers": "strict",
          "coloraxis": {
           "colorbar": {
            "outlinewidth": 0,
            "ticks": ""
           }
          },
          "colorscale": {
           "diverging": [
            [
             0,
             "#8e0152"
            ],
            [
             0.1,
             "#c51b7d"
            ],
            [
             0.2,
             "#de77ae"
            ],
            [
             0.3,
             "#f1b6da"
            ],
            [
             0.4,
             "#fde0ef"
            ],
            [
             0.5,
             "#f7f7f7"
            ],
            [
             0.6,
             "#e6f5d0"
            ],
            [
             0.7,
             "#b8e186"
            ],
            [
             0.8,
             "#7fbc41"
            ],
            [
             0.9,
             "#4d9221"
            ],
            [
             1,
             "#276419"
            ]
           ],
           "sequential": [
            [
             0,
             "#0d0887"
            ],
            [
             0.1111111111111111,
             "#46039f"
            ],
            [
             0.2222222222222222,
             "#7201a8"
            ],
            [
             0.3333333333333333,
             "#9c179e"
            ],
            [
             0.4444444444444444,
             "#bd3786"
            ],
            [
             0.5555555555555556,
             "#d8576b"
            ],
            [
             0.6666666666666666,
             "#ed7953"
            ],
            [
             0.7777777777777778,
             "#fb9f3a"
            ],
            [
             0.8888888888888888,
             "#fdca26"
            ],
            [
             1,
             "#f0f921"
            ]
           ],
           "sequentialminus": [
            [
             0,
             "#0d0887"
            ],
            [
             0.1111111111111111,
             "#46039f"
            ],
            [
             0.2222222222222222,
             "#7201a8"
            ],
            [
             0.3333333333333333,
             "#9c179e"
            ],
            [
             0.4444444444444444,
             "#bd3786"
            ],
            [
             0.5555555555555556,
             "#d8576b"
            ],
            [
             0.6666666666666666,
             "#ed7953"
            ],
            [
             0.7777777777777778,
             "#fb9f3a"
            ],
            [
             0.8888888888888888,
             "#fdca26"
            ],
            [
             1,
             "#f0f921"
            ]
           ]
          },
          "colorway": [
           "#636efa",
           "#EF553B",
           "#00cc96",
           "#ab63fa",
           "#FFA15A",
           "#19d3f3",
           "#FF6692",
           "#B6E880",
           "#FF97FF",
           "#FECB52"
          ],
          "font": {
           "color": "#f2f5fa"
          },
          "geo": {
           "bgcolor": "rgb(17,17,17)",
           "lakecolor": "rgb(17,17,17)",
           "landcolor": "rgb(17,17,17)",
           "showlakes": true,
           "showland": true,
           "subunitcolor": "#506784"
          },
          "hoverlabel": {
           "align": "left"
          },
          "hovermode": "closest",
          "mapbox": {
           "style": "dark"
          },
          "paper_bgcolor": "rgb(17,17,17)",
          "plot_bgcolor": "rgb(17,17,17)",
          "polar": {
           "angularaxis": {
            "gridcolor": "#506784",
            "linecolor": "#506784",
            "ticks": ""
           },
           "bgcolor": "rgb(17,17,17)",
           "radialaxis": {
            "gridcolor": "#506784",
            "linecolor": "#506784",
            "ticks": ""
           }
          },
          "scene": {
           "xaxis": {
            "backgroundcolor": "rgb(17,17,17)",
            "gridcolor": "#506784",
            "gridwidth": 2,
            "linecolor": "#506784",
            "showbackground": true,
            "ticks": "",
            "zerolinecolor": "#C8D4E3"
           },
           "yaxis": {
            "backgroundcolor": "rgb(17,17,17)",
            "gridcolor": "#506784",
            "gridwidth": 2,
            "linecolor": "#506784",
            "showbackground": true,
            "ticks": "",
            "zerolinecolor": "#C8D4E3"
           },
           "zaxis": {
            "backgroundcolor": "rgb(17,17,17)",
            "gridcolor": "#506784",
            "gridwidth": 2,
            "linecolor": "#506784",
            "showbackground": true,
            "ticks": "",
            "zerolinecolor": "#C8D4E3"
           }
          },
          "shapedefaults": {
           "line": {
            "color": "#f2f5fa"
           }
          },
          "sliderdefaults": {
           "bgcolor": "#C8D4E3",
           "bordercolor": "rgb(17,17,17)",
           "borderwidth": 1,
           "tickwidth": 0
          },
          "ternary": {
           "aaxis": {
            "gridcolor": "#506784",
            "linecolor": "#506784",
            "ticks": ""
           },
           "baxis": {
            "gridcolor": "#506784",
            "linecolor": "#506784",
            "ticks": ""
           },
           "bgcolor": "rgb(17,17,17)",
           "caxis": {
            "gridcolor": "#506784",
            "linecolor": "#506784",
            "ticks": ""
           }
          },
          "title": {
           "x": 0.05
          },
          "updatemenudefaults": {
           "bgcolor": "#506784",
           "borderwidth": 0
          },
          "xaxis": {
           "automargin": true,
           "gridcolor": "#283442",
           "linecolor": "#506784",
           "ticks": "",
           "title": {
            "standoff": 15
           },
           "zerolinecolor": "#283442",
           "zerolinewidth": 2
          },
          "yaxis": {
           "automargin": true,
           "gridcolor": "#283442",
           "linecolor": "#506784",
           "ticks": "",
           "title": {
            "standoff": 15
           },
           "zerolinecolor": "#283442",
           "zerolinewidth": 2
          }
         }
        },
        "title": {
         "text": "3D-Positionsdaten des Sensors als Linie ab Index 5"
        }
       }
      }
     },
     "metadata": {},
     "output_type": "display_data"
    }
   ],
   "source": [
    "import plotly.graph_objects as go\n",
    "import pandas as pd\n",
    "\n",
    "# Beispiel DataFrame laden (ersetze df durch deinen DataFrame)\n",
    "data = df\n",
    "\n",
    "# Beschneide die Daten ab Index 5\n",
    "data_subset = data.iloc[5:]\n",
    "\n",
    "# Erstelle eine Plotly-Figur für 3D\n",
    "fig = go.Figure()\n",
    "\n",
    "# Füge die 3D-Linie hinzu\n",
    "fig.add_trace(go.Scatter3d(\n",
    "    x=data_subset['Position X(m)'],\n",
    "    y=data_subset['Position Y(m)'],\n",
    "    z=data_subset['Position Z(m)'],\n",
    "    mode='lines',\n",
    "    line=dict(width=2, color='blue'),\n",
    "    marker=dict(size=5, color=data_subset.index, colorscale='Viridis', showscale=True)\n",
    "))\n",
    "\n",
    "# Finde die Grenzen für die x-, y- und z-Achsen\n",
    "x_range = [data_subset['Position X(m)'].min(), data_subset['Position X(m)'].max()]\n",
    "y_range = [data_subset['Position Y(m)'].min(), data_subset['Position Y(m)'].max()]\n",
    "z_range = [data_subset['Position Z(m)'].min(), data_subset['Position Z(m)'].max()]\n",
    "\n",
    "# Berechne die gleiche Skalierung für alle Achsen\n",
    "max_range = max(\n",
    "    x_range[1] - x_range[0], \n",
    "    y_range[1] - y_range[0],\n",
    "    z_range[1] - z_range[0]\n",
    ")\n",
    "x_center = (x_range[1] + x_range[0]) / 2\n",
    "y_center = (y_range[1] + y_range[0]) / 2\n",
    "z_center = (z_range[1] + z_range[0]) / 2\n",
    "\n",
    "# Setze die gleichen Grenzen für die x-, y- und z-Achsen\n",
    "fig.update_layout(\n",
    "    title='3D-Positionsdaten des Sensors als Linie ab Index 5',\n",
    "    scene=dict(\n",
    "        xaxis_title='Position X (m)',\n",
    "        yaxis_title='Position Y (m)',\n",
    "        zaxis_title='Position Z (m)',\n",
    "        xaxis=dict(range=[x_center - max_range/2, x_center + max_range/2]),\n",
    "        yaxis=dict(range=[y_center - max_range/2, y_center + max_range/2]),\n",
    "        zaxis=dict(range=[z_center - max_range/2, z_center + max_range/2])\n",
    "    ),\n",
    "    template='plotly_dark'  # Optional: Setzt ein dunkles Layout\n",
    ")\n",
    "\n",
    "# Zeige die Figur an\n",
    "fig.show()\n",
    "# Speichere die Figur als HTML-Datei\n",
    "fig.write_html('3d_plot.html')\n",
    "\n",
    "\n",
    "\n"
   ]
  },
  {
   "cell_type": "markdown",
   "metadata": {},
   "source": []
  },
  {
   "cell_type": "code",
   "execution_count": null,
   "metadata": {},
   "outputs": [],
   "source": [
    "import numpy as np\n",
    "import pandas as pd\n",
    "import matplotlib.pyplot as plt\n",
    "from mpl_toolkits.mplot3d import Axes3D\n",
    "\n",
    "# Beispiel DataFrame laden\n",
    "data = df\n",
    "\n",
    "# Beschneide die Daten ab Index 5\n",
    "data_subset = data.iloc[5:]\n",
    "\n",
    "# Erstelle eine 3D-Figur\n",
    "fig = plt.figure()\n",
    "ax = fig.add_subplot(111, projection='3d')\n",
    "\n",
    "# Plotte die Daten ab Index 5\n",
    "ax.plot(data_subset['Position X(m)'], data_subset['Position Y(m)'], data_subset['Position Z(m)'], marker='o', linestyle='-', color='b')\n",
    "\n",
    "# Füge Titel und Achsenbeschriftungen hinzu\n",
    "ax.set_title('3D-Positionsdaten des Sensors ab Index 5')\n",
    "ax.set_xlabel('Position X (m)')\n",
    "ax.set_ylabel('Position Y (m)')\n",
    "ax.set_zlabel('Position Z (m)')\n",
    "\n",
    "# Zeige das Diagramm an\n",
    "plt.show()\n",
    "\n"
   ]
  },
  {
   "cell_type": "code",
   "execution_count": null,
   "metadata": {},
   "outputs": [],
   "source": []
  }
 ],
 "metadata": {
  "kernelspec": {
   "display_name": "base",
   "language": "python",
   "name": "python3"
  },
  "language_info": {
   "codemirror_mode": {
    "name": "ipython",
    "version": 3
   },
   "file_extension": ".py",
   "mimetype": "text/x-python",
   "name": "python",
   "nbconvert_exporter": "python",
   "pygments_lexer": "ipython3",
   "version": "3.11.5"
  }
 },
 "nbformat": 4,
 "nbformat_minor": 2
}
