{
 "cells": [
  {
   "cell_type": "code",
   "execution_count": null,
   "metadata": {},
   "outputs": [],
   "source": []
  },
  {
   "cell_type": "code",
   "execution_count": null,
   "metadata": {},
   "outputs": [],
   "source": []
  },
  {
   "cell_type": "code",
   "execution_count": 55,
   "metadata": {},
   "outputs": [
    {
     "name": "stdout",
     "output_type": "stream",
     "text": [
      "            Time Device name  Chip Time() Acceleration X(g) Acceleration Y(g)  \\\n",
      "0   09:51:45.800       COM12          NaN            -0,021             0,017   \n",
      "1   09:51:45.900       COM12          NaN            -0,021             0,017   \n",
      "2   09:51:46.000       COM12          NaN            -0,021             0,018   \n",
      "3   09:51:46.099       COM12          NaN            -0,021             0,017   \n",
      "4   09:51:46.199       COM12          NaN            -0,021             0,017   \n",
      "\n",
      "  Acceleration Z(g) Angular velocity X(°/s) Angular velocity Y(°/s)  \\\n",
      "0             1,008                   0,000                   0,000   \n",
      "1             1,008                   0,000                   0,000   \n",
      "2             1,008                   0,000                   0,000   \n",
      "3             1,008                   0,000                   0,000   \n",
      "4             1,009                   0,000                   0,000   \n",
      "\n",
      "  Angular velocity Z(°/s) Angle X(°)  ... Angle of course(°) GPS height(m)  \\\n",
      "0                   0,000      0,829  ...                NaN           NaN   \n",
      "1                   0,000      0,829  ...                NaN           NaN   \n",
      "2                   0,000      0,829  ...                NaN           NaN   \n",
      "3                   0,000      0,829  ...                NaN           NaN   \n",
      "4                   0,000      0,829  ...                NaN           NaN   \n",
      "\n",
      "  Number of satellites() Position location() Horizontal position()  \\\n",
      "0                    NaN                 NaN                   NaN   \n",
      "1                    NaN                 NaN                   NaN   \n",
      "2                    NaN                 NaN                   NaN   \n",
      "3                    NaN                 NaN                   NaN   \n",
      "4                    NaN                 NaN                   NaN   \n",
      "\n",
      "  Vertical position()  Quaternions 0() Quaternions 1()  Quaternions 2()  \\\n",
      "0                 NaN              NaN             NaN              NaN   \n",
      "1                 NaN              NaN             NaN              NaN   \n",
      "2                 NaN              NaN             NaN              NaN   \n",
      "3                 NaN              NaN             NaN              NaN   \n",
      "4                 NaN              NaN             NaN              NaN   \n",
      "\n",
      "   Quaternions 3()  \n",
      "0              NaN  \n",
      "1              NaN  \n",
      "2              NaN  \n",
      "3              NaN  \n",
      "4              NaN  \n",
      "\n",
      "[5 rows x 31 columns]\n"
     ]
    }
   ],
   "source": [
    "import pandas as pd\n",
    "\n",
    "# Beispiel: Lesen der Daten aus einer Datei\n",
    "# Pfad zur Datei\n",
    "file_path = r\"C:\\Users\\bernh\\Downloads\\drive-download-20240908T150007Z-001\\WitMotion New Software\\WitMotion(V2024.8.12.4)\\Record\\2024-09-15\\09-51-45-747\\data_0.txt\"\n",
    "# \"C:\\Users\\bernh\\Downloads\\drive-download-20240908T150007Z-001\\WitMotion New Software\\WitMotion(V2024.8.12.4)\\Record\\2024-09-15\\09-51-45-747\\data_0.txt\"\n",
    "# \"C:\\Users\\bernh\\Downloads\\drive-download-20240908T150007Z-001\\WitMotion New Software\\WitMotion(V2024.8.12.4)\\Record\\2024-09-15\\05-11-18-527\\data_0.txt\"\n",
    "# Daten in den DataFrame laden, mit Tabulator als Trennzeichen\n",
    "df = pd.read_csv(file_path, sep='\\t', index_col=False)\n",
    "\n",
    "\n",
    "# Überprüfen der Spaltennamen nach dem Zurücksetzen des Index\n",
    "# print(\"Spaltennamen nach Index-Zurücksetzung:\", df.columns)\n",
    "\n",
    "# Die ersten paar Zeilen nach der Anpassung anzeigen\n",
    "print(df.head())\n",
    "\n",
    "#_# Ersetzen von Kommas durch Punkte in spezifischen Spalten\n",
    "#_df['Chip Time()'] = df['Chip Time()'].str.replace(',', '.').astype(float)\n",
    "#_# ACCELERATION:\n",
    "df['Acceleration X(g)'] = df['Acceleration X(g)'].str.replace(',', '.').astype(float)\n",
    "df['Acceleration Y(g)'] = df['Acceleration Y(g)'].str.replace(',', '.').astype(float)\n",
    "df['Acceleration Z(g)'] = df['Acceleration Z(g)'].str.replace(',', '.').astype(float)\n",
    "#_# ANGELS\n",
    "df['Angle X(°)'] = df['Angle X(°)'].str.replace(',', '.').astype(float)\n",
    "df['Angle Y(°)'] = df['Angle Y(°)'].str.replace(',', '.').astype(float)\n",
    "df['Angle Z(°)'] = df['Angle Z(°)'].str.replace(',', '.').astype(float)\n",
    "# ANGULAR VELOSITY\n",
    "df['Angular velocity X(°/s)'] = df['Angular velocity X(°/s)'].str.replace(',', '.').astype(float)\n",
    "df['Angular velocity Y(°/s)'] = df['Angular velocity Y(°/s)'].str.replace(',', '.').astype(float)\n",
    "df['Angular velocity Z(°/s)'] = df['Angular velocity Z(°/s)'].str.replace(',', '.').astype(float)\n",
    "\n",
    "# Alle numerischen Spalten mit Kommas in Punkten umwandeln\n",
    "# df = df.replace({',': '.'}, regex=True).astype(float)\n",
    "\n",
    "# print(df)"
   ]
  },
  {
   "cell_type": "markdown",
   "metadata": {},
   "source": [
    "### eigentliche Zeit-Differenz-Berechnung"
   ]
  },
  {
   "cell_type": "code",
   "execution_count": 56,
   "metadata": {},
   "outputs": [],
   "source": [
    "import numpy as np\n",
    "from datetime import datetime\n",
    "\n",
    "time = df['Time'].values  # Zeitspalte falls vorhanden\n",
    "\n",
    "# Dein NumPy-Array mit Zeitstempeln als Strings\n",
    "# time = np.array([' 18:06:05.104', ' 18:06:05.247', ' 18:06:05.304', ' 18:06:05.403'])\n",
    "\n",
    "# Entferne führende und nachfolgende Leerzeichen aus der 'Time'-Spalte\n",
    "df['Time'] = df['Time'].str.strip()\n",
    " \n",
    "# Konvertiere die 'Time'-Spalte in das Datetime-Format\n",
    "df['Time'] = pd.to_datetime(df['Time'], format='%H:%M:%S.%f')\n",
    "\n",
    "# Zeitdifferenzen berechnen und in einer neuen Spalte speichern\n",
    "df['Delta_t'] = df['Time'].diff().dt.total_seconds()\n",
    " \n",
    "# print(df['Delta_t'])"
   ]
  },
  {
   "cell_type": "markdown",
   "metadata": {},
   "source": [
    "Berechnung der Rotationsmatrix:"
   ]
  },
  {
   "cell_type": "code",
   "execution_count": 3,
   "metadata": {},
   "outputs": [],
   "source": [
    "import numpy as np\n",
    "\n",
    "def rotation_matrix(roll, pitch, yaw):\n",
    "    roll = np.deg2rad(roll)\n",
    "    pitch = np.deg2rad(pitch)\n",
    "    yaw = np.deg2rad(yaw)\n",
    "\n",
    "    R_x = np.array([[1, 0, 0],\n",
    "                    [0, np.cos(roll), -np.sin(roll)],\n",
    "                    [0, np.sin(roll), np.cos(roll)]])\n",
    "\n",
    "    R_y = np.array([[np.cos(pitch), 0, np.sin(pitch)],\n",
    "                    [0, 1, 0],\n",
    "                    [-np.sin(pitch), 0, np.cos(pitch)]])\n",
    "\n",
    "    R_z = np.array([[np.cos(yaw), -np.sin(yaw), 0],\n",
    "                    [np.sin(yaw), np.cos(yaw), 0],\n",
    "                    [0, 0, 1]])\n",
    "\n",
    "    R = R_z @ R_y @ R_x\n",
    "    return R"
   ]
  },
  {
   "cell_type": "markdown",
   "metadata": {},
   "source": [
    "Transformiere die Beschleunigungsdaten:\n",
    "\n",
    "Berechne die globale Beschleunigung, indem du die lokale Beschleunigung mit der Rotationsmatrix multiplizierst:"
   ]
  },
  {
   "cell_type": "code",
   "execution_count": 48,
   "metadata": {},
   "outputs": [],
   "source": [
    "def transform_acceleration(acc_local, roll, pitch, yaw):\n",
    "    R = rotation_matrix(roll, pitch, yaw)\n",
    "    acc_global = R @ acc_local\n",
    "    return acc_global"
   ]
  },
  {
   "cell_type": "markdown",
   "metadata": {},
   "source": [
    "Integration zur Positionsbestimmung\n",
    "Berechne die Geschwindigkeit und Position: Nach der Transformation der Beschleunigung in das globale Koordinatensystem, kannst du die Geschwindigkeit und die Position durch Integration berechnen. Dazu benötigst du die Zeitdifferenz (Delta_t), um die Beschleunigung in Geschwindigkeit und dann die Geschwindigkeit in Position zu integrieren.\n",
    "\n",
    "Berechnung der Geschwindigkeit und Position:"
   ]
  },
  {
   "cell_type": "code",
   "execution_count": 49,
   "metadata": {},
   "outputs": [],
   "source": [
    "def integrate(accelerations, delta_t):\n",
    "    velocity = np.cumsum(accelerations * delta_t)\n",
    "    position = np.cumsum(velocity * delta_t)\n",
    "    return velocity, position\n"
   ]
  },
  {
   "cell_type": "markdown",
   "metadata": {},
   "source": [
    "Berücksichtigung der Erdbeschleunigung"
   ]
  },
  {
   "cell_type": "code",
   "execution_count": 50,
   "metadata": {},
   "outputs": [],
   "source": [
    "def adjust_for_gravity(acc_global, gravity=9.81):\n",
    "    acc_global[2] -= gravity  # Annahme: Z-Achse ist vertikal\n",
    "    return acc_global\n"
   ]
  },
  {
   "cell_type": "markdown",
   "metadata": {},
   "source": [
    "### Lese die Daten aus dem DataFrame und wende die Funktionen an"
   ]
  },
  {
   "cell_type": "code",
   "execution_count": null,
   "metadata": {},
   "outputs": [],
   "source": [
    "import numpy as np\n",
    "# Initialisiere Listen für Geschwindigkeit und Position\n",
    "# velocity_x, velocity_y, velocity_z = [], [], []\n",
    "# position_x, position_y, position_z = [], [], []\n",
    "velocity_x, velocity_y, velocity_z = np.zeros(len(df)), np.zeros(len(df)), np.zeros(len(df))\n",
    "position_x, position_y, position_z = np.zeros(len(df)), np.zeros(len(df)), np.zeros(len(df))\n",
    "\n",
    "\n",
    "\n",
    "# Iteriere über die Zeilen des DataFrames\n",
    "for index, row in df.iterrows():\n",
    "    delta_t = row['Delta_t']\n",
    "    acc_x = row['Acceleration X(g)']\n",
    "    acc_y = row['Acceleration Y(g)']\n",
    "    acc_z = row['Acceleration Z(g)']\n",
    "    angle_x = row['Angle X(°)']\n",
    "    angle_y = row['Angle Y(°)']\n",
    "    angle_z = row['Angle Z(°)']\n",
    "\n",
    "    # Lokale Beschleunigung in ein numpy Array\n",
    "    acc_local = np.array([acc_x, acc_y, acc_z])  \n",
    "\n",
    "    # Transformiere die lokale Beschleunigung in die globale Koordinate\n",
    "    acc_global = transform_acceleration(acc_local, angle_x, angle_y, angle_z)\n",
    "\n",
    "    # Berücksichtige die Erdbeschleunigung\n",
    "    acc_global = adjust_for_gravity(acc_global)\n",
    "\n",
    "    # Berechne Geschwindigkeit und Position\n",
    "    velocity, position = integrate(acc_global, delta_t)\n",
    "\n",
    "    # Füge die berechneten Werte zu den Listen hinzu\n",
    "    velocity_x.append(velocity[0])\n",
    "    velocity_y.append(velocity[1])\n",
    "    velocity_z.append(velocity[2])\n",
    "    position_x.append(position[0])\n",
    "    position_y.append(position[1])\n",
    "    position_z.append(position[2])    \n",
    "\n",
    "\n",
    "    # Füge die berechneten Werte dem DataFrame hinzu\n",
    "    # df['Velocity X(m/s)'] = velocity_x\n",
    "    # df['Velocity Y(m/s)'] = velocity_y\n",
    "    # df['Velocity Z(m/s)'] = velocity_z\n",
    "    # df['Position X(m)'] = position_x\n",
    "    # df['Position Y(m)'] = position_y\n",
    "    # df['Position Z(m)'] = position_z\n",
    "\n",
    "    # Speichere die Ergebnisse in eine neue CSV-Datei\n",
    "    # df.to_csv('sensor_data_with_position.csv', index=False)\n",
    "\n",
    "      "
   ]
  },
  {
   "cell_type": "markdown",
   "metadata": {},
   "source": []
  },
  {
   "cell_type": "code",
   "execution_count": 57,
   "metadata": {},
   "outputs": [],
   "source": [
    "import numpy as np\n",
    "import pandas as pd\n",
    "\n",
    "def rotation_matrix(roll, pitch, yaw):\n",
    "    roll = np.deg2rad(roll)\n",
    "    pitch = np.deg2rad(pitch)\n",
    "    yaw = np.deg2rad(yaw)\n",
    "\n",
    "    R_x = np.array([[1, 0, 0],\n",
    "                    [0, np.cos(roll), -np.sin(roll)],\n",
    "                    [0, np.sin(roll), np.cos(roll)]])\n",
    "\n",
    "    R_y = np.array([[np.cos(pitch), 0, np.sin(pitch)],\n",
    "                    [0, 1, 0],\n",
    "                    [-np.sin(pitch), 0, np.cos(pitch)]])\n",
    "\n",
    "    R_z = np.array([[np.cos(yaw), -np.sin(yaw), 0],\n",
    "                    [np.sin(yaw), np.cos(yaw), 0],\n",
    "                    [0, 0, 1]])\n",
    "\n",
    "    R = R_z @ R_y @ R_x\n",
    "    return R\n",
    "\n",
    "def transform_acceleration(acc_local, roll, pitch, yaw):\n",
    "    R = rotation_matrix(roll, pitch, yaw)\n",
    "    acc_global = R @ acc_local\n",
    "    return acc_global\n",
    "\n",
    "def adjust_for_gravity(acc_global, gravity=9.81):\n",
    "    acc_global[2] -= gravity  # Annahme: Z-Achse ist vertikal\n",
    "    return acc_global\n",
    "\n",
    "def integrate(accelerations, delta_t):\n",
    "    velocity = np.cumsum(accelerations * delta_t)\n",
    "    position = np.cumsum(velocity * delta_t)\n",
    "    return velocity, position\n",
    "\n",
    "# Beispiel DataFrame laden\n",
    "# data = pd.read_csv('sensor_data.csv')  # Ersetze 'sensor_data.csv' durch deinen Dateipfad\n",
    "\n",
    "# Initialisiere Arrays für Geschwindigkeit und Position\n",
    "num_rows = len(df)\n",
    "velocity_x = np.zeros(num_rows)\n",
    "velocity_y = np.zeros(num_rows)\n",
    "velocity_z = np.zeros(num_rows)\n",
    "position_x = np.zeros(num_rows)\n",
    "position_y = np.zeros(num_rows)\n",
    "position_z = np.zeros(num_rows)\n",
    "\n",
    "# Iteriere über die Zeilen des DataFrames\n",
    "for index, row in df.iterrows():\n",
    "    delta_t = row['Delta_t']\n",
    "    acc_x = row['Acceleration X(g)']\n",
    "    acc_y = row['Acceleration Y(g)']\n",
    "    acc_z = row['Acceleration Z(g)']\n",
    "    angle_x = row['Angle X(°)']\n",
    "    angle_y = row['Angle Y(°)']\n",
    "    angle_z = row['Angle Z(°)']\n",
    "\n",
    "    # Lokale Beschleunigung in ein numpy Array\n",
    "    acc_local = np.array([acc_x, acc_y, acc_z])\n",
    "\n",
    "    # Transformiere die lokale Beschleunigung in die globale Koordinate\n",
    "    acc_global = transform_acceleration(acc_local, angle_x, angle_y, angle_z)\n",
    "    \n",
    "    # Berücksichtige die Erdbeschleunigung\n",
    "    acc_global = adjust_for_gravity(acc_global)\n",
    "\n",
    "    # Berechne Geschwindigkeit und Position (außer für den ersten Schritt)\n",
    "    if index == 0:\n",
    "        velocity = np.zeros(3)\n",
    "        position = np.zeros(3)\n",
    "    else:\n",
    "        velocity, position = integrate(acc_global, delta_t)\n",
    "\n",
    "    # Speichere die berechneten Werte in den Arrays\n",
    "    velocity_x[index] = velocity[0]\n",
    "    velocity_y[index] = velocity[1]\n",
    "    velocity_z[index] = velocity[2]\n",
    "    position_x[index] = position[0]\n",
    "    position_y[index] = position[1]\n",
    "    position_z[index] = position[2]\n",
    "\n",
    "# Füge die berechneten Werte dem DataFrame hinzu\n",
    "df['Velocity X(m/s)'] = velocity_x\n",
    "df['Velocity Y(m/s)'] = velocity_y\n",
    "df['Velocity Z(m/s)'] = velocity_z\n",
    "df['Position X(m)'] = position_x\n",
    "df['Position Y(m)'] = position_y\n",
    "df['Position Z(m)'] = position_z\n",
    "\n",
    "# Speichere die Ergebnisse in eine neue CSV-Datei\n",
    "df.to_csv('sensor_data_with_position2.csv', index=False, decimal=',')\n",
    "\n"
   ]
  },
  {
   "cell_type": "code",
   "execution_count": null,
   "metadata": {},
   "outputs": [],
   "source": []
  },
  {
   "cell_type": "markdown",
   "metadata": {},
   "source": [
    "## Neuer Ansatz mit offset"
   ]
  },
  {
   "cell_type": "code",
   "execution_count": 90,
   "metadata": {},
   "outputs": [],
   "source": [
    "import numpy as np\n",
    "import pandas as pd\n",
    "\n",
    "def calculate_offsets(df, num_initial_readings=40):\n",
    "    # Berechne die Mittelwerte der ersten num_initial_readings Messungen\n",
    "    initial_readings = df.head(num_initial_readings)\n",
    "    \n",
    "    offset_x = initial_readings['Acceleration X(g)'].mean()\n",
    "    offset_y = initial_readings['Acceleration Y(g)'].mean()\n",
    "    offset_z = 0   # initial_readings['Acceleration Z(g)'].mean() - 1  # Offset für Z-Achse, da 1 g (9,81 m/s²) erwartet wird\n",
    "    \n",
    "    offset_roll = initial_readings['Angle X(°)'].mean()\n",
    "    offset_pitch = initial_readings['Angle Y(°)'].mean()\n",
    "    offset_yaw = initial_readings['Angle Z(°)'].mean()\n",
    "    \n",
    "    return offset_x, offset_y, offset_z, offset_roll, offset_pitch, offset_yaw\n",
    "\n",
    "def rotation_matrix(roll, pitch, yaw):\n",
    "    roll = np.deg2rad(roll)\n",
    "    pitch = np.deg2rad(pitch)\n",
    "    yaw = np.deg2rad(yaw)\n",
    "\n",
    "    R_x = np.array([[1, 0, 0],\n",
    "                    [0, np.cos(roll), -np.sin(roll)],\n",
    "                    [0, np.sin(roll), np.cos(roll)]])\n",
    "\n",
    "    R_y = np.array([[np.cos(pitch), 0, np.sin(pitch)],\n",
    "                    [0, 1, 0],\n",
    "                    [-np.sin(pitch), 0, np.cos(pitch)]])\n",
    "\n",
    "    R_z = np.array([[np.cos(yaw), -np.sin(yaw), 0],\n",
    "                    [np.sin(yaw), np.cos(yaw), 0],\n",
    "                    [0, 0, 1]])\n",
    "\n",
    "    R = R_z @ R_y @ R_x\n",
    "    return R\n",
    "\n",
    "def transform_acceleration(acc_local, roll, pitch, yaw):\n",
    "    R = rotation_matrix(roll, pitch, yaw)\n",
    "    acc_global = R @ acc_local\n",
    "    return acc_global\n",
    "\n",
    "def adjust_for_gravity(acc_global, gravity=9.81):\n",
    "    acc_global[2] -= gravity  # Annahme: Z-Achse ist vertikal\n",
    "    return acc_global\n",
    "\n",
    "def integrate(accelerations, delta_t):\n",
    "    velocity = np.zeros_like(accelerations)\n",
    "    position = np.zeros_like(accelerations)\n",
    "    for i in range(1, len(accelerations)):\n",
    "        velocity[i] = velocity[i-1] + accelerations[i] * delta_t[i]\n",
    "        position[i] = position[i-1] + velocity[i] * delta_t[i]\n",
    "    return velocity, position\n",
    "\n",
    "# Beispiel DataFrame laden\n",
    "# df = pd.read_csv('sensor_data.csv', decimal=',')\n",
    "\n",
    "# Offset berechnen\n",
    "offset_x, offset_y, offset_z, offset_roll, offset_pitch, offset_yaw = calculate_offsets(df)\n",
    "\n",
    "# Initialisiere Arrays für Geschwindigkeit und Position\n",
    "num_rows = len(df)\n",
    "velocity_x = np.zeros(num_rows)\n",
    "velocity_y = np.zeros(num_rows)\n",
    "velocity_z = np.zeros(num_rows)\n",
    "position_x = np.zeros(num_rows)\n",
    "position_y = np.zeros(num_rows)\n",
    "position_z = np.zeros(num_rows)\n",
    "\n",
    "# Listen für Beschleunigung und Delta_t\n",
    "accel_x = np.zeros(num_rows)\n",
    "accel_y = np.zeros(num_rows)\n",
    "accel_z = np.zeros(num_rows)\n",
    "delta_t = np.zeros(num_rows)\n",
    "\n",
    "# Iteriere über die Zeilen des DataFrames\n",
    "for index, row in df.iterrows():\n",
    "    delta_t[index] = row['Delta_t']\n",
    "    \n",
    "    # Berechne die Beschleunigung und Winkelwerte nur ab dem 11. Datensatz\n",
    "    if index >= 10:\n",
    "        accel_x[index] = row['Acceleration X(g)'] - offset_x\n",
    "        accel_y[index] = row['Acceleration Y(g)'] - offset_y\n",
    "        accel_z[index] = row['Acceleration Z(g)'] - offset_z\n",
    "        angle_x = row['Angle X(°)'] - offset_roll\n",
    "        angle_y = row['Angle Y(°)'] - offset_pitch\n",
    "        angle_z = row['Angle Z(°)'] - offset_yaw\n",
    "\n",
    "        # Lokale Beschleunigung in ein numpy Array\n",
    "        acc_local = np.array([accel_x[index], accel_y[index], accel_z[index]])\n",
    "\n",
    "        # Transformiere die lokale Beschleunigung in die globale Koordinate\n",
    "        acc_global = transform_acceleration(acc_local, angle_x, angle_y, angle_z)\n",
    "        \n",
    "        # Berücksichtige die Erdbeschleunigung\n",
    "        acc_global = adjust_for_gravity(acc_global)\n",
    "\n",
    "        # Speichere die berechneten Werte in den Arrays\n",
    "        accel_x[index], accel_y[index], accel_z[index] = acc_global\n",
    "\n",
    "# Berechne Geschwindigkeit und Position\n",
    "velocity, position = integrate(np.column_stack([accel_x[10:], accel_y[10:], accel_z[10:]]), delta_t[10:])\n",
    "\n",
    "# Füge die berechneten Werte dem DataFrame hinzu\n",
    "df['Velocity X(m/s)'] = np.concatenate([np.zeros(10), velocity[:, 0]])\n",
    "df['Velocity Y(m/s)'] = np.concatenate([np.zeros(10), velocity[:, 1]])\n",
    "df['Velocity Z(m/s)'] = np.concatenate([np.zeros(10), velocity[:, 2]])\n",
    "df['Position X(m)'] = np.concatenate([np.zeros(10), position[:, 0]])\n",
    "df['Position Y(m)'] = np.concatenate([np.zeros(10), position[:, 1]])\n",
    "df['Position Z(m)'] = np.concatenate([np.zeros(10), position[:, 2]])\n",
    "\n",
    "# Speichere die Ergebnisse in eine neue CSV-Datei\n",
    "df.to_csv('sensor_data_with_position2.csv', index=False, decimal=',')\n"
   ]
  },
  {
   "cell_type": "markdown",
   "metadata": {},
   "source": [
    "#### Anpassung an die Erdbeschleunigung bei Neigung des Sensors berücksichtigt"
   ]
  },
  {
   "cell_type": "code",
   "execution_count": 109,
   "metadata": {},
   "outputs": [
    {
     "name": "stdout",
     "output_type": "stream",
     "text": [
      "Offset X: -0.021125, Offset Y: 0.017075, Offset Z: 0.008099999999999996\n",
      "Index: 10, Gravitationsvektor global: [8.29419002e-22 1.07010500e-04 9.81000000e+00]\n",
      "Index: 10, Beschleunigung global (nach Gravitationskorrektur): [ 1.25000000e-04 -1.71103283e-04 -8.81010000e+00]\n",
      "Index: 10, Geschwindigkeit: [-1.74125000e-04 -7.09310887e-05 -8.80118990e+00], Position: [-1.00388375e-04 -1.40182176e-05 -4.83582270e+00]\n",
      "Index: 11, Gravitationsvektor global: [8.29419002e-22 1.07010500e-04 9.81000000e+00]\n",
      "Index: 11, Beschleunigung global (nach Gravitationskorrektur): [ 1.25000000e-04  8.28896717e-04 -8.81010001e+00]\n",
      "Index: 12, Gravitationsvektor global: [8.29419002e-22 1.07010500e-04 9.81000000e+00]\n",
      "Index: 12, Beschleunigung global (nach Gravitationskorrektur): [-8.75000000e-04 -1.71103283e-04 -8.81010000e+00]\n",
      "Index: 13, Gravitationsvektor global: [8.29419002e-22 1.07010500e-04 9.81000000e+00]\n",
      "Index: 13, Beschleunigung global (nach Gravitationskorrektur): [ 1.25000000e-04 -1.71103283e-04 -8.81010000e+00]\n",
      "Index: 14, Gravitationsvektor global: [8.29419002e-22 1.07010500e-04 9.81000000e+00]\n",
      "Index: 14, Beschleunigung global (nach Gravitationskorrektur): [-8.75000000e-04 -1.71103283e-04 -8.81010000e+00]\n",
      "Index: 15, Gravitationsvektor global: [8.29419002e-22 1.07010500e-04 9.81000000e+00]\n",
      "Index: 15, Beschleunigung global (nach Gravitationskorrektur): [ 1.25000000e-04 -1.71103283e-04 -8.81010000e+00]\n",
      "Index: 16, Gravitationsvektor global: [8.29419002e-22 1.07010500e-04 9.81000000e+00]\n",
      "Index: 16, Beschleunigung global (nach Gravitationskorrektur): [ 1.25000000e-04 -1.71092374e-04 -8.80910000e+00]\n",
      "Index: 17, Gravitationsvektor global: [8.29419002e-22 1.07010500e-04 9.81000000e+00]\n",
      "Index: 17, Beschleunigung global (nach Gravitationskorrektur): [ 1.25000000e-04 -1.17110328e-03 -8.81009999e+00]\n",
      "Index: 18, Gravitationsvektor global: [8.29419002e-22 1.07010500e-04 9.81000000e+00]\n",
      "Index: 18, Beschleunigung global (nach Gravitationskorrektur): [ 1.25000000e-04 -1.71103283e-04 -8.81010000e+00]\n",
      "Index: 19, Gravitationsvektor global: [8.29419002e-22 1.07010500e-04 9.81000000e+00]\n",
      "Index: 19, Beschleunigung global (nach Gravitationskorrektur): [ 1.25000000e-04  8.28896717e-04 -8.81010001e+00]\n",
      "Index: 20, Gravitationsvektor global: [8.29419002e-22 1.07010500e-04 9.81000000e+00]\n",
      "Index: 20, Beschleunigung global (nach Gravitationskorrektur): [-8.75000000e-04 -1.71103283e-04 -8.81010000e+00]\n",
      "Index: 20, Geschwindigkeit: [-1.49000000e-04 -2.42204384e-04 -1.76200000e+01], Position: [-2.45899875e-04 -1.79314554e-04 -1.85009886e+01]\n",
      "Index: 21, Gravitationsvektor global: [8.29419002e-22 1.07010500e-04 9.81000000e+00]\n",
      "Index: 21, Beschleunigung global (nach Gravitationskorrektur): [ 1.25000000e-04 -1.71103283e-04 -8.81010000e+00]\n",
      "Index: 22, Gravitationsvektor global: [8.29419002e-22 1.07010500e-04 9.81000000e+00]\n",
      "Index: 22, Beschleunigung global (nach Gravitationskorrektur): [ 1.25000000e-04 -1.71103283e-04 -8.81010000e+00]\n",
      "Index: 23, Gravitationsvektor global: [8.29419002e-22 1.07010500e-04 9.81000000e+00]\n",
      "Index: 23, Beschleunigung global (nach Gravitationskorrektur): [ 1.25000000e-04 -1.71092374e-04 -8.80910000e+00]\n",
      "Index: 24, Gravitationsvektor global: [8.29419002e-22 1.07010500e-04 9.81000000e+00]\n",
      "Index: 24, Beschleunigung global (nach Gravitationskorrektur): [ 1.25000000e-04 -1.71103283e-04 -8.81010000e+00]\n",
      "Index: 25, Gravitationsvektor global: [8.29419002e-22 1.07010500e-04 9.81000000e+00]\n",
      "Index: 25, Beschleunigung global (nach Gravitationskorrektur): [ 1.25000000e-04 -1.71103283e-04 -8.81010000e+00]\n",
      "Index: 26, Gravitationsvektor global: [8.29419002e-22 1.07010500e-04 9.81000000e+00]\n",
      "Index: 26, Beschleunigung global (nach Gravitationskorrektur): [ 1.25000000e-04 -1.71103283e-04 -8.81010000e+00]\n",
      "Index: 27, Gravitationsvektor global: [8.29419002e-22 1.07010500e-04 9.81000000e+00]\n",
      "Index: 27, Beschleunigung global (nach Gravitationskorrektur): [-8.75000000e-04 -1.71103283e-04 -8.81010000e+00]\n",
      "Index: 28, Gravitationsvektor global: [8.29419002e-22 1.07010500e-04 9.81000000e+00]\n",
      "Index: 28, Beschleunigung global (nach Gravitationskorrektur): [ 1.25000000e-04 -1.71103283e-04 -8.81010000e+00]\n",
      "Index: 29, Gravitationsvektor global: [8.29419002e-22 1.07010500e-04 9.81000000e+00]\n",
      "Index: 29, Beschleunigung global (nach Gravitationskorrektur): [ 1.25000000e-04 -1.71103283e-04 -8.81010000e+00]\n",
      "Index: 30, Gravitationsvektor global: [8.29419002e-22 1.07010500e-04 9.81000000e+00]\n",
      "Index: 30, Beschleunigung global (nach Gravitationskorrektur): [ 1.25000000e-04 -1.71103283e-04 -8.81010000e+00]\n",
      "Index: 30, Geschwindigkeit: [-2.41250000e-05 -3.15134382e-04 -2.64210899e+01], Position: [-3.26138000e-04 -4.36991075e-04 -4.09391889e+01]\n",
      "Index: 31, Gravitationsvektor global: [8.29419002e-22 1.07010500e-04 9.81000000e+00]\n",
      "Index: 31, Beschleunigung global (nach Gravitationskorrektur): [ 1.25000000e-04 -1.71103283e-04 -8.81010000e+00]\n",
      "Index: 32, Gravitationsvektor global: [8.29419002e-22 1.07010500e-04 9.81000000e+00]\n",
      "Index: 32, Beschleunigung global (nach Gravitationskorrektur): [ 1.25000000e-04 -1.71103283e-04 -8.81010000e+00]\n",
      "Index: 33, Gravitationsvektor global: [8.29419002e-22 1.07010500e-04 9.81000000e+00]\n",
      "Index: 33, Beschleunigung global (nach Gravitationskorrektur): [ 1.25000000e-04  8.28896717e-04 -8.81010001e+00]\n",
      "Index: 34, Gravitationsvektor global: [8.29419002e-22 1.07010500e-04 9.81000000e+00]\n",
      "Index: 34, Beschleunigung global (nach Gravitationskorrektur): [ 1.25000000e-04 -1.71103283e-04 -8.81010000e+00]\n",
      "Index: 35, Gravitationsvektor global: [8.29419002e-22 1.07010500e-04 9.81000000e+00]\n",
      "Index: 35, Beschleunigung global (nach Gravitationskorrektur): [ 1.25000000e-04 -1.71092374e-04 -8.80910000e+00]\n",
      "Index: 36, Gravitationsvektor global: [8.29419002e-22 1.07010500e-04 9.81000000e+00]\n",
      "Index: 36, Beschleunigung global (nach Gravitationskorrektur): [ 1.25000000e-04 -1.71103283e-04 -8.81010000e+00]\n",
      "Index: 37, Gravitationsvektor global: [8.29419002e-22 1.07010500e-04 9.81000000e+00]\n",
      "Index: 37, Beschleunigung global (nach Gravitationskorrektur): [ 1.25000000e-04 -1.71103283e-04 -8.81010000e+00]\n",
      "Index: 38, Gravitationsvektor global: [8.29419002e-22 1.07010500e-04 9.81000000e+00]\n",
      "Index: 38, Beschleunigung global (nach Gravitationskorrektur): [ 1.25000000e-04 -1.71103283e-04 -8.81010000e+00]\n",
      "Index: 39, Gravitationsvektor global: [8.29419002e-22 1.07010500e-04 9.81000000e+00]\n",
      "Index: 39, Beschleunigung global (nach Gravitationskorrektur): [ 1.25000000e-04 -1.71103283e-04 -8.81010000e+00]\n",
      "Index: 40, Gravitationsvektor global: [8.29419002e-22 1.07010500e-04 9.81000000e+00]\n",
      "Index: 40, Beschleunigung global (nach Gravitationskorrektur): [ 1.25000000e-04 -1.71092374e-04 -8.80910000e+00]\n",
      "Index: 40, Geschwindigkeit: [ 1.00875000e-04 -4.86236574e-04 -3.52310899e+01], Position: [-2.81513000e-04 -8.46232153e-04 -7.22058238e+01]\n",
      "Index: 41, Gravitationsvektor global: [8.29419002e-22 1.07010500e-04 9.81000000e+00]\n",
      "Index: 41, Beschleunigung global (nach Gravitationskorrektur): [ 1.25000000e-04 -1.71114191e-04 -8.81110000e+00]\n",
      "Index: 42, Gravitationsvektor global: [8.29419002e-22 1.07010500e-04 9.81000000e+00]\n",
      "Index: 42, Beschleunigung global (nach Gravitationskorrektur): [ 1.25000000e-04 -1.71092374e-04 -8.80910000e+00]\n",
      "Index: 43, Gravitationsvektor global: [8.29419002e-22 1.07010500e-04 9.81000000e+00]\n",
      "Index: 43, Beschleunigung global (nach Gravitationskorrektur): [ 1.25000000e-04 -1.71103283e-04 -8.81010000e+00]\n",
      "Index: 44, Gravitationsvektor global: [8.29419002e-22 1.07010500e-04 9.81000000e+00]\n",
      "Index: 44, Beschleunigung global (nach Gravitationskorrektur): [ 1.25000000e-04 -1.71103283e-04 -8.81010000e+00]\n",
      "Index: 45, Gravitationsvektor global: [8.29419002e-22 1.07010500e-04 9.81000000e+00]\n",
      "Index: 45, Beschleunigung global (nach Gravitationskorrektur): [ 1.25000000e-04 -1.71103283e-04 -8.81010000e+00]\n",
      "Index: 46, Gravitationsvektor global: [8.29419002e-22 1.07010500e-04 9.81000000e+00]\n",
      "Index: 46, Beschleunigung global (nach Gravitationskorrektur): [ 1.25000000e-04 -1.71103283e-04 -8.81010000e+00]\n",
      "Index: 47, Gravitationsvektor global: [8.29419002e-22 1.07010500e-04 9.81000000e+00]\n",
      "Index: 47, Beschleunigung global (nach Gravitationskorrektur): [ 1.25000000e-04 -1.71103283e-04 -8.81010000e+00]\n",
      "Index: 48, Gravitationsvektor global: [8.29419002e-22 1.07010500e-04 9.81000000e+00]\n",
      "Index: 48, Beschleunigung global (nach Gravitationskorrektur): [ 1.25000000e-04 -1.71103283e-04 -8.81010000e+00]\n",
      "Index: 49, Gravitationsvektor global: [8.29419002e-22 1.07010500e-04 9.81000000e+00]\n",
      "Index: 49, Beschleunigung global (nach Gravitationskorrektur): [ 1.25000000e-04 -1.71092374e-04 -8.80910000e+00]\n",
      "Index: 50, Gravitationsvektor global: [8.29419002e-22 1.07010500e-04 9.81000000e+00]\n",
      "Index: 50, Beschleunigung global (nach Gravitationskorrektur): [ 1.25000000e-04 -1.71103283e-04 -8.81010000e+00]\n",
      "Index: 50, Geschwindigkeit: [-7.51250000e-05 -5.57338766e-04 -4.40410899e+01], Position: [-3.52787875e-04 -1.37657494e-03 -1.12282408e+02]\n",
      "Index: 51, Gravitationsvektor global: [8.29419002e-22 1.07010500e-04 9.81000000e+00]\n",
      "Index: 51, Beschleunigung global (nach Gravitationskorrektur): [-8.75000000e-04 -1.71103283e-04 -8.81010000e+00]\n",
      "Index: 52, Gravitationsvektor global: [8.29419002e-22 1.07010500e-04 9.81000000e+00]\n",
      "Index: 52, Beschleunigung global (nach Gravitationskorrektur): [-8.75000000e-04 -1.71103283e-04 -8.81010000e+00]\n",
      "Index: 53, Gravitationsvektor global: [8.29419002e-22 1.07010500e-04 9.81000000e+00]\n",
      "Index: 53, Beschleunigung global (nach Gravitationskorrektur): [ 1.25000000e-04 -1.71103283e-04 -8.81010000e+00]\n",
      "Index: 54, Gravitationsvektor global: [8.29419002e-22 1.07010500e-04 9.81000000e+00]\n",
      "Index: 54, Beschleunigung global (nach Gravitationskorrektur): [ 1.25000000e-04 -1.71092374e-04 -8.80910000e+00]\n",
      "Index: 55, Gravitationsvektor global: [8.29419002e-22 1.07010500e-04 9.81000000e+00]\n",
      "Index: 55, Beschleunigung global (nach Gravitationskorrektur): [ 1.25000000e-04 -1.71103283e-04 -8.81010000e+00]\n",
      "Index: 56, Gravitationsvektor global: [8.29419002e-22 1.07010500e-04 9.81000000e+00]\n",
      "Index: 56, Beschleunigung global (nach Gravitationskorrektur): [-8.75000000e-04  8.28896717e-04 -8.81010001e+00]\n",
      "Index: 57, Gravitationsvektor global: [8.29419002e-22 1.07010500e-04 9.81000000e+00]\n",
      "Index: 57, Beschleunigung global (nach Gravitationskorrektur): [ 1.25000000e-04 -1.71103283e-04 -8.81010000e+00]\n",
      "Index: 58, Gravitationsvektor global: [8.29419002e-22 1.07010500e-04 9.81000000e+00]\n",
      "Index: 58, Beschleunigung global (nach Gravitationskorrektur): [ 1.25000000e-04 -1.71103283e-04 -8.81010000e+00]\n",
      "Index: 59, Gravitationsvektor global: [8.29419002e-22 1.07010500e-04 9.81000000e+00]\n",
      "Index: 59, Beschleunigung global (nach Gravitationskorrektur): [ 1.25000000e-04 -1.71103283e-04 -8.81010000e+00]\n",
      "Index: 60, Gravitationsvektor global: [8.29419002e-22 1.07010500e-04 9.81000000e+00]\n",
      "Index: 60, Beschleunigung global (nach Gravitationskorrektur): [ 1.25000000e-04 -1.71103283e-04 -8.81010000e+00]\n",
      "Index: 60, Geschwindigkeit: [-5.02500000e-05 -8.28268763e-04 -5.28421798e+01], Position: [-3.89225125e-04 -2.12717382e-03 -1.61115209e+02]\n",
      "Index: 61, Gravitationsvektor global: [8.29419002e-22 1.07010500e-04 9.81000000e+00]\n",
      "Index: 61, Beschleunigung global (nach Gravitationskorrektur): [ 1.25000000e-04 -1.17109237e-03 -8.80909999e+00]\n",
      "Index: 62, Gravitationsvektor global: [8.29419002e-22 1.07010500e-04 9.81000000e+00]\n",
      "Index: 62, Beschleunigung global (nach Gravitationskorrektur): [ 1.25000000e-04 -1.71103283e-04 -8.81010000e+00]\n",
      "Index: 63, Gravitationsvektor global: [8.29419002e-22 1.07010500e-04 9.81000000e+00]\n",
      "Index: 63, Beschleunigung global (nach Gravitationskorrektur): [ 1.25000000e-04 -1.71103283e-04 -8.81010000e+00]\n",
      "Index: 64, Gravitationsvektor global: [8.29419002e-22 1.07010500e-04 9.81000000e+00]\n",
      "Index: 64, Beschleunigung global (nach Gravitationskorrektur): [ 1.25000000e-04 -1.71103283e-04 -8.81010000e+00]\n",
      "Index: 65, Gravitationsvektor global: [8.29419002e-22 1.07010500e-04 9.81000000e+00]\n",
      "Index: 65, Beschleunigung global (nach Gravitationskorrektur): [ 1.25000000e-04 -1.71103283e-04 -8.81010000e+00]\n",
      "Index: 66, Gravitationsvektor global: [8.29419002e-22 1.07010500e-04 9.81000000e+00]\n",
      "Index: 66, Beschleunigung global (nach Gravitationskorrektur): [ 1.25000000e-04 -1.71103283e-04 -8.81010000e+00]\n",
      "Index: 67, Gravitationsvektor global: [8.29419002e-22 1.07010500e-04 9.81000000e+00]\n",
      "Index: 67, Beschleunigung global (nach Gravitationskorrektur): [ 1.25000000e-04 -1.71103283e-04 -8.81010000e+00]\n",
      "Index: 68, Gravitationsvektor global: [8.29419002e-22 1.07010500e-04 9.81000000e+00]\n",
      "Index: 68, Beschleunigung global (nach Gravitationskorrektur): [-8.75000000e-04 -1.71103283e-04 -8.81010000e+00]\n",
      "Index: 69, Gravitationsvektor global: [8.29419002e-22 1.07010500e-04 9.81000000e+00]\n",
      "Index: 69, Beschleunigung global (nach Gravitationskorrektur): [ 1.25000000e-04 -1.71092374e-04 -8.80910000e+00]\n",
      "Index: 70, Gravitationsvektor global: [8.29419002e-22 1.07010500e-04 9.81000000e+00]\n",
      "Index: 70, Beschleunigung global (nach Gravitationskorrektur): [ 1.25000000e-04 -1.71103283e-04 -8.81010000e+00]\n",
      "Index: 70, Geschwindigkeit: [-2.61250000e-05 -7.99545331e-04 -6.16612899e+01], Position: [-4.31338750e-04 -2.88036659e-03 -2.18865536e+02]\n",
      "Index: 71, Gravitationsvektor global: [8.29419002e-22 1.07010500e-04 9.81000000e+00]\n",
      "Index: 71, Beschleunigung global (nach Gravitationskorrektur): [ 1.25000000e-04  8.28896717e-04 -8.81010001e+00]\n",
      "Index: 72, Gravitationsvektor global: [8.29419002e-22 1.07010500e-04 9.81000000e+00]\n",
      "Index: 72, Beschleunigung global (nach Gravitationskorrektur): [ 1.25000000e-04 -1.71103283e-04 -8.81010000e+00]\n",
      "Index: 73, Gravitationsvektor global: [8.29419002e-22 1.07010500e-04 9.81000000e+00]\n",
      "Index: 73, Beschleunigung global (nach Gravitationskorrektur): [ 1.25000000e-04 -1.71103283e-04 -8.81010000e+00]\n",
      "Index: 74, Gravitationsvektor global: [8.29419002e-22 1.07010500e-04 9.81000000e+00]\n",
      "Index: 74, Beschleunigung global (nach Gravitationskorrektur): [ 1.25000000e-04  8.28896717e-04 -8.81010001e+00]\n",
      "Index: 75, Gravitationsvektor global: [8.29419002e-22 1.07010500e-04 9.81000000e+00]\n",
      "Index: 75, Beschleunigung global (nach Gravitationskorrektur): [-8.75000000e-04 -1.71103283e-04 -8.81010000e+00]\n",
      "Index: 76, Gravitationsvektor global: [8.29419002e-22 1.07010500e-04 9.81000000e+00]\n",
      "Index: 76, Beschleunigung global (nach Gravitationskorrektur): [ 1.25000000e-04 -1.71103283e-04 -8.81010000e+00]\n",
      "Index: 77, Gravitationsvektor global: [8.29419002e-22 1.07010500e-04 9.81000000e+00]\n",
      "Index: 77, Beschleunigung global (nach Gravitationskorrektur): [ 1.25000000e-04 -1.71114191e-04 -8.81110000e+00]\n",
      "Index: 78, Gravitationsvektor global: [8.29419002e-22 1.07010500e-04 9.81000000e+00]\n",
      "Index: 78, Beschleunigung global (nach Gravitationskorrektur): [ 1.25000000e-04 -1.71103283e-04 -8.81010000e+00]\n",
      "Index: 79, Gravitationsvektor global: [8.29419002e-22 1.07010500e-04 9.81000000e+00]\n",
      "Index: 79, Beschleunigung global (nach Gravitationskorrektur): [ 1.25000000e-04 -1.71103283e-04 -8.81010000e+00]\n",
      "Index: 80, Gravitationsvektor global: [8.29419002e-22 1.07010500e-04 9.81000000e+00]\n",
      "Index: 80, Beschleunigung global (nach Gravitationskorrektur): [ 1.25000000e-04 -1.71114191e-04 -8.81110000e+00]\n",
      "Index: 80, Geschwindigkeit: [-1.37500000e-06 -8.72305316e-04 -7.04536697e+01], Position: [-4.88736000e-04 -3.69403902e-03 -2.85229631e+02]\n",
      "Index: 81, Gravitationsvektor global: [8.29419002e-22 1.07010500e-04 9.81000000e+00]\n",
      "Index: 81, Beschleunigung global (nach Gravitationskorrektur): [-8.75000000e-04 -1.71103283e-04 -8.81010000e+00]\n",
      "Index: 82, Gravitationsvektor global: [8.29419002e-22 1.07010500e-04 9.81000000e+00]\n",
      "Index: 82, Beschleunigung global (nach Gravitationskorrektur): [ 1.25000000e-04  8.28896717e-04 -8.81010001e+00]\n",
      "Index: 83, Gravitationsvektor global: [8.29419002e-22 1.07010500e-04 9.81000000e+00]\n",
      "Index: 83, Beschleunigung global (nach Gravitationskorrektur): [ 1.25000000e-04 -1.71092374e-04 -8.80910000e+00]\n",
      "Index: 84, Gravitationsvektor global: [8.29419002e-22 1.07010500e-04 9.81000000e+00]\n",
      "Index: 84, Beschleunigung global (nach Gravitationskorrektur): [ 1.25000000e-04 -1.71103283e-04 -8.81010000e+00]\n",
      "Index: 85, Gravitationsvektor global: [8.29419002e-22 1.07010500e-04 9.81000000e+00]\n",
      "Index: 85, Beschleunigung global (nach Gravitationskorrektur): [ 1.25000000e-04 -1.71103283e-04 -8.81010000e+00]\n",
      "Index: 86, Gravitationsvektor global: [8.29419002e-22 1.07010500e-04 9.81000000e+00]\n",
      "Index: 86, Beschleunigung global (nach Gravitationskorrektur): [ 1.25000000e-04 -1.71103283e-04 -8.81010000e+00]\n",
      "Index: 87, Gravitationsvektor global: [8.29419002e-22 1.07010500e-04 9.81000000e+00]\n",
      "Index: 87, Beschleunigung global (nach Gravitationskorrektur): [ 1.25000000e-04 -1.17110328e-03 -8.81009999e+00]\n",
      "Index: 88, Gravitationsvektor global: [8.29419002e-22 1.07010500e-04 9.81000000e+00]\n",
      "Index: 88, Beschleunigung global (nach Gravitationskorrektur): [ 1.25000000e-04  8.28896717e-04 -8.81010001e+00]\n",
      "Index: 89, Gravitationsvektor global: [8.29419002e-22 1.07010500e-04 9.81000000e+00]\n",
      "Index: 89, Beschleunigung global (nach Gravitationskorrektur): [ 1.25000000e-04 -1.71103283e-04 -8.81010000e+00]\n",
      "Index: 90, Gravitationsvektor global: [8.29419002e-22 1.07010500e-04 9.81000000e+00]\n",
      "Index: 90, Beschleunigung global (nach Gravitationskorrektur): [ 1.25000000e-04 -1.71103283e-04 -8.81010000e+00]\n",
      "Index: 90, Geschwindigkeit: [ 2.36250000e-05 -7.43409690e-04 -7.92638697e+01], Position: [-4.91361000e-04 -4.51045136e-03 -3.60528876e+02]\n",
      "Index: 91, Gravitationsvektor global: [8.29419002e-22 1.07010500e-04 9.81000000e+00]\n",
      "Index: 91, Beschleunigung global (nach Gravitationskorrektur): [ 1.25000000e-04 -1.71103283e-04 -8.81010000e+00]\n",
      "Index: 92, Gravitationsvektor global: [8.29419002e-22 1.07010500e-04 9.81000000e+00]\n",
      "Index: 92, Beschleunigung global (nach Gravitationskorrektur): [ 1.25000000e-04 -1.71103283e-04 -8.81010000e+00]\n",
      "Index: 93, Gravitationsvektor global: [8.29419002e-22 1.07010500e-04 9.81000000e+00]\n",
      "Index: 93, Beschleunigung global (nach Gravitationskorrektur): [ 1.25000000e-04  8.28896717e-04 -8.81010001e+00]\n",
      "Index: 94, Gravitationsvektor global: [8.29419002e-22 1.07010500e-04 9.81000000e+00]\n",
      "Index: 94, Beschleunigung global (nach Gravitationskorrektur): [-8.75000000e-04 -1.71103283e-04 -8.81010000e+00]\n",
      "Index: 95, Gravitationsvektor global: [8.29419002e-22 1.07010500e-04 9.81000000e+00]\n",
      "Index: 95, Beschleunigung global (nach Gravitationskorrektur): [ 1.25000000e-04  8.28896717e-04 -8.81010001e+00]\n",
      "Index: 96, Gravitationsvektor global: [8.29419002e-22 1.07010500e-04 9.81000000e+00]\n",
      "Index: 96, Beschleunigung global (nach Gravitationskorrektur): [ 1.25000000e-04 -1.71103283e-04 -8.81010000e+00]\n",
      "Index: 97, Gravitationsvektor global: [8.29419002e-22 1.07010500e-04 9.81000000e+00]\n",
      "Index: 97, Beschleunigung global (nach Gravitationskorrektur): [ 1.25000000e-04 -1.71103283e-04 -8.81010000e+00]\n",
      "Index: 98, Gravitationsvektor global: [8.29419002e-22 1.07010500e-04 9.81000000e+00]\n",
      "Index: 98, Beschleunigung global (nach Gravitationskorrektur): [ 1.25000000e-04 -1.71103283e-04 -8.81010000e+00]\n",
      "Index: 99, Gravitationsvektor global: [8.29419002e-22 1.07010500e-04 9.81000000e+00]\n",
      "Index: 99, Beschleunigung global (nach Gravitationskorrektur): [ 1.25000000e-04 -1.71114191e-04 -8.81110000e+00]\n",
      "Index: 100, Gravitationsvektor global: [8.29419002e-22 1.07010500e-04 9.81000000e+00]\n",
      "Index: 100, Beschleunigung global (nach Gravitationskorrektur): [ 1.25000000e-04  8.28896717e-04 -8.81010001e+00]\n",
      "Index: 100, Geschwindigkeit: [ 2.34007830e-04 -1.10458616e-03 -8.80647576e+01], Position: [-4.70370927e-04 -5.38546304e-03 -4.44549130e+02]\n",
      "Index: 101, Gravitationsvektor global: [8.29419002e-22 1.07010500e-04 9.81000000e+00]\n",
      "Index: 101, Beschleunigung global (nach Gravitationskorrektur): [-8.75000000e-04 -1.71103283e-04 -8.81010000e+00]\n",
      "Index: 102, Gravitationsvektor global: [8.29419002e-22 1.07010500e-04 9.81000000e+00]\n",
      "Index: 102, Beschleunigung global (nach Gravitationskorrektur): [ 1.25000000e-04 -1.71092374e-04 -8.80910000e+00]\n",
      "Index: 103, Gravitationsvektor global: [8.29419002e-22 1.07010500e-04 9.81000000e+00]\n",
      "Index: 103, Beschleunigung global (nach Gravitationskorrektur): [ 1.25000000e-04 -1.71092374e-04 -8.80910000e+00]\n",
      "Index: 104, Gravitationsvektor global: [8.29419002e-22 1.07010500e-04 9.81000000e+00]\n",
      "Index: 104, Beschleunigung global (nach Gravitationskorrektur): [ 1.25000000e-04 -1.71103283e-04 -8.81010000e+00]\n",
      "Index: 105, Gravitationsvektor global: [8.29419002e-22 1.07010500e-04 9.81000000e+00]\n",
      "Index: 105, Beschleunigung global (nach Gravitationskorrektur): [ 1.25000000e-04 -1.71092374e-04 -8.80910000e+00]\n",
      "Index: 106, Gravitationsvektor global: [8.29419002e-22 1.07010500e-04 9.81000000e+00]\n",
      "Index: 106, Beschleunigung global (nach Gravitationskorrektur): [ 1.25000000e-04 -1.71092374e-04 -8.80910000e+00]\n",
      "Index: 107, Gravitationsvektor global: [8.29419002e-22 1.07010500e-04 9.81000000e+00]\n",
      "Index: 107, Beschleunigung global (nach Gravitationskorrektur): [ 1.25000000e-04 -1.71114191e-04 -8.81110000e+00]\n",
      "Index: 108, Gravitationsvektor global: [8.29419002e-22 1.07010500e-04 9.81000000e+00]\n",
      "Index: 108, Beschleunigung global (nach Gravitationskorrektur): [ 1.25000000e-04 -1.17110328e-03 -8.81009999e+00]\n",
      "Index: 109, Gravitationsvektor global: [-1.02730080e-03  1.07010500e-04  9.80999995e+00]\n",
      "Index: 109, Beschleunigung global (nach Gravitationskorrektur): [ 1.04759151e-03 -1.71103283e-04 -8.81009994e+00]\n",
      "Index: 110, Gravitationsvektor global: [-1.02730079e-03  1.13431129e-03  9.80999988e+00]\n",
      "Index: 110, Beschleunigung global (nach Gravitationskorrektur): [ 1.04748679e-03 -1.09357917e-03 -8.80909987e+00]\n",
      "Index: 110, Geschwindigkeit: [ 1.98804738e-03 -2.86694563e-03 -9.69096976e+01], Position: [ 6.42884315e-04 -7.39521721e-03 -5.37850455e+02]\n",
      "Index: 111, Gravitationsvektor global: [-1.02730079e-03  1.13431129e-03  9.80999988e+00]\n",
      "Index: 111, Beschleunigung global (nach Gravitationskorrektur): [ 1.04759151e-03 -1.09369479e-03 -8.81009987e+00]\n",
      "Index: 112, Gravitationsvektor global: [-1.02730079e-03  1.13431129e-03  9.80999988e+00]\n",
      "Index: 112, Beschleunigung global (nach Gravitationskorrektur): [ 1.04759151e-03 -1.09369479e-03 -8.81009987e+00]\n",
      "Index: 113, Gravitationsvektor global: [-1.88338477e-03  1.13431129e-03  9.80999975e+00]\n",
      "Index: 113, Beschleunigung global (nach Gravitationskorrektur): [ 1.81641773e-03 -2.09369479e-03 -8.81009963e+00]\n",
      "Index: 114, Gravitationsvektor global: [-1.88338477e-03  1.13431129e-03  9.80999975e+00]\n",
      "Index: 114, Beschleunigung global (nach Gravitationskorrektur): [ 1.81641775e-03 -1.09369479e-03 -8.81009975e+00]\n",
      "Index: 115, Gravitationsvektor global: [-1.88338475e-03  1.99039528e-03  9.80999962e+00]\n",
      "Index: 115, Beschleunigung global (nach Gravitationskorrektur): [ 1.81622574e-03 -1.86231815e-03 -8.80909962e+00]\n",
      "Index: 116, Gravitationsvektor global: [-1.88338475e-03  1.99039528e-03  9.80999962e+00]\n",
      "Index: 116, Beschleunigung global (nach Gravitationskorrektur): [ 1.81641769e-03 -2.86252103e-03 -8.81009941e+00]\n",
      "Index: 117, Gravitationsvektor global: [-1.88338475e-03  1.99039528e-03  9.80999962e+00]\n",
      "Index: 117, Beschleunigung global (nach Gravitationskorrektur): [ 1.81622574e-03 -1.86231815e-03 -8.80909962e+00]\n",
      "Index: 118, Gravitationsvektor global: [-1.88338475e-03  1.99039528e-03  9.80999962e+00]\n",
      "Index: 118, Beschleunigung global (nach Gravitationskorrektur): [ 1.81622574e-03 -1.86231815e-03 -8.80909962e+00]\n",
      "Index: 119, Gravitationsvektor global: [-2.91068549e-03  1.99039528e-03  9.80999937e+00]\n",
      "Index: 119, Beschleunigung global (nach Gravitationskorrektur): [ 2.73871248e-03 -1.86231815e-03 -8.80909938e+00]\n",
      "Index: 120, Gravitationsvektor global: [-2.91068549e-03  1.99039528e-03  9.80999937e+00]\n",
      "Index: 120, Beschleunigung global (nach Gravitationskorrektur): [ 1.73900923e-03 -1.86252105e-03 -8.81009968e+00]\n",
      "Index: 120, Geschwindigkeit: [ 4.76976005e-03  3.79537741e-02 -1.05683564e+02], Position: [ 3.83247295e-03  7.84540169e-03 -6.39178822e+02]\n",
      "Index: 121, Gravitationsvektor global: [-2.91068549e-03  1.99039528e-03  9.80999937e+00]\n",
      "Index: 121, Beschleunigung global (nach Gravitationskorrektur): [ 2.73900931e-03  1.37478913e-04 -8.81009978e+00]\n",
      "Index: 122, Gravitationsvektor global: [-2.91068553e-03  1.13431129e-03  9.80999950e+00]\n",
      "Index: 122, Beschleunigung global (nach Gravitationskorrektur): [ 1.73812029e-03  3.19066519e-02 -8.80710362e+00]\n",
      "Index: 123, Gravitationsvektor global: [-2.91068509e-03 -5.54314359e-03  9.80999800e+00]\n",
      "Index: 123, Beschleunigung global (nach Gravitationskorrektur): [ 1.73870933e-03  2.19025820e-02 -8.80908890e+00]\n",
      "Index: 124, Gravitationsvektor global: [-2.91068177e-03 -1.58161450e-02  9.80998682e+00]\n",
      "Index: 124, Beschleunigung global (nach Gravitationskorrektur): [ 2.73810812e-03  3.01242016e-02 -8.80706245e+00]\n",
      "Index: 125, Gravitationsvektor global: [-1.88822292e-03 -2.52326860e-02  9.80996737e+00]\n",
      "Index: 125, Beschleunigung global (nach Gravitationskorrektur): [-1.17541968e-03  4.05914406e-02 -8.81202513e+00]\n",
      "Index: 126, Gravitationsvektor global: [-2.91385349e-03 -3.65330460e-02  9.80993154e+00]\n",
      "Index: 126, Beschleunigung global (nach Gravitationskorrektur): [ 2.74594500e-03  8.37302684e-02 -8.80884884e+00]\n",
      "Index: 127, Gravitationsvektor global: [-2.91064817e-03 -4.97168654e-02  9.80987359e+00]\n",
      "Index: 127, Beschleunigung global (nach Gravitationskorrektur): [ 2.73867758e-03  4.55693142e-02 -8.80898176e+00]\n",
      "Index: 128, Gravitationsvektor global: [-3.76671739e-03 -5.16002250e-02  9.80986357e+00]\n",
      "Index: 128, Beschleunigung global (nach Gravitationskorrektur): [ 4.50743911e-03  2.92607655e-02 -8.80906687e+00]\n",
      "Index: 129, Gravitationsvektor global: [-2.90553274e-03 -4.88610967e-02  9.80987789e+00]\n",
      "Index: 129, Beschleunigung global (nach Gravitationskorrektur): [ 4.73018648e-03  7.77956910e-02 -8.80782076e+00]\n",
      "Index: 130, Gravitationsvektor global: [-4.78849005e-03 -5.26280131e-02  9.80985766e+00]\n",
      "Index: 130, Beschleunigung global (nach Gravitationskorrektur): [ 5.42591154e-03  4.71943020e-02 -8.81097201e+00]\n",
      "Index: 130, Geschwindigkeit: [ 1.31852082e-02  6.45930334e-02 -1.14483989e+02], Position: [ 1.23772759e-02  6.61415688e-02 -7.49591966e+02]\n",
      "Index: 131, Gravitationsvektor global: [-4.78353076e-03 -5.45117874e-02  9.80984738e+00]\n",
      "Index: 131, Beschleunigung global (nach Gravitationskorrektur): [ 2.41873492e-03  5.28634951e-02 -8.80694209e+00]\n",
      "Index: 132, Gravitationsvektor global: [-3.75754128e-03 -4.78342261e-02  9.80988266e+00]\n",
      "Index: 132, Beschleunigung global (nach Gravitationskorrektur): [ 3.49646068e-03  5.88834802e-02 -8.80991692e+00]\n",
      "Index: 133, Gravitationsvektor global: [-5.63317623e-03 -4.40689418e-02  9.80989940e+00]\n",
      "Index: 133, Beschleunigung global (nach Gravitationskorrektur): [ 0.00919274  0.01549948 -8.80911543]\n",
      "Index: 134, Gravitationsvektor global: [-7.51800021e-03 -4.03029305e-02  9.80991433e+00]\n",
      "Index: 134, Beschleunigung global (nach Gravitationskorrektur): [ 0.00986632  0.05710869 -8.80693473]\n",
      "Index: 135, Gravitationsvektor global: [-8.55695372e-03 -3.65341965e-02  9.80992824e+00]\n",
      "Index: 135, Beschleunigung global (nach Gravitationskorrektur): [ 8.81011257e-03  3.77391976e-02 -8.81101622e+00]\n",
      "Index: 136, Gravitationsvektor global: [-7.52663895e-03 -3.56786676e-02  9.80993223e+00]\n",
      "Index: 136, Beschleunigung global (nach Gravitationskorrektur): [ 6.88759333e-03  1.99708032e-02 -8.81108295e+00]\n",
      "Index: 137, Gravitationsvektor global: [-7.53056020e-03 -2.81445116e-02  9.80995674e+00]\n",
      "Index: 137, Beschleunigung global (nach Gravitationskorrektur): [ 3.88725618e-03  3.22005074e-02 -8.81004349e+00]\n",
      "Index: 138, Gravitationsvektor global: [-0.01130027 -0.02334967  9.8099657 ]\n",
      "Index: 138, Beschleunigung global (nach Gravitationskorrektur): [ 0.01227119  0.01388998 -8.8080836 ]\n",
      "Index: 139, Gravitationsvektor global: [-0.01609566 -0.01495866  9.80997539]\n",
      "Index: 139, Beschleunigung global (nach Gravitationskorrektur): [ 0.01357589 -0.01664244 -8.8091252 ]\n",
      "Index: 140, Gravitationsvektor global: [-1.42109800e-02  1.08250642e-04  9.80998971e+00]\n",
      "Index: 140, Beschleunigung global (nach Gravitationskorrektur): [ 1.38870589e-02 -5.17231518e-03 -8.81008907e+00]\n",
      "Index: 140, Geschwindigkeit: [ 3.23963882e-02  5.82588756e-03 -1.23301759e+02], Position: [ 3.53731606e-02  1.06057215e-01 -8.69044749e+02]\n",
      "Index: 141, Gravitationsvektor global: [-0.01506706  0.01038002  9.80998294]\n",
      "Index: 141, Beschleunigung global (nach Gravitationskorrektur): [ 0.02165324 -0.0113949  -8.80807001]\n",
      "Index: 142, Gravitationsvektor global: [-0.01609613  0.01705578  9.80997197]\n",
      "Index: 142, Beschleunigung global (nach Gravitationskorrektur): [ 0.01457753 -0.03438708 -8.80704146]\n",
      "Index: 143, Gravitationsvektor global: [-0.01610242  0.02732567  9.80994873]\n",
      "Index: 143, Beschleunigung global (nach Gravitationskorrektur): [ 0.01458734 -0.0286154  -8.81004239]\n",
      "Index: 144, Gravitationsvektor global: [-0.0161015   0.03777152  9.80991407]\n",
      "Index: 144, Beschleunigung global (nach Gravitationskorrektur): [ 0.01458024 -0.03298503 -8.80702621]\n",
      "Index: 145, Gravitationsvektor global: [-0.01799155  0.04718611  9.80987002]\n",
      "Index: 145, Beschleunigung global (nach Gravitationskorrektur): [ 0.01728916 -0.07744123 -8.8078125 ]\n",
      "Index: 146, Gravitationsvektor global: [-0.01799919  0.05660133  9.8098202 ]\n",
      "Index: 146, Beschleunigung global (nach Gravitationskorrektur): [ 0.01829226 -0.06290036 -8.80886497]\n",
      "Index: 147, Gravitationsvektor global: [-0.01884522  0.06122739  9.80979083]\n",
      "Index: 147, Beschleunigung global (nach Gravitationskorrektur): [ 0.01904964 -0.06705481 -8.80883272]\n",
      "Index: 148, Gravitationsvektor global: [-0.02072942  0.066021    9.80975594]\n",
      "Index: 148, Beschleunigung global (nach Gravitationskorrektur): [ 0.02074635 -0.08636568 -8.8096941 ]\n",
      "Index: 149, Gravitationsvektor global: [-0.02073817  0.07252491  9.80970999]\n",
      "Index: 149, Beschleunigung global (nach Gravitationskorrektur): [ 0.02675783 -0.09520445 -8.80960003]\n",
      "Index: 150, Gravitationsvektor global: [-0.01812514  0.08568313  9.80960906]\n",
      "Index: 150, Beschleunigung global (nach Gravitationskorrektur): [ 0.02443232 -0.09103634 -8.81261092]\n",
      "Index: 150, Geschwindigkeit: [ 5.44137383e-02 -1.00938101e-01 -1.32093276e+02], Position: [ 7.93580915e-02  5.12800993e-02 -9.96925550e+02]\n",
      "Index: 151, Gravitationsvektor global: [-0.01920136  0.09591387  9.80951231]\n",
      "Index: 151, Beschleunigung global (nach Gravitationskorrektur): [ 0.01855859 -0.13619583 -8.80816995]\n",
      "Index: 152, Gravitationsvektor global: [-0.01925388  0.10721181  9.80939524]\n",
      "Index: 152, Beschleunigung global (nach Gravitationskorrektur): [ 0.01944791 -0.10435018 -8.80946449]\n",
      "Index: 153, Gravitationsvektor global: [-0.02218725  0.11010854  9.80935695]\n",
      "Index: 153, Beschleunigung global (nach Gravitationskorrektur): [ 0.02108312 -0.10695544 -8.8094293 ]\n",
      "Index: 154, Gravitationsvektor global: [-0.02304327  0.11010509  9.80935502]\n",
      "Index: 154, Beschleunigung global (nach Gravitationskorrektur): [ 0.02285187 -0.10694831 -8.80942516]\n",
      "Index: 155, Gravitationsvektor global: [-0.02303915  0.10907786  9.8093665 ]\n",
      "Index: 155, Beschleunigung global (nach Gravitationskorrektur): [ 0.02284818 -0.10602579 -8.80943632]\n",
      "Index: 156, Gravitationsvektor global: [-0.02303161  0.1071946   9.80938728]\n",
      "Index: 156, Beschleunigung global (nach Gravitationskorrektur): [ 0.02184141 -0.10433854 -8.80945883]\n",
      "Index: 157, Gravitationsvektor global: [-0.02405129  0.1053072   9.80940528]\n",
      "Index: 157, Beschleunigung global (nach Gravitationskorrektur): [ 0.0237587  -0.1036287  -8.80846333]\n",
      "Index: 158, Gravitationsvektor global: [-0.02404786  0.10445117  9.80941444]\n",
      "Index: 158, Beschleunigung global (nach Gravitationskorrektur): [ 0.02275163 -0.10186411 -8.80848542]\n",
      "Index: 159, Gravitationsvektor global: [-0.02404032  0.10256791  9.80943433]\n",
      "Index: 159, Beschleunigung global (nach Gravitationskorrektur): [ 0.0237473  -0.10017944 -8.80950236]\n",
      "Index: 160, Gravitationsvektor global: [-0.02402557  0.10154319  9.80944503]\n",
      "Index: 160, Beschleunigung global (nach Gravitationskorrektur): [ 0.02373321 -0.0992594  -8.80951282]\n",
      "Index: 160, Geschwindigkeit: [ 7.76830524e-02 -2.01426115e-01 -1.40902880e+02], Position: [ 1.46576600e-01 -1.03497256e-01 -1.13386419e+03]\n",
      "Index: 161, Gravitationsvektor global: [-0.02402223  0.10068716  9.80945386]\n",
      "Index: 161, Beschleunigung global (nach Gravitationskorrektur): [ 0.02273412 -0.09949449 -8.80951359]\n",
      "Index: 162, Gravitationsvektor global: [-0.02401488  0.09880388  9.80947303]\n",
      "Index: 162, Beschleunigung global (nach Gravitationskorrektur): [ 0.02372362 -0.09679932 -8.80954022]\n",
      "Index: 163, Gravitationsvektor global: [-0.02401087  0.09777664  9.80948333]\n",
      "Index: 163, Beschleunigung global (nach Gravitationskorrektur): [ 0.02372246 -0.09588676 -8.81055026]\n",
      "Index: 164, Gravitationsvektor global: [-0.02400753  0.09692061  9.80949183]\n",
      "Index: 164, Beschleunigung global (nach Gravitationskorrektur): [ 0.02372092 -0.09610796 -8.80954877]\n",
      "Index: 165, Gravitationsvektor global: [-0.02297628  0.0958974   9.80950436]\n",
      "Index: 165, Beschleunigung global (nach Gravitationskorrektur): [ 0.02279089 -0.09418911 -8.80957097]\n",
      "Index: 166, Gravitationsvektor global: [-0.02297628  0.0958974   9.80950436]\n",
      "Index: 166, Beschleunigung global (nach Gravitationskorrektur): [ 0.02279479 -0.09518905 -8.80956119]\n",
      "Index: 167, Gravitationsvektor global: [-0.02297294  0.09504136  9.8095127 ]\n",
      "Index: 167, Beschleunigung global (nach Gravitationskorrektur): [ 0.02379178 -0.09441635 -8.80956717]\n",
      "Index: 168, Gravitationsvektor global: [-0.02297294  0.09504136  9.8095127 ]\n",
      "Index: 168, Beschleunigung global (nach Gravitationskorrektur): [ 0.02284255 -0.10741957 -8.8094434 ]\n",
      "Index: 169, Gravitationsvektor global: [-0.02401822  0.09965992  9.80946436]\n",
      "Index: 169, Beschleunigung global (nach Gravitationskorrektur): [ 0.02278126 -0.11157119 -8.80939178]\n",
      "Index: 170, Gravitationsvektor global: [-0.02403693  0.10445369  9.80941444]\n",
      "Index: 170, Beschleunigung global (nach Gravitationskorrektur): [ 0.02379022 -0.11387244 -8.80935506]\n",
      "Index: 170, Geschwindigkeit: [ 9.93438589e-02 -3.12884724e-01 -1.49721468e+02], Position: [ 2.36680244e-01 -3.67477338e-01 -1.27976302e+03]\n",
      "Index: 171, Gravitationsvektor global: [-0.02302439  0.10822425  9.80937599]\n",
      "Index: 171, Beschleunigung global (nach Gravitationskorrektur): [ 0.02484576 -0.10825136 -8.80940781]\n",
      "Index: 172, Gravitationsvektor global: [-0.02217906  0.11096688  9.8093473 ]\n",
      "Index: 172, Beschleunigung global (nach Gravitationskorrektur): [ 0.02209051 -0.1117222  -8.80937242]\n",
      "Index: 173, Gravitationsvektor global: [-0.02302773  0.10908027  9.8093665 ]\n",
      "Index: 173, Beschleunigung global (nach Gravitationskorrektur): [ 0.02480974 -0.09902081 -8.80950961]\n",
      "Index: 174, Gravitationsvektor global: [-0.02301304  0.10531375  9.8094077 ]\n",
      "Index: 174, Beschleunigung global (nach Gravitationskorrektur): [ 0.02086527 -0.11266354 -8.81037352]\n",
      "Index: 175, Gravitationsvektor global: [-0.02216436  0.10720038  9.80938922]\n",
      "Index: 175, Beschleunigung global (nach Gravitationskorrektur): [ 0.02019278 -0.13735647 -8.81010192]\n",
      "Index: 176, Gravitationsvektor global: [-0.02304242  0.11284677  9.80932386]\n",
      "Index: 176, Beschleunigung global (nach Gravitationskorrektur): [ 0.02187992 -0.11642565 -8.81031657]\n",
      "Index: 177, Gravitationsvektor global: [-0.02306446  0.11849649  9.80925719]\n",
      "Index: 177, Beschleunigung global (nach Gravitationskorrektur): [ 0.02192618 -0.12947518 -8.80815145]\n",
      "Index: 178, Gravitationsvektor global: [-0.02218569  0.11850411  9.80925912]\n",
      "Index: 178, Beschleunigung global (nach Gravitationskorrektur): [ 0.02007335 -0.11348728 -8.80834891]\n",
      "Index: 179, Gravitationsvektor global: [-0.02216171  0.11473957  9.80930394]\n",
      "Index: 179, Beschleunigung global (nach Gravitationskorrektur): [ 0.02202899 -0.10213526 -8.81148086]\n",
      "Index: 180, Gravitationsvektor global: [-0.02296693  0.10635182  9.80939661]\n",
      "Index: 180, Beschleunigung global (nach Gravitationskorrektur): [ 0.01770901 -0.08260836 -8.8107049 ]\n",
      "Index: 180, Geschwindigkeit: [ 1.17600150e-01 -3.92489011e-01 -1.58530878e+02], Position: [ 3.46777001e-01 -7.28646719e-01 -1.43432948e+03]\n",
      "Index: 181, Gravitationsvektor global: [-0.02209798  0.10258825  9.80943869]\n",
      "Index: 181, Beschleunigung global (nach Gravitationskorrektur): [ 0.02301664 -0.10618466 -8.80844173]\n",
      "Index: 182, Gravitationsvektor global: [-0.02019427  0.09968636  9.80947271]\n",
      "Index: 182, Beschleunigung global (nach Gravitationskorrektur): [ 0.01825913 -0.08959008 -8.80862549]\n",
      "Index: 183, Gravitationsvektor global: [-0.01914945  0.09695215  9.80950221]\n",
      "Index: 183, Beschleunigung global (nach Gravitationskorrektur): [ 0.02232086 -0.08711854 -8.80864242]\n",
      "Index: 184, Gravitationsvektor global: [-0.02100753  0.09215439  9.80954465]\n",
      "Index: 184, Beschleunigung global (nach Gravitationskorrektur): [ 0.02001136 -0.08982311 -8.80862222]\n",
      "Index: 185, Gravitationsvektor global: [-0.02098224  0.08650633  9.80959614]\n",
      "Index: 185, Beschleunigung global (nach Gravitationskorrektur): [ 0.02002376 -0.09575979 -8.80957542]\n",
      "Index: 186, Gravitationsvektor global: [-0.02012514  0.08376785  9.8096217 ]\n",
      "Index: 186, Beschleunigung global (nach Gravitationskorrektur): [ 0.01821902 -0.08229545 -8.80869959]\n",
      "Index: 187, Gravitationsvektor global: [-0.02012168  0.07999912  9.80965317]\n",
      "Index: 187, Beschleunigung global (nach Gravitationskorrektur): [ 0.01525207 -0.08794515 -8.81166307]\n",
      "Index: 188, Gravitationsvektor global: [-0.01908884  0.07623418  9.80968521]\n",
      "Index: 188, Beschleunigung global (nach Gravitationskorrektur): [ 0.01618503 -0.04354271 -8.81001283]\n",
      "Index: 189, Gravitationsvektor global: [-0.01719054  0.06784784  9.80975031]\n",
      "Index: 189, Beschleunigung global (nach Gravitationskorrektur): [ 0.01254247 -0.05501771 -8.80992174]\n",
      "Index: 190, Gravitationsvektor global: [-0.01631419  0.06031583  9.80980101]\n",
      "Index: 190, Beschleunigung global (nach Gravitationskorrektur): [ 0.01679479 -0.05923516 -8.80988657]\n",
      "Index: 190, Geschwindigkeit: [ 1.28368515e-01 -4.28405705e-01 -1.67322462e+02], Position: [ 4.70543321e-01 -1.14544756e+00 -1.59736903e+03]\n",
      "Index: 191, Gravitationsvektor global: [-0.01526411  0.05278489  9.80984611]\n",
      "Index: 191, Beschleunigung global (nach Gravitationskorrektur): [ 0.01387145 -0.05846824 -8.80790198]\n",
      "Index: 192, Gravitationsvektor global: [-0.01524305  0.04713484  9.80987492]\n",
      "Index: 192, Beschleunigung global (nach Gravitationskorrektur): [ 0.01381466 -0.04240508 -8.80998712]\n",
      "Index: 193, Gravitationsvektor global: [-0.01435856  0.04046195  9.80990605]\n",
      "Index: 193, Beschleunigung global (nach Gravitationskorrektur): [ 0.011166   -0.07641904 -8.80985284]\n",
      "Index: 194, Gravitationsvektor global: [-0.01145848  0.04235493  9.80990187]\n",
      "Index: 194, Beschleunigung global (nach Gravitationskorrektur): [ 0.01145196 -0.04810415 -8.80896705]\n",
      "Index: 195, Gravitationsvektor global: [-0.01248792  0.04526412  9.80988762]\n",
      "Index: 195, Beschleunigung global (nach Gravitationskorrektur): [ 0.0103992  -0.0577237  -8.80892133]\n",
      "Index: 196, Gravitationsvektor global: [-0.01247393  0.04235457  9.80990064]\n",
      "Index: 196, Beschleunigung global (nach Gravitationskorrektur): [ 0.00927348 -0.02311059 -8.80807764]\n",
      "Index: 197, Gravitationsvektor global: [-0.01055462  0.03294539  9.809939  ]\n",
      "Index: 197, Beschleunigung global (nach Gravitationskorrektur): [ 1.15314973e-02 -7.65886245e-03 -8.81111666e+00]\n",
      "Index: 198, Gravitationsvektor global: [-9.49580503e-03  2.35320008e-02  9.80996718e+00]\n",
      "Index: 198, Beschleunigung global (nach Gravitationskorrektur): [ 0.00965987 -0.02320468 -8.81006446]\n",
      "Index: 199, Gravitationsvektor global: [-8.62331805e-03  1.97697863e-02  9.80997629e+00]\n",
      "Index: 199, Beschleunigung global (nach Gravitationskorrektur): [ 0.00987643 -0.02081694 -8.80707065]\n",
      "Index: 200, Gravitationsvektor global: [-7.57072397e-03  1.13826683e-02  9.80999047e+00]\n",
      "Index: 200, Beschleunigung global (nach Gravitationskorrektur): [ 6.89820687e-03 -2.29711114e-03 -8.81010057e+00]\n",
      "Index: 200, Geschwindigkeit: [ 1.34301070e-01 -4.04955499e-01 -1.76141239e+02], Position: [ 6.02298070e-01 -1.56341968e+00 -1.76971395e+03]\n",
      "Index: 201, Gravitationsvektor global: [-7.54540169e-03  3.85062038e-03  9.80999634e+00]\n",
      "Index: 201, Beschleunigung global (nach Gravitationskorrektur): [ 5.85471804e-03  1.14644934e-02 -8.80910328e+00]\n",
      "Index: 202, Gravitationsvektor global: [-7.52569436e-03 -2.65479910e-03  9.80999675e+00]\n",
      "Index: 202, Beschleunigung global (nach Gravitationskorrektur): [ 6.87494605e-03  5.30956234e-03 -8.81009620e+00]\n",
      "Index: 203, Gravitationsvektor global: [-6.65357242e-03 -8.30180701e-03  9.80999423e+00]\n",
      "Index: 203, Beschleunigung global (nach Gravitationskorrektur): [ 6.07824719e-03  1.53818025e-02 -8.81108804e+00]\n",
      "Index: 204, Gravitationsvektor global: [-6.64518830e-03 -1.12124791e-02  9.80999134e+00]\n",
      "Index: 204, Beschleunigung global (nach Gravitationskorrektur): [ 5.04987823e-03  2.49920377e-02 -8.81007579e+00]\n",
      "Index: 205, Gravitationsvektor global: [-5.57200827e-03 -2.81592940e-02  9.80995800e+00]\n",
      "Index: 205, Beschleunigung global (nach Gravitationskorrektur): [ 5.12814415e-03  2.52087193e-02 -8.80806243e+00]\n",
      "Index: 206, Gravitationsvektor global: [-5.54407036e-03 -3.94590078e-02  9.80991907e+00]\n",
      "Index: 206, Beschleunigung global (nach Gravitationskorrektur): [ 5.09823803e-03  3.73583762e-02 -8.80901952e+00]\n",
      "Index: 207, Gravitationsvektor global: [-6.57918990e-03 -3.65511158e-02  9.80992970e+00]\n",
      "Index: 207, Beschleunigung global (nach Gravitationskorrektur): [ 7.05127610e-03  2.67611243e-02 -8.81205871e+00]\n",
      "Index: 208, Gravitationsvektor global: [-6.58149302e-03 -3.56950407e-02  9.80993285e+00]\n",
      "Index: 208, Beschleunigung global (nach Gravitationskorrektur): [ 6.03855533e-03  3.09821133e-02 -8.81004352e+00]\n",
      "Index: 209, Gravitationsvektor global: [-6.58655969e-03 -3.38116745e-02  9.80993952e+00]\n",
      "Index: 209, Beschleunigung global (nach Gravitationskorrektur): [ 6.04310543e-03  2.92907115e-02 -8.81004930e+00]\n",
      "Index: 210, Gravitationsvektor global: [-6.59162613e-03 -3.19283071e-02  9.80994583e+00]\n",
      "Index: 210, Beschleunigung global (nach Gravitationskorrektur): [ 6.04765532e-03  2.75993087e-02 -8.81005476e+00]\n"
     ]
    },
    {
     "ename": "IndexError",
     "evalue": "index 210 is out of bounds for axis 0 with size 205",
     "output_type": "error",
     "traceback": [
      "\u001b[1;31m---------------------------------------------------------------------------\u001b[0m",
      "\u001b[1;31mIndexError\u001b[0m                                Traceback (most recent call last)",
      "Cell \u001b[1;32mIn[109], line 121\u001b[0m\n\u001b[0;32m    119\u001b[0m \u001b[38;5;66;03m# Geschwindigkeit und Position ausgeben\u001b[39;00m\n\u001b[0;32m    120\u001b[0m \u001b[38;5;28;01mif\u001b[39;00m index \u001b[38;5;241m%\u001b[39m \u001b[38;5;241m10\u001b[39m \u001b[38;5;241m==\u001b[39m \u001b[38;5;241m0\u001b[39m:  \u001b[38;5;66;03m# nur jede 100te Zeile ausgeben, um die Ausgabe zu minimieren\u001b[39;00m\n\u001b[1;32m--> 121\u001b[0m     \u001b[38;5;28mprint\u001b[39m(\u001b[38;5;124mf\u001b[39m\u001b[38;5;124m\"\u001b[39m\u001b[38;5;124mIndex: \u001b[39m\u001b[38;5;132;01m{\u001b[39;00mindex\u001b[38;5;132;01m}\u001b[39;00m\u001b[38;5;124m, Geschwindigkeit: \u001b[39m\u001b[38;5;132;01m{\u001b[39;00mvelocity[index]\u001b[38;5;132;01m}\u001b[39;00m\u001b[38;5;124m, Position: \u001b[39m\u001b[38;5;132;01m{\u001b[39;00mposition[index]\u001b[38;5;132;01m}\u001b[39;00m\u001b[38;5;124m\"\u001b[39m)\n\u001b[0;32m    122\u001b[0m \u001b[38;5;28;01mif\u001b[39;00m delta_t[index] \u001b[38;5;241m<\u001b[39m \u001b[38;5;241m0.01\u001b[39m:  \u001b[38;5;66;03m# unrealistische Zeitdifferenzen\u001b[39;00m\n\u001b[0;32m    123\u001b[0m     \u001b[38;5;28mprint\u001b[39m(\u001b[38;5;124mf\u001b[39m\u001b[38;5;124m\"\u001b[39m\u001b[38;5;124mWarnung: Ungewöhnlich kleine Zeitdifferenz bei Index \u001b[39m\u001b[38;5;132;01m{\u001b[39;00mindex\u001b[38;5;132;01m}\u001b[39;00m\u001b[38;5;124m:\u001b[39m\u001b[38;5;132;01m{\u001b[39;00mdelta_t[index]\u001b[38;5;132;01m}\u001b[39;00m\u001b[38;5;124m\"\u001b[39m)\n",
      "\u001b[1;31mIndexError\u001b[0m: index 210 is out of bounds for axis 0 with size 205"
     ]
    }
   ],
   "source": [
    "import numpy as np\n",
    "import pandas as pd\n",
    "\n",
    "def calculate_offsets(df, num_initial_readings=40):\n",
    "    # Berechne die Mittelwerte der ersten num_initial_readings Messungen\n",
    "    initial_readings = df.head(num_initial_readings)\n",
    "    \n",
    "    offset_x = initial_readings['Acceleration X(g)'].mean()\n",
    "    offset_y = initial_readings['Acceleration Y(g)'].mean()\n",
    "    offset_z = initial_readings['Acceleration Z(g)'].mean() - 1  # Offset für Z-Achse, da 1 g (9,81 m/s²) erwartet wird\n",
    "    \n",
    "    offset_roll = initial_readings['Angle X(°)'].mean()\n",
    "    offset_pitch = initial_readings['Angle Y(°)'].mean()\n",
    "    offset_yaw = initial_readings['Angle Z(°)'].mean()\n",
    "\n",
    "    # Prüfe die Offset-Werte nach Berechnung\n",
    "    print(f\"Offset X: {offset_x}, Offset Y: {offset_y}, Offset Z: {offset_z}\")\n",
    "\n",
    "    \n",
    "    return offset_x, offset_y, offset_z, offset_roll, offset_pitch, offset_yaw\n",
    "\n",
    "def rotation_matrix(roll, pitch, yaw):\n",
    "    roll = np.deg2rad(roll)\n",
    "    pitch = np.deg2rad(pitch)\n",
    "    yaw = np.deg2rad(yaw)\n",
    "\n",
    "    R_x = np.array([[1, 0, 0],\n",
    "                    [0, np.cos(roll), -np.sin(roll)],\n",
    "                    [0, np.sin(roll), np.cos(roll)]])\n",
    "\n",
    "    R_y = np.array([[np.cos(pitch), 0, np.sin(pitch)],\n",
    "                    [0, 1, 0],\n",
    "                    [-np.sin(pitch), 0, np.cos(pitch)]])\n",
    "\n",
    "    R_z = np.array([[np.cos(yaw), -np.sin(yaw), 0],\n",
    "                    [np.sin(yaw), np.cos(yaw), 0],\n",
    "                    [0, 0, 1]])\n",
    "\n",
    "    R = R_z @ R_y @ R_x\n",
    "    return R\n",
    "\n",
    "def transform_acceleration(acc_local, roll, pitch, yaw):\n",
    "    R = rotation_matrix(roll, pitch, yaw)\n",
    "    acc_global = R @ acc_local\n",
    "    return acc_global\n",
    "\n",
    "def adjust_for_gravity_with_rotation(roll, pitch, yaw, gravity=9.81):\n",
    "    # Erstelle den Gravitationsvektor im lokalen Koordinatensystem (nur Z-Komponente)\n",
    "    gravity_local = np.array([0, 0, gravity])\n",
    "    \n",
    "    # Transformiere den Gravitationsvektor in das globale Koordinatensystem\n",
    "    gravity_global = transform_acceleration(gravity_local, roll, pitch, yaw)\n",
    "    \n",
    "    return gravity_global\n",
    "\n",
    "def integrate(accelerations, delta_t):\n",
    "    velocity = np.zeros_like(accelerations)\n",
    "    position = np.zeros_like(accelerations)\n",
    "    for i in range(1, len(accelerations)):\n",
    "        velocity[i] = velocity[i-1] + accelerations[i] * delta_t[i]\n",
    "        position[i] = position[i-1] + velocity[i] * delta_t[i]\n",
    "    return velocity, position\n",
    "\n",
    "# Beispiel DataFrame laden\n",
    "# df = pd.read_csv('sensor_data.csv', decimal=',')\n",
    "\n",
    "# Offset berechnen\n",
    "offset_x, offset_y, offset_z, offset_roll, offset_pitch, offset_yaw = calculate_offsets(df)\n",
    "\n",
    "# Initialisiere Arrays für Geschwindigkeit und Position\n",
    "num_rows = len(df)\n",
    "velocity_x = np.zeros(num_rows)\n",
    "velocity_y = np.zeros(num_rows)\n",
    "velocity_z = np.zeros(num_rows)\n",
    "position_x = np.zeros(num_rows)\n",
    "position_y = np.zeros(num_rows)\n",
    "position_z = np.zeros(num_rows)\n",
    "\n",
    "# Listen für Beschleunigung und Delta_t\n",
    "accel_x = np.zeros(num_rows)\n",
    "accel_y = np.zeros(num_rows)\n",
    "accel_z = np.zeros(num_rows)\n",
    "delta_t = np.zeros(num_rows)\n",
    "\n",
    "# Iteriere über die Zeilen des DataFrames\n",
    "for index, row in df.iterrows():\n",
    "    delta_t[index] = row['Delta_t']\n",
    "    \n",
    "    # Berechne die Beschleunigung und Winkelwerte nur ab dem 11. Datensatz\n",
    "    if index >= 10:\n",
    "        accel_x[index] = row['Acceleration X(g)'] - offset_x\n",
    "        accel_y[index] = row['Acceleration Y(g)'] - offset_y\n",
    "        accel_z[index] = row['Acceleration Z(g)'] - offset_z\n",
    "        angle_x = row['Angle X(°)'] - offset_roll\n",
    "        angle_y = row['Angle Y(°)'] - offset_pitch\n",
    "        angle_z = row['Angle Z(°)'] - offset_yaw\n",
    "\n",
    "        # Lokale Beschleunigung in ein numpy Array\n",
    "        acc_local = np.array([accel_x[index], accel_y[index], accel_z[index]])\n",
    "\n",
    "        # Transformiere die lokale Beschleunigung in die globale Koordinate\n",
    "        acc_global = transform_acceleration(acc_local, angle_x, angle_y, angle_z)\n",
    "        \n",
    "        # Berechne den Gravitationsvektor im globalen Koordinatensystem\n",
    "        gravity_global = adjust_for_gravity_with_rotation(angle_x, angle_y, angle_z)\n",
    "        \n",
    "        # Berücksichtige die Erdbeschleunigung\n",
    "        acc_global -= gravity_global\n",
    "\n",
    "        # Speichere die berechneten Werte in den Arrays\n",
    "        accel_x[index], accel_y[index], accel_z[index] = acc_global\n",
    "\n",
    "        # START DEBUG\n",
    "        gravity_global = adjust_for_gravity_with_rotation(angle_x, angle_y, angle_z)\n",
    "        # Gravitationsvektor ausgeben\n",
    "        print(f\"Index: {index}, Gravitationsvektor global: {gravity_global}\")\n",
    "        # Transformierte Beschleunigung ausgeben\n",
    "        print(f\"Index: {index}, Beschleunigung global (nach Gravitationskorrektur): {acc_global}\")\n",
    "        # Geschwindigkeit und Position ausgeben\n",
    "        if index % 10 == 0:  # nur jede 100te Zeile ausgeben, um die Ausgabe zu minimieren\n",
    "            print(f\"Index: {index}, Geschwindigkeit: {velocity[index]}, Position: {position[index]}\")\n",
    "        if delta_t[index] < 0.01:  # unrealistische Zeitdifferenzen\n",
    "            print(f\"Warnung: Ungewöhnlich kleine Zeitdifferenz bei Index {index}:{delta_t[index]}\")\n",
    "        # ENDE DEBUG\n",
    "# Berechne Geschwindigkeit und Position\n",
    "velocity, position = integrate(np.column_stack([accel_x[10:], accel_y[10:], accel_z[10:]]), delta_t[10:])\n",
    "\n",
    "# Füge die berechneten Werte dem DataFrame hinzu\n",
    "df['Velocity X(m/s)'] = np.concatenate([np.zeros(10), velocity[:, 0]])\n",
    "df['Velocity Y(m/s)'] = np.concatenate([np.zeros(10), velocity[:, 1]])\n",
    "df['Velocity Z(m/s)'] = np.concatenate([np.zeros(10), velocity[:, 2]])\n",
    "df['Position X(m)'] = np.concatenate([np.zeros(10), position[:, 0]])\n",
    "df['Position Y(m)'] = np.concatenate([np.zeros(10), position[:, 1]])\n",
    "df['Position Z(m)'] = np.concatenate([np.zeros(10), position[:, 2]])\n",
    "\n",
    "# Speichere die Ergebnisse in eine neue CSV-Datei\n",
    "df.to_csv('sensor_data_with_position3.csv', index=False, decimal=',')\n"
   ]
  },
  {
   "cell_type": "code",
   "execution_count": 101,
   "metadata": {},
   "outputs": [],
   "source": [
    "ravity_global = adjust_for_gravity_with_rotation(angle_x, angle_y, angle_z)\n",
    "# print(f\"Gravitationsvektor global bei Index {index}: {gravity_global}\")"
   ]
  },
  {
   "cell_type": "code",
   "execution_count": null,
   "metadata": {},
   "outputs": [],
   "source": []
  },
  {
   "cell_type": "code",
   "execution_count": null,
   "metadata": {},
   "outputs": [],
   "source": []
  },
  {
   "cell_type": "markdown",
   "metadata": {},
   "source": [
    "Darstellung mit Plot"
   ]
  },
  {
   "cell_type": "code",
   "execution_count": 96,
   "metadata": {},
   "outputs": [
    {
     "data": {
      "application/vnd.plotly.v1+json": {
       "config": {
        "plotlyServerURL": "https://plot.ly"
       },
       "data": [
        {
         "line": {
          "width": 2
         },
         "marker": {
          "color": "blue",
          "size": 2
         },
         "mode": "markers+lines",
         "type": "scatter3d",
         "x": [
          0,
          0,
          0,
          0,
          0,
          0,
          0.0000012500000000000014,
          -0.000006088374999999972,
          -0.000012250874999999946,
          -0.000027163374999999895,
          -0.00004082587499999984,
          -0.00005323837499999978,
          -0.00006440087499999972,
          -0.00007431337499999967,
          -0.00008297587499999962,
          -0.00010038837499999953,
          -0.00011655087499999945,
          -0.00013146337499999935,
          -0.00014512587499999926,
          -0.0001575383749999992,
          -0.0001687008749999991,
          -0.00017861337499999904,
          -0.00019727587499999893,
          -0.00021468837499999882,
          -0.0002309998749999987,
          -0.00024589987499999856,
          -0.00025954987499999843,
          -0.00027206124999999833,
          -0.0002830004999999982,
          -0.0002929129999999981,
          -0.000301575499999998,
          -0.0003089879999999979,
          -0.0003151504999999978,
          -0.00032006299999999766,
          -0.00032372549999999754,
          -0.0003261379999999974,
          -0.0003273004999999973,
          -0.00032721299999999715,
          -0.000325875499999997,
          -0.0003232879999999969,
          -0.00031945049999999674,
          -0.0003143629999999966,
          -0.00030802549999999645,
          -0.0003004379999999963,
          -0.00029160049999999615,
          -0.000281512999999996,
          -0.0002801754999999958,
          -0.0002877504999999956,
          -0.00029395037499999543,
          -0.00029896287499999526,
          -0.0003027253749999951,
          -0.0003152378749999949,
          -0.0003265003749999947,
          -0.00033651287499999446,
          -0.00034527537499999425,
          -0.00035278787499999403,
          -0.0003590503749999938,
          -0.0003640628749999936,
          -0.00036782537499999336,
          -0.00037033787499999313,
          -0.0003716003749999929,
          -0.00037161287499999266,
          -0.00037040012499999246,
          -0.0003779251249999922,
          -0.000384200124999992,
          -0.00038922512499999174,
          -0.0003930001249999915,
          -0.00039552512499999124,
          -0.000396800124999991,
          -0.00039682512499999073,
          -0.00040577624999999043,
          -0.00041338874999999017,
          -0.0004197512499999899,
          -0.0004248637499999896,
          -0.00042872624999998934,
          -0.00043133874999998906,
          -0.00044270124999998874,
          -0.0004526359999999884,
          -0.0004615234999999881,
          -0.0004691609999999878,
          -0.0004755484999999875,
          -0.0004806859999999872,
          -0.00048457349999998686,
          -0.00048721099999998654,
          -0.0004885984999999862,
          -0.0004887359999999858,
          -0.0004876234999999855,
          -0.00048526099999998516,
          -0.0004816484999999848,
          -0.00048678599999998445,
          -0.0004906734999999841,
          -0.0004933109999999837,
          -0.0004946984999999834,
          -0.000494835999999983,
          -0.0004937234999999827,
          -0.0004913609999999823,
          -0.0004975979999999819,
          -0.0005026858749999815,
          -0.0005064733749999812,
          -0.0005090108749999807,
          -0.0005102983749999804,
          -0.00051032362499998,
          -0.0005090986249999795,
          -0.0005066976249999791,
          -0.0004937717098793034,
          -0.0004703709269048448,
          -0.0004364942288790612,
          -0.00039214161580195255,
          -0.00032962482543620055,
          -0.0002489438575598153,
          -0.00015010063228256438,
          -0.00003309323013185128,
          0.00010207642941972758,
          0.0002554083463721722,
          0.0004361273881563316,
          0.0006428843154776193,
          0.0008589795735708569,
          0.0011014600036080343,
          0.0013613275269522703,
          0.0016485761314506573,
          0.001924070539137634,
          0.0022270243968405667,
          0.0025573650303887504,
          0.0029327800550290935,
          0.003355496944436962,
          0.003832472949275024,
          0.004333636303330392,
          0.004869764264177731,
          0.0054978195931187235,
          0.006224538073751549,
          0.007039357680035526,
          0.007923053219655935,
          0.00884562132110202,
          0.009890901320842709,
          0.011071940260359334,
          0.012377275874856136,
          0.013912329143451481,
          0.015593157712846011,
          0.01743960005755337,
          0.01941356316402002,
          0.021560417844900516,
          0.023890195157672725,
          0.026410468904539894,
          0.029138206172861066,
          0.0321335217848243,
          0.035373160603084805,
          0.03879838527296303,
          0.04241808907753396,
          0.046208231490361885,
          0.05026517686314237,
          0.05455060399279183,
          0.05905444526469282,
          0.06374610717104258,
          0.06871267590907064,
          0.07391671763697831,
          0.07935809146987188,
          0.08502680655241003,
          0.09093275779253365,
          0.09707593368153894,
          0.10352251844830568,
          0.11013318454937196,
          0.11697179859919438,
          0.12397520978935121,
          0.13142849948118068,
          0.13880829449416926,
          0.14657659973001722,
          0.1545933625464556,
          0.16283103049062725,
          0.1713167958761986,
          0.18001121394328357,
          0.1890896060082474,
          0.19802211746095932,
          0.20735618685263915,
          0.21689098976898585,
          0.22674585847676174,
          0.2366802443704551,
          0.24674087245081744,
          0.2570857143354343,
          0.26765376484506737,
          0.2784219289504291,
          0.28939033070412107,
          0.3005409227001117,
          0.31184403535047467,
          0.32330899833298204,
          0.33489938601447244,
          0.34677700117487587,
          0.35867573070980624,
          0.370469161637054,
          0.3826149347797494,
          0.39512276953035874,
          0.4072399749042667,
          0.4198227139145022,
          0.43239618632365073,
          0.4449386004101945,
          0.4577064698742733,
          0.4705433214070266,
          0.4834387201201335,
          0.49640286829378844,
          0.5095586621487945,
          0.5226346994013631,
          0.5357620180953838,
          0.5489403191696973,
          0.5621891330050257,
          0.5754983323936053,
          0.5888679628365232,
          0.6022980698326852,
          0.6157794404658639,
          0.6291763417101488,
          0.642759944603705,
          0.6563949837836198
         ],
         "y": [
          0,
          0,
          0,
          0,
          0,
          0,
          0.00000828896717178153,
          0.000014818061397491464,
          0.000019702073242302253,
          0.000022875052259489556,
          0.000024336998449053367,
          0.000024088020894071938,
          0.000012128010512061968,
          -0.0000015430326975714912,
          -0.000006925108735423419,
          -0.000014018217600898834,
          -0.000022822359293997738,
          -0.00003333753381472013,
          -0.00004556363207998777,
          -0.000059500763172878886,
          -0.00007514892709339349,
          -0.00009250812384153158,
          -0.00011157835341729317,
          -0.00013235961582067825,
          -0.0001550941154355559,
          -0.0001793145538224642,
          -0.000205246025036996,
          -0.0002331822355511318,
          -0.0002523279335623757,
          -0.0002735753929320848,
          -0.00029653377604633914,
          -0.00032120319198821693,
          -0.00034758364075771826,
          -0.00037567512235484306,
          -0.00040547763677959136,
          -0.0004369910749488849,
          -0.00047021565502888016,
          -0.0005051511588534207,
          -0.0005417976955055847,
          -0.0005801552649853721,
          -0.0006202238672927831,
          -0.0006620035024278175,
          -0.0007054941703904755,
          -0.0007506958711807569,
          -0.0007976084957155836,
          -0.0008462321530780338,
          -0.0008965668432681075,
          -0.0009491503049475406,
          -0.001002369493234408,
          -0.001057837172824274,
          -0.0011150158852417634,
          -0.0011639056304874713,
          -0.0012145064085608026,
          -0.0012668182194617574,
          -0.0013208410631903357,
          -0.0013765749397465375,
          -0.0014440197400466897,
          -0.0015131755731744652,
          -0.0015840424391298643,
          -0.0016566203379128868,
          -0.001730909269523533,
          -0.0018069092339618024,
          -0.0018838261820300429,
          -0.001963231101795283,
          -0.0020443469453050684,
          -0.0021271738216424776,
          -0.002201711730808105,
          -0.0022779606728013557,
          -0.00235592064762223,
          -0.0024255916552713233,
          -0.0024977047975843656,
          -0.0025708149812169816,
          -0.0026456363067602993,
          -0.0027221686651312405,
          -0.0028004120563298054,
          -0.002880366589439072,
          -0.002962032155375962,
          -0.0030341036859223352,
          -0.0031093569877754246,
          -0.0031863213224561375,
          -0.0032649966899644736,
          -0.0033453830903004333,
          -0.0034374805234634216,
          -0.0035212889894546285,
          -0.0036068084882734585,
          -0.003694039019919912,
          -0.0037829805843939894,
          -0.00387363318169569,
          -0.003955996811825609,
          -0.004040071474783152,
          -0.004115857170568914,
          -0.004193353899182298,
          -0.004272561660623306,
          -0.004353480454891938,
          -0.004436110391071272,
          -0.004510451360078824,
          -0.004585725902670654,
          -0.004664266456404433,
          -0.004743740304637868,
          -0.004824925185698926,
          -0.004907820990504529,
          -0.00499329106667,
          -0.005079626046368296,
          -0.005175481602399704,
          -0.005275004427096112,
          -0.005385463043457664,
          -0.005506858607764987,
          -0.0056391911200180805,
          -0.005792460580150096,
          -0.005956666988227882,
          -0.006139496577817329,
          -0.006350951377657847,
          -0.006581029359010026,
          -0.006829730521873866,
          -0.007097054866249367,
          -0.007395217212030073,
          -0.007669176987087194,
          -0.00763548523408161,
          -0.007382767660773266,
          -0.006828808071456753,
          -0.005868934076573032,
          -0.004071757398046372,
          -0.001818887577692318,
          0.0007265898977651657,
          0.004050024283497267,
          0.007845401688988786,
          0.012169414045137323,
          0.01708226120346356,
          0.022150103167000397,
          0.027789031994097678,
          0.03380535279753173,
          0.0400213816330814,
          0.0465594155431107,
          0.05323634921474116,
          0.05974685847567074,
          0.06614156878294453,
          0.07248692313046312,
          0.0784884066379633,
          0.08425799924473315,
          0.08964061685848895,
          0.09424882216307083,
          0.0982280238291325,
          0.10153667741123876,
          0.1039816741618433,
          0.10547462636718893,
          0.10605721512285175,
          0.1052778455613845,
          0.1034549741938866,
          0.10060206129062017,
          0.09665084801495467,
          0.0916393768389155,
          0.08558452028735625,
          0.07857454743153376,
          0.07047512562684648,
          0.06137390945772748,
          0.05128009931831318,
          0.04019134426503822,
          0.02813459597909796,
          0.015118980086289247,
          0.0009928107177956825,
          -0.01393538668171372,
          -0.029815474620373025,
          -0.046462136333114995,
          -0.06473083551879502,
          -0.08335464487281957,
          -0.10349725641003374,
          -0.12472238151827074,
          -0.14706472857902295,
          -0.17039728378874458,
          -0.19485647444285953,
          -0.22123390565449297,
          -0.2476950797718801,
          -0.27599102969511,
          -0.3054218523836291,
          -0.3361888651235616,
          -0.3674773375265814,
          -0.39949364110558583,
          -0.43272924249091715,
          -0.466836029246778,
          -0.5018410470770205,
          -0.5378036627683952,
          -0.5745892329357276,
          -0.6122542546514254,
          -0.6503547034838449,
          -0.6890053293696188,
          -0.7286467194321968,
          -0.7684803028431556,
          -0.8079244729882137,
          -0.848937816552935,
          -0.8912719025517389,
          -0.932500206753118,
          -0.975226353017635,
          -1.0176060567555099,
          -1.059789392488792,
          -1.1026069919093704,
          -1.1454475624413083,
          -1.1881734880389043,
          -1.2308463180131075,
          -1.2737889665194018,
          -1.316056519911028,
          -1.358071986109966,
          -1.3997138685465425,
          -1.4410881397399946,
          -1.482152589800277,
          -1.5229241327452059,
          -1.5634196826033935,
          -1.60364620891801,
          -1.6432421906112071,
          -1.6830121572297994,
          -1.7225730138733775
         ],
         "z": [
          0,
          0,
          0,
          0,
          0,
          0,
          -0.08810100009566024,
          -0.26166878027720814,
          -0.5250907703461569,
          -0.8766137604016828,
          -1.3162377504437859,
          -1.8439527404724667,
          -2.4597687303786415,
          -3.1636857202713937,
          -3.9557037102598063,
          -4.835822700234796,
          -5.804042690196363,
          -6.860363680144507,
          -8.00477567007923,
          -9.237288660000528,
          -10.557902649908405,
          -11.966617639802857,
          -13.463433629683887,
          -15.048350619551496,
          -16.738988609404085,
          -18.50098860924471,
          -20.351089609071916,
          -22.3095634489837,
          -24.294476999092947,
          -26.40799998898692,
          -28.60961397886747,
          -30.899328968734594,
          -33.277144958588295,
          -35.743061948428576,
          -38.297079938255436,
          -40.93918892806887,
          -43.669408917868886,
          -46.487719907655475,
          -49.39413189742864,
          -52.388644887188384,
          -55.471258876934705,
          -58.641973866667605,
          -61.90078985638708,
          -65.24770684609314,
          -68.68271483578577,
          -72.20582382546499,
          -75.81703381513077,
          -79.55422773477952,
          -83.30376560452207,
          -87.17926859414759,
          -91.14287258375968,
          -95.19457757346744,
          -99.33438356316178,
          -103.56229055284268,
          -107.87829854251017,
          -112.28240753216423,
          -116.77460752169578,
          -121.35490851121392,
          -126.02331050071864,
          -130.77981349020993,
          -135.6244174796878,
          -140.55712246915223,
          -145.5268481988089,
          -150.63487417824663,
          -155.83099115767095,
          -161.11520913708185,
          -166.4875281165884,
          -171.94794809608155,
          -177.49646907556127,
          -183.13309105513662,
          -188.91595108459404,
          -194.72965607414244,
          -200.6314720636774,
          -206.62138905319893,
          -212.69940704270704,
          -218.86553603220173,
          -225.119766021683,
          -231.33352361186653,
          -237.76218358142813,
          -244.2789445509763,
          -250.88380652051103,
          -257.57676949003235,
          -264.35783345943116,
          -271.22699842892564,
          -278.1842643984067,
          -285.22963136787433,
          -292.36309933732855,
          -299.58466830676934,
          -306.8943382763058,
          -314.29210924582884,
          -321.77798121544754,
          -329.3519541850528,
          -337.0140281546447,
          -344.7642031242231,
          -352.6024890937881,
          -360.52887606344876,
          -368.46234695349966,
          -376.6459516118298,
          -384.83662148145015,
          -393.1153923510571,
          -401.48225422065065,
          -410.02264633802645,
          -418.566591117593,
          -427.0242692018506,
          -435.7426539606697,
          -444.5491297181993,
          -453.4437064744393,
          -462.4263842293896,
          -471.49716298064436,
          -480.6560427293598,
          -489.90301347424645,
          -499.238085213275,
          -508.6612479484747,
          -518.1725016798456,
          -527.7718464050027,
          -537.8504549572539,
          -547.2349798081751,
          -557.0985975640862,
          -567.0503062090181,
          -577.0900854784888,
          -587.2179849992839,
          -597.4339730084773,
          -607.7380508352541,
          -618.1302193307317,
          -628.6104660337792,
          -639.178822456914,
          -649.8352483009234,
          -660.5797733141352,
          -671.4123894816652,
          -682.3330749964648,
          -693.3418706734855,
          -704.4387771800103,
          -715.6237841214081,
          -726.8968718987849,
          -738.2580509281709,
          -749.5919658502418,
          -761.1284454614811,
          -772.7529954873359,
          -784.5836622559192,
          -796.3852639720745,
          -808.2749438132508,
          -820.2527123041322,
          -832.3185691222169,
          -844.4725228813036,
          -856.7145726406749,
          -869.0447485092175,
          -881.463006077253,
          -893.9693582901597,
          -906.4369881974653,
          -919.1186480119625,
          -931.88840218963,
          -944.7462509556124,
          -957.5618529830668,
          -970.5949903902242,
          -983.716222821008,
          -996.9255503799421,
          -1010.2229730747448,
          -1023.6084911717046,
          -1037.0821147712763,
          -1050.7803408138047,
          -1064.4310365656363,
          -1078.1698279293464,
          -1091.857573947204,
          -1106.0517535965944,
          -1119.7739041485477,
          -1133.8641921399449,
          -1148.0425742094706,
          -1162.3090500032288,
          -1176.6636208930686,
          -1191.1062955180719,
          -1205.9294839359459,
          -1220.255985127577,
          -1234.9629454090389,
          -1249.7579891796345,
          -1264.790869304158,
          -1279.7630160803785,
          -1294.6717729262448,
          -1309.8192095305217,
          -1325.054732558963,
          -1340.378341809645,
          -1355.7900468145342,
          -1371.2898388152898,
          -1386.8777474467718,
          -1402.5537562065783,
          -1418.317864183816,
          -1434.3294828937471,
          -1450.270649745185,
          -1465.9776043758623,
          -1482.093207629398,
          -1498.6227714411552,
          -1514.58871794465,
          -1531.1332691125847,
          -1547.6021240098141,
          -1563.9926377998559,
          -1580.6367830417846,
          -1597.3690292893655,
          -1614.1893665697585,
          -1631.097804812192,
          -1648.2652093461677,
          -1665.3507403357282,
          -1682.524351949636,
          -1699.7860537587364,
          -1717.1358761549338,
          -1734.5737989863321,
          -1752.0998223107574,
          -1769.7139461827892,
          -1787.4161606291266,
          -1805.0277004053216,
          -1822.905225217879,
          -1840.8708607672988
         ]
        }
       ],
       "layout": {
        "scene": {
         "xaxis": {
          "title": {
           "text": "Position X (m)"
          }
         },
         "yaxis": {
          "title": {
           "text": "Position Y (m)"
          }
         },
         "zaxis": {
          "title": {
           "text": "Position Z (m)"
          }
         }
        },
        "template": {
         "data": {
          "bar": [
           {
            "error_x": {
             "color": "#2a3f5f"
            },
            "error_y": {
             "color": "#2a3f5f"
            },
            "marker": {
             "line": {
              "color": "#E5ECF6",
              "width": 0.5
             },
             "pattern": {
              "fillmode": "overlay",
              "size": 10,
              "solidity": 0.2
             }
            },
            "type": "bar"
           }
          ],
          "barpolar": [
           {
            "marker": {
             "line": {
              "color": "#E5ECF6",
              "width": 0.5
             },
             "pattern": {
              "fillmode": "overlay",
              "size": 10,
              "solidity": 0.2
             }
            },
            "type": "barpolar"
           }
          ],
          "carpet": [
           {
            "aaxis": {
             "endlinecolor": "#2a3f5f",
             "gridcolor": "white",
             "linecolor": "white",
             "minorgridcolor": "white",
             "startlinecolor": "#2a3f5f"
            },
            "baxis": {
             "endlinecolor": "#2a3f5f",
             "gridcolor": "white",
             "linecolor": "white",
             "minorgridcolor": "white",
             "startlinecolor": "#2a3f5f"
            },
            "type": "carpet"
           }
          ],
          "choropleth": [
           {
            "colorbar": {
             "outlinewidth": 0,
             "ticks": ""
            },
            "type": "choropleth"
           }
          ],
          "contour": [
           {
            "colorbar": {
             "outlinewidth": 0,
             "ticks": ""
            },
            "colorscale": [
             [
              0,
              "#0d0887"
             ],
             [
              0.1111111111111111,
              "#46039f"
             ],
             [
              0.2222222222222222,
              "#7201a8"
             ],
             [
              0.3333333333333333,
              "#9c179e"
             ],
             [
              0.4444444444444444,
              "#bd3786"
             ],
             [
              0.5555555555555556,
              "#d8576b"
             ],
             [
              0.6666666666666666,
              "#ed7953"
             ],
             [
              0.7777777777777778,
              "#fb9f3a"
             ],
             [
              0.8888888888888888,
              "#fdca26"
             ],
             [
              1,
              "#f0f921"
             ]
            ],
            "type": "contour"
           }
          ],
          "contourcarpet": [
           {
            "colorbar": {
             "outlinewidth": 0,
             "ticks": ""
            },
            "type": "contourcarpet"
           }
          ],
          "heatmap": [
           {
            "colorbar": {
             "outlinewidth": 0,
             "ticks": ""
            },
            "colorscale": [
             [
              0,
              "#0d0887"
             ],
             [
              0.1111111111111111,
              "#46039f"
             ],
             [
              0.2222222222222222,
              "#7201a8"
             ],
             [
              0.3333333333333333,
              "#9c179e"
             ],
             [
              0.4444444444444444,
              "#bd3786"
             ],
             [
              0.5555555555555556,
              "#d8576b"
             ],
             [
              0.6666666666666666,
              "#ed7953"
             ],
             [
              0.7777777777777778,
              "#fb9f3a"
             ],
             [
              0.8888888888888888,
              "#fdca26"
             ],
             [
              1,
              "#f0f921"
             ]
            ],
            "type": "heatmap"
           }
          ],
          "heatmapgl": [
           {
            "colorbar": {
             "outlinewidth": 0,
             "ticks": ""
            },
            "colorscale": [
             [
              0,
              "#0d0887"
             ],
             [
              0.1111111111111111,
              "#46039f"
             ],
             [
              0.2222222222222222,
              "#7201a8"
             ],
             [
              0.3333333333333333,
              "#9c179e"
             ],
             [
              0.4444444444444444,
              "#bd3786"
             ],
             [
              0.5555555555555556,
              "#d8576b"
             ],
             [
              0.6666666666666666,
              "#ed7953"
             ],
             [
              0.7777777777777778,
              "#fb9f3a"
             ],
             [
              0.8888888888888888,
              "#fdca26"
             ],
             [
              1,
              "#f0f921"
             ]
            ],
            "type": "heatmapgl"
           }
          ],
          "histogram": [
           {
            "marker": {
             "pattern": {
              "fillmode": "overlay",
              "size": 10,
              "solidity": 0.2
             }
            },
            "type": "histogram"
           }
          ],
          "histogram2d": [
           {
            "colorbar": {
             "outlinewidth": 0,
             "ticks": ""
            },
            "colorscale": [
             [
              0,
              "#0d0887"
             ],
             [
              0.1111111111111111,
              "#46039f"
             ],
             [
              0.2222222222222222,
              "#7201a8"
             ],
             [
              0.3333333333333333,
              "#9c179e"
             ],
             [
              0.4444444444444444,
              "#bd3786"
             ],
             [
              0.5555555555555556,
              "#d8576b"
             ],
             [
              0.6666666666666666,
              "#ed7953"
             ],
             [
              0.7777777777777778,
              "#fb9f3a"
             ],
             [
              0.8888888888888888,
              "#fdca26"
             ],
             [
              1,
              "#f0f921"
             ]
            ],
            "type": "histogram2d"
           }
          ],
          "histogram2dcontour": [
           {
            "colorbar": {
             "outlinewidth": 0,
             "ticks": ""
            },
            "colorscale": [
             [
              0,
              "#0d0887"
             ],
             [
              0.1111111111111111,
              "#46039f"
             ],
             [
              0.2222222222222222,
              "#7201a8"
             ],
             [
              0.3333333333333333,
              "#9c179e"
             ],
             [
              0.4444444444444444,
              "#bd3786"
             ],
             [
              0.5555555555555556,
              "#d8576b"
             ],
             [
              0.6666666666666666,
              "#ed7953"
             ],
             [
              0.7777777777777778,
              "#fb9f3a"
             ],
             [
              0.8888888888888888,
              "#fdca26"
             ],
             [
              1,
              "#f0f921"
             ]
            ],
            "type": "histogram2dcontour"
           }
          ],
          "mesh3d": [
           {
            "colorbar": {
             "outlinewidth": 0,
             "ticks": ""
            },
            "type": "mesh3d"
           }
          ],
          "parcoords": [
           {
            "line": {
             "colorbar": {
              "outlinewidth": 0,
              "ticks": ""
             }
            },
            "type": "parcoords"
           }
          ],
          "pie": [
           {
            "automargin": true,
            "type": "pie"
           }
          ],
          "scatter": [
           {
            "fillpattern": {
             "fillmode": "overlay",
             "size": 10,
             "solidity": 0.2
            },
            "type": "scatter"
           }
          ],
          "scatter3d": [
           {
            "line": {
             "colorbar": {
              "outlinewidth": 0,
              "ticks": ""
             }
            },
            "marker": {
             "colorbar": {
              "outlinewidth": 0,
              "ticks": ""
             }
            },
            "type": "scatter3d"
           }
          ],
          "scattercarpet": [
           {
            "marker": {
             "colorbar": {
              "outlinewidth": 0,
              "ticks": ""
             }
            },
            "type": "scattercarpet"
           }
          ],
          "scattergeo": [
           {
            "marker": {
             "colorbar": {
              "outlinewidth": 0,
              "ticks": ""
             }
            },
            "type": "scattergeo"
           }
          ],
          "scattergl": [
           {
            "marker": {
             "colorbar": {
              "outlinewidth": 0,
              "ticks": ""
             }
            },
            "type": "scattergl"
           }
          ],
          "scattermapbox": [
           {
            "marker": {
             "colorbar": {
              "outlinewidth": 0,
              "ticks": ""
             }
            },
            "type": "scattermapbox"
           }
          ],
          "scatterpolar": [
           {
            "marker": {
             "colorbar": {
              "outlinewidth": 0,
              "ticks": ""
             }
            },
            "type": "scatterpolar"
           }
          ],
          "scatterpolargl": [
           {
            "marker": {
             "colorbar": {
              "outlinewidth": 0,
              "ticks": ""
             }
            },
            "type": "scatterpolargl"
           }
          ],
          "scatterternary": [
           {
            "marker": {
             "colorbar": {
              "outlinewidth": 0,
              "ticks": ""
             }
            },
            "type": "scatterternary"
           }
          ],
          "surface": [
           {
            "colorbar": {
             "outlinewidth": 0,
             "ticks": ""
            },
            "colorscale": [
             [
              0,
              "#0d0887"
             ],
             [
              0.1111111111111111,
              "#46039f"
             ],
             [
              0.2222222222222222,
              "#7201a8"
             ],
             [
              0.3333333333333333,
              "#9c179e"
             ],
             [
              0.4444444444444444,
              "#bd3786"
             ],
             [
              0.5555555555555556,
              "#d8576b"
             ],
             [
              0.6666666666666666,
              "#ed7953"
             ],
             [
              0.7777777777777778,
              "#fb9f3a"
             ],
             [
              0.8888888888888888,
              "#fdca26"
             ],
             [
              1,
              "#f0f921"
             ]
            ],
            "type": "surface"
           }
          ],
          "table": [
           {
            "cells": {
             "fill": {
              "color": "#EBF0F8"
             },
             "line": {
              "color": "white"
             }
            },
            "header": {
             "fill": {
              "color": "#C8D4E3"
             },
             "line": {
              "color": "white"
             }
            },
            "type": "table"
           }
          ]
         },
         "layout": {
          "annotationdefaults": {
           "arrowcolor": "#2a3f5f",
           "arrowhead": 0,
           "arrowwidth": 1
          },
          "autotypenumbers": "strict",
          "coloraxis": {
           "colorbar": {
            "outlinewidth": 0,
            "ticks": ""
           }
          },
          "colorscale": {
           "diverging": [
            [
             0,
             "#8e0152"
            ],
            [
             0.1,
             "#c51b7d"
            ],
            [
             0.2,
             "#de77ae"
            ],
            [
             0.3,
             "#f1b6da"
            ],
            [
             0.4,
             "#fde0ef"
            ],
            [
             0.5,
             "#f7f7f7"
            ],
            [
             0.6,
             "#e6f5d0"
            ],
            [
             0.7,
             "#b8e186"
            ],
            [
             0.8,
             "#7fbc41"
            ],
            [
             0.9,
             "#4d9221"
            ],
            [
             1,
             "#276419"
            ]
           ],
           "sequential": [
            [
             0,
             "#0d0887"
            ],
            [
             0.1111111111111111,
             "#46039f"
            ],
            [
             0.2222222222222222,
             "#7201a8"
            ],
            [
             0.3333333333333333,
             "#9c179e"
            ],
            [
             0.4444444444444444,
             "#bd3786"
            ],
            [
             0.5555555555555556,
             "#d8576b"
            ],
            [
             0.6666666666666666,
             "#ed7953"
            ],
            [
             0.7777777777777778,
             "#fb9f3a"
            ],
            [
             0.8888888888888888,
             "#fdca26"
            ],
            [
             1,
             "#f0f921"
            ]
           ],
           "sequentialminus": [
            [
             0,
             "#0d0887"
            ],
            [
             0.1111111111111111,
             "#46039f"
            ],
            [
             0.2222222222222222,
             "#7201a8"
            ],
            [
             0.3333333333333333,
             "#9c179e"
            ],
            [
             0.4444444444444444,
             "#bd3786"
            ],
            [
             0.5555555555555556,
             "#d8576b"
            ],
            [
             0.6666666666666666,
             "#ed7953"
            ],
            [
             0.7777777777777778,
             "#fb9f3a"
            ],
            [
             0.8888888888888888,
             "#fdca26"
            ],
            [
             1,
             "#f0f921"
            ]
           ]
          },
          "colorway": [
           "#636efa",
           "#EF553B",
           "#00cc96",
           "#ab63fa",
           "#FFA15A",
           "#19d3f3",
           "#FF6692",
           "#B6E880",
           "#FF97FF",
           "#FECB52"
          ],
          "font": {
           "color": "#2a3f5f"
          },
          "geo": {
           "bgcolor": "white",
           "lakecolor": "white",
           "landcolor": "#E5ECF6",
           "showlakes": true,
           "showland": true,
           "subunitcolor": "white"
          },
          "hoverlabel": {
           "align": "left"
          },
          "hovermode": "closest",
          "mapbox": {
           "style": "light"
          },
          "paper_bgcolor": "white",
          "plot_bgcolor": "#E5ECF6",
          "polar": {
           "angularaxis": {
            "gridcolor": "white",
            "linecolor": "white",
            "ticks": ""
           },
           "bgcolor": "#E5ECF6",
           "radialaxis": {
            "gridcolor": "white",
            "linecolor": "white",
            "ticks": ""
           }
          },
          "scene": {
           "xaxis": {
            "backgroundcolor": "#E5ECF6",
            "gridcolor": "white",
            "gridwidth": 2,
            "linecolor": "white",
            "showbackground": true,
            "ticks": "",
            "zerolinecolor": "white"
           },
           "yaxis": {
            "backgroundcolor": "#E5ECF6",
            "gridcolor": "white",
            "gridwidth": 2,
            "linecolor": "white",
            "showbackground": true,
            "ticks": "",
            "zerolinecolor": "white"
           },
           "zaxis": {
            "backgroundcolor": "#E5ECF6",
            "gridcolor": "white",
            "gridwidth": 2,
            "linecolor": "white",
            "showbackground": true,
            "ticks": "",
            "zerolinecolor": "white"
           }
          },
          "shapedefaults": {
           "line": {
            "color": "#2a3f5f"
           }
          },
          "ternary": {
           "aaxis": {
            "gridcolor": "white",
            "linecolor": "white",
            "ticks": ""
           },
           "baxis": {
            "gridcolor": "white",
            "linecolor": "white",
            "ticks": ""
           },
           "bgcolor": "#E5ECF6",
           "caxis": {
            "gridcolor": "white",
            "linecolor": "white",
            "ticks": ""
           }
          },
          "title": {
           "x": 0.05
          },
          "xaxis": {
           "automargin": true,
           "gridcolor": "white",
           "linecolor": "white",
           "ticks": "",
           "title": {
            "standoff": 15
           },
           "zerolinecolor": "white",
           "zerolinewidth": 2
          },
          "yaxis": {
           "automargin": true,
           "gridcolor": "white",
           "linecolor": "white",
           "ticks": "",
           "title": {
            "standoff": 15
           },
           "zerolinecolor": "white",
           "zerolinewidth": 2
          }
         }
        },
        "title": {
         "text": "3D-Positionsdaten des Sensors ab Index 5"
        }
       }
      }
     },
     "metadata": {},
     "output_type": "display_data"
    }
   ],
   "source": [
    "import pandas as pd\n",
    "import plotly.graph_objects as go\n",
    "\n",
    "# Beispiel DataFrame laden\n",
    "data = df\n",
    "\n",
    "# Beschneide die Daten ab Index 5\n",
    "data_subset = data.iloc[5:]\n",
    "\n",
    "# Erstelle eine 3D-Figur\n",
    "fig = go.Figure()\n",
    "\n",
    "# Füge die Daten ab Index 5 hinzu\n",
    "fig.add_trace(go.Scatter3d(\n",
    "    x=data_subset['Position X(m)'],\n",
    "    y=data_subset['Position Y(m)'],\n",
    "    z=data_subset['Position Z(m)'],\n",
    "    mode='markers+lines',\n",
    "    marker=dict(size=2, color='blue'),\n",
    "    line=dict(width=2)\n",
    "))\n",
    "\n",
    "# Füge Titel und Achsenbeschriftungen hinzu\n",
    "fig.update_layout(\n",
    "    title='3D-Positionsdaten des Sensors ab Index 5',\n",
    "    scene=dict(\n",
    "        xaxis_title='Position X (m)',\n",
    "        yaxis_title='Position Y (m)',\n",
    "        zaxis_title='Position Z (m)'\n",
    "    )\n",
    ")\n",
    "\n",
    "# Zeige das Diagramm an\n",
    "fig.show()\n",
    "\n",
    "# Speichere die Figur als HTML-Datei\n",
    "fig.write_html('3d_plot.html')\n",
    "\n",
    "\n",
    "\n"
   ]
  },
  {
   "cell_type": "code",
   "execution_count": 91,
   "metadata": {},
   "outputs": [
    {
     "data": {
      "application/vnd.plotly.v1+json": {
       "config": {
        "plotlyServerURL": "https://plot.ly"
       },
       "data": [
        {
         "hoverinfo": "text",
         "line": {
          "width": 2
         },
         "marker": {
          "color": "blue",
          "size": 2
         },
         "mode": "markers+lines",
         "text": [
          120,
          121,
          122,
          123,
          124,
          125,
          126,
          127,
          128,
          129,
          130,
          131,
          132,
          133,
          134,
          135,
          136,
          137,
          138,
          139,
          140,
          141,
          142,
          143,
          144,
          145,
          146,
          147,
          148,
          149,
          150,
          151,
          152,
          153,
          154,
          155,
          156,
          157,
          158,
          159,
          160,
          161,
          162,
          163,
          164,
          165,
          166,
          167,
          168,
          169,
          170,
          171,
          172,
          173,
          174,
          175,
          176,
          177,
          178,
          179,
          180,
          181,
          182,
          183,
          184,
          185,
          186,
          187,
          188,
          189,
          190,
          191,
          192,
          193,
          194,
          195,
          196,
          197,
          198,
          199,
          200,
          201,
          202,
          203,
          204,
          205,
          206,
          207,
          208,
          209,
          210,
          211,
          212,
          213,
          214
         ],
         "type": "scatter3d",
         "x": [
          -0.00050807229672688,
          -0.0005239274536645957,
          -0.000552192927781813,
          -0.0005922021926333785,
          -0.0006339612271621008,
          -0.0007063722785000239,
          -0.0007804864740393166,
          -0.0008563444083181139,
          -0.0009248262267485687,
          -0.0009750854984594486,
          -0.001019010093186469,
          -0.0010866221433616108,
          -0.0011568760250940413,
          -0.0011915808134602363,
          -0.001202864527508361,
          -0.0012116873068983328,
          -0.001226962688991006,
          -0.0012787332901493635,
          -0.001320888040689761,
          -0.0013883733381936764,
          -0.0014584735367078761,
          -0.001463544419198533,
          -0.0014839342425478868,
          -0.0015201188674882347,
          -0.0015712908532289562,
          -0.0016296352893598702,
          -0.0016851976033499395,
          -0.0017388713327832189,
          -0.0017925469374397767,
          -0.0017861971368355273,
          -0.0017169252315907973,
          -0.00165423960061503,
          -0.001589772583787062,
          -0.0015369513669712396,
          -0.001485700870085747,
          -0.0014365503926079967,
          -0.0013994920377550786,
          -0.0013658665895167634,
          -0.001345062392156202,
          -0.0013273869027548458,
          -0.001312833392169636,
          -0.0013113592844212036,
          -0.001312996116218688,
          -0.001317715271431833,
          -0.0013256075302599925,
          -0.0013354652546376687,
          -0.0013473275432329692,
          -0.0013512315996330544,
          -0.0013568078315114845,
          -0.00137423565959661,
          -0.001394684732866637,
          -0.0013971102550347485,
          -0.0014006043616315396,
          -0.0013864684814603545,
          -0.0013940002906523152,
          -0.0014223855032691518,
          -0.0014610049774816916,
          -0.00151198583267145,
          -0.0015842732885918563,
          -0.0016588241526748146,
          -0.0017854056745413864,
          -0.0019018964252534155,
          -0.00203908202647323,
          -0.0021447115769004225,
          -0.0022604762502662214,
          -0.0023859988990323814,
          -0.002530748840878494,
          -0.0027243610585805673,
          -0.002947168924693492,
          -0.0032165994534522667,
          -0.003483959165371889,
          -0.003762724377384831,
          -0.004049753458003994,
          -0.004374684460404944,
          -0.004706280357114659,
          -0.0050450316014452904,
          -0.005426905653162727,
          -0.005795317187637811,
          -0.006158513435805951,
          -0.006512918389001207,
          -0.006874111023769505,
          -0.007252272796587101,
          -0.007637004191233912,
          -0.008031507834516805,
          -0.008438113470402353,
          -0.00884920375492262,
          -0.009264798139446877,
          -0.009675725985561613,
          -0.010092137551196069,
          -0.010514038043861562,
          -0.010941432670821021,
          -0.011373303649096998,
          -0.011805219150268227,
          -0.012245987047053708,
          -0.012691238374948337
         ],
         "y": [
          0.000009038768886456627,
          0.000025181522454651212,
          0.0003724158882676078,
          0.0008831988693803134,
          0.0015369318243479123,
          0.0023440439818816715,
          0.0036228267137517825,
          0.00485972342759429,
          0.005872799489198502,
          0.007174818053778708,
          0.008422064964057143,
          0.009652378853321457,
          0.010992790321994687,
          0.012047143305529194,
          0.013269221070791721,
          0.014503047189335545,
          0.015579500069075011,
          0.016696280521576755,
          0.017718271250237186,
          0.018424127481203957,
          0.019073293129383818,
          0.019718952885130866,
          0.02019144042417094,
          0.020655726420317797,
          0.021163592311587046,
          0.02136929662637239,
          0.021512477985003737,
          0.021597890741784476,
          0.02148040180790372,
          0.021136716217833505,
          0.02074020594925373,
          0.019941667972166337,
          0.01917263147739679,
          0.018443079935896518,
          0.017738636104484232,
          0.017065613595501565,
          0.01642203683340303,
          0.015802199065727256,
          0.015202833352087615,
          0.014628199261541538,
          0.014077241523751196,
          0.013539041807802748,
          0.013021703515803916,
          0.01252407137864249,
          0.012030569071887758,
          0.01155982763226755,
          0.011096961453249175,
          0.01064561879812239,
          0.010052632691086928,
          0.009369295344090757,
          0.008578687277436263,
          0.007788701686079476,
          0.006992079217226442,
          0.006296951962688591,
          0.005529196371091412,
          0.00443326253374049,
          0.003346829760788346,
          0.0021294163329905473,
          0.0009631497206971577,
          -0.00008523661617872527,
          -0.0008849300852107916,
          -0.0017110449083329133,
          -0.0024437184587379345,
          -0.0030772553083859076,
          -0.0036867184590464175,
          -0.004388001937675224,
          -0.005073869760675713,
          -0.0058385373808533935,
          -0.006275660881780872,
          -0.0065839228209944875,
          -0.006883735440611939,
          -0.007236977278455385,
          -0.007537355861132784,
          -0.00820310135400633,
          -0.008941612820265088,
          -0.00977046590538316,
          -0.010428027405015045,
          -0.01082594109248956,
          -0.011216477101449442,
          -0.011621266206240129,
          -0.01193510575401975,
          -0.012095762369504439,
          -0.012229893272957575,
          -0.012293212375913215,
          -0.012218201550999841,
          -0.012172928981049254,
          -0.012148988535428533,
          -0.012223249802614038,
          -0.012344935073034267,
          -0.012512109152063309,
          -0.012722836843398469,
          -0.012965210819022948,
          -0.013243017234938832,
          -0.013550345194827089,
          -0.013882403811041178
         ],
         "z": [
          -537.355950007632,
          -546.7318466511747,
          -556.5863956960443,
          -566.5289546499301,
          -576.5595033602795,
          -586.6780916485502,
          -596.8846881103711,
          -607.1792946549651,
          -617.5619122337037,
          -628.0325282421537,
          -638.5911743952392,
          -649.2378104966779,
          -659.9724659417059,
          -670.7951325479042,
          -681.7057883587839,
          -692.7044740500991,
          -703.7911902491652,
          -714.9659263160938,
          -726.2286625622532,
          -737.579409306717,
          -748.9029169795874,
          -760.4288033886603,
          -772.0426794928991,
          -783.8624834960215,
          -795.6532498588623,
          -807.5320146476148,
          -819.4987888855763,
          -831.5535725442013,
          -843.6963745864862,
          -855.9271945315612,
          -868.2460634984507,
          -880.65293804572,
          -893.1478322904833,
          -905.6040457289322,
          -918.2740992118466,
          -931.0321723981178,
          -943.8782653049359,
          -956.6821554773907,
          -969.7033875884192,
          -982.8126393844387,
          -996.0099108629132,
          -1009.295201943167,
          -1022.6685126996537,
          -1036.1298531297161,
          -1049.8155957310255,
          -1063.4538556005632,
          -1077.1801350424766,
          -1090.85541964964,
          -1105.0366810715004,
          -1118.746347349218,
          -1132.8238211457092,
          -1146.9893142655421,
          -1161.242826642003,
          -1175.5843594547316,
          -1190.0139209305203,
          -1204.8236560236232,
          -1219.1371601784265,
          -1233.8307846116472,
          -1248.6124189488746,
          -1263.6316800240174,
          -1278.5902676318344,
          -1293.4855270188639,
          -1308.6192541036032,
          -1323.8409915945322,
          -1339.1507388649552,
          -1354.5485049315346,
          -1370.034280780089,
          -1385.6080957305624,
          -1401.2699329598356,
          -1417.019790905496,
          -1433.0169364870114,
          -1448.9436940484743,
          -1464.6364509848315,
          -1480.7374867354836,
          -1497.2521084436528,
          -1513.2036220961486,
          -1529.733216977463,
          -1546.1871832806123,
          -1562.5628782963481,
          -1579.1919743166864,
          -1595.9090904380057,
          -1612.7142166287424,
          -1629.6073628140052,
          -1646.759239801038,
          -1663.8293160683997,
          -1680.9873923804325,
          -1698.2334786975803,
          -1715.5676053053996,
          -1732.9897520204609,
          -1750.4999188338477,
          -1768.0981057370154,
          -1785.7843026906987,
          -1803.3799061446439,
          -1821.2412530030717,
          -1839.19062989276
         ]
        }
       ],
       "layout": {
        "scene": {
         "xaxis": {
          "title": {
           "text": "Position X (m)"
          }
         },
         "yaxis": {
          "title": {
           "text": "Position Y (m)"
          }
         },
         "zaxis": {
          "title": {
           "text": "Position Z (m)"
          }
         }
        },
        "template": {
         "data": {
          "bar": [
           {
            "error_x": {
             "color": "#2a3f5f"
            },
            "error_y": {
             "color": "#2a3f5f"
            },
            "marker": {
             "line": {
              "color": "#E5ECF6",
              "width": 0.5
             },
             "pattern": {
              "fillmode": "overlay",
              "size": 10,
              "solidity": 0.2
             }
            },
            "type": "bar"
           }
          ],
          "barpolar": [
           {
            "marker": {
             "line": {
              "color": "#E5ECF6",
              "width": 0.5
             },
             "pattern": {
              "fillmode": "overlay",
              "size": 10,
              "solidity": 0.2
             }
            },
            "type": "barpolar"
           }
          ],
          "carpet": [
           {
            "aaxis": {
             "endlinecolor": "#2a3f5f",
             "gridcolor": "white",
             "linecolor": "white",
             "minorgridcolor": "white",
             "startlinecolor": "#2a3f5f"
            },
            "baxis": {
             "endlinecolor": "#2a3f5f",
             "gridcolor": "white",
             "linecolor": "white",
             "minorgridcolor": "white",
             "startlinecolor": "#2a3f5f"
            },
            "type": "carpet"
           }
          ],
          "choropleth": [
           {
            "colorbar": {
             "outlinewidth": 0,
             "ticks": ""
            },
            "type": "choropleth"
           }
          ],
          "contour": [
           {
            "colorbar": {
             "outlinewidth": 0,
             "ticks": ""
            },
            "colorscale": [
             [
              0,
              "#0d0887"
             ],
             [
              0.1111111111111111,
              "#46039f"
             ],
             [
              0.2222222222222222,
              "#7201a8"
             ],
             [
              0.3333333333333333,
              "#9c179e"
             ],
             [
              0.4444444444444444,
              "#bd3786"
             ],
             [
              0.5555555555555556,
              "#d8576b"
             ],
             [
              0.6666666666666666,
              "#ed7953"
             ],
             [
              0.7777777777777778,
              "#fb9f3a"
             ],
             [
              0.8888888888888888,
              "#fdca26"
             ],
             [
              1,
              "#f0f921"
             ]
            ],
            "type": "contour"
           }
          ],
          "contourcarpet": [
           {
            "colorbar": {
             "outlinewidth": 0,
             "ticks": ""
            },
            "type": "contourcarpet"
           }
          ],
          "heatmap": [
           {
            "colorbar": {
             "outlinewidth": 0,
             "ticks": ""
            },
            "colorscale": [
             [
              0,
              "#0d0887"
             ],
             [
              0.1111111111111111,
              "#46039f"
             ],
             [
              0.2222222222222222,
              "#7201a8"
             ],
             [
              0.3333333333333333,
              "#9c179e"
             ],
             [
              0.4444444444444444,
              "#bd3786"
             ],
             [
              0.5555555555555556,
              "#d8576b"
             ],
             [
              0.6666666666666666,
              "#ed7953"
             ],
             [
              0.7777777777777778,
              "#fb9f3a"
             ],
             [
              0.8888888888888888,
              "#fdca26"
             ],
             [
              1,
              "#f0f921"
             ]
            ],
            "type": "heatmap"
           }
          ],
          "heatmapgl": [
           {
            "colorbar": {
             "outlinewidth": 0,
             "ticks": ""
            },
            "colorscale": [
             [
              0,
              "#0d0887"
             ],
             [
              0.1111111111111111,
              "#46039f"
             ],
             [
              0.2222222222222222,
              "#7201a8"
             ],
             [
              0.3333333333333333,
              "#9c179e"
             ],
             [
              0.4444444444444444,
              "#bd3786"
             ],
             [
              0.5555555555555556,
              "#d8576b"
             ],
             [
              0.6666666666666666,
              "#ed7953"
             ],
             [
              0.7777777777777778,
              "#fb9f3a"
             ],
             [
              0.8888888888888888,
              "#fdca26"
             ],
             [
              1,
              "#f0f921"
             ]
            ],
            "type": "heatmapgl"
           }
          ],
          "histogram": [
           {
            "marker": {
             "pattern": {
              "fillmode": "overlay",
              "size": 10,
              "solidity": 0.2
             }
            },
            "type": "histogram"
           }
          ],
          "histogram2d": [
           {
            "colorbar": {
             "outlinewidth": 0,
             "ticks": ""
            },
            "colorscale": [
             [
              0,
              "#0d0887"
             ],
             [
              0.1111111111111111,
              "#46039f"
             ],
             [
              0.2222222222222222,
              "#7201a8"
             ],
             [
              0.3333333333333333,
              "#9c179e"
             ],
             [
              0.4444444444444444,
              "#bd3786"
             ],
             [
              0.5555555555555556,
              "#d8576b"
             ],
             [
              0.6666666666666666,
              "#ed7953"
             ],
             [
              0.7777777777777778,
              "#fb9f3a"
             ],
             [
              0.8888888888888888,
              "#fdca26"
             ],
             [
              1,
              "#f0f921"
             ]
            ],
            "type": "histogram2d"
           }
          ],
          "histogram2dcontour": [
           {
            "colorbar": {
             "outlinewidth": 0,
             "ticks": ""
            },
            "colorscale": [
             [
              0,
              "#0d0887"
             ],
             [
              0.1111111111111111,
              "#46039f"
             ],
             [
              0.2222222222222222,
              "#7201a8"
             ],
             [
              0.3333333333333333,
              "#9c179e"
             ],
             [
              0.4444444444444444,
              "#bd3786"
             ],
             [
              0.5555555555555556,
              "#d8576b"
             ],
             [
              0.6666666666666666,
              "#ed7953"
             ],
             [
              0.7777777777777778,
              "#fb9f3a"
             ],
             [
              0.8888888888888888,
              "#fdca26"
             ],
             [
              1,
              "#f0f921"
             ]
            ],
            "type": "histogram2dcontour"
           }
          ],
          "mesh3d": [
           {
            "colorbar": {
             "outlinewidth": 0,
             "ticks": ""
            },
            "type": "mesh3d"
           }
          ],
          "parcoords": [
           {
            "line": {
             "colorbar": {
              "outlinewidth": 0,
              "ticks": ""
             }
            },
            "type": "parcoords"
           }
          ],
          "pie": [
           {
            "automargin": true,
            "type": "pie"
           }
          ],
          "scatter": [
           {
            "fillpattern": {
             "fillmode": "overlay",
             "size": 10,
             "solidity": 0.2
            },
            "type": "scatter"
           }
          ],
          "scatter3d": [
           {
            "line": {
             "colorbar": {
              "outlinewidth": 0,
              "ticks": ""
             }
            },
            "marker": {
             "colorbar": {
              "outlinewidth": 0,
              "ticks": ""
             }
            },
            "type": "scatter3d"
           }
          ],
          "scattercarpet": [
           {
            "marker": {
             "colorbar": {
              "outlinewidth": 0,
              "ticks": ""
             }
            },
            "type": "scattercarpet"
           }
          ],
          "scattergeo": [
           {
            "marker": {
             "colorbar": {
              "outlinewidth": 0,
              "ticks": ""
             }
            },
            "type": "scattergeo"
           }
          ],
          "scattergl": [
           {
            "marker": {
             "colorbar": {
              "outlinewidth": 0,
              "ticks": ""
             }
            },
            "type": "scattergl"
           }
          ],
          "scattermapbox": [
           {
            "marker": {
             "colorbar": {
              "outlinewidth": 0,
              "ticks": ""
             }
            },
            "type": "scattermapbox"
           }
          ],
          "scatterpolar": [
           {
            "marker": {
             "colorbar": {
              "outlinewidth": 0,
              "ticks": ""
             }
            },
            "type": "scatterpolar"
           }
          ],
          "scatterpolargl": [
           {
            "marker": {
             "colorbar": {
              "outlinewidth": 0,
              "ticks": ""
             }
            },
            "type": "scatterpolargl"
           }
          ],
          "scatterternary": [
           {
            "marker": {
             "colorbar": {
              "outlinewidth": 0,
              "ticks": ""
             }
            },
            "type": "scatterternary"
           }
          ],
          "surface": [
           {
            "colorbar": {
             "outlinewidth": 0,
             "ticks": ""
            },
            "colorscale": [
             [
              0,
              "#0d0887"
             ],
             [
              0.1111111111111111,
              "#46039f"
             ],
             [
              0.2222222222222222,
              "#7201a8"
             ],
             [
              0.3333333333333333,
              "#9c179e"
             ],
             [
              0.4444444444444444,
              "#bd3786"
             ],
             [
              0.5555555555555556,
              "#d8576b"
             ],
             [
              0.6666666666666666,
              "#ed7953"
             ],
             [
              0.7777777777777778,
              "#fb9f3a"
             ],
             [
              0.8888888888888888,
              "#fdca26"
             ],
             [
              1,
              "#f0f921"
             ]
            ],
            "type": "surface"
           }
          ],
          "table": [
           {
            "cells": {
             "fill": {
              "color": "#EBF0F8"
             },
             "line": {
              "color": "white"
             }
            },
            "header": {
             "fill": {
              "color": "#C8D4E3"
             },
             "line": {
              "color": "white"
             }
            },
            "type": "table"
           }
          ]
         },
         "layout": {
          "annotationdefaults": {
           "arrowcolor": "#2a3f5f",
           "arrowhead": 0,
           "arrowwidth": 1
          },
          "autotypenumbers": "strict",
          "coloraxis": {
           "colorbar": {
            "outlinewidth": 0,
            "ticks": ""
           }
          },
          "colorscale": {
           "diverging": [
            [
             0,
             "#8e0152"
            ],
            [
             0.1,
             "#c51b7d"
            ],
            [
             0.2,
             "#de77ae"
            ],
            [
             0.3,
             "#f1b6da"
            ],
            [
             0.4,
             "#fde0ef"
            ],
            [
             0.5,
             "#f7f7f7"
            ],
            [
             0.6,
             "#e6f5d0"
            ],
            [
             0.7,
             "#b8e186"
            ],
            [
             0.8,
             "#7fbc41"
            ],
            [
             0.9,
             "#4d9221"
            ],
            [
             1,
             "#276419"
            ]
           ],
           "sequential": [
            [
             0,
             "#0d0887"
            ],
            [
             0.1111111111111111,
             "#46039f"
            ],
            [
             0.2222222222222222,
             "#7201a8"
            ],
            [
             0.3333333333333333,
             "#9c179e"
            ],
            [
             0.4444444444444444,
             "#bd3786"
            ],
            [
             0.5555555555555556,
             "#d8576b"
            ],
            [
             0.6666666666666666,
             "#ed7953"
            ],
            [
             0.7777777777777778,
             "#fb9f3a"
            ],
            [
             0.8888888888888888,
             "#fdca26"
            ],
            [
             1,
             "#f0f921"
            ]
           ],
           "sequentialminus": [
            [
             0,
             "#0d0887"
            ],
            [
             0.1111111111111111,
             "#46039f"
            ],
            [
             0.2222222222222222,
             "#7201a8"
            ],
            [
             0.3333333333333333,
             "#9c179e"
            ],
            [
             0.4444444444444444,
             "#bd3786"
            ],
            [
             0.5555555555555556,
             "#d8576b"
            ],
            [
             0.6666666666666666,
             "#ed7953"
            ],
            [
             0.7777777777777778,
             "#fb9f3a"
            ],
            [
             0.8888888888888888,
             "#fdca26"
            ],
            [
             1,
             "#f0f921"
            ]
           ]
          },
          "colorway": [
           "#636efa",
           "#EF553B",
           "#00cc96",
           "#ab63fa",
           "#FFA15A",
           "#19d3f3",
           "#FF6692",
           "#B6E880",
           "#FF97FF",
           "#FECB52"
          ],
          "font": {
           "color": "#2a3f5f"
          },
          "geo": {
           "bgcolor": "white",
           "lakecolor": "white",
           "landcolor": "#E5ECF6",
           "showlakes": true,
           "showland": true,
           "subunitcolor": "white"
          },
          "hoverlabel": {
           "align": "left"
          },
          "hovermode": "closest",
          "mapbox": {
           "style": "light"
          },
          "paper_bgcolor": "white",
          "plot_bgcolor": "#E5ECF6",
          "polar": {
           "angularaxis": {
            "gridcolor": "white",
            "linecolor": "white",
            "ticks": ""
           },
           "bgcolor": "#E5ECF6",
           "radialaxis": {
            "gridcolor": "white",
            "linecolor": "white",
            "ticks": ""
           }
          },
          "scene": {
           "xaxis": {
            "backgroundcolor": "#E5ECF6",
            "gridcolor": "white",
            "gridwidth": 2,
            "linecolor": "white",
            "showbackground": true,
            "ticks": "",
            "zerolinecolor": "white"
           },
           "yaxis": {
            "backgroundcolor": "#E5ECF6",
            "gridcolor": "white",
            "gridwidth": 2,
            "linecolor": "white",
            "showbackground": true,
            "ticks": "",
            "zerolinecolor": "white"
           },
           "zaxis": {
            "backgroundcolor": "#E5ECF6",
            "gridcolor": "white",
            "gridwidth": 2,
            "linecolor": "white",
            "showbackground": true,
            "ticks": "",
            "zerolinecolor": "white"
           }
          },
          "shapedefaults": {
           "line": {
            "color": "#2a3f5f"
           }
          },
          "ternary": {
           "aaxis": {
            "gridcolor": "white",
            "linecolor": "white",
            "ticks": ""
           },
           "baxis": {
            "gridcolor": "white",
            "linecolor": "white",
            "ticks": ""
           },
           "bgcolor": "#E5ECF6",
           "caxis": {
            "gridcolor": "white",
            "linecolor": "white",
            "ticks": ""
           }
          },
          "title": {
           "x": 0.05
          },
          "xaxis": {
           "automargin": true,
           "gridcolor": "white",
           "linecolor": "white",
           "ticks": "",
           "title": {
            "standoff": 15
           },
           "zerolinecolor": "white",
           "zerolinewidth": 2
          },
          "yaxis": {
           "automargin": true,
           "gridcolor": "white",
           "linecolor": "white",
           "ticks": "",
           "title": {
            "standoff": 15
           },
           "zerolinecolor": "white",
           "zerolinewidth": 2
          }
         }
        },
        "title": {
         "text": "3D-Positionsdaten des Sensors ab Index 5"
        }
       }
      }
     },
     "metadata": {},
     "output_type": "display_data"
    }
   ],
   "source": [
    "import pandas as pd\n",
    "import plotly.graph_objects as go\n",
    "\n",
    "# Beispiel DataFrame laden\n",
    "data = df\n",
    "\n",
    "# Beschneide die Daten ab Index 5\n",
    "data_subset = data.iloc[120:]\n",
    "\n",
    "# Erstelle eine 3D-Figur\n",
    "fig = go.Figure()\n",
    "\n",
    "# Füge die Daten ab Index 5 hinzu\n",
    "fig.add_trace(go.Scatter3d(\n",
    "    x=data_subset['Position X(m)'],\n",
    "    y=data_subset['Position Y(m)'],\n",
    "    z=data_subset['Position Z(m)'],\n",
    "    mode='markers+lines',\n",
    "    marker=dict(size=2, color='blue'),\n",
    "    line=dict(width=2),\n",
    "    text=data_subset.index,  # Zeigt die Indizes der Datenpunkte an\n",
    "    hoverinfo='text'  # Zeigt nur den Index beim Hover an\n",
    "))\n",
    "\n",
    "# Füge Titel und Achsenbeschriftungen hinzu\n",
    "fig.update_layout(\n",
    "    title='3D-Positionsdaten des Sensors ab Index 5',\n",
    "    scene=dict(\n",
    "        xaxis_title='Position X (m)',\n",
    "        yaxis_title='Position Y (m)',\n",
    "        zaxis_title='Position Z (m)'\n",
    "    )\n",
    ")\n",
    "\n",
    "# Zeige das Diagramm an\n",
    "fig.show()\n",
    "# Speichere die Figur als HTML-Datei\n",
    "fig.write_html('3d_plot_2.html')\n"
   ]
  },
  {
   "cell_type": "code",
   "execution_count": null,
   "metadata": {},
   "outputs": [],
   "source": []
  },
  {
   "cell_type": "markdown",
   "metadata": {},
   "source": []
  },
  {
   "cell_type": "code",
   "execution_count": 63,
   "metadata": {},
   "outputs": [
    {
     "data": {
      "image/png": "[encoded data removed]",
      "text/plain": [
       "<Figure size 640x480 with 1 Axes>"
      ]
     },
     "metadata": {},
     "output_type": "display_data"
    }
   ],
   "source": [
    "import numpy as np\n",
    "import pandas as pd\n",
    "import matplotlib.pyplot as plt\n",
    "from mpl_toolkits.mplot3d import Axes3D\n",
    "\n",
    "# Beispiel DataFrame laden\n",
    "data = df\n",
    "\n",
    "# Beschneide die Daten ab Index 5\n",
    "data_subset = data.iloc[5:]\n",
    "\n",
    "# Erstelle eine 3D-Figur\n",
    "fig = plt.figure()\n",
    "ax = fig.add_subplot(111, projection='3d')\n",
    "\n",
    "# Plotte die Daten ab Index 5\n",
    "ax.plot(data_subset['Position X(m)'], data_subset['Position Y(m)'], data_subset['Position Z(m)'], marker='o', linestyle='-', color='b')\n",
    "\n",
    "# Füge Titel und Achsenbeschriftungen hinzu\n",
    "ax.set_title('3D-Positionsdaten des Sensors ab Index 5')\n",
    "ax.set_xlabel('Position X (m)')\n",
    "ax.set_ylabel('Position Y (m)')\n",
    "ax.set_zlabel('Position Z (m)')\n",
    "\n",
    "# Zeige das Diagramm an\n",
    "plt.show()\n",
    "\n"
   ]
  },
  {
   "cell_type": "code",
   "execution_count": null,
   "metadata": {},
   "outputs": [],
   "source": []
  }
 ],
 "metadata": {
  "kernelspec": {
   "display_name": "base",
   "language": "python",
   "name": "python3"
  },
  "language_info": {
   "codemirror_mode": {
    "name": "ipython",
    "version": 3
   },
   "file_extension": ".py",
   "mimetype": "text/x-python",
   "name": "python",
   "nbconvert_exporter": "python",
   "pygments_lexer": "ipython3",
   "version": "3.11.5"
  }
 },
 "nbformat": 4,
 "nbformat_minor": 2
}
