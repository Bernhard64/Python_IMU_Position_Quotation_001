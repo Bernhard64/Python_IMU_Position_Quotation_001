{
 "cells": [
  {
   "cell_type": "code",
   "execution_count": null,
   "metadata": {},
   "outputs": [],
   "source": []
  },
  {
   "cell_type": "code",
   "execution_count": null,
   "metadata": {},
   "outputs": [],
   "source": []
  },
  {
   "cell_type": "code",
   "execution_count": 55,
   "metadata": {},
   "outputs": [
    {
     "name": "stdout",
     "output_type": "stream",
     "text": [
      "            Time Device name  Chip Time() Acceleration X(g) Acceleration Y(g)  \\\n",
      "0   09:51:45.800       COM12          NaN            -0,021             0,017   \n",
      "1   09:51:45.900       COM12          NaN            -0,021             0,017   \n",
      "2   09:51:46.000       COM12          NaN            -0,021             0,018   \n",
      "3   09:51:46.099       COM12          NaN            -0,021             0,017   \n",
      "4   09:51:46.199       COM12          NaN            -0,021             0,017   \n",
      "\n",
      "  Acceleration Z(g) Angular velocity X(°/s) Angular velocity Y(°/s)  \\\n",
      "0             1,008                   0,000                   0,000   \n",
      "1             1,008                   0,000                   0,000   \n",
      "2             1,008                   0,000                   0,000   \n",
      "3             1,008                   0,000                   0,000   \n",
      "4             1,009                   0,000                   0,000   \n",
      "\n",
      "  Angular velocity Z(°/s) Angle X(°)  ... Angle of course(°) GPS height(m)  \\\n",
      "0                   0,000      0,829  ...                NaN           NaN   \n",
      "1                   0,000      0,829  ...                NaN           NaN   \n",
      "2                   0,000      0,829  ...                NaN           NaN   \n",
      "3                   0,000      0,829  ...                NaN           NaN   \n",
      "4                   0,000      0,829  ...                NaN           NaN   \n",
      "\n",
      "  Number of satellites() Position location() Horizontal position()  \\\n",
      "0                    NaN                 NaN                   NaN   \n",
      "1                    NaN                 NaN                   NaN   \n",
      "2                    NaN                 NaN                   NaN   \n",
      "3                    NaN                 NaN                   NaN   \n",
      "4                    NaN                 NaN                   NaN   \n",
      "\n",
      "  Vertical position()  Quaternions 0() Quaternions 1()  Quaternions 2()  \\\n",
      "0                 NaN              NaN             NaN              NaN   \n",
      "1                 NaN              NaN             NaN              NaN   \n",
      "2                 NaN              NaN             NaN              NaN   \n",
      "3                 NaN              NaN             NaN              NaN   \n",
      "4                 NaN              NaN             NaN              NaN   \n",
      "\n",
      "   Quaternions 3()  \n",
      "0              NaN  \n",
      "1              NaN  \n",
      "2              NaN  \n",
      "3              NaN  \n",
      "4              NaN  \n",
      "\n",
      "[5 rows x 31 columns]\n"
     ]
    }
   ],
   "source": [
    "import pandas as pd\n",
    "\n",
    "# Beispiel: Lesen der Daten aus einer Datei\n",
    "# Pfad zur Datei\n",
    "file_path = r\"C:\\Users\\bernh\\Downloads\\drive-download-20240908T150007Z-001\\WitMotion New Software\\WitMotion(V2024.8.12.4)\\Record\\2024-09-15\\09-51-45-747\\data_0.txt\"\n",
    "# \"C:\\Users\\bernh\\Downloads\\drive-download-20240908T150007Z-001\\WitMotion New Software\\WitMotion(V2024.8.12.4)\\Record\\2024-09-15\\09-51-45-747\\data_0.txt\"\n",
    "# \"C:\\Users\\bernh\\Downloads\\drive-download-20240908T150007Z-001\\WitMotion New Software\\WitMotion(V2024.8.12.4)\\Record\\2024-09-15\\05-11-18-527\\data_0.txt\"\n",
    "# Daten in den DataFrame laden, mit Tabulator als Trennzeichen\n",
    "df = pd.read_csv(file_path, sep='\\t', index_col=False)\n",
    "\n",
    "\n",
    "# Überprüfen der Spaltennamen nach dem Zurücksetzen des Index\n",
    "# print(\"Spaltennamen nach Index-Zurücksetzung:\", df.columns)\n",
    "\n",
    "# Die ersten paar Zeilen nach der Anpassung anzeigen\n",
    "print(df.head())\n",
    "\n",
    "#_# Ersetzen von Kommas durch Punkte in spezifischen Spalten\n",
    "#_df['Chip Time()'] = df['Chip Time()'].str.replace(',', '.').astype(float)\n",
    "#_# ACCELERATION:\n",
    "df['Acceleration X(g)'] = df['Acceleration X(g)'].str.replace(',', '.').astype(float)\n",
    "df['Acceleration Y(g)'] = df['Acceleration Y(g)'].str.replace(',', '.').astype(float)\n",
    "df['Acceleration Z(g)'] = df['Acceleration Z(g)'].str.replace(',', '.').astype(float)\n",
    "#_# ANGELS\n",
    "df['Angle X(°)'] = df['Angle X(°)'].str.replace(',', '.').astype(float)\n",
    "df['Angle Y(°)'] = df['Angle Y(°)'].str.replace(',', '.').astype(float)\n",
    "df['Angle Z(°)'] = df['Angle Z(°)'].str.replace(',', '.').astype(float)\n",
    "# ANGULAR VELOSITY\n",
    "df['Angular velocity X(°/s)'] = df['Angular velocity X(°/s)'].str.replace(',', '.').astype(float)\n",
    "df['Angular velocity Y(°/s)'] = df['Angular velocity Y(°/s)'].str.replace(',', '.').astype(float)\n",
    "df['Angular velocity Z(°/s)'] = df['Angular velocity Z(°/s)'].str.replace(',', '.').astype(float)\n",
    "\n",
    "# Alle numerischen Spalten mit Kommas in Punkten umwandeln\n",
    "# df = df.replace({',': '.'}, regex=True).astype(float)\n",
    "\n",
    "# print(df)"
   ]
  },
  {
   "cell_type": "markdown",
   "metadata": {},
   "source": [
    "### eigentliche Zeit-Differenz-Berechnung"
   ]
  },
  {
   "cell_type": "code",
   "execution_count": 56,
   "metadata": {},
   "outputs": [],
   "source": [
    "import numpy as np\n",
    "from datetime import datetime\n",
    "\n",
    "time = df['Time'].values  # Zeitspalte falls vorhanden\n",
    "\n",
    "# Dein NumPy-Array mit Zeitstempeln als Strings\n",
    "# time = np.array([' 18:06:05.104', ' 18:06:05.247', ' 18:06:05.304', ' 18:06:05.403'])\n",
    "\n",
    "# Entferne führende und nachfolgende Leerzeichen aus der 'Time'-Spalte\n",
    "df['Time'] = df['Time'].str.strip()\n",
    " \n",
    "# Konvertiere die 'Time'-Spalte in das Datetime-Format\n",
    "df['Time'] = pd.to_datetime(df['Time'], format='%H:%M:%S.%f')\n",
    "\n",
    "# Zeitdifferenzen berechnen und in einer neuen Spalte speichern\n",
    "df['Delta_t'] = df['Time'].diff().dt.total_seconds()\n",
    " \n",
    "# print(df['Delta_t'])"
   ]
  },
  {
   "cell_type": "markdown",
   "metadata": {},
   "source": [
    "Berechnung der Rotationsmatrix:"
   ]
  },
  {
   "cell_type": "code",
   "execution_count": 3,
   "metadata": {},
   "outputs": [],
   "source": [
    "import numpy as np\n",
    "\n",
    "def rotation_matrix(roll, pitch, yaw):\n",
    "    roll = np.deg2rad(roll)\n",
    "    pitch = np.deg2rad(pitch)\n",
    "    yaw = np.deg2rad(yaw)\n",
    "\n",
    "    R_x = np.array([[1, 0, 0],\n",
    "                    [0, np.cos(roll), -np.sin(roll)],\n",
    "                    [0, np.sin(roll), np.cos(roll)]])\n",
    "\n",
    "    R_y = np.array([[np.cos(pitch), 0, np.sin(pitch)],\n",
    "                    [0, 1, 0],\n",
    "                    [-np.sin(pitch), 0, np.cos(pitch)]])\n",
    "\n",
    "    R_z = np.array([[np.cos(yaw), -np.sin(yaw), 0],\n",
    "                    [np.sin(yaw), np.cos(yaw), 0],\n",
    "                    [0, 0, 1]])\n",
    "\n",
    "    R = R_z @ R_y @ R_x\n",
    "    return R"
   ]
  },
  {
   "cell_type": "markdown",
   "metadata": {},
   "source": [
    "Transformiere die Beschleunigungsdaten:\n",
    "\n",
    "Berechne die globale Beschleunigung, indem du die lokale Beschleunigung mit der Rotationsmatrix multiplizierst:"
   ]
  },
  {
   "cell_type": "code",
   "execution_count": 48,
   "metadata": {},
   "outputs": [],
   "source": [
    "def transform_acceleration(acc_local, roll, pitch, yaw):\n",
    "    R = rotation_matrix(roll, pitch, yaw)\n",
    "    acc_global = R @ acc_local\n",
    "    return acc_global"
   ]
  },
  {
   "cell_type": "markdown",
   "metadata": {},
   "source": [
    "Integration zur Positionsbestimmung\n",
    "Berechne die Geschwindigkeit und Position: Nach der Transformation der Beschleunigung in das globale Koordinatensystem, kannst du die Geschwindigkeit und die Position durch Integration berechnen. Dazu benötigst du die Zeitdifferenz (Delta_t), um die Beschleunigung in Geschwindigkeit und dann die Geschwindigkeit in Position zu integrieren.\n",
    "\n",
    "Berechnung der Geschwindigkeit und Position:"
   ]
  },
  {
   "cell_type": "code",
   "execution_count": 49,
   "metadata": {},
   "outputs": [],
   "source": [
    "def integrate(accelerations, delta_t):\n",
    "    velocity = np.cumsum(accelerations * delta_t)\n",
    "    position = np.cumsum(velocity * delta_t)\n",
    "    return velocity, position\n"
   ]
  },
  {
   "cell_type": "markdown",
   "metadata": {},
   "source": [
    "Berücksichtigung der Erdbeschleunigung"
   ]
  },
  {
   "cell_type": "code",
   "execution_count": 50,
   "metadata": {},
   "outputs": [],
   "source": [
    "def adjust_for_gravity(acc_global, gravity=9.81):\n",
    "    acc_global[2] -= gravity  # Annahme: Z-Achse ist vertikal\n",
    "    return acc_global\n"
   ]
  },
  {
   "cell_type": "markdown",
   "metadata": {},
   "source": [
    "### Lese die Daten aus dem DataFrame und wende die Funktionen an"
   ]
  },
  {
   "cell_type": "code",
   "execution_count": null,
   "metadata": {},
   "outputs": [],
   "source": [
    "import numpy as np\n",
    "# Initialisiere Listen für Geschwindigkeit und Position\n",
    "# velocity_x, velocity_y, velocity_z = [], [], []\n",
    "# position_x, position_y, position_z = [], [], []\n",
    "velocity_x, velocity_y, velocity_z = np.zeros(len(df)), np.zeros(len(df)), np.zeros(len(df))\n",
    "position_x, position_y, position_z = np.zeros(len(df)), np.zeros(len(df)), np.zeros(len(df))\n",
    "\n",
    "\n",
    "\n",
    "# Iteriere über die Zeilen des DataFrames\n",
    "for index, row in df.iterrows():\n",
    "    delta_t = row['Delta_t']\n",
    "    acc_x = row['Acceleration X(g)']\n",
    "    acc_y = row['Acceleration Y(g)']\n",
    "    acc_z = row['Acceleration Z(g)']\n",
    "    angle_x = row['Angle X(°)']\n",
    "    angle_y = row['Angle Y(°)']\n",
    "    angle_z = row['Angle Z(°)']\n",
    "\n",
    "    # Lokale Beschleunigung in ein numpy Array\n",
    "    acc_local = np.array([acc_x, acc_y, acc_z])  \n",
    "\n",
    "    # Transformiere die lokale Beschleunigung in die globale Koordinate\n",
    "    acc_global = transform_acceleration(acc_local, angle_x, angle_y, angle_z)\n",
    "\n",
    "    # Berücksichtige die Erdbeschleunigung\n",
    "    acc_global = adjust_for_gravity(acc_global)\n",
    "\n",
    "    # Berechne Geschwindigkeit und Position\n",
    "    velocity, position = integrate(acc_global, delta_t)\n",
    "\n",
    "    # Füge die berechneten Werte zu den Listen hinzu\n",
    "    velocity_x.append(velocity[0])\n",
    "    velocity_y.append(velocity[1])\n",
    "    velocity_z.append(velocity[2])\n",
    "    position_x.append(position[0])\n",
    "    position_y.append(position[1])\n",
    "    position_z.append(position[2])    \n",
    "\n",
    "\n",
    "    # Füge die berechneten Werte dem DataFrame hinzu\n",
    "    # df['Velocity X(m/s)'] = velocity_x\n",
    "    # df['Velocity Y(m/s)'] = velocity_y\n",
    "    # df['Velocity Z(m/s)'] = velocity_z\n",
    "    # df['Position X(m)'] = position_x\n",
    "    # df['Position Y(m)'] = position_y\n",
    "    # df['Position Z(m)'] = position_z\n",
    "\n",
    "    # Speichere die Ergebnisse in eine neue CSV-Datei\n",
    "    # df.to_csv('sensor_data_with_position.csv', index=False)\n",
    "\n",
    "      "
   ]
  },
  {
   "cell_type": "markdown",
   "metadata": {},
   "source": []
  },
  {
   "cell_type": "code",
   "execution_count": 57,
   "metadata": {},
   "outputs": [],
   "source": [
    "import numpy as np\n",
    "import pandas as pd\n",
    "\n",
    "def rotation_matrix(roll, pitch, yaw):\n",
    "    roll = np.deg2rad(roll)\n",
    "    pitch = np.deg2rad(pitch)\n",
    "    yaw = np.deg2rad(yaw)\n",
    "\n",
    "    R_x = np.array([[1, 0, 0],\n",
    "                    [0, np.cos(roll), -np.sin(roll)],\n",
    "                    [0, np.sin(roll), np.cos(roll)]])\n",
    "\n",
    "    R_y = np.array([[np.cos(pitch), 0, np.sin(pitch)],\n",
    "                    [0, 1, 0],\n",
    "                    [-np.sin(pitch), 0, np.cos(pitch)]])\n",
    "\n",
    "    R_z = np.array([[np.cos(yaw), -np.sin(yaw), 0],\n",
    "                    [np.sin(yaw), np.cos(yaw), 0],\n",
    "                    [0, 0, 1]])\n",
    "\n",
    "    R = R_z @ R_y @ R_x\n",
    "    return R\n",
    "\n",
    "def transform_acceleration(acc_local, roll, pitch, yaw):\n",
    "    R = rotation_matrix(roll, pitch, yaw)\n",
    "    acc_global = R @ acc_local\n",
    "    return acc_global\n",
    "\n",
    "def adjust_for_gravity(acc_global, gravity=9.81):\n",
    "    acc_global[2] -= gravity  # Annahme: Z-Achse ist vertikal\n",
    "    return acc_global\n",
    "\n",
    "def integrate(accelerations, delta_t):\n",
    "    velocity = np.cumsum(accelerations * delta_t)\n",
    "    position = np.cumsum(velocity * delta_t)\n",
    "    return velocity, position\n",
    "\n",
    "# Beispiel DataFrame laden\n",
    "# data = pd.read_csv('sensor_data.csv')  # Ersetze 'sensor_data.csv' durch deinen Dateipfad\n",
    "\n",
    "# Initialisiere Arrays für Geschwindigkeit und Position\n",
    "num_rows = len(df)\n",
    "velocity_x = np.zeros(num_rows)\n",
    "velocity_y = np.zeros(num_rows)\n",
    "velocity_z = np.zeros(num_rows)\n",
    "position_x = np.zeros(num_rows)\n",
    "position_y = np.zeros(num_rows)\n",
    "position_z = np.zeros(num_rows)\n",
    "\n",
    "# Iteriere über die Zeilen des DataFrames\n",
    "for index, row in df.iterrows():\n",
    "    delta_t = row['Delta_t']\n",
    "    acc_x = row['Acceleration X(g)']\n",
    "    acc_y = row['Acceleration Y(g)']\n",
    "    acc_z = row['Acceleration Z(g)']\n",
    "    angle_x = row['Angle X(°)']\n",
    "    angle_y = row['Angle Y(°)']\n",
    "    angle_z = row['Angle Z(°)']\n",
    "\n",
    "    # Lokale Beschleunigung in ein numpy Array\n",
    "    acc_local = np.array([acc_x, acc_y, acc_z])\n",
    "\n",
    "    # Transformiere die lokale Beschleunigung in die globale Koordinate\n",
    "    acc_global = transform_acceleration(acc_local, angle_x, angle_y, angle_z)\n",
    "    \n",
    "    # Berücksichtige die Erdbeschleunigung\n",
    "    acc_global = adjust_for_gravity(acc_global)\n",
    "\n",
    "    # Berechne Geschwindigkeit und Position (außer für den ersten Schritt)\n",
    "    if index == 0:\n",
    "        velocity = np.zeros(3)\n",
    "        position = np.zeros(3)\n",
    "    else:\n",
    "        velocity, position = integrate(acc_global, delta_t)\n",
    "\n",
    "    # Speichere die berechneten Werte in den Arrays\n",
    "    velocity_x[index] = velocity[0]\n",
    "    velocity_y[index] = velocity[1]\n",
    "    velocity_z[index] = velocity[2]\n",
    "    position_x[index] = position[0]\n",
    "    position_y[index] = position[1]\n",
    "    position_z[index] = position[2]\n",
    "\n",
    "# Füge die berechneten Werte dem DataFrame hinzu\n",
    "df['Velocity X(m/s)'] = velocity_x\n",
    "df['Velocity Y(m/s)'] = velocity_y\n",
    "df['Velocity Z(m/s)'] = velocity_z\n",
    "df['Position X(m)'] = position_x\n",
    "df['Position Y(m)'] = position_y\n",
    "df['Position Z(m)'] = position_z\n",
    "\n",
    "# Speichere die Ergebnisse in eine neue CSV-Datei\n",
    "df.to_csv('sensor_data_with_position2.csv', index=False, decimal=',')\n",
    "\n"
   ]
  },
  {
   "cell_type": "code",
   "execution_count": null,
   "metadata": {},
   "outputs": [],
   "source": []
  },
  {
   "cell_type": "markdown",
   "metadata": {},
   "source": [
    "## Neuer Ansatz mit offset"
   ]
  },
  {
   "cell_type": "code",
   "execution_count": 90,
   "metadata": {},
   "outputs": [],
   "source": [
    "import numpy as np\n",
    "import pandas as pd\n",
    "\n",
    "def calculate_offsets(df, num_initial_readings=40):\n",
    "    # Berechne die Mittelwerte der ersten num_initial_readings Messungen\n",
    "    initial_readings = df.head(num_initial_readings)\n",
    "    \n",
    "    offset_x = initial_readings['Acceleration X(g)'].mean()\n",
    "    offset_y = initial_readings['Acceleration Y(g)'].mean()\n",
    "    offset_z = 0   # initial_readings['Acceleration Z(g)'].mean() - 1  # Offset für Z-Achse, da 1 g (9,81 m/s²) erwartet wird\n",
    "    \n",
    "    offset_roll = initial_readings['Angle X(°)'].mean()\n",
    "    offset_pitch = initial_readings['Angle Y(°)'].mean()\n",
    "    offset_yaw = initial_readings['Angle Z(°)'].mean()\n",
    "    \n",
    "    return offset_x, offset_y, offset_z, offset_roll, offset_pitch, offset_yaw\n",
    "\n",
    "def rotation_matrix(roll, pitch, yaw):\n",
    "    roll = np.deg2rad(roll)\n",
    "    pitch = np.deg2rad(pitch)\n",
    "    yaw = np.deg2rad(yaw)\n",
    "\n",
    "    R_x = np.array([[1, 0, 0],\n",
    "                    [0, np.cos(roll), -np.sin(roll)],\n",
    "                    [0, np.sin(roll), np.cos(roll)]])\n",
    "\n",
    "    R_y = np.array([[np.cos(pitch), 0, np.sin(pitch)],\n",
    "                    [0, 1, 0],\n",
    "                    [-np.sin(pitch), 0, np.cos(pitch)]])\n",
    "\n",
    "    R_z = np.array([[np.cos(yaw), -np.sin(yaw), 0],\n",
    "                    [np.sin(yaw), np.cos(yaw), 0],\n",
    "                    [0, 0, 1]])\n",
    "\n",
    "    R = R_z @ R_y @ R_x\n",
    "    return R\n",
    "\n",
    "def transform_acceleration(acc_local, roll, pitch, yaw):\n",
    "    R = rotation_matrix(roll, pitch, yaw)\n",
    "    acc_global = R @ acc_local\n",
    "    return acc_global\n",
    "\n",
    "def adjust_for_gravity(acc_global, gravity=9.81):\n",
    "    acc_global[2] -= gravity  # Annahme: Z-Achse ist vertikal\n",
    "    return acc_global\n",
    "\n",
    "def integrate(accelerations, delta_t):\n",
    "    velocity = np.zeros_like(accelerations)\n",
    "    position = np.zeros_like(accelerations)\n",
    "    for i in range(1, len(accelerations)):\n",
    "        velocity[i] = velocity[i-1] + accelerations[i] * delta_t[i]\n",
    "        position[i] = position[i-1] + velocity[i] * delta_t[i]\n",
    "    return velocity, position\n",
    "\n",
    "# Beispiel DataFrame laden\n",
    "# df = pd.read_csv('sensor_data.csv', decimal=',')\n",
    "\n",
    "# Offset berechnen\n",
    "offset_x, offset_y, offset_z, offset_roll, offset_pitch, offset_yaw = calculate_offsets(df)\n",
    "\n",
    "# Initialisiere Arrays für Geschwindigkeit und Position\n",
    "num_rows = len(df)\n",
    "velocity_x = np.zeros(num_rows)\n",
    "velocity_y = np.zeros(num_rows)\n",
    "velocity_z = np.zeros(num_rows)\n",
    "position_x = np.zeros(num_rows)\n",
    "position_y = np.zeros(num_rows)\n",
    "position_z = np.zeros(num_rows)\n",
    "\n",
    "# Listen für Beschleunigung und Delta_t\n",
    "accel_x = np.zeros(num_rows)\n",
    "accel_y = np.zeros(num_rows)\n",
    "accel_z = np.zeros(num_rows)\n",
    "delta_t = np.zeros(num_rows)\n",
    "\n",
    "# Iteriere über die Zeilen des DataFrames\n",
    "for index, row in df.iterrows():\n",
    "    delta_t[index] = row['Delta_t']\n",
    "    \n",
    "    # Berechne die Beschleunigung und Winkelwerte nur ab dem 11. Datensatz\n",
    "    if index >= 10:\n",
    "        accel_x[index] = row['Acceleration X(g)'] - offset_x\n",
    "        accel_y[index] = row['Acceleration Y(g)'] - offset_y\n",
    "        accel_z[index] = row['Acceleration Z(g)'] - offset_z\n",
    "        angle_x = row['Angle X(°)'] - offset_roll\n",
    "        angle_y = row['Angle Y(°)'] - offset_pitch\n",
    "        angle_z = row['Angle Z(°)'] - offset_yaw\n",
    "\n",
    "        # Lokale Beschleunigung in ein numpy Array\n",
    "        acc_local = np.array([accel_x[index], accel_y[index], accel_z[index]])\n",
    "\n",
    "        # Transformiere die lokale Beschleunigung in die globale Koordinate\n",
    "        acc_global = transform_acceleration(acc_local, angle_x, angle_y, angle_z)\n",
    "        \n",
    "        # Berücksichtige die Erdbeschleunigung\n",
    "        acc_global = adjust_for_gravity(acc_global)\n",
    "\n",
    "        # Speichere die berechneten Werte in den Arrays\n",
    "        accel_x[index], accel_y[index], accel_z[index] = acc_global\n",
    "\n",
    "# Berechne Geschwindigkeit und Position\n",
    "velocity, position = integrate(np.column_stack([accel_x[10:], accel_y[10:], accel_z[10:]]), delta_t[10:])\n",
    "\n",
    "# Füge die berechneten Werte dem DataFrame hinzu\n",
    "df['Velocity X(m/s)'] = np.concatenate([np.zeros(10), velocity[:, 0]])\n",
    "df['Velocity Y(m/s)'] = np.concatenate([np.zeros(10), velocity[:, 1]])\n",
    "df['Velocity Z(m/s)'] = np.concatenate([np.zeros(10), velocity[:, 2]])\n",
    "df['Position X(m)'] = np.concatenate([np.zeros(10), position[:, 0]])\n",
    "df['Position Y(m)'] = np.concatenate([np.zeros(10), position[:, 1]])\n",
    "df['Position Z(m)'] = np.concatenate([np.zeros(10), position[:, 2]])\n",
    "\n",
    "# Speichere die Ergebnisse in eine neue CSV-Datei\n",
    "df.to_csv('sensor_data_with_position2.csv', index=False, decimal=',')\n"
   ]
  },
  {
   "cell_type": "markdown",
   "metadata": {},
   "source": [
    "#### Anpassung an die Erdbeschleunigung bei Neigung des Sensors berücksichtigt"
   ]
  },
  {
   "cell_type": "code",
   "execution_count": 87,
   "metadata": {},
   "outputs": [],
   "source": [
    "import numpy as np\n",
    "import pandas as pd\n",
    "\n",
    "def calculate_offsets(df, num_initial_readings=40):\n",
    "    # Berechne die Mittelwerte der ersten num_initial_readings Messungen\n",
    "    initial_readings = df.head(num_initial_readings)\n",
    "    \n",
    "    offset_x = initial_readings['Acceleration X(g)'].mean()\n",
    "    offset_y = initial_readings['Acceleration Y(g)'].mean()\n",
    "    offset_z = 0   # initial_readings['Acceleration Z(g)'].mean() - 1  # Offset für Z-Achse, da 1 g (9,81 m/s²) erwartet wird\n",
    "    \n",
    "    offset_roll = initial_readings['Angle X(°)'].mean()\n",
    "    offset_pitch = initial_readings['Angle Y(°)'].mean()\n",
    "    offset_yaw = initial_readings['Angle Z(°)'].mean()\n",
    "    \n",
    "    return offset_x, offset_y, offset_z, offset_roll, offset_pitch, offset_yaw\n",
    "\n",
    "def rotation_matrix(roll, pitch, yaw):\n",
    "    roll = np.deg2rad(roll)\n",
    "    pitch = np.deg2rad(pitch)\n",
    "    yaw = np.deg2rad(yaw)\n",
    "\n",
    "    R_x = np.array([[1, 0, 0],\n",
    "                    [0, np.cos(roll), -np.sin(roll)],\n",
    "                    [0, np.sin(roll), np.cos(roll)]])\n",
    "\n",
    "    R_y = np.array([[np.cos(pitch), 0, np.sin(pitch)],\n",
    "                    [0, 1, 0],\n",
    "                    [-np.sin(pitch), 0, np.cos(pitch)]])\n",
    "\n",
    "    R_z = np.array([[np.cos(yaw), -np.sin(yaw), 0],\n",
    "                    [np.sin(yaw), np.cos(yaw), 0],\n",
    "                    [0, 0, 1]])\n",
    "\n",
    "    R = R_z @ R_y @ R_x\n",
    "    return R\n",
    "\n",
    "def transform_acceleration(acc_local, roll, pitch, yaw):\n",
    "    R = rotation_matrix(roll, pitch, yaw)\n",
    "    acc_global = R @ acc_local\n",
    "    return acc_global\n",
    "\n",
    "def adjust_for_gravity_with_rotation(roll, pitch, yaw, gravity=9.81):\n",
    "    # Erstelle den Gravitationsvektor im lokalen Koordinatensystem (nur Z-Komponente)\n",
    "    gravity_local = np.array([0, 0, gravity])\n",
    "    \n",
    "    # Transformiere den Gravitationsvektor in das globale Koordinatensystem\n",
    "    gravity_global = transform_acceleration(gravity_local, roll, pitch, yaw)\n",
    "    \n",
    "    return gravity_global\n",
    "\n",
    "def integrate(accelerations, delta_t):\n",
    "    velocity = np.zeros_like(accelerations)\n",
    "    position = np.zeros_like(accelerations)\n",
    "    for i in range(1, len(accelerations)):\n",
    "        velocity[i] = velocity[i-1] + accelerations[i] * delta_t[i]\n",
    "        position[i] = position[i-1] + velocity[i] * delta_t[i]\n",
    "    return velocity, position\n",
    "\n",
    "# Beispiel DataFrame laden\n",
    "# df = pd.read_csv('sensor_data.csv', decimal=',')\n",
    "\n",
    "# Offset berechnen\n",
    "offset_x, offset_y, offset_z, offset_roll, offset_pitch, offset_yaw = calculate_offsets(df)\n",
    "\n",
    "# Initialisiere Arrays für Geschwindigkeit und Position\n",
    "num_rows = len(df)\n",
    "velocity_x = np.zeros(num_rows)\n",
    "velocity_y = np.zeros(num_rows)\n",
    "velocity_z = np.zeros(num_rows)\n",
    "position_x = np.zeros(num_rows)\n",
    "position_y = np.zeros(num_rows)\n",
    "position_z = np.zeros(num_rows)\n",
    "\n",
    "# Listen für Beschleunigung und Delta_t\n",
    "accel_x = np.zeros(num_rows)\n",
    "accel_y = np.zeros(num_rows)\n",
    "accel_z = np.zeros(num_rows)\n",
    "delta_t = np.zeros(num_rows)\n",
    "\n",
    "# Iteriere über die Zeilen des DataFrames\n",
    "for index, row in df.iterrows():\n",
    "    delta_t[index] = row['Delta_t']\n",
    "    \n",
    "    # Berechne die Beschleunigung und Winkelwerte nur ab dem 11. Datensatz\n",
    "    if index >= 10:\n",
    "        accel_x[index] = row['Acceleration X(g)'] - offset_x\n",
    "        accel_y[index] = row['Acceleration Y(g)'] - offset_y\n",
    "        accel_z[index] = row['Acceleration Z(g)'] - offset_z\n",
    "        angle_x = row['Angle X(°)'] - offset_roll\n",
    "        angle_y = row['Angle Y(°)'] - offset_pitch\n",
    "        angle_z = row['Angle Z(°)'] - offset_yaw\n",
    "\n",
    "        # Lokale Beschleunigung in ein numpy Array\n",
    "        acc_local = np.array([accel_x[index], accel_y[index], accel_z[index]])\n",
    "\n",
    "        # Transformiere die lokale Beschleunigung in die globale Koordinate\n",
    "        acc_global = transform_acceleration(acc_local, angle_x, angle_y, angle_z)\n",
    "        \n",
    "        # Berechne den Gravitationsvektor im globalen Koordinatensystem\n",
    "        gravity_global = adjust_for_gravity_with_rotation(angle_x, angle_y, angle_z)\n",
    "        \n",
    "        # Berücksichtige die Erdbeschleunigung\n",
    "        acc_global -= gravity_global\n",
    "\n",
    "        # Speichere die berechneten Werte in den Arrays\n",
    "        accel_x[index], accel_y[index], accel_z[index] = acc_global\n",
    "\n",
    "# Berechne Geschwindigkeit und Position\n",
    "velocity, position = integrate(np.column_stack([accel_x[10:], accel_y[10:], accel_z[10:]]), delta_t[10:])\n",
    "\n",
    "# Füge die berechneten Werte dem DataFrame hinzu\n",
    "df['Velocity X(m/s)'] = np.concatenate([np.zeros(10), velocity[:, 0]])\n",
    "df['Velocity Y(m/s)'] = np.concatenate([np.zeros(10), velocity[:, 1]])\n",
    "df['Velocity Z(m/s)'] = np.concatenate([np.zeros(10), velocity[:, 2]])\n",
    "df['Position X(m)'] = np.concatenate([np.zeros(10), position[:, 0]])\n",
    "df['Position Y(m)'] = np.concatenate([np.zeros(10), position[:, 1]])\n",
    "df['Position Z(m)'] = np.concatenate([np.zeros(10), position[:, 2]])\n",
    "\n",
    "# Speichere die Ergebnisse in eine neue CSV-Datei\n",
    "df.to_csv('sensor_data_with_position3.csv', index=False, decimal=',')\n"
   ]
  },
  {
   "cell_type": "code",
   "execution_count": 94,
   "metadata": {},
   "outputs": [
    {
     "data": {
      "text/plain": [
       "array([ 0.00000000e+00,  0.00000000e+00,  0.00000000e+00,  0.00000000e+00,\n",
       "        0.00000000e+00,  0.00000000e+00,  0.00000000e+00,  0.00000000e+00,\n",
       "        0.00000000e+00,  0.00000000e+00, -6.40044257e-05,  9.35995574e-04,\n",
       "       -6.40044257e-05, -6.40044257e-05, -6.40044257e-05, -6.40044257e-05,\n",
       "       -6.39935174e-05, -1.06400443e-03, -6.40044257e-05,  9.35995574e-04,\n",
       "       -6.40044257e-05, -6.40044257e-05, -6.40044257e-05, -6.39935174e-05,\n",
       "       -6.40044257e-05, -6.40044257e-05, -6.40044257e-05, -6.40044257e-05,\n",
       "       -6.40044257e-05, -6.40044257e-05, -6.40044257e-05, -6.40044257e-05,\n",
       "       -6.40044257e-05,  9.35995574e-04, -6.40044257e-05, -6.39935174e-05,\n",
       "       -6.40044257e-05, -6.40044257e-05, -6.40044257e-05, -6.40044257e-05,\n",
       "       -6.39935174e-05, -6.40153340e-05, -6.39935174e-05, -6.40044257e-05,\n",
       "       -6.40044257e-05, -6.40044257e-05, -6.40044257e-05, -6.40044257e-05,\n",
       "       -6.40044257e-05, -6.39935174e-05, -6.40044257e-05, -6.40044257e-05,\n",
       "       -6.40044257e-05, -6.40044257e-05, -6.39935174e-05, -6.40044257e-05,\n",
       "        9.35995574e-04, -6.40044257e-05, -6.40044257e-05, -6.40044257e-05,\n",
       "       -6.40044257e-05, -1.06399352e-03, -6.40044257e-05, -6.40044257e-05,\n",
       "       -6.40044257e-05, -6.40044257e-05, -6.40044257e-05, -6.40044257e-05,\n",
       "       -6.40044257e-05, -6.39935174e-05, -6.40044257e-05,  9.35995574e-04,\n",
       "       -6.40044257e-05, -6.40044257e-05,  9.35995574e-04, -6.40044257e-05,\n",
       "       -6.40044257e-05, -6.40153340e-05, -6.40044257e-05, -6.40044257e-05,\n",
       "       -6.40153340e-05, -6.40044257e-05,  9.35995574e-04, -6.39935174e-05,\n",
       "       -6.40044257e-05, -6.40044257e-05, -6.40044257e-05, -1.06400443e-03,\n",
       "        9.35995574e-04, -6.40044257e-05, -6.40044257e-05, -6.40044257e-05,\n",
       "       -6.40044257e-05,  9.35995574e-04, -6.40044257e-05,  9.35995574e-04,\n",
       "       -6.40044257e-05, -6.40044257e-05, -6.40044257e-05, -6.40153340e-05,\n",
       "        9.35995574e-04, -6.40044257e-05, -6.39935174e-05, -6.39935174e-05,\n",
       "       -6.40044257e-05, -6.39935174e-05, -6.39935174e-05, -6.40153340e-05,\n",
       "       -1.06400443e-03, -6.40044257e-05,  4.16687158e-05,  4.15530877e-05,\n",
       "        4.15530877e-05, -9.58446906e-04,  4.15530877e-05,  1.29720576e-04,\n",
       "       -8.70482298e-04,  1.29720576e-04,  1.29720576e-04,  1.29720576e-04,\n",
       "        1.29517682e-04,  2.12951764e-03,  3.30418998e-02,  1.63548615e-02,\n",
       "        1.42949974e-02,  1.53379203e-02,  4.71670574e-02, -4.18860180e-03,\n",
       "       -2.23820652e-02,  2.88942503e-02, -5.47716543e-03, -1.69330210e-03,\n",
       "        1.10097579e-02, -2.86058485e-02,  1.67724782e-02,  1.17483533e-03,\n",
       "       -1.57373239e-02,  4.03275728e-03, -9.47897238e-03, -3.16134498e-02,\n",
       "       -5.06397515e-03, -1.00631212e-03, -1.73172217e-02, -1.26717168e-03,\n",
       "        4.81767862e-03, -3.02161576e-02, -6.25229562e-03, -5.77686019e-03,\n",
       "       -2.02901691e-02, -2.26196656e-02, -5.28246785e-03, -4.02027709e-02,\n",
       "        2.95014823e-03,  3.24401473e-03,  3.24769176e-03,  3.14213224e-03,\n",
       "        2.94457469e-03,  1.76545524e-03,  2.67330416e-03,  2.47316231e-03,\n",
       "        2.36763528e-03,  1.27580218e-03,  2.08614239e-03,  1.97061548e-03,\n",
       "        8.92672461e-04,  1.78747057e-03,  7.87526060e-04,  7.03485573e-04,\n",
       "       -1.22997310e-02, -1.18289876e-02, -9.33250595e-03,  6.22475298e-05,\n",
       "       -6.63687750e-04,  1.01495214e-02, -7.26283371e-03, -3.00675830e-02,\n",
       "       -3.48570732e-03, -1.08808557e-02,  5.11468155e-03,  1.26990434e-02,\n",
       "        2.38312805e-02, -3.51171195e-03,  1.01785867e-02,  9.91367008e-03,\n",
       "        2.40736990e-03, -9.18203280e-03,  1.54156556e-03, -7.87997972e-03,\n",
       "        3.27544119e-02,  1.28861562e-02,  1.13047142e-03, -5.63976600e-03,\n",
       "        4.76868163e-03, -3.59236735e-02, -5.71425063e-03, -1.24222046e-02,\n",
       "        1.92789569e-02,  2.53137302e-02,  3.46754580e-04, -1.03082877e-03,\n",
       "        9.09495570e-03,  1.53182932e-02,  2.65257120e-03,  7.07314082e-03,\n",
       "        1.37703006e-02, -2.97382550e-03, -2.13321243e-03, -9.82017128e-03,\n",
       "       -4.74240032e-03, -4.54888086e-03, -4.35536123e-03, -3.16462843e-03,\n",
       "       -3.86248138e-03, -2.67154186e-03, -2.47306563e-03])"
      ]
     },
     "execution_count": 94,
     "metadata": {},
     "output_type": "execute_result"
    }
   ],
   "source": [
    "accel_y"
   ]
  },
  {
   "cell_type": "code",
   "execution_count": null,
   "metadata": {},
   "outputs": [],
   "source": []
  },
  {
   "cell_type": "code",
   "execution_count": null,
   "metadata": {},
   "outputs": [],
   "source": []
  },
  {
   "cell_type": "markdown",
   "metadata": {},
   "source": [
    "Darstellung mit Plot"
   ]
  },
  {
   "cell_type": "code",
   "execution_count": 88,
   "metadata": {},
   "outputs": [
    {
     "data": {
      "application/vnd.plotly.v1+json": {
       "config": {
        "plotlyServerURL": "https://plot.ly"
       },
       "data": [
        {
         "line": {
          "width": 2
         },
         "marker": {
          "color": "blue",
          "size": 2
         },
         "mode": "markers+lines",
         "type": "scatter3d",
         "x": [
          0,
          0,
          0,
          0,
          0,
          0,
          0.0000012500000000000014,
          -0.000006088374999999972,
          -0.000012250874999999946,
          -0.000027163374999999895,
          -0.00004082587499999984,
          -0.00005323837499999978,
          -0.00006440087499999972,
          -0.00007431337499999967,
          -0.00008297587499999962,
          -0.00010038837499999953,
          -0.00011655087499999945,
          -0.00013146337499999935,
          -0.00014512587499999926,
          -0.0001575383749999992,
          -0.0001687008749999991,
          -0.00017861337499999904,
          -0.00019727587499999893,
          -0.00021468837499999882,
          -0.0002309998749999987,
          -0.00024589987499999856,
          -0.00025954987499999843,
          -0.00027206124999999833,
          -0.0002830004999999982,
          -0.0002929129999999981,
          -0.000301575499999998,
          -0.0003089879999999979,
          -0.0003151504999999978,
          -0.00032006299999999766,
          -0.00032372549999999754,
          -0.0003261379999999974,
          -0.0003273004999999973,
          -0.00032721299999999715,
          -0.000325875499999997,
          -0.0003232879999999969,
          -0.00031945049999999674,
          -0.0003143629999999966,
          -0.00030802549999999645,
          -0.0003004379999999963,
          -0.00029160049999999615,
          -0.000281512999999996,
          -0.0002801754999999958,
          -0.0002877504999999956,
          -0.00029395037499999543,
          -0.00029896287499999526,
          -0.0003027253749999951,
          -0.0003152378749999949,
          -0.0003265003749999947,
          -0.00033651287499999446,
          -0.00034527537499999425,
          -0.00035278787499999403,
          -0.0003590503749999938,
          -0.0003640628749999936,
          -0.00036782537499999336,
          -0.00037033787499999313,
          -0.0003716003749999929,
          -0.00037161287499999266,
          -0.00037040012499999246,
          -0.0003779251249999922,
          -0.000384200124999992,
          -0.00038922512499999174,
          -0.0003930001249999915,
          -0.00039552512499999124,
          -0.000396800124999991,
          -0.00039682512499999073,
          -0.00040577624999999043,
          -0.00041338874999999017,
          -0.0004197512499999899,
          -0.0004248637499999896,
          -0.00042872624999998934,
          -0.00043133874999998906,
          -0.00044270124999998874,
          -0.0004526359999999884,
          -0.0004615234999999881,
          -0.0004691609999999878,
          -0.0004755484999999875,
          -0.0004806859999999872,
          -0.00048457349999998686,
          -0.00048721099999998654,
          -0.0004885984999999862,
          -0.0004887359999999858,
          -0.0004876234999999855,
          -0.00048526099999998516,
          -0.0004816484999999848,
          -0.00048678599999998445,
          -0.0004906734999999841,
          -0.0004933109999999837,
          -0.0004946984999999834,
          -0.000494835999999983,
          -0.0004937234999999827,
          -0.0004913609999999823,
          -0.0004975979999999819,
          -0.0005026858749999815,
          -0.0005064733749999812,
          -0.0005090108749999807,
          -0.0005102983749999804,
          -0.00051032362499998,
          -0.0005090986249999795,
          -0.0005066976249999791,
          -0.000493780192179452,
          -0.00047039637380523464,
          -0.00043654512267978467,
          -0.0003922264388031021,
          -0.00032975912852121206,
          -0.00024914319161212456,
          -0.00015038054818539094,
          -0.000033469278768414874,
          0.00010158869716620731,
          0.0002547933796184756,
          0.000435361153719506,
          0.000641934768359658,
          0.0008578386657658226,
          0.001100095728570679,
          0.0013597158515029834,
          0.0016466930224372266,
          0.0019219004057286378,
          0.002224543179695281,
          0.002554548696632369,
          0.002929597503325363,
          0.0033519241841485706,
          0.0038284704424107695,
          0.004329164552847284,
          0.004864792244505586,
          0.005492300791793286,
          0.006218410415541692,
          0.007032550511194899,
          0.007915504393624418,
          0.008837268658942219,
          0.00988165151753775,
          0.011061660415975156,
          0.012365861286470025,
          0.013899643942052281,
          0.015579068994576825,
          0.01742395815909106,
          0.01939625051518372,
          0.02154128589163181,
          0.023869095282812596,
          0.026387245505315782,
          0.029112688088894376,
          0.032105537783513924,
          0.03534256102727473,
          0.03876501157932821,
          0.042381782289106794,
          0.04616884138625372,
          0.05022248203322221,
          0.05450441420550898,
          0.05900457035079401,
          0.06369238934504157,
          0.06865487779332116,
          0.0738546407334255,
          0.07929153740224347,
          0.0849555769720148,
          0.09085665441136409,
          0.09699475824469077,
          0.1034360180235365,
          0.11004122214693031,
          0.11687418450667611,
          0.12387181461357885,
          0.13131895068974114,
          0.1386926429430295,
          0.14645452240302428,
          0.15446466933395092,
          0.16269553826277222,
          0.1711743144957587,
          0.17986155339436935,
          0.18893243230546955,
          0.19785754251348975,
          0.20718386917419315,
          0.21671074617493344,
          0.2265574230432972,
          0.236483508569703,
          0.24653574045706142,
          0.25687193459693797,
          0.26743117924713933,
          0.278190364036431,
          0.28914961322621957,
          0.30029088648745533,
          0.3115845142607615,
          0.3230398347519647,
          0.33462043800189467,
          0.346488033474531,
          0.3583767164925742,
          0.3701601809572616,
          0.3822956656833005,
          0.394792907815354,
          0.4068998369394165,
          0.4194718800547434,
          0.43203467532066225,
          0.4445664421899531,
          0.4573234856874213,
          0.4701494487429991,
          0.4830338966774486,
          0.49598703193368543,
          0.5091316467000964,
          0.522196560679588,
          0.5353127100931241,
          0.5484797961102252,
          0.5617173405647549,
          0.5750152162299329,
          0.5883734685650114,
          0.6017921430270631,
          0.6152620351402579,
          0.6286475275156539,
          0.6422195602068896,
          0.6558429830503327
         ],
         "y": [
          0,
          0,
          0,
          0,
          0,
          0,
          0.000008289850744715335,
          0.000014820685697462156,
          0.00001970733942534502,
          0.000022883843898538202,
          0.000024350199117041698,
          0.00002410651416393376,
          0.000012152679956731082,
          -0.0000015113035051612782,
          -0.000006885436222338304,
          -0.000013969718194205012,
          -0.000022764149420761403,
          -0.00003326872990200748,
          -0.000045483350554864994,
          -0.00005940812046241219,
          -0.00007504303962464908,
          -0.00009238810804157566,
          -0.0001114433257131919,
          -0.00013220869263949785,
          -0.0001549262364897758,
          -0.000179129003418008,
          -0.00020504191960092987,
          -0.00023295848820038993,
          -0.00025208427913672065,
          -0.00027331054159174776,
          -0.00029624684421838634,
          -0.00032089329609971456,
          -0.0003472498972357325,
          -0.0003753166476264401,
          -0.00040509354727183736,
          -0.0004365804870888461,
          -0.00046977768524362275,
          -0.0005046849235700109,
          -0.0005413023111510886,
          -0.0005796298479868561,
          -0.0006196675340773133,
          -0.0006614153694224601,
          -0.0007048733540222967,
          -0.0007500414878768228,
          -0.0007969196619029605,
          -0.0008455079851837877,
          -0.0008958064577193047,
          -0.0009483524382348858,
          -0.0010015340215693332,
          -0.001056962832785841,
          -0.0011141017932570386,
          -0.0011629509029835207,
          -0.0012135101619646924,
          -0.001265779570200554,
          -0.001319759127691105,
          -0.001375448834436346,
          -0.0014428485813526035,
          -0.0015119584775235505,
          -0.0015827785229491874,
          -0.0016553087176295138,
          -0.0017295490615645299,
          -0.0018054995547542357,
          -0.0018823666602965658,
          -0.001961720350503104,
          -0.0020427840808812537,
          -0.0021255579605140933,
          -0.0022000419894022175,
          -0.0022762361675450313,
          -0.0023541404949425347,
          -0.0024237549715953226,
          -0.0024958101162693477,
          -0.002568861992924062,
          -0.0026436241279165443,
          -0.0027200964121637163,
          -0.002798278845665578,
          -0.0028781715375052076,
          -0.002959774378599527,
          -0.003031783590216735,
          -0.003106972417752845,
          -0.0031838713945436443,
          -0.0032624805205891333,
          -0.003342799795889312,
          -0.0034348292204435856,
          -0.003518568794253144,
          -0.0036040185173173917,
          -0.003691178389636329,
          -0.0037800484112099565,
          -0.0038706285820382736,
          -0.003952918902121875,
          -0.004036919371460166,
          -0.004112629990053743,
          -0.004190050757902008,
          -0.004269181675004964,
          -0.004350022741362609,
          -0.004432574066058022,
          -0.004506835540008719,
          -0.004582030516504431,
          -0.004660488995413461,
          -0.00473988069787124,
          -0.004820982549583709,
          -0.00490379444146779,
          -0.004989178864249772,
          -0.005075428155044948,
          -0.005171198887367853,
          -0.005270634273686732,
          -0.005380996085797677,
          -0.005502285479981315,
          -0.005634502456237647,
          -0.005787647014499823,
          -0.005951719154834692,
          -0.0061343980422247655,
          -0.006345685705409454,
          -0.006575580115649347,
          -0.006824081272944444,
          -0.007091189177294745,
          -0.007389108649941141,
          -0.0076628290884176746,
          -0.007628878660600901,
          -0.007375948181556904,
          -0.006821906278527782,
          -0.005862158313210121,
          -0.004065409313253441,
          -0.0018133776776971325,
          0.000730835556058575,
          0.004052602259840875,
          0.0078458774401553,
          0.012167337473799302,
          0.017077237348120874,
          0.022141768155656244,
          0.027777053050261406,
          0.0337894282627005,
          0.04000121691275175,
          0.04653477825140716,
          0.05320704655623161,
          0.05971276693850415,
          0.06610273713193324,
          0.0724433891922279,
          0.07844031124004194,
          0.08420552693238374,
          0.0895841228424543,
          0.09418869605345215,
          0.09816473297638732,
          0.10147072736265272,
          0.10391361004495034,
          0.10540504701148776,
          0.1059868280037242,
          0.10520744262818228,
          0.10338544068169957,
          0.10053427956615482,
          0.09658574489760256,
          0.0915778529715408,
          0.0855274607630107,
          0.07852275981256848,
          0.07042952560571963,
          0.0613353439254362,
          0.05124940670486089,
          0.0401693559322749,
          0.02812212773891375,
          0.0151168392687653,
          0.0010019169443230367,
          -0.01391435295462362,
          -0.029781721579336944,
          -0.04641502204251263,
          -0.06466913864338124,
          -0.08327814698465821,
          -0.10340479298596304,
          -0.12461305896360586,
          -0.14693763065344165,
          -0.17025150982946663,
          -0.19469115488677505,
          -0.22104772868926295,
          -0.24748796847058813,
          -0.27576157841504284,
          -0.30516908265047865,
          -0.33591157731931137,
          -0.3671748962700985,
          -0.399165467728945,
          -0.43237425397535306,
          -0.4664534250699107,
          -0.5014300663310712,
          -0.5373635911809468,
          -0.5741193788456576,
          -0.6117539575155344,
          -0.649823333845618,
          -0.6884423270175299,
          -0.728051260008242,
          -0.7678522718659734,
          -0.8072641481138767,
          -0.8482442046327966,
          -0.8905439739966392,
          -0.9317389483730988,
          -0.9744303877659609,
          -1.016775456238417,
          -1.0589243126245986,
          -1.101706921185076,
          -1.1445124068715784,
          -1.1872032158296255,
          -1.2298409510846393,
          -1.272748223849378,
          -1.3149808443344178,
          -1.3569616101347015,
          -1.3985691179809454,
          -1.4399093163822685,
          -1.4809399883801155,
          -1.5216780324415728,
          -1.5621403470445125,
          -1.602333886158556,
          -1.6418974300868348,
          -1.6816348397572256,
          -1.721163332372731
         ],
         "z": [
          0,
          0,
          0,
          0,
          0,
          0,
          -0.08802000009566507,
          -0.2614282021772225,
          -0.5246080022461856,
          -0.8758078023017308,
          -1.3150276023438578,
          -1.8422574023725673,
          -2.4575072022787756,
          -3.160777002171566,
          -3.9520668021600214,
          -4.831376602135059,
          -5.798706402096679,
          -6.85405620204488,
          -7.997416001979664,
          -9.228795801901029,
          -10.548195601808978,
          -11.955615401703508,
          -13.45105520158462,
          -15.034515001452313,
          -16.723598601304996,
          -18.48397860114572,
          -20.332378600973023,
          -22.289051802784915,
          -24.27214040669427,
          -26.383720206588357,
          -28.583310006469027,
          -30.87091980633628,
          -33.246549606190115,
          -35.71019940603053,
          -38.26186920585753,
          -40.90154900567111,
          -43.62925880547127,
          -46.444978605258015,
          -49.34871840503134,
          -52.34047820479125,
          -55.42025800453774,
          -58.58805780427082,
          -61.84387760399047,
          -65.18771740369671,
          -68.61956720338952,
          -72.13943700306892,
          -75.7473268027349,
          -79.48108470238385,
          -83.22717520402661,
          -87.09911500365234,
          -91.05907480326465,
          -95.10705460297262,
          -99.24305440266718,
          -103.46707420234833,
          -107.77911400201606,
          -112.17917380167036,
          -116.66724360120216,
          -121.24333340072054,
          -125.90744320022552,
          -130.65957299971706,
          -135.49972279919518,
          -140.4278925986599,
          -145.3930491021168,
          -150.49637870155482,
          -155.6877183009794,
          -160.9670779003906,
          -166.33445749989744,
          -171.78985709939087,
          -177.3332766988709,
          -182.96471629844658,
          -188.74225949600432,
          -194.55061929555302,
          -200.4470090950883,
          -206.43141889461018,
          -212.50384869411863,
          -218.66430849361367,
          -224.91278829309528,
          -231.12083290467913,
          -237.54358230424108,
          -244.05435170378962,
          -250.65314110332474,
          -257.3399505028464,
          -264.11477990224563,
          -270.9776293017405,
          -277.92849870122194,
          -284.96738810068996,
          -292.09429750014453,
          -299.3092268995857,
          -306.61217629912255,
          -314.003145698646,
          -321.4821350982651,
          -329.04914449787077,
          -336.704173897463,
          -344.4472232970419,
          -352.27830269660734,
          -360.19740209626843,
          -368.12357890391974,
          -376.29965949655036,
          -384.4827987961712,
          -392.7539580957786,
          -401.1131273953726,
          -409.6456673889489,
          -418.18175678851594,
          -426.63165880797396,
          -435.342027806794,
          -444.14040680432555,
          -453.0268058005684,
          -462.0012247955226,
          -471.06366378678325,
          -480.21412277550667,
          -489.4525917604044,
          -498.7790807394472,
          -508.19357971466434,
          -517.6960886860559,
          -527.2866076512389,
          -537.3559498035225,
          -546.7318464048786,
          -556.58639540083,
          -566.5289542858189,
          -576.5595027954554,
          -586.6780905566856,
          -596.8846858068795,
          -607.1792898757004,
          -617.5619036143488,
          -628.0325145615752,
          -638.5911542300643,
          -649.237782320688,
          -659.9724285814832,
          -670.7950849974271,
          -681.705729761348,
          -692.7044036880825,
          -703.7911074448808,
          -714.9658306369092,
          -726.2285536651999,
          -737.579286945703,
          -748.9027811883631,
          -760.4286538609445,
          -772.0425159483727,
          -783.8623052714771,
          -795.6530562403431,
          -807.5318043353033,
          -819.4985600814531,
          -831.5533231565335,
          -843.6961021746309,
          -855.9268961954076,
          -868.2457353285836,
          -880.6525751652792,
          -893.1474286518395,
          -905.6035954371662,
          -918.2735953458989,
          -931.0316086230328,
          -943.8776354935404,
          -956.6814544611879,
          -969.7026087925669,
          -982.8117771522432,
          -996.008959644652,
          -1009.2941562774388,
          -1022.6673673167338,
          -1036.128602862907,
          -1049.814234347683,
          -1063.4523792444463,
          -1077.1785387571806,
          -1090.8536998584154,
          -1105.0348289618596,
          -1118.7443629658296,
          -1132.8216959335075,
          -1146.9870419844663,
          -1161.2404007650468,
          -1175.5817736469396,
          -1190.0111692688863,
          -1204.8207288364897,
          -1219.1340578555285,
          -1233.8274961506822,
          -1248.608936941087,
          -1263.6279954333806,
          -1278.5863764301976,
          -1293.4814257708967,
          -1308.6149354147121,
          -1323.836450486802,
          -1339.1459707848924,
          -1354.5435058405246,
          -1370.0290468951468,
          -1385.602623583359,
          -1401.264219402495,
          -1417.0138334411238,
          -1433.010730646636,
          -1448.937240752395,
          -1464.6297539808988,
          -1480.7305401105436,
          -1497.2449061843752,
          -1513.1961731481576,
          -1529.7255127754527,
          -1546.1792257418592,
          -1562.5546696325518,
          -1579.1835117541218,
          -1595.9003738814226,
          -1612.7052460415655,
          -1629.598138163776,
          -1646.749758488275,
          -1663.819580547732,
          -1680.977402231883,
          -1698.2232331118948,
          -1715.557103579584,
          -1732.9789934830285,
          -1750.4889028799996,
          -1768.0868318250243,
          -1785.7727703447474,
          -1803.368117565811,
          -1821.2292052623552,
          -1839.178322696005
         ]
        }
       ],
       "layout": {
        "scene": {
         "xaxis": {
          "title": {
           "text": "Position X (m)"
          }
         },
         "yaxis": {
          "title": {
           "text": "Position Y (m)"
          }
         },
         "zaxis": {
          "title": {
           "text": "Position Z (m)"
          }
         }
        },
        "template": {
         "data": {
          "bar": [
           {
            "error_x": {
             "color": "#2a3f5f"
            },
            "error_y": {
             "color": "#2a3f5f"
            },
            "marker": {
             "line": {
              "color": "#E5ECF6",
              "width": 0.5
             },
             "pattern": {
              "fillmode": "overlay",
              "size": 10,
              "solidity": 0.2
             }
            },
            "type": "bar"
           }
          ],
          "barpolar": [
           {
            "marker": {
             "line": {
              "color": "#E5ECF6",
              "width": 0.5
             },
             "pattern": {
              "fillmode": "overlay",
              "size": 10,
              "solidity": 0.2
             }
            },
            "type": "barpolar"
           }
          ],
          "carpet": [
           {
            "aaxis": {
             "endlinecolor": "#2a3f5f",
             "gridcolor": "white",
             "linecolor": "white",
             "minorgridcolor": "white",
             "startlinecolor": "#2a3f5f"
            },
            "baxis": {
             "endlinecolor": "#2a3f5f",
             "gridcolor": "white",
             "linecolor": "white",
             "minorgridcolor": "white",
             "startlinecolor": "#2a3f5f"
            },
            "type": "carpet"
           }
          ],
          "choropleth": [
           {
            "colorbar": {
             "outlinewidth": 0,
             "ticks": ""
            },
            "type": "choropleth"
           }
          ],
          "contour": [
           {
            "colorbar": {
             "outlinewidth": 0,
             "ticks": ""
            },
            "colorscale": [
             [
              0,
              "#0d0887"
             ],
             [
              0.1111111111111111,
              "#46039f"
             ],
             [
              0.2222222222222222,
              "#7201a8"
             ],
             [
              0.3333333333333333,
              "#9c179e"
             ],
             [
              0.4444444444444444,
              "#bd3786"
             ],
             [
              0.5555555555555556,
              "#d8576b"
             ],
             [
              0.6666666666666666,
              "#ed7953"
             ],
             [
              0.7777777777777778,
              "#fb9f3a"
             ],
             [
              0.8888888888888888,
              "#fdca26"
             ],
             [
              1,
              "#f0f921"
             ]
            ],
            "type": "contour"
           }
          ],
          "contourcarpet": [
           {
            "colorbar": {
             "outlinewidth": 0,
             "ticks": ""
            },
            "type": "contourcarpet"
           }
          ],
          "heatmap": [
           {
            "colorbar": {
             "outlinewidth": 0,
             "ticks": ""
            },
            "colorscale": [
             [
              0,
              "#0d0887"
             ],
             [
              0.1111111111111111,
              "#46039f"
             ],
             [
              0.2222222222222222,
              "#7201a8"
             ],
             [
              0.3333333333333333,
              "#9c179e"
             ],
             [
              0.4444444444444444,
              "#bd3786"
             ],
             [
              0.5555555555555556,
              "#d8576b"
             ],
             [
              0.6666666666666666,
              "#ed7953"
             ],
             [
              0.7777777777777778,
              "#fb9f3a"
             ],
             [
              0.8888888888888888,
              "#fdca26"
             ],
             [
              1,
              "#f0f921"
             ]
            ],
            "type": "heatmap"
           }
          ],
          "heatmapgl": [
           {
            "colorbar": {
             "outlinewidth": 0,
             "ticks": ""
            },
            "colorscale": [
             [
              0,
              "#0d0887"
             ],
             [
              0.1111111111111111,
              "#46039f"
             ],
             [
              0.2222222222222222,
              "#7201a8"
             ],
             [
              0.3333333333333333,
              "#9c179e"
             ],
             [
              0.4444444444444444,
              "#bd3786"
             ],
             [
              0.5555555555555556,
              "#d8576b"
             ],
             [
              0.6666666666666666,
              "#ed7953"
             ],
             [
              0.7777777777777778,
              "#fb9f3a"
             ],
             [
              0.8888888888888888,
              "#fdca26"
             ],
             [
              1,
              "#f0f921"
             ]
            ],
            "type": "heatmapgl"
           }
          ],
          "histogram": [
           {
            "marker": {
             "pattern": {
              "fillmode": "overlay",
              "size": 10,
              "solidity": 0.2
             }
            },
            "type": "histogram"
           }
          ],
          "histogram2d": [
           {
            "colorbar": {
             "outlinewidth": 0,
             "ticks": ""
            },
            "colorscale": [
             [
              0,
              "#0d0887"
             ],
             [
              0.1111111111111111,
              "#46039f"
             ],
             [
              0.2222222222222222,
              "#7201a8"
             ],
             [
              0.3333333333333333,
              "#9c179e"
             ],
             [
              0.4444444444444444,
              "#bd3786"
             ],
             [
              0.5555555555555556,
              "#d8576b"
             ],
             [
              0.6666666666666666,
              "#ed7953"
             ],
             [
              0.7777777777777778,
              "#fb9f3a"
             ],
             [
              0.8888888888888888,
              "#fdca26"
             ],
             [
              1,
              "#f0f921"
             ]
            ],
            "type": "histogram2d"
           }
          ],
          "histogram2dcontour": [
           {
            "colorbar": {
             "outlinewidth": 0,
             "ticks": ""
            },
            "colorscale": [
             [
              0,
              "#0d0887"
             ],
             [
              0.1111111111111111,
              "#46039f"
             ],
             [
              0.2222222222222222,
              "#7201a8"
             ],
             [
              0.3333333333333333,
              "#9c179e"
             ],
             [
              0.4444444444444444,
              "#bd3786"
             ],
             [
              0.5555555555555556,
              "#d8576b"
             ],
             [
              0.6666666666666666,
              "#ed7953"
             ],
             [
              0.7777777777777778,
              "#fb9f3a"
             ],
             [
              0.8888888888888888,
              "#fdca26"
             ],
             [
              1,
              "#f0f921"
             ]
            ],
            "type": "histogram2dcontour"
           }
          ],
          "mesh3d": [
           {
            "colorbar": {
             "outlinewidth": 0,
             "ticks": ""
            },
            "type": "mesh3d"
           }
          ],
          "parcoords": [
           {
            "line": {
             "colorbar": {
              "outlinewidth": 0,
              "ticks": ""
             }
            },
            "type": "parcoords"
           }
          ],
          "pie": [
           {
            "automargin": true,
            "type": "pie"
           }
          ],
          "scatter": [
           {
            "fillpattern": {
             "fillmode": "overlay",
             "size": 10,
             "solidity": 0.2
            },
            "type": "scatter"
           }
          ],
          "scatter3d": [
           {
            "line": {
             "colorbar": {
              "outlinewidth": 0,
              "ticks": ""
             }
            },
            "marker": {
             "colorbar": {
              "outlinewidth": 0,
              "ticks": ""
             }
            },
            "type": "scatter3d"
           }
          ],
          "scattercarpet": [
           {
            "marker": {
             "colorbar": {
              "outlinewidth": 0,
              "ticks": ""
             }
            },
            "type": "scattercarpet"
           }
          ],
          "scattergeo": [
           {
            "marker": {
             "colorbar": {
              "outlinewidth": 0,
              "ticks": ""
             }
            },
            "type": "scattergeo"
           }
          ],
          "scattergl": [
           {
            "marker": {
             "colorbar": {
              "outlinewidth": 0,
              "ticks": ""
             }
            },
            "type": "scattergl"
           }
          ],
          "scattermapbox": [
           {
            "marker": {
             "colorbar": {
              "outlinewidth": 0,
              "ticks": ""
             }
            },
            "type": "scattermapbox"
           }
          ],
          "scatterpolar": [
           {
            "marker": {
             "colorbar": {
              "outlinewidth": 0,
              "ticks": ""
             }
            },
            "type": "scatterpolar"
           }
          ],
          "scatterpolargl": [
           {
            "marker": {
             "colorbar": {
              "outlinewidth": 0,
              "ticks": ""
             }
            },
            "type": "scatterpolargl"
           }
          ],
          "scatterternary": [
           {
            "marker": {
             "colorbar": {
              "outlinewidth": 0,
              "ticks": ""
             }
            },
            "type": "scatterternary"
           }
          ],
          "surface": [
           {
            "colorbar": {
             "outlinewidth": 0,
             "ticks": ""
            },
            "colorscale": [
             [
              0,
              "#0d0887"
             ],
             [
              0.1111111111111111,
              "#46039f"
             ],
             [
              0.2222222222222222,
              "#7201a8"
             ],
             [
              0.3333333333333333,
              "#9c179e"
             ],
             [
              0.4444444444444444,
              "#bd3786"
             ],
             [
              0.5555555555555556,
              "#d8576b"
             ],
             [
              0.6666666666666666,
              "#ed7953"
             ],
             [
              0.7777777777777778,
              "#fb9f3a"
             ],
             [
              0.8888888888888888,
              "#fdca26"
             ],
             [
              1,
              "#f0f921"
             ]
            ],
            "type": "surface"
           }
          ],
          "table": [
           {
            "cells": {
             "fill": {
              "color": "#EBF0F8"
             },
             "line": {
              "color": "white"
             }
            },
            "header": {
             "fill": {
              "color": "#C8D4E3"
             },
             "line": {
              "color": "white"
             }
            },
            "type": "table"
           }
          ]
         },
         "layout": {
          "annotationdefaults": {
           "arrowcolor": "#2a3f5f",
           "arrowhead": 0,
           "arrowwidth": 1
          },
          "autotypenumbers": "strict",
          "coloraxis": {
           "colorbar": {
            "outlinewidth": 0,
            "ticks": ""
           }
          },
          "colorscale": {
           "diverging": [
            [
             0,
             "#8e0152"
            ],
            [
             0.1,
             "#c51b7d"
            ],
            [
             0.2,
             "#de77ae"
            ],
            [
             0.3,
             "#f1b6da"
            ],
            [
             0.4,
             "#fde0ef"
            ],
            [
             0.5,
             "#f7f7f7"
            ],
            [
             0.6,
             "#e6f5d0"
            ],
            [
             0.7,
             "#b8e186"
            ],
            [
             0.8,
             "#7fbc41"
            ],
            [
             0.9,
             "#4d9221"
            ],
            [
             1,
             "#276419"
            ]
           ],
           "sequential": [
            [
             0,
             "#0d0887"
            ],
            [
             0.1111111111111111,
             "#46039f"
            ],
            [
             0.2222222222222222,
             "#7201a8"
            ],
            [
             0.3333333333333333,
             "#9c179e"
            ],
            [
             0.4444444444444444,
             "#bd3786"
            ],
            [
             0.5555555555555556,
             "#d8576b"
            ],
            [
             0.6666666666666666,
             "#ed7953"
            ],
            [
             0.7777777777777778,
             "#fb9f3a"
            ],
            [
             0.8888888888888888,
             "#fdca26"
            ],
            [
             1,
             "#f0f921"
            ]
           ],
           "sequentialminus": [
            [
             0,
             "#0d0887"
            ],
            [
             0.1111111111111111,
             "#46039f"
            ],
            [
             0.2222222222222222,
             "#7201a8"
            ],
            [
             0.3333333333333333,
             "#9c179e"
            ],
            [
             0.4444444444444444,
             "#bd3786"
            ],
            [
             0.5555555555555556,
             "#d8576b"
            ],
            [
             0.6666666666666666,
             "#ed7953"
            ],
            [
             0.7777777777777778,
             "#fb9f3a"
            ],
            [
             0.8888888888888888,
             "#fdca26"
            ],
            [
             1,
             "#f0f921"
            ]
           ]
          },
          "colorway": [
           "#636efa",
           "#EF553B",
           "#00cc96",
           "#ab63fa",
           "#FFA15A",
           "#19d3f3",
           "#FF6692",
           "#B6E880",
           "#FF97FF",
           "#FECB52"
          ],
          "font": {
           "color": "#2a3f5f"
          },
          "geo": {
           "bgcolor": "white",
           "lakecolor": "white",
           "landcolor": "#E5ECF6",
           "showlakes": true,
           "showland": true,
           "subunitcolor": "white"
          },
          "hoverlabel": {
           "align": "left"
          },
          "hovermode": "closest",
          "mapbox": {
           "style": "light"
          },
          "paper_bgcolor": "white",
          "plot_bgcolor": "#E5ECF6",
          "polar": {
           "angularaxis": {
            "gridcolor": "white",
            "linecolor": "white",
            "ticks": ""
           },
           "bgcolor": "#E5ECF6",
           "radialaxis": {
            "gridcolor": "white",
            "linecolor": "white",
            "ticks": ""
           }
          },
          "scene": {
           "xaxis": {
            "backgroundcolor": "#E5ECF6",
            "gridcolor": "white",
            "gridwidth": 2,
            "linecolor": "white",
            "showbackground": true,
            "ticks": "",
            "zerolinecolor": "white"
           },
           "yaxis": {
            "backgroundcolor": "#E5ECF6",
            "gridcolor": "white",
            "gridwidth": 2,
            "linecolor": "white",
            "showbackground": true,
            "ticks": "",
            "zerolinecolor": "white"
           },
           "zaxis": {
            "backgroundcolor": "#E5ECF6",
            "gridcolor": "white",
            "gridwidth": 2,
            "linecolor": "white",
            "showbackground": true,
            "ticks": "",
            "zerolinecolor": "white"
           }
          },
          "shapedefaults": {
           "line": {
            "color": "#2a3f5f"
           }
          },
          "ternary": {
           "aaxis": {
            "gridcolor": "white",
            "linecolor": "white",
            "ticks": ""
           },
           "baxis": {
            "gridcolor": "white",
            "linecolor": "white",
            "ticks": ""
           },
           "bgcolor": "#E5ECF6",
           "caxis": {
            "gridcolor": "white",
            "linecolor": "white",
            "ticks": ""
           }
          },
          "title": {
           "x": 0.05
          },
          "xaxis": {
           "automargin": true,
           "gridcolor": "white",
           "linecolor": "white",
           "ticks": "",
           "title": {
            "standoff": 15
           },
           "zerolinecolor": "white",
           "zerolinewidth": 2
          },
          "yaxis": {
           "automargin": true,
           "gridcolor": "white",
           "linecolor": "white",
           "ticks": "",
           "title": {
            "standoff": 15
           },
           "zerolinecolor": "white",
           "zerolinewidth": 2
          }
         }
        },
        "title": {
         "text": "3D-Positionsdaten des Sensors ab Index 5"
        }
       }
      }
     },
     "metadata": {},
     "output_type": "display_data"
    }
   ],
   "source": [
    "import pandas as pd\n",
    "import plotly.graph_objects as go\n",
    "\n",
    "# Beispiel DataFrame laden\n",
    "data = df\n",
    "\n",
    "# Beschneide die Daten ab Index 5\n",
    "data_subset = data.iloc[5:]\n",
    "\n",
    "# Erstelle eine 3D-Figur\n",
    "fig = go.Figure()\n",
    "\n",
    "# Füge die Daten ab Index 5 hinzu\n",
    "fig.add_trace(go.Scatter3d(\n",
    "    x=data_subset['Position X(m)'],\n",
    "    y=data_subset['Position Y(m)'],\n",
    "    z=data_subset['Position Z(m)'],\n",
    "    mode='markers+lines',\n",
    "    marker=dict(size=2, color='blue'),\n",
    "    line=dict(width=2)\n",
    "))\n",
    "\n",
    "# Füge Titel und Achsenbeschriftungen hinzu\n",
    "fig.update_layout(\n",
    "    title='3D-Positionsdaten des Sensors ab Index 5',\n",
    "    scene=dict(\n",
    "        xaxis_title='Position X (m)',\n",
    "        yaxis_title='Position Y (m)',\n",
    "        zaxis_title='Position Z (m)'\n",
    "    )\n",
    ")\n",
    "\n",
    "# Zeige das Diagramm an\n",
    "fig.show()\n",
    "\n",
    "# Speichere die Figur als HTML-Datei\n",
    "fig.write_html('3d_plot.html')\n",
    "\n",
    "\n",
    "\n"
   ]
  },
  {
   "cell_type": "code",
   "execution_count": 91,
   "metadata": {},
   "outputs": [
    {
     "data": {
      "application/vnd.plotly.v1+json": {
       "config": {
        "plotlyServerURL": "https://plot.ly"
       },
       "data": [
        {
         "hoverinfo": "text",
         "line": {
          "width": 2
         },
         "marker": {
          "color": "blue",
          "size": 2
         },
         "mode": "markers+lines",
         "text": [
          120,
          121,
          122,
          123,
          124,
          125,
          126,
          127,
          128,
          129,
          130,
          131,
          132,
          133,
          134,
          135,
          136,
          137,
          138,
          139,
          140,
          141,
          142,
          143,
          144,
          145,
          146,
          147,
          148,
          149,
          150,
          151,
          152,
          153,
          154,
          155,
          156,
          157,
          158,
          159,
          160,
          161,
          162,
          163,
          164,
          165,
          166,
          167,
          168,
          169,
          170,
          171,
          172,
          173,
          174,
          175,
          176,
          177,
          178,
          179,
          180,
          181,
          182,
          183,
          184,
          185,
          186,
          187,
          188,
          189,
          190,
          191,
          192,
          193,
          194,
          195,
          196,
          197,
          198,
          199,
          200,
          201,
          202,
          203,
          204,
          205,
          206,
          207,
          208,
          209,
          210,
          211,
          212,
          213,
          214
         ],
         "type": "scatter3d",
         "x": [
          -0.00050807229672688,
          -0.0005239274536645957,
          -0.000552192927781813,
          -0.0005922021926333785,
          -0.0006339612271621008,
          -0.0007063722785000239,
          -0.0007804864740393166,
          -0.0008563444083181139,
          -0.0009248262267485687,
          -0.0009750854984594486,
          -0.001019010093186469,
          -0.0010866221433616108,
          -0.0011568760250940413,
          -0.0011915808134602363,
          -0.001202864527508361,
          -0.0012116873068983328,
          -0.001226962688991006,
          -0.0012787332901493635,
          -0.001320888040689761,
          -0.0013883733381936764,
          -0.0014584735367078761,
          -0.001463544419198533,
          -0.0014839342425478868,
          -0.0015201188674882347,
          -0.0015712908532289562,
          -0.0016296352893598702,
          -0.0016851976033499395,
          -0.0017388713327832189,
          -0.0017925469374397767,
          -0.0017861971368355273,
          -0.0017169252315907973,
          -0.00165423960061503,
          -0.001589772583787062,
          -0.0015369513669712396,
          -0.001485700870085747,
          -0.0014365503926079967,
          -0.0013994920377550786,
          -0.0013658665895167634,
          -0.001345062392156202,
          -0.0013273869027548458,
          -0.001312833392169636,
          -0.0013113592844212036,
          -0.001312996116218688,
          -0.001317715271431833,
          -0.0013256075302599925,
          -0.0013354652546376687,
          -0.0013473275432329692,
          -0.0013512315996330544,
          -0.0013568078315114845,
          -0.00137423565959661,
          -0.001394684732866637,
          -0.0013971102550347485,
          -0.0014006043616315396,
          -0.0013864684814603545,
          -0.0013940002906523152,
          -0.0014223855032691518,
          -0.0014610049774816916,
          -0.00151198583267145,
          -0.0015842732885918563,
          -0.0016588241526748146,
          -0.0017854056745413864,
          -0.0019018964252534155,
          -0.00203908202647323,
          -0.0021447115769004225,
          -0.0022604762502662214,
          -0.0023859988990323814,
          -0.002530748840878494,
          -0.0027243610585805673,
          -0.002947168924693492,
          -0.0032165994534522667,
          -0.003483959165371889,
          -0.003762724377384831,
          -0.004049753458003994,
          -0.004374684460404944,
          -0.004706280357114659,
          -0.0050450316014452904,
          -0.005426905653162727,
          -0.005795317187637811,
          -0.006158513435805951,
          -0.006512918389001207,
          -0.006874111023769505,
          -0.007252272796587101,
          -0.007637004191233912,
          -0.008031507834516805,
          -0.008438113470402353,
          -0.00884920375492262,
          -0.009264798139446877,
          -0.009675725985561613,
          -0.010092137551196069,
          -0.010514038043861562,
          -0.010941432670821021,
          -0.011373303649096998,
          -0.011805219150268227,
          -0.012245987047053708,
          -0.012691238374948337
         ],
         "y": [
          0.000009038768886456627,
          0.000025181522454651212,
          0.0003724158882676078,
          0.0008831988693803134,
          0.0015369318243479123,
          0.0023440439818816715,
          0.0036228267137517825,
          0.00485972342759429,
          0.005872799489198502,
          0.007174818053778708,
          0.008422064964057143,
          0.009652378853321457,
          0.010992790321994687,
          0.012047143305529194,
          0.013269221070791721,
          0.014503047189335545,
          0.015579500069075011,
          0.016696280521576755,
          0.017718271250237186,
          0.018424127481203957,
          0.019073293129383818,
          0.019718952885130866,
          0.02019144042417094,
          0.020655726420317797,
          0.021163592311587046,
          0.02136929662637239,
          0.021512477985003737,
          0.021597890741784476,
          0.02148040180790372,
          0.021136716217833505,
          0.02074020594925373,
          0.019941667972166337,
          0.01917263147739679,
          0.018443079935896518,
          0.017738636104484232,
          0.017065613595501565,
          0.01642203683340303,
          0.015802199065727256,
          0.015202833352087615,
          0.014628199261541538,
          0.014077241523751196,
          0.013539041807802748,
          0.013021703515803916,
          0.01252407137864249,
          0.012030569071887758,
          0.01155982763226755,
          0.011096961453249175,
          0.01064561879812239,
          0.010052632691086928,
          0.009369295344090757,
          0.008578687277436263,
          0.007788701686079476,
          0.006992079217226442,
          0.006296951962688591,
          0.005529196371091412,
          0.00443326253374049,
          0.003346829760788346,
          0.0021294163329905473,
          0.0009631497206971577,
          -0.00008523661617872527,
          -0.0008849300852107916,
          -0.0017110449083329133,
          -0.0024437184587379345,
          -0.0030772553083859076,
          -0.0036867184590464175,
          -0.004388001937675224,
          -0.005073869760675713,
          -0.0058385373808533935,
          -0.006275660881780872,
          -0.0065839228209944875,
          -0.006883735440611939,
          -0.007236977278455385,
          -0.007537355861132784,
          -0.00820310135400633,
          -0.008941612820265088,
          -0.00977046590538316,
          -0.010428027405015045,
          -0.01082594109248956,
          -0.011216477101449442,
          -0.011621266206240129,
          -0.01193510575401975,
          -0.012095762369504439,
          -0.012229893272957575,
          -0.012293212375913215,
          -0.012218201550999841,
          -0.012172928981049254,
          -0.012148988535428533,
          -0.012223249802614038,
          -0.012344935073034267,
          -0.012512109152063309,
          -0.012722836843398469,
          -0.012965210819022948,
          -0.013243017234938832,
          -0.013550345194827089,
          -0.013882403811041178
         ],
         "z": [
          -537.355950007632,
          -546.7318466511747,
          -556.5863956960443,
          -566.5289546499301,
          -576.5595033602795,
          -586.6780916485502,
          -596.8846881103711,
          -607.1792946549651,
          -617.5619122337037,
          -628.0325282421537,
          -638.5911743952392,
          -649.2378104966779,
          -659.9724659417059,
          -670.7951325479042,
          -681.7057883587839,
          -692.7044740500991,
          -703.7911902491652,
          -714.9659263160938,
          -726.2286625622532,
          -737.579409306717,
          -748.9029169795874,
          -760.4288033886603,
          -772.0426794928991,
          -783.8624834960215,
          -795.6532498588623,
          -807.5320146476148,
          -819.4987888855763,
          -831.5535725442013,
          -843.6963745864862,
          -855.9271945315612,
          -868.2460634984507,
          -880.65293804572,
          -893.1478322904833,
          -905.6040457289322,
          -918.2740992118466,
          -931.0321723981178,
          -943.8782653049359,
          -956.6821554773907,
          -969.7033875884192,
          -982.8126393844387,
          -996.0099108629132,
          -1009.295201943167,
          -1022.6685126996537,
          -1036.1298531297161,
          -1049.8155957310255,
          -1063.4538556005632,
          -1077.1801350424766,
          -1090.85541964964,
          -1105.0366810715004,
          -1118.746347349218,
          -1132.8238211457092,
          -1146.9893142655421,
          -1161.242826642003,
          -1175.5843594547316,
          -1190.0139209305203,
          -1204.8236560236232,
          -1219.1371601784265,
          -1233.8307846116472,
          -1248.6124189488746,
          -1263.6316800240174,
          -1278.5902676318344,
          -1293.4855270188639,
          -1308.6192541036032,
          -1323.8409915945322,
          -1339.1507388649552,
          -1354.5485049315346,
          -1370.034280780089,
          -1385.6080957305624,
          -1401.2699329598356,
          -1417.019790905496,
          -1433.0169364870114,
          -1448.9436940484743,
          -1464.6364509848315,
          -1480.7374867354836,
          -1497.2521084436528,
          -1513.2036220961486,
          -1529.733216977463,
          -1546.1871832806123,
          -1562.5628782963481,
          -1579.1919743166864,
          -1595.9090904380057,
          -1612.7142166287424,
          -1629.6073628140052,
          -1646.759239801038,
          -1663.8293160683997,
          -1680.9873923804325,
          -1698.2334786975803,
          -1715.5676053053996,
          -1732.9897520204609,
          -1750.4999188338477,
          -1768.0981057370154,
          -1785.7843026906987,
          -1803.3799061446439,
          -1821.2412530030717,
          -1839.19062989276
         ]
        }
       ],
       "layout": {
        "scene": {
         "xaxis": {
          "title": {
           "text": "Position X (m)"
          }
         },
         "yaxis": {
          "title": {
           "text": "Position Y (m)"
          }
         },
         "zaxis": {
          "title": {
           "text": "Position Z (m)"
          }
         }
        },
        "template": {
         "data": {
          "bar": [
           {
            "error_x": {
             "color": "#2a3f5f"
            },
            "error_y": {
             "color": "#2a3f5f"
            },
            "marker": {
             "line": {
              "color": "#E5ECF6",
              "width": 0.5
             },
             "pattern": {
              "fillmode": "overlay",
              "size": 10,
              "solidity": 0.2
             }
            },
            "type": "bar"
           }
          ],
          "barpolar": [
           {
            "marker": {
             "line": {
              "color": "#E5ECF6",
              "width": 0.5
             },
             "pattern": {
              "fillmode": "overlay",
              "size": 10,
              "solidity": 0.2
             }
            },
            "type": "barpolar"
           }
          ],
          "carpet": [
           {
            "aaxis": {
             "endlinecolor": "#2a3f5f",
             "gridcolor": "white",
             "linecolor": "white",
             "minorgridcolor": "white",
             "startlinecolor": "#2a3f5f"
            },
            "baxis": {
             "endlinecolor": "#2a3f5f",
             "gridcolor": "white",
             "linecolor": "white",
             "minorgridcolor": "white",
             "startlinecolor": "#2a3f5f"
            },
            "type": "carpet"
           }
          ],
          "choropleth": [
           {
            "colorbar": {
             "outlinewidth": 0,
             "ticks": ""
            },
            "type": "choropleth"
           }
          ],
          "contour": [
           {
            "colorbar": {
             "outlinewidth": 0,
             "ticks": ""
            },
            "colorscale": [
             [
              0,
              "#0d0887"
             ],
             [
              0.1111111111111111,
              "#46039f"
             ],
             [
              0.2222222222222222,
              "#7201a8"
             ],
             [
              0.3333333333333333,
              "#9c179e"
             ],
             [
              0.4444444444444444,
              "#bd3786"
             ],
             [
              0.5555555555555556,
              "#d8576b"
             ],
             [
              0.6666666666666666,
              "#ed7953"
             ],
             [
              0.7777777777777778,
              "#fb9f3a"
             ],
             [
              0.8888888888888888,
              "#fdca26"
             ],
             [
              1,
              "#f0f921"
             ]
            ],
            "type": "contour"
           }
          ],
          "contourcarpet": [
           {
            "colorbar": {
             "outlinewidth": 0,
             "ticks": ""
            },
            "type": "contourcarpet"
           }
          ],
          "heatmap": [
           {
            "colorbar": {
             "outlinewidth": 0,
             "ticks": ""
            },
            "colorscale": [
             [
              0,
              "#0d0887"
             ],
             [
              0.1111111111111111,
              "#46039f"
             ],
             [
              0.2222222222222222,
              "#7201a8"
             ],
             [
              0.3333333333333333,
              "#9c179e"
             ],
             [
              0.4444444444444444,
              "#bd3786"
             ],
             [
              0.5555555555555556,
              "#d8576b"
             ],
             [
              0.6666666666666666,
              "#ed7953"
             ],
             [
              0.7777777777777778,
              "#fb9f3a"
             ],
             [
              0.8888888888888888,
              "#fdca26"
             ],
             [
              1,
              "#f0f921"
             ]
            ],
            "type": "heatmap"
           }
          ],
          "heatmapgl": [
           {
            "colorbar": {
             "outlinewidth": 0,
             "ticks": ""
            },
            "colorscale": [
             [
              0,
              "#0d0887"
             ],
             [
              0.1111111111111111,
              "#46039f"
             ],
             [
              0.2222222222222222,
              "#7201a8"
             ],
             [
              0.3333333333333333,
              "#9c179e"
             ],
             [
              0.4444444444444444,
              "#bd3786"
             ],
             [
              0.5555555555555556,
              "#d8576b"
             ],
             [
              0.6666666666666666,
              "#ed7953"
             ],
             [
              0.7777777777777778,
              "#fb9f3a"
             ],
             [
              0.8888888888888888,
              "#fdca26"
             ],
             [
              1,
              "#f0f921"
             ]
            ],
            "type": "heatmapgl"
           }
          ],
          "histogram": [
           {
            "marker": {
             "pattern": {
              "fillmode": "overlay",
              "size": 10,
              "solidity": 0.2
             }
            },
            "type": "histogram"
           }
          ],
          "histogram2d": [
           {
            "colorbar": {
             "outlinewidth": 0,
             "ticks": ""
            },
            "colorscale": [
             [
              0,
              "#0d0887"
             ],
             [
              0.1111111111111111,
              "#46039f"
             ],
             [
              0.2222222222222222,
              "#7201a8"
             ],
             [
              0.3333333333333333,
              "#9c179e"
             ],
             [
              0.4444444444444444,
              "#bd3786"
             ],
             [
              0.5555555555555556,
              "#d8576b"
             ],
             [
              0.6666666666666666,
              "#ed7953"
             ],
             [
              0.7777777777777778,
              "#fb9f3a"
             ],
             [
              0.8888888888888888,
              "#fdca26"
             ],
             [
              1,
              "#f0f921"
             ]
            ],
            "type": "histogram2d"
           }
          ],
          "histogram2dcontour": [
           {
            "colorbar": {
             "outlinewidth": 0,
             "ticks": ""
            },
            "colorscale": [
             [
              0,
              "#0d0887"
             ],
             [
              0.1111111111111111,
              "#46039f"
             ],
             [
              0.2222222222222222,
              "#7201a8"
             ],
             [
              0.3333333333333333,
              "#9c179e"
             ],
             [
              0.4444444444444444,
              "#bd3786"
             ],
             [
              0.5555555555555556,
              "#d8576b"
             ],
             [
              0.6666666666666666,
              "#ed7953"
             ],
             [
              0.7777777777777778,
              "#fb9f3a"
             ],
             [
              0.8888888888888888,
              "#fdca26"
             ],
             [
              1,
              "#f0f921"
             ]
            ],
            "type": "histogram2dcontour"
           }
          ],
          "mesh3d": [
           {
            "colorbar": {
             "outlinewidth": 0,
             "ticks": ""
            },
            "type": "mesh3d"
           }
          ],
          "parcoords": [
           {
            "line": {
             "colorbar": {
              "outlinewidth": 0,
              "ticks": ""
             }
            },
            "type": "parcoords"
           }
          ],
          "pie": [
           {
            "automargin": true,
            "type": "pie"
           }
          ],
          "scatter": [
           {
            "fillpattern": {
             "fillmode": "overlay",
             "size": 10,
             "solidity": 0.2
            },
            "type": "scatter"
           }
          ],
          "scatter3d": [
           {
            "line": {
             "colorbar": {
              "outlinewidth": 0,
              "ticks": ""
             }
            },
            "marker": {
             "colorbar": {
              "outlinewidth": 0,
              "ticks": ""
             }
            },
            "type": "scatter3d"
           }
          ],
          "scattercarpet": [
           {
            "marker": {
             "colorbar": {
              "outlinewidth": 0,
              "ticks": ""
             }
            },
            "type": "scattercarpet"
           }
          ],
          "scattergeo": [
           {
            "marker": {
             "colorbar": {
              "outlinewidth": 0,
              "ticks": ""
             }
            },
            "type": "scattergeo"
           }
          ],
          "scattergl": [
           {
            "marker": {
             "colorbar": {
              "outlinewidth": 0,
              "ticks": ""
             }
            },
            "type": "scattergl"
           }
          ],
          "scattermapbox": [
           {
            "marker": {
             "colorbar": {
              "outlinewidth": 0,
              "ticks": ""
             }
            },
            "type": "scattermapbox"
           }
          ],
          "scatterpolar": [
           {
            "marker": {
             "colorbar": {
              "outlinewidth": 0,
              "ticks": ""
             }
            },
            "type": "scatterpolar"
           }
          ],
          "scatterpolargl": [
           {
            "marker": {
             "colorbar": {
              "outlinewidth": 0,
              "ticks": ""
             }
            },
            "type": "scatterpolargl"
           }
          ],
          "scatterternary": [
           {
            "marker": {
             "colorbar": {
              "outlinewidth": 0,
              "ticks": ""
             }
            },
            "type": "scatterternary"
           }
          ],
          "surface": [
           {
            "colorbar": {
             "outlinewidth": 0,
             "ticks": ""
            },
            "colorscale": [
             [
              0,
              "#0d0887"
             ],
             [
              0.1111111111111111,
              "#46039f"
             ],
             [
              0.2222222222222222,
              "#7201a8"
             ],
             [
              0.3333333333333333,
              "#9c179e"
             ],
             [
              0.4444444444444444,
              "#bd3786"
             ],
             [
              0.5555555555555556,
              "#d8576b"
             ],
             [
              0.6666666666666666,
              "#ed7953"
             ],
             [
              0.7777777777777778,
              "#fb9f3a"
             ],
             [
              0.8888888888888888,
              "#fdca26"
             ],
             [
              1,
              "#f0f921"
             ]
            ],
            "type": "surface"
           }
          ],
          "table": [
           {
            "cells": {
             "fill": {
              "color": "#EBF0F8"
             },
             "line": {
              "color": "white"
             }
            },
            "header": {
             "fill": {
              "color": "#C8D4E3"
             },
             "line": {
              "color": "white"
             }
            },
            "type": "table"
           }
          ]
         },
         "layout": {
          "annotationdefaults": {
           "arrowcolor": "#2a3f5f",
           "arrowhead": 0,
           "arrowwidth": 1
          },
          "autotypenumbers": "strict",
          "coloraxis": {
           "colorbar": {
            "outlinewidth": 0,
            "ticks": ""
           }
          },
          "colorscale": {
           "diverging": [
            [
             0,
             "#8e0152"
            ],
            [
             0.1,
             "#c51b7d"
            ],
            [
             0.2,
             "#de77ae"
            ],
            [
             0.3,
             "#f1b6da"
            ],
            [
             0.4,
             "#fde0ef"
            ],
            [
             0.5,
             "#f7f7f7"
            ],
            [
             0.6,
             "#e6f5d0"
            ],
            [
             0.7,
             "#b8e186"
            ],
            [
             0.8,
             "#7fbc41"
            ],
            [
             0.9,
             "#4d9221"
            ],
            [
             1,
             "#276419"
            ]
           ],
           "sequential": [
            [
             0,
             "#0d0887"
            ],
            [
             0.1111111111111111,
             "#46039f"
            ],
            [
             0.2222222222222222,
             "#7201a8"
            ],
            [
             0.3333333333333333,
             "#9c179e"
            ],
            [
             0.4444444444444444,
             "#bd3786"
            ],
            [
             0.5555555555555556,
             "#d8576b"
            ],
            [
             0.6666666666666666,
             "#ed7953"
            ],
            [
             0.7777777777777778,
             "#fb9f3a"
            ],
            [
             0.8888888888888888,
             "#fdca26"
            ],
            [
             1,
             "#f0f921"
            ]
           ],
           "sequentialminus": [
            [
             0,
             "#0d0887"
            ],
            [
             0.1111111111111111,
             "#46039f"
            ],
            [
             0.2222222222222222,
             "#7201a8"
            ],
            [
             0.3333333333333333,
             "#9c179e"
            ],
            [
             0.4444444444444444,
             "#bd3786"
            ],
            [
             0.5555555555555556,
             "#d8576b"
            ],
            [
             0.6666666666666666,
             "#ed7953"
            ],
            [
             0.7777777777777778,
             "#fb9f3a"
            ],
            [
             0.8888888888888888,
             "#fdca26"
            ],
            [
             1,
             "#f0f921"
            ]
           ]
          },
          "colorway": [
           "#636efa",
           "#EF553B",
           "#00cc96",
           "#ab63fa",
           "#FFA15A",
           "#19d3f3",
           "#FF6692",
           "#B6E880",
           "#FF97FF",
           "#FECB52"
          ],
          "font": {
           "color": "#2a3f5f"
          },
          "geo": {
           "bgcolor": "white",
           "lakecolor": "white",
           "landcolor": "#E5ECF6",
           "showlakes": true,
           "showland": true,
           "subunitcolor": "white"
          },
          "hoverlabel": {
           "align": "left"
          },
          "hovermode": "closest",
          "mapbox": {
           "style": "light"
          },
          "paper_bgcolor": "white",
          "plot_bgcolor": "#E5ECF6",
          "polar": {
           "angularaxis": {
            "gridcolor": "white",
            "linecolor": "white",
            "ticks": ""
           },
           "bgcolor": "#E5ECF6",
           "radialaxis": {
            "gridcolor": "white",
            "linecolor": "white",
            "ticks": ""
           }
          },
          "scene": {
           "xaxis": {
            "backgroundcolor": "#E5ECF6",
            "gridcolor": "white",
            "gridwidth": 2,
            "linecolor": "white",
            "showbackground": true,
            "ticks": "",
            "zerolinecolor": "white"
           },
           "yaxis": {
            "backgroundcolor": "#E5ECF6",
            "gridcolor": "white",
            "gridwidth": 2,
            "linecolor": "white",
            "showbackground": true,
            "ticks": "",
            "zerolinecolor": "white"
           },
           "zaxis": {
            "backgroundcolor": "#E5ECF6",
            "gridcolor": "white",
            "gridwidth": 2,
            "linecolor": "white",
            "showbackground": true,
            "ticks": "",
            "zerolinecolor": "white"
           }
          },
          "shapedefaults": {
           "line": {
            "color": "#2a3f5f"
           }
          },
          "ternary": {
           "aaxis": {
            "gridcolor": "white",
            "linecolor": "white",
            "ticks": ""
           },
           "baxis": {
            "gridcolor": "white",
            "linecolor": "white",
            "ticks": ""
           },
           "bgcolor": "#E5ECF6",
           "caxis": {
            "gridcolor": "white",
            "linecolor": "white",
            "ticks": ""
           }
          },
          "title": {
           "x": 0.05
          },
          "xaxis": {
           "automargin": true,
           "gridcolor": "white",
           "linecolor": "white",
           "ticks": "",
           "title": {
            "standoff": 15
           },
           "zerolinecolor": "white",
           "zerolinewidth": 2
          },
          "yaxis": {
           "automargin": true,
           "gridcolor": "white",
           "linecolor": "white",
           "ticks": "",
           "title": {
            "standoff": 15
           },
           "zerolinecolor": "white",
           "zerolinewidth": 2
          }
         }
        },
        "title": {
         "text": "3D-Positionsdaten des Sensors ab Index 5"
        }
       }
      }
     },
     "metadata": {},
     "output_type": "display_data"
    }
   ],
   "source": [
    "import pandas as pd\n",
    "import plotly.graph_objects as go\n",
    "\n",
    "# Beispiel DataFrame laden\n",
    "data = df\n",
    "\n",
    "# Beschneide die Daten ab Index 5\n",
    "data_subset = data.iloc[120:]\n",
    "\n",
    "# Erstelle eine 3D-Figur\n",
    "fig = go.Figure()\n",
    "\n",
    "# Füge die Daten ab Index 5 hinzu\n",
    "fig.add_trace(go.Scatter3d(\n",
    "    x=data_subset['Position X(m)'],\n",
    "    y=data_subset['Position Y(m)'],\n",
    "    z=data_subset['Position Z(m)'],\n",
    "    mode='markers+lines',\n",
    "    marker=dict(size=2, color='blue'),\n",
    "    line=dict(width=2),\n",
    "    text=data_subset.index,  # Zeigt die Indizes der Datenpunkte an\n",
    "    hoverinfo='text'  # Zeigt nur den Index beim Hover an\n",
    "))\n",
    "\n",
    "# Füge Titel und Achsenbeschriftungen hinzu\n",
    "fig.update_layout(\n",
    "    title='3D-Positionsdaten des Sensors ab Index 5',\n",
    "    scene=dict(\n",
    "        xaxis_title='Position X (m)',\n",
    "        yaxis_title='Position Y (m)',\n",
    "        zaxis_title='Position Z (m)'\n",
    "    )\n",
    ")\n",
    "\n",
    "# Zeige das Diagramm an\n",
    "fig.show()\n",
    "# Speichere die Figur als HTML-Datei\n",
    "fig.write_html('3d_plot_2.html')\n"
   ]
  },
  {
   "cell_type": "code",
   "execution_count": null,
   "metadata": {},
   "outputs": [],
   "source": []
  },
  {
   "cell_type": "markdown",
   "metadata": {},
   "source": []
  },
  {
   "cell_type": "code",
   "execution_count": 63,
   "metadata": {},
   "outputs": [
    {
     "data": {
      "image/png": "[encoded data removed]",
      "text/plain": [
       "<Figure size 640x480 with 1 Axes>"
      ]
     },
     "metadata": {},
     "output_type": "display_data"
    }
   ],
   "source": [
    "import numpy as np\n",
    "import pandas as pd\n",
    "import matplotlib.pyplot as plt\n",
    "from mpl_toolkits.mplot3d import Axes3D\n",
    "\n",
    "# Beispiel DataFrame laden\n",
    "data = df\n",
    "\n",
    "# Beschneide die Daten ab Index 5\n",
    "data_subset = data.iloc[5:]\n",
    "\n",
    "# Erstelle eine 3D-Figur\n",
    "fig = plt.figure()\n",
    "ax = fig.add_subplot(111, projection='3d')\n",
    "\n",
    "# Plotte die Daten ab Index 5\n",
    "ax.plot(data_subset['Position X(m)'], data_subset['Position Y(m)'], data_subset['Position Z(m)'], marker='o', linestyle='-', color='b')\n",
    "\n",
    "# Füge Titel und Achsenbeschriftungen hinzu\n",
    "ax.set_title('3D-Positionsdaten des Sensors ab Index 5')\n",
    "ax.set_xlabel('Position X (m)')\n",
    "ax.set_ylabel('Position Y (m)')\n",
    "ax.set_zlabel('Position Z (m)')\n",
    "\n",
    "# Zeige das Diagramm an\n",
    "plt.show()\n",
    "\n"
   ]
  },
  {
   "cell_type": "code",
   "execution_count": null,
   "metadata": {},
   "outputs": [],
   "source": []
  }
 ],
 "metadata": {
  "kernelspec": {
   "display_name": "base",
   "language": "python",
   "name": "python3"
  },
  "language_info": {
   "codemirror_mode": {
    "name": "ipython",
    "version": 3
   },
   "file_extension": ".py",
   "mimetype": "text/x-python",
   "name": "python",
   "nbconvert_exporter": "python",
   "pygments_lexer": "ipython3",
   "version": "3.11.5"
  }
 },
 "nbformat": 4,
 "nbformat_minor": 2
}
